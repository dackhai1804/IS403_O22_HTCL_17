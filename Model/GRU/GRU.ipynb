{
 "cells": [
  {
   "cell_type": "code",
   "execution_count": 40,
   "outputs": [
    {
     "data": {
      "text/plain": "   close\n0  19270\n1  19440\n2  19390\n3  19270\n4  19330",
      "text/html": "<div>\n<style scoped>\n    .dataframe tbody tr th:only-of-type {\n        vertical-align: middle;\n    }\n\n    .dataframe tbody tr th {\n        vertical-align: top;\n    }\n\n    .dataframe thead th {\n        text-align: right;\n    }\n</style>\n<table border=\"1\" class=\"dataframe\">\n  <thead>\n    <tr style=\"text-align: right;\">\n      <th></th>\n      <th>close</th>\n    </tr>\n  </thead>\n  <tbody>\n    <tr>\n      <th>0</th>\n      <td>19270</td>\n    </tr>\n    <tr>\n      <th>1</th>\n      <td>19440</td>\n    </tr>\n    <tr>\n      <th>2</th>\n      <td>19390</td>\n    </tr>\n    <tr>\n      <th>3</th>\n      <td>19270</td>\n    </tr>\n    <tr>\n      <th>4</th>\n      <td>19330</td>\n    </tr>\n  </tbody>\n</table>\n</div>"
     },
     "execution_count": 40,
     "metadata": {},
     "output_type": "execute_result"
    }
   ],
   "source": [
    "# 1. Import thư viện cần thiết\n",
    "import numpy as np\n",
    "import pandas as pd\n",
    "import matplotlib.pyplot as plt\n",
    "from sklearn.preprocessing import MinMaxScaler\n",
    "from keras.models import Sequential\n",
    "from keras.layers import Dense, GRU\n",
    "from sklearn.metrics import mean_squared_error, mean_absolute_percentage_error\n",
    "df = pd.read_csv('D:\\\\Workspace\\\\23-24_HK2\\\\IS403-PTDLKD\\\\Thuc-hanh\\\\Lab 4\\\\fpt_data_sheet.csv', index_col='time', parse_dates=True)\n",
    "df=df.drop(columns=['open', 'high', 'low', 'volume','ticker'])\n",
    "df = df.reset_index(drop=True)\n",
    "df.head()"
   ],
   "metadata": {
    "collapsed": false,
    "ExecuteTime": {
     "end_time": "2024-05-28T15:01:52.766026800Z",
     "start_time": "2024-05-28T15:01:52.750392300Z"
    }
   }
  },
  {
   "cell_type": "code",
   "execution_count": 41,
   "outputs": [],
   "source": [
    "# 2. Đọc file csv và gắn index với Price\n",
    "df1=df.reset_index()['close']\n",
    "\n",
    "# 3. Scaler data\n",
    "scaler=MinMaxScaler(feature_range=(0,1))\n",
    "df1=scaler.fit_transform(np.array(df1).reshape(-1,1))\n",
    "\n",
    "# 4. Chia train test\n",
    "train_size = int(0.7 * len(df1))\n",
    "test_size = len(df1) - train_size\n",
    "\n",
    "train_data = df1[:train_size]\n",
    "test_data = df1[train_size:]\n",
    "\n",
    "# 5. Hàm Create Dataset\n",
    "import numpy\n",
    "# convert an array of values into a dataset matrix\n",
    "def create_dataset(dataset, time_step=1):\n",
    "\tdataX, dataY = [], []\n",
    "\tfor i in range(len(dataset)-time_step-1):\n",
    "\t\ta = dataset[i:(i+time_step), 0]   ###i=0, X=0,1,2,3-----99   Y=100\n",
    "\t\tdataX.append(a)\n",
    "\t\tdataY.append(dataset[i + time_step, 0])\n",
    "\treturn numpy.array(dataX), numpy.array(dataY)"
   ],
   "metadata": {
    "collapsed": false,
    "ExecuteTime": {
     "end_time": "2024-05-28T15:01:53.373960500Z",
     "start_time": "2024-05-28T15:01:53.362902500Z"
    }
   }
  },
  {
   "cell_type": "code",
   "execution_count": 42,
   "outputs": [],
   "source": [
    "#6. Reshape into X=t,t+1,t+2..t+99 and Y=t+100\n",
    "time_step = 30\n",
    "X_train, y_train = create_dataset(train_data, time_step)\n",
    "X_test, y_test = create_dataset(test_data, time_step)\n",
    "\n",
    "# 7. Reshape input to be [samples, time steps, features] which is required for GRU\n",
    "X_train =X_train.reshape(X_train.shape[0],X_train.shape[1] , 1)\n",
    "X_test = X_test.reshape(X_test.shape[0],X_test.shape[1] , 1)"
   ],
   "metadata": {
    "collapsed": false,
    "ExecuteTime": {
     "end_time": "2024-05-28T15:01:54.026853100Z",
     "start_time": "2024-05-28T15:01:53.994704300Z"
    }
   }
  },
  {
   "cell_type": "code",
   "execution_count": 43,
   "outputs": [
    {
     "name": "stdout",
     "output_type": "stream",
     "text": [
      "Epoch 1/100\n",
      "14/14 [==============================] - 3s 65ms/step - loss: 0.0505 - val_loss: 0.0076\n",
      "Epoch 2/100\n",
      "14/14 [==============================] - 0s 21ms/step - loss: 0.0126 - val_loss: 0.0208\n",
      "Epoch 3/100\n",
      "14/14 [==============================] - 0s 20ms/step - loss: 0.0042 - val_loss: 0.0025\n",
      "Epoch 4/100\n",
      "14/14 [==============================] - 0s 21ms/step - loss: 7.4156e-04 - val_loss: 3.7230e-04\n",
      "Epoch 5/100\n",
      "14/14 [==============================] - 0s 21ms/step - loss: 3.4747e-04 - val_loss: 8.3186e-04\n",
      "Epoch 6/100\n",
      "14/14 [==============================] - 0s 22ms/step - loss: 2.7744e-04 - val_loss: 3.6796e-04\n",
      "Epoch 7/100\n",
      "14/14 [==============================] - 0s 21ms/step - loss: 2.1927e-04 - val_loss: 3.6404e-04\n",
      "Epoch 8/100\n",
      "14/14 [==============================] - 0s 22ms/step - loss: 2.1935e-04 - val_loss: 3.4451e-04\n",
      "Epoch 9/100\n",
      "14/14 [==============================] - 0s 21ms/step - loss: 2.1254e-04 - val_loss: 3.2854e-04\n",
      "Epoch 10/100\n",
      "14/14 [==============================] - 0s 21ms/step - loss: 2.0710e-04 - val_loss: 3.1795e-04\n",
      "Epoch 11/100\n",
      "14/14 [==============================] - 0s 21ms/step - loss: 2.0285e-04 - val_loss: 3.1537e-04\n",
      "Epoch 12/100\n",
      "14/14 [==============================] - 0s 21ms/step - loss: 2.0243e-04 - val_loss: 3.1179e-04\n",
      "Epoch 13/100\n",
      "14/14 [==============================] - 0s 21ms/step - loss: 1.9961e-04 - val_loss: 2.9951e-04\n",
      "Epoch 14/100\n",
      "14/14 [==============================] - 0s 21ms/step - loss: 1.9608e-04 - val_loss: 3.0922e-04\n",
      "Epoch 15/100\n",
      "14/14 [==============================] - 0s 22ms/step - loss: 2.0031e-04 - val_loss: 2.9318e-04\n",
      "Epoch 16/100\n",
      "14/14 [==============================] - 0s 21ms/step - loss: 1.9290e-04 - val_loss: 2.8779e-04\n",
      "Epoch 17/100\n",
      "14/14 [==============================] - 0s 21ms/step - loss: 1.8797e-04 - val_loss: 2.9904e-04\n",
      "Epoch 18/100\n",
      "14/14 [==============================] - 0s 22ms/step - loss: 1.8522e-04 - val_loss: 2.7733e-04\n",
      "Epoch 19/100\n",
      "14/14 [==============================] - 0s 22ms/step - loss: 1.8471e-04 - val_loss: 2.7494e-04\n",
      "Epoch 20/100\n",
      "14/14 [==============================] - 0s 21ms/step - loss: 1.8626e-04 - val_loss: 2.7042e-04\n",
      "Epoch 21/100\n",
      "14/14 [==============================] - 0s 21ms/step - loss: 1.8038e-04 - val_loss: 2.7132e-04\n",
      "Epoch 22/100\n",
      "14/14 [==============================] - 0s 22ms/step - loss: 1.7950e-04 - val_loss: 2.5999e-04\n",
      "Epoch 23/100\n",
      "14/14 [==============================] - 0s 22ms/step - loss: 1.7873e-04 - val_loss: 2.7697e-04\n",
      "Epoch 24/100\n",
      "14/14 [==============================] - 0s 22ms/step - loss: 1.7442e-04 - val_loss: 2.6455e-04\n",
      "Epoch 25/100\n",
      "14/14 [==============================] - 0s 22ms/step - loss: 1.7042e-04 - val_loss: 2.5559e-04\n",
      "Epoch 26/100\n",
      "14/14 [==============================] - 0s 22ms/step - loss: 1.7204e-04 - val_loss: 2.4972e-04\n",
      "Epoch 27/100\n",
      "14/14 [==============================] - 0s 22ms/step - loss: 1.7057e-04 - val_loss: 2.4948e-04\n",
      "Epoch 28/100\n",
      "14/14 [==============================] - 0s 21ms/step - loss: 1.6688e-04 - val_loss: 2.4297e-04\n",
      "Epoch 29/100\n",
      "14/14 [==============================] - 0s 22ms/step - loss: 1.6927e-04 - val_loss: 2.5690e-04\n",
      "Epoch 30/100\n",
      "14/14 [==============================] - 0s 22ms/step - loss: 1.6361e-04 - val_loss: 2.4658e-04\n",
      "Epoch 31/100\n",
      "14/14 [==============================] - 0s 22ms/step - loss: 1.6281e-04 - val_loss: 2.3661e-04\n",
      "Epoch 32/100\n",
      "14/14 [==============================] - 0s 22ms/step - loss: 1.6087e-04 - val_loss: 2.3771e-04\n",
      "Epoch 33/100\n",
      "14/14 [==============================] - 0s 22ms/step - loss: 1.5894e-04 - val_loss: 2.6092e-04\n",
      "Epoch 34/100\n",
      "14/14 [==============================] - 0s 22ms/step - loss: 1.5795e-04 - val_loss: 2.4113e-04\n",
      "Epoch 35/100\n",
      "14/14 [==============================] - 0s 22ms/step - loss: 1.5861e-04 - val_loss: 2.2890e-04\n",
      "Epoch 36/100\n",
      "14/14 [==============================] - 0s 22ms/step - loss: 1.7059e-04 - val_loss: 2.4792e-04\n",
      "Epoch 37/100\n",
      "14/14 [==============================] - 0s 21ms/step - loss: 1.5747e-04 - val_loss: 2.8026e-04\n",
      "Epoch 38/100\n",
      "14/14 [==============================] - 0s 23ms/step - loss: 1.5612e-04 - val_loss: 3.9152e-04\n",
      "Epoch 39/100\n",
      "14/14 [==============================] - 0s 22ms/step - loss: 1.6207e-04 - val_loss: 2.5419e-04\n",
      "Epoch 40/100\n",
      "14/14 [==============================] - 0s 22ms/step - loss: 1.4995e-04 - val_loss: 2.2803e-04\n",
      "Epoch 41/100\n",
      "14/14 [==============================] - 0s 21ms/step - loss: 1.4834e-04 - val_loss: 2.4067e-04\n",
      "Epoch 42/100\n",
      "14/14 [==============================] - 0s 24ms/step - loss: 1.4885e-04 - val_loss: 2.5589e-04\n",
      "Epoch 43/100\n",
      "14/14 [==============================] - 0s 23ms/step - loss: 1.4715e-04 - val_loss: 2.7154e-04\n",
      "Epoch 44/100\n",
      "14/14 [==============================] - 0s 22ms/step - loss: 1.4671e-04 - val_loss: 2.1843e-04\n",
      "Epoch 45/100\n",
      "14/14 [==============================] - 0s 22ms/step - loss: 1.4580e-04 - val_loss: 2.4143e-04\n",
      "Epoch 46/100\n",
      "14/14 [==============================] - 0s 22ms/step - loss: 1.4285e-04 - val_loss: 2.1769e-04\n",
      "Epoch 47/100\n",
      "14/14 [==============================] - 0s 22ms/step - loss: 1.5080e-04 - val_loss: 2.2503e-04\n",
      "Epoch 48/100\n",
      "14/14 [==============================] - 0s 26ms/step - loss: 1.5026e-04 - val_loss: 2.1568e-04\n",
      "Epoch 49/100\n",
      "14/14 [==============================] - 0s 30ms/step - loss: 1.4587e-04 - val_loss: 2.2417e-04\n",
      "Epoch 50/100\n",
      "14/14 [==============================] - 0s 23ms/step - loss: 1.4312e-04 - val_loss: 2.2595e-04\n",
      "Epoch 51/100\n",
      "14/14 [==============================] - 0s 23ms/step - loss: 1.4191e-04 - val_loss: 2.5090e-04\n",
      "Epoch 52/100\n",
      "14/14 [==============================] - 0s 26ms/step - loss: 1.4191e-04 - val_loss: 3.1935e-04\n",
      "Epoch 53/100\n",
      "14/14 [==============================] - 0s 25ms/step - loss: 1.4801e-04 - val_loss: 3.0335e-04\n",
      "Epoch 54/100\n",
      "14/14 [==============================] - 0s 26ms/step - loss: 1.4609e-04 - val_loss: 2.1269e-04\n",
      "Epoch 55/100\n",
      "14/14 [==============================] - 0s 28ms/step - loss: 1.4742e-04 - val_loss: 2.4102e-04\n",
      "Epoch 56/100\n",
      "14/14 [==============================] - 0s 24ms/step - loss: 1.3988e-04 - val_loss: 2.3722e-04\n",
      "Epoch 57/100\n",
      "14/14 [==============================] - 0s 25ms/step - loss: 1.3532e-04 - val_loss: 2.4465e-04\n",
      "Epoch 58/100\n",
      "14/14 [==============================] - 0s 22ms/step - loss: 1.3573e-04 - val_loss: 2.4409e-04\n",
      "Epoch 59/100\n",
      "14/14 [==============================] - 0s 25ms/step - loss: 1.3476e-04 - val_loss: 2.3527e-04\n",
      "Epoch 60/100\n",
      "14/14 [==============================] - 0s 22ms/step - loss: 1.3316e-04 - val_loss: 3.3544e-04\n",
      "Epoch 61/100\n",
      "14/14 [==============================] - 0s 23ms/step - loss: 1.4585e-04 - val_loss: 3.1212e-04\n",
      "Epoch 62/100\n",
      "14/14 [==============================] - 0s 25ms/step - loss: 1.4686e-04 - val_loss: 2.1765e-04\n",
      "Epoch 63/100\n",
      "14/14 [==============================] - 0s 36ms/step - loss: 1.4630e-04 - val_loss: 2.0608e-04\n",
      "Epoch 64/100\n",
      "14/14 [==============================] - 0s 28ms/step - loss: 1.3878e-04 - val_loss: 2.1944e-04\n",
      "Epoch 65/100\n",
      "14/14 [==============================] - 0s 23ms/step - loss: 1.3329e-04 - val_loss: 2.1028e-04\n",
      "Epoch 66/100\n",
      "14/14 [==============================] - 0s 23ms/step - loss: 1.3090e-04 - val_loss: 2.2612e-04\n",
      "Epoch 67/100\n",
      "14/14 [==============================] - 0s 24ms/step - loss: 1.3188e-04 - val_loss: 2.5216e-04\n",
      "Epoch 68/100\n",
      "14/14 [==============================] - 0s 23ms/step - loss: 1.3090e-04 - val_loss: 2.2714e-04\n",
      "Epoch 69/100\n",
      "14/14 [==============================] - 0s 23ms/step - loss: 1.3320e-04 - val_loss: 2.3293e-04\n",
      "Epoch 70/100\n",
      "14/14 [==============================] - 0s 23ms/step - loss: 1.3132e-04 - val_loss: 2.0402e-04\n",
      "Epoch 71/100\n",
      "14/14 [==============================] - 0s 24ms/step - loss: 1.3959e-04 - val_loss: 2.0639e-04\n",
      "Epoch 72/100\n",
      "14/14 [==============================] - 0s 23ms/step - loss: 1.3771e-04 - val_loss: 2.1258e-04\n",
      "Epoch 73/100\n",
      "14/14 [==============================] - 0s 24ms/step - loss: 1.3319e-04 - val_loss: 2.4701e-04\n",
      "Epoch 74/100\n",
      "14/14 [==============================] - 0s 23ms/step - loss: 1.2726e-04 - val_loss: 2.4572e-04\n",
      "Epoch 75/100\n",
      "14/14 [==============================] - 0s 23ms/step - loss: 1.2956e-04 - val_loss: 3.3803e-04\n",
      "Epoch 76/100\n",
      "14/14 [==============================] - 0s 23ms/step - loss: 1.3681e-04 - val_loss: 3.4840e-04\n",
      "Epoch 77/100\n",
      "14/14 [==============================] - 0s 35ms/step - loss: 1.2987e-04 - val_loss: 2.2043e-04\n",
      "Epoch 78/100\n",
      "14/14 [==============================] - 0s 24ms/step - loss: 1.3010e-04 - val_loss: 2.0463e-04\n",
      "Epoch 79/100\n",
      "14/14 [==============================] - 0s 24ms/step - loss: 1.3058e-04 - val_loss: 2.2718e-04\n",
      "Epoch 80/100\n",
      "14/14 [==============================] - 0s 23ms/step - loss: 1.2733e-04 - val_loss: 2.0408e-04\n",
      "Epoch 81/100\n",
      "14/14 [==============================] - 0s 23ms/step - loss: 1.2753e-04 - val_loss: 2.0250e-04\n",
      "Epoch 82/100\n",
      "14/14 [==============================] - 0s 23ms/step - loss: 1.2833e-04 - val_loss: 2.4640e-04\n",
      "Epoch 83/100\n",
      "14/14 [==============================] - 0s 23ms/step - loss: 1.2415e-04 - val_loss: 3.0455e-04\n",
      "Epoch 84/100\n",
      "14/14 [==============================] - 0s 23ms/step - loss: 1.2596e-04 - val_loss: 2.0212e-04\n",
      "Epoch 85/100\n",
      "14/14 [==============================] - 0s 23ms/step - loss: 1.2848e-04 - val_loss: 2.8088e-04\n",
      "Epoch 86/100\n",
      "14/14 [==============================] - 0s 23ms/step - loss: 1.2566e-04 - val_loss: 3.1753e-04\n",
      "Epoch 87/100\n",
      "14/14 [==============================] - 0s 23ms/step - loss: 1.2362e-04 - val_loss: 2.7487e-04\n",
      "Epoch 88/100\n",
      "14/14 [==============================] - 0s 23ms/step - loss: 1.2196e-04 - val_loss: 2.6169e-04\n",
      "Epoch 89/100\n",
      "14/14 [==============================] - 0s 23ms/step - loss: 1.2199e-04 - val_loss: 2.4427e-04\n",
      "Epoch 90/100\n",
      "14/14 [==============================] - 0s 23ms/step - loss: 1.2195e-04 - val_loss: 2.6242e-04\n",
      "Epoch 91/100\n",
      "14/14 [==============================] - 0s 23ms/step - loss: 1.2139e-04 - val_loss: 2.7397e-04\n",
      "Epoch 92/100\n",
      "14/14 [==============================] - 0s 23ms/step - loss: 1.2245e-04 - val_loss: 2.8542e-04\n",
      "Epoch 93/100\n",
      "14/14 [==============================] - 0s 23ms/step - loss: 1.2343e-04 - val_loss: 2.0366e-04\n",
      "Epoch 94/100\n",
      "14/14 [==============================] - 0s 22ms/step - loss: 1.2519e-04 - val_loss: 2.6766e-04\n",
      "Epoch 95/100\n",
      "14/14 [==============================] - 0s 23ms/step - loss: 1.2121e-04 - val_loss: 2.1723e-04\n",
      "Epoch 96/100\n",
      "14/14 [==============================] - 0s 23ms/step - loss: 1.3139e-04 - val_loss: 1.9831e-04\n",
      "Epoch 97/100\n",
      "14/14 [==============================] - 0s 23ms/step - loss: 1.2315e-04 - val_loss: 2.5106e-04\n",
      "Epoch 98/100\n",
      "14/14 [==============================] - 0s 23ms/step - loss: 1.2181e-04 - val_loss: 2.2915e-04\n",
      "Epoch 99/100\n",
      "14/14 [==============================] - 0s 23ms/step - loss: 1.1933e-04 - val_loss: 2.1316e-04\n",
      "Epoch 100/100\n",
      "14/14 [==============================] - 0s 23ms/step - loss: 1.2562e-04 - val_loss: 2.5903e-04\n"
     ]
    },
    {
     "data": {
      "text/plain": "<keras.callbacks.History at 0x272b5142350>"
     },
     "execution_count": 43,
     "metadata": {},
     "output_type": "execute_result"
    }
   ],
   "source": [
    "# 8. Define GRU Model\n",
    "model = Sequential()\n",
    "model.add(GRU(64, input_shape=(time_step, 1)))\n",
    "model.add(Dense(1))\n",
    "model.compile(optimizer='adam', loss='mean_squared_error')\n",
    "\n",
    "# 9. Fit mô hình với dữ liệu train\n",
    "model.fit(X_train,y_train,validation_data=(X_test,y_test),epochs=100,batch_size=64,verbose=1)"
   ],
   "metadata": {
    "collapsed": false,
    "ExecuteTime": {
     "end_time": "2024-05-28T15:02:29.764367900Z",
     "start_time": "2024-05-28T15:01:54.541323100Z"
    }
   }
  },
  {
   "cell_type": "code",
   "execution_count": 44,
   "outputs": [
    {
     "name": "stdout",
     "output_type": "stream",
     "text": [
      "11/11 [==============================] - 0s 4ms/step\n"
     ]
    }
   ],
   "source": [
    "# Dự báo dữ liệu test\n",
    "y_pred = model.predict(X_test)\n",
    "\n",
    "# Chuẩn hóa dữ liệu y_pred\n",
    "y_pred_new = scaler.inverse_transform(y_pred.reshape(1, -1))\n",
    "y_test_new = scaler.inverse_transform(np.array([y_test], dtype=np.float32))"
   ],
   "metadata": {
    "collapsed": false,
    "ExecuteTime": {
     "end_time": "2024-05-28T15:02:32.939506600Z",
     "start_time": "2024-05-28T15:02:32.373553100Z"
    }
   }
  },
  {
   "cell_type": "code",
   "execution_count": 45,
   "outputs": [
    {
     "name": "stdout",
     "output_type": "stream",
     "text": [
      "RMSE trên tập test là: 1474.4081\n",
      "MAPE trên tập test là: 1.2754018418490887 %\n",
      "MSLE trên tập test là: 0.00030859985\n"
     ]
    }
   ],
   "source": [
    "from sklearn.metrics import mean_squared_log_error\n",
    "\n",
    "# Tính toán RMSE, MAPE và MLSE trên tập test\n",
    "test_score_rmse = np.sqrt(mean_squared_error(y_test_new, y_pred_new))\n",
    "test_score_mape = mean_absolute_percentage_error(y_test_new, y_pred_new) * 100\n",
    "test_score_msle = mean_squared_log_error(y_test_new, y_pred_new)\n",
    "\n",
    "print('RMSE trên tập test là:', test_score_rmse)\n",
    "print('MAPE trên tập test là:', test_score_mape, '%')\n",
    "print('MSLE trên tập test là:', test_score_msle)"
   ],
   "metadata": {
    "collapsed": false,
    "ExecuteTime": {
     "end_time": "2024-05-28T15:02:33.681807900Z",
     "start_time": "2024-05-28T15:02:33.667143700Z"
    }
   }
  },
  {
   "cell_type": "code",
   "execution_count": 46,
   "outputs": [],
   "source": [
    "# Dự báo 30 ngày tiếp theo\n",
    "x_input = test_data[-time_step:].reshape(1, -1)\n",
    "temp_input = list(x_input[0])\n",
    "lst_output = []\n",
    "\n",
    "for i in range(30):\n",
    "    if len(temp_input) > time_step:\n",
    "        x_input = np.array(temp_input[1:]).reshape(1, -1)\n",
    "        x_input = x_input.reshape((1, time_step, 1))\n",
    "        y_hat = model.predict(x_input, verbose=0)\n",
    "        temp_input.extend(y_hat[0].tolist())\n",
    "        temp_input = temp_input[1:]\n",
    "        lst_output.extend(y_hat.tolist())\n",
    "    else:\n",
    "        x_input = x_input.reshape((1, time_step, 1))\n",
    "        y_hat = model.predict(x_input, verbose=0)\n",
    "        temp_input.extend(y_hat[0].tolist())\n",
    "        lst_output.extend(y_hat.tolist())"
   ],
   "metadata": {
    "collapsed": false,
    "ExecuteTime": {
     "end_time": "2024-05-28T15:02:38.000038400Z",
     "start_time": "2024-05-28T15:02:35.219860500Z"
    }
   }
  },
  {
   "cell_type": "code",
   "execution_count": 47,
   "outputs": [
    {
     "data": {
      "text/plain": "<Figure size 1200x600 with 1 Axes>",
      "image/png": "[encoded data removed]"
     },
     "metadata": {},
     "output_type": "display_data"
    }
   ],
   "source": [
    "# Visualize the predictions\n",
    "plt.figure(figsize=(12, 6))\n",
    "plt.plot(scaler.inverse_transform(df1), label='Train')\n",
    "test_data_index = pd.RangeIndex(start=train_size, stop=train_size + test_size, step=1)\n",
    "plt.plot(test_data_index, scaler.inverse_transform(test_data), label='Actual Test')\n",
    "test_pred_index = pd.RangeIndex(start=train_size + time_step, stop=train_size + test_size - 1, step=1)\n",
    "plt.plot(test_pred_index, scaler.inverse_transform(y_pred.reshape(-1, 1)), label='Predicted Test')\n",
    "predict_data_index = pd.RangeIndex(start=len(df1), stop=len(df1) + 30, step=1)\n",
    "plt.plot(predict_data_index, scaler.inverse_transform(lst_output), label='Next 30 days')\n",
    "plt.xlabel('Time')\n",
    "plt.ylabel('Price')\n",
    "plt.title('Stock Price Prediction')\n",
    "plt.legend()\n",
    "plt.show()\n"
   ],
   "metadata": {
    "collapsed": false,
    "ExecuteTime": {
     "end_time": "2024-05-28T15:02:39.220583Z",
     "start_time": "2024-05-28T15:02:38.901776800Z"
    }
   }
  },
  {
   "cell_type": "markdown",
   "source": [
    "# (Split 8/2)"
   ],
   "metadata": {
    "collapsed": false
   }
  },
  {
   "cell_type": "code",
   "execution_count": 48,
   "outputs": [
    {
     "data": {
      "text/plain": "   close\n0  19270\n1  19440\n2  19390\n3  19270\n4  19330",
      "text/html": "<div>\n<style scoped>\n    .dataframe tbody tr th:only-of-type {\n        vertical-align: middle;\n    }\n\n    .dataframe tbody tr th {\n        vertical-align: top;\n    }\n\n    .dataframe thead th {\n        text-align: right;\n    }\n</style>\n<table border=\"1\" class=\"dataframe\">\n  <thead>\n    <tr style=\"text-align: right;\">\n      <th></th>\n      <th>close</th>\n    </tr>\n  </thead>\n  <tbody>\n    <tr>\n      <th>0</th>\n      <td>19270</td>\n    </tr>\n    <tr>\n      <th>1</th>\n      <td>19440</td>\n    </tr>\n    <tr>\n      <th>2</th>\n      <td>19390</td>\n    </tr>\n    <tr>\n      <th>3</th>\n      <td>19270</td>\n    </tr>\n    <tr>\n      <th>4</th>\n      <td>19330</td>\n    </tr>\n  </tbody>\n</table>\n</div>"
     },
     "execution_count": 48,
     "metadata": {},
     "output_type": "execute_result"
    }
   ],
   "source": [
    "# 1. Import thư viện cần thiết\n",
    "import numpy as np\n",
    "import pandas as pd\n",
    "import matplotlib.pyplot as plt\n",
    "from sklearn.preprocessing import MinMaxScaler\n",
    "from keras.models import Sequential\n",
    "from keras.layers import Dense, GRU\n",
    "from sklearn.metrics import mean_squared_error, mean_absolute_percentage_error\n",
    "df = pd.read_csv('D:\\\\Workspace\\\\23-24_HK2\\\\IS403-PTDLKD\\\\Thuc-hanh\\\\Lab 4\\\\fpt_data_sheet.csv', index_col='time', parse_dates=True)\n",
    "df=df.drop(columns=['open', 'high', 'low', 'volume','ticker'])\n",
    "df = df.reset_index(drop=True)\n",
    "df.head()"
   ],
   "metadata": {
    "collapsed": false,
    "ExecuteTime": {
     "end_time": "2024-05-28T15:02:42.429315300Z",
     "start_time": "2024-05-28T15:02:42.403543100Z"
    }
   }
  },
  {
   "cell_type": "code",
   "execution_count": 49,
   "outputs": [],
   "source": [
    "# 2. Đọc file csv và gắn index với Price\n",
    "df1=df.reset_index()['close']\n",
    "\n",
    "# 3. Scaler data\n",
    "scaler=MinMaxScaler(feature_range=(0,1))\n",
    "df1=scaler.fit_transform(np.array(df1).reshape(-1,1))\n",
    "\n",
    "# 4. Chia train test\n",
    "train_size = int(0.8 * len(df1))\n",
    "test_size = len(df1) - train_size\n",
    "\n",
    "train_data = df1[:train_size]\n",
    "test_data = df1[train_size:]\n",
    "\n",
    "# 5. Hàm Create Dataset\n",
    "import numpy\n",
    "# convert an array of values into a dataset matrix\n",
    "def create_dataset(dataset, time_step=1):\n",
    "\tdataX, dataY = [], []\n",
    "\tfor i in range(len(dataset)-time_step-1):\n",
    "\t\ta = dataset[i:(i+time_step), 0]   ###i=0, X=0,1,2,3-----99   Y=100\n",
    "\t\tdataX.append(a)\n",
    "\t\tdataY.append(dataset[i + time_step, 0])\n",
    "\treturn numpy.array(dataX), numpy.array(dataY)"
   ],
   "metadata": {
    "collapsed": false,
    "ExecuteTime": {
     "end_time": "2024-05-28T15:02:43.065048900Z",
     "start_time": "2024-05-28T15:02:43.047619100Z"
    }
   }
  },
  {
   "cell_type": "code",
   "execution_count": 50,
   "outputs": [],
   "source": [
    "#6. Reshape into X=t,t+1,t+2..t+99 and Y=t+100\n",
    "time_step = 30\n",
    "X_train, y_train = create_dataset(train_data, time_step)\n",
    "X_test, y_test = create_dataset(test_data, time_step)\n",
    "\n",
    "# 7. Reshape input to be [samples, time steps, features] which is required for GRU\n",
    "X_train =X_train.reshape(X_train.shape[0],X_train.shape[1] , 1)\n",
    "X_test = X_test.reshape(X_test.shape[0],X_test.shape[1] , 1)"
   ],
   "metadata": {
    "collapsed": false,
    "ExecuteTime": {
     "end_time": "2024-05-28T15:02:43.817651100Z",
     "start_time": "2024-05-28T15:02:43.803653900Z"
    }
   }
  },
  {
   "cell_type": "code",
   "execution_count": 51,
   "outputs": [
    {
     "name": "stdout",
     "output_type": "stream",
     "text": [
      "Epoch 1/100\n",
      "16/16 [==============================] - 4s 58ms/step - loss: 0.0398 - val_loss: 0.0014\n",
      "Epoch 2/100\n",
      "16/16 [==============================] - 0s 20ms/step - loss: 0.0076 - val_loss: 0.0220\n",
      "Epoch 3/100\n",
      "16/16 [==============================] - 0s 20ms/step - loss: 0.0021 - val_loss: 4.9572e-04\n",
      "Epoch 4/100\n",
      "16/16 [==============================] - 0s 20ms/step - loss: 4.6304e-04 - val_loss: 7.2386e-04\n",
      "Epoch 5/100\n",
      "16/16 [==============================] - 0s 21ms/step - loss: 2.4291e-04 - val_loss: 4.1568e-04\n",
      "Epoch 6/100\n",
      "16/16 [==============================] - 0s 21ms/step - loss: 2.2284e-04 - val_loss: 3.8564e-04\n",
      "Epoch 7/100\n",
      "16/16 [==============================] - 0s 20ms/step - loss: 2.0994e-04 - val_loss: 4.5486e-04\n",
      "Epoch 8/100\n",
      "16/16 [==============================] - 0s 20ms/step - loss: 2.0834e-04 - val_loss: 3.9219e-04\n",
      "Epoch 9/100\n",
      "16/16 [==============================] - 0s 20ms/step - loss: 1.9951e-04 - val_loss: 3.6297e-04\n",
      "Epoch 10/100\n",
      "16/16 [==============================] - 0s 20ms/step - loss: 1.9795e-04 - val_loss: 4.1294e-04\n",
      "Epoch 11/100\n",
      "16/16 [==============================] - 0s 21ms/step - loss: 1.9656e-04 - val_loss: 3.6478e-04\n",
      "Epoch 12/100\n",
      "16/16 [==============================] - 0s 20ms/step - loss: 1.9219e-04 - val_loss: 3.3313e-04\n",
      "Epoch 13/100\n",
      "16/16 [==============================] - 0s 20ms/step - loss: 1.8590e-04 - val_loss: 3.8594e-04\n",
      "Epoch 14/100\n",
      "16/16 [==============================] - 0s 20ms/step - loss: 1.8508e-04 - val_loss: 3.1418e-04\n",
      "Epoch 15/100\n",
      "16/16 [==============================] - 0s 20ms/step - loss: 1.8061e-04 - val_loss: 3.2732e-04\n",
      "Epoch 16/100\n",
      "16/16 [==============================] - 0s 21ms/step - loss: 1.8041e-04 - val_loss: 3.0041e-04\n",
      "Epoch 17/100\n",
      "16/16 [==============================] - 0s 20ms/step - loss: 1.7852e-04 - val_loss: 3.1640e-04\n",
      "Epoch 18/100\n",
      "16/16 [==============================] - 0s 20ms/step - loss: 1.7546e-04 - val_loss: 3.0271e-04\n",
      "Epoch 19/100\n",
      "16/16 [==============================] - 0s 20ms/step - loss: 1.7139e-04 - val_loss: 3.3386e-04\n",
      "Epoch 20/100\n",
      "16/16 [==============================] - 0s 20ms/step - loss: 1.6888e-04 - val_loss: 2.8330e-04\n",
      "Epoch 21/100\n",
      "16/16 [==============================] - 0s 21ms/step - loss: 1.7018e-04 - val_loss: 3.1132e-04\n",
      "Epoch 22/100\n",
      "16/16 [==============================] - 0s 21ms/step - loss: 1.6657e-04 - val_loss: 2.8390e-04\n",
      "Epoch 23/100\n",
      "16/16 [==============================] - 0s 20ms/step - loss: 1.6687e-04 - val_loss: 2.6462e-04\n",
      "Epoch 24/100\n",
      "16/16 [==============================] - 0s 21ms/step - loss: 1.6427e-04 - val_loss: 2.6268e-04\n",
      "Epoch 25/100\n",
      "16/16 [==============================] - 0s 20ms/step - loss: 1.6005e-04 - val_loss: 3.2947e-04\n",
      "Epoch 26/100\n",
      "16/16 [==============================] - 0s 20ms/step - loss: 1.5912e-04 - val_loss: 2.6159e-04\n",
      "Epoch 27/100\n",
      "16/16 [==============================] - 0s 23ms/step - loss: 1.5825e-04 - val_loss: 3.3755e-04\n",
      "Epoch 28/100\n",
      "16/16 [==============================] - 0s 23ms/step - loss: 1.5975e-04 - val_loss: 2.8070e-04\n",
      "Epoch 29/100\n",
      "16/16 [==============================] - 0s 21ms/step - loss: 1.5601e-04 - val_loss: 2.7399e-04\n",
      "Epoch 30/100\n",
      "16/16 [==============================] - 0s 22ms/step - loss: 1.5189e-04 - val_loss: 2.6280e-04\n",
      "Epoch 31/100\n",
      "16/16 [==============================] - 0s 22ms/step - loss: 1.5113e-04 - val_loss: 2.7479e-04\n",
      "Epoch 32/100\n",
      "16/16 [==============================] - 0s 20ms/step - loss: 1.5145e-04 - val_loss: 2.9130e-04\n",
      "Epoch 33/100\n",
      "16/16 [==============================] - 0s 23ms/step - loss: 1.5580e-04 - val_loss: 2.9996e-04\n",
      "Epoch 34/100\n",
      "16/16 [==============================] - 0s 21ms/step - loss: 1.5381e-04 - val_loss: 3.0990e-04\n",
      "Epoch 35/100\n",
      "16/16 [==============================] - 0s 22ms/step - loss: 1.4772e-04 - val_loss: 3.8209e-04\n",
      "Epoch 36/100\n",
      "16/16 [==============================] - 0s 22ms/step - loss: 1.4750e-04 - val_loss: 3.6933e-04\n",
      "Epoch 37/100\n",
      "16/16 [==============================] - 0s 21ms/step - loss: 1.4797e-04 - val_loss: 2.7138e-04\n",
      "Epoch 38/100\n",
      "16/16 [==============================] - 0s 22ms/step - loss: 1.4824e-04 - val_loss: 2.4952e-04\n",
      "Epoch 39/100\n",
      "16/16 [==============================] - 0s 20ms/step - loss: 1.4233e-04 - val_loss: 3.6521e-04\n",
      "Epoch 40/100\n",
      "16/16 [==============================] - 0s 22ms/step - loss: 1.4272e-04 - val_loss: 3.5024e-04\n",
      "Epoch 41/100\n",
      "16/16 [==============================] - 0s 22ms/step - loss: 1.4350e-04 - val_loss: 2.2936e-04\n",
      "Epoch 42/100\n",
      "16/16 [==============================] - 0s 20ms/step - loss: 1.4608e-04 - val_loss: 2.3671e-04\n",
      "Epoch 43/100\n",
      "16/16 [==============================] - 0s 21ms/step - loss: 1.4698e-04 - val_loss: 2.4783e-04\n",
      "Epoch 44/100\n",
      "16/16 [==============================] - 0s 21ms/step - loss: 1.3998e-04 - val_loss: 3.7846e-04\n",
      "Epoch 45/100\n",
      "16/16 [==============================] - 0s 21ms/step - loss: 1.4513e-04 - val_loss: 4.1987e-04\n",
      "Epoch 46/100\n",
      "16/16 [==============================] - 0s 21ms/step - loss: 1.4098e-04 - val_loss: 3.0549e-04\n",
      "Epoch 47/100\n",
      "16/16 [==============================] - 0s 21ms/step - loss: 1.3509e-04 - val_loss: 2.1674e-04\n",
      "Epoch 48/100\n",
      "16/16 [==============================] - 0s 20ms/step - loss: 1.3520e-04 - val_loss: 2.4710e-04\n",
      "Epoch 49/100\n",
      "16/16 [==============================] - 0s 21ms/step - loss: 1.4206e-04 - val_loss: 2.3725e-04\n",
      "Epoch 50/100\n",
      "16/16 [==============================] - 0s 21ms/step - loss: 1.3363e-04 - val_loss: 2.5203e-04\n",
      "Epoch 51/100\n",
      "16/16 [==============================] - 0s 21ms/step - loss: 1.3442e-04 - val_loss: 2.2767e-04\n",
      "Epoch 52/100\n",
      "16/16 [==============================] - 0s 21ms/step - loss: 1.3424e-04 - val_loss: 2.5220e-04\n",
      "Epoch 53/100\n",
      "16/16 [==============================] - 0s 21ms/step - loss: 1.3453e-04 - val_loss: 2.8055e-04\n",
      "Epoch 54/100\n",
      "16/16 [==============================] - 0s 21ms/step - loss: 1.3657e-04 - val_loss: 2.2832e-04\n",
      "Epoch 55/100\n",
      "16/16 [==============================] - 0s 21ms/step - loss: 1.3468e-04 - val_loss: 2.4000e-04\n",
      "Epoch 56/100\n",
      "16/16 [==============================] - 0s 21ms/step - loss: 1.3964e-04 - val_loss: 3.8586e-04\n",
      "Epoch 57/100\n",
      "16/16 [==============================] - 0s 21ms/step - loss: 1.3354e-04 - val_loss: 2.8100e-04\n",
      "Epoch 58/100\n",
      "16/16 [==============================] - 0s 21ms/step - loss: 1.3047e-04 - val_loss: 2.6406e-04\n",
      "Epoch 59/100\n",
      "16/16 [==============================] - 0s 21ms/step - loss: 1.2978e-04 - val_loss: 3.8512e-04\n",
      "Epoch 60/100\n",
      "16/16 [==============================] - 0s 20ms/step - loss: 1.4437e-04 - val_loss: 3.3678e-04\n",
      "Epoch 61/100\n",
      "16/16 [==============================] - 0s 22ms/step - loss: 1.2902e-04 - val_loss: 2.8958e-04\n",
      "Epoch 62/100\n",
      "16/16 [==============================] - 0s 28ms/step - loss: 1.2764e-04 - val_loss: 2.3185e-04\n",
      "Epoch 63/100\n",
      "16/16 [==============================] - 0s 21ms/step - loss: 1.2834e-04 - val_loss: 3.4410e-04\n",
      "Epoch 64/100\n",
      "16/16 [==============================] - 0s 22ms/step - loss: 1.3121e-04 - val_loss: 2.3162e-04\n",
      "Epoch 65/100\n",
      "16/16 [==============================] - 0s 21ms/step - loss: 1.3469e-04 - val_loss: 2.7900e-04\n",
      "Epoch 66/100\n",
      "16/16 [==============================] - 0s 21ms/step - loss: 1.3483e-04 - val_loss: 3.3832e-04\n",
      "Epoch 67/100\n",
      "16/16 [==============================] - 0s 21ms/step - loss: 1.2795e-04 - val_loss: 3.1907e-04\n",
      "Epoch 68/100\n",
      "16/16 [==============================] - 0s 21ms/step - loss: 1.2866e-04 - val_loss: 2.4609e-04\n",
      "Epoch 69/100\n",
      "16/16 [==============================] - 0s 21ms/step - loss: 1.2998e-04 - val_loss: 3.1277e-04\n",
      "Epoch 70/100\n",
      "16/16 [==============================] - 0s 20ms/step - loss: 1.2928e-04 - val_loss: 2.1871e-04\n",
      "Epoch 71/100\n",
      "16/16 [==============================] - 0s 21ms/step - loss: 1.3104e-04 - val_loss: 3.9560e-04\n",
      "Epoch 72/100\n",
      "16/16 [==============================] - 0s 22ms/step - loss: 1.3058e-04 - val_loss: 3.2687e-04\n",
      "Epoch 73/100\n",
      "16/16 [==============================] - 0s 21ms/step - loss: 1.2492e-04 - val_loss: 2.2814e-04\n",
      "Epoch 74/100\n",
      "16/16 [==============================] - 0s 21ms/step - loss: 1.2577e-04 - val_loss: 2.2159e-04\n",
      "Epoch 75/100\n",
      "16/16 [==============================] - 0s 21ms/step - loss: 1.3305e-04 - val_loss: 3.7253e-04\n",
      "Epoch 76/100\n",
      "16/16 [==============================] - 0s 21ms/step - loss: 1.6381e-04 - val_loss: 3.9014e-04\n",
      "Epoch 77/100\n",
      "16/16 [==============================] - 0s 21ms/step - loss: 1.3654e-04 - val_loss: 2.0095e-04\n",
      "Epoch 78/100\n",
      "16/16 [==============================] - 0s 21ms/step - loss: 1.3085e-04 - val_loss: 3.1562e-04\n",
      "Epoch 79/100\n",
      "16/16 [==============================] - 0s 21ms/step - loss: 1.2368e-04 - val_loss: 2.2779e-04\n",
      "Epoch 80/100\n",
      "16/16 [==============================] - 0s 21ms/step - loss: 1.2617e-04 - val_loss: 4.1291e-04\n",
      "Epoch 81/100\n",
      "16/16 [==============================] - 0s 21ms/step - loss: 1.3242e-04 - val_loss: 4.9507e-04\n",
      "Epoch 82/100\n",
      "16/16 [==============================] - 0s 21ms/step - loss: 1.2512e-04 - val_loss: 3.6358e-04\n",
      "Epoch 83/100\n",
      "16/16 [==============================] - 0s 21ms/step - loss: 1.2325e-04 - val_loss: 2.4923e-04\n",
      "Epoch 84/100\n",
      "16/16 [==============================] - 0s 21ms/step - loss: 1.2478e-04 - val_loss: 3.9439e-04\n",
      "Epoch 85/100\n",
      "16/16 [==============================] - 0s 21ms/step - loss: 1.1951e-04 - val_loss: 2.2829e-04\n",
      "Epoch 86/100\n",
      "16/16 [==============================] - 0s 21ms/step - loss: 1.3454e-04 - val_loss: 3.6204e-04\n",
      "Epoch 87/100\n",
      "16/16 [==============================] - 0s 21ms/step - loss: 1.2363e-04 - val_loss: 3.1297e-04\n",
      "Epoch 88/100\n",
      "16/16 [==============================] - 0s 20ms/step - loss: 1.2012e-04 - val_loss: 4.3923e-04\n",
      "Epoch 89/100\n",
      "16/16 [==============================] - 0s 21ms/step - loss: 1.2553e-04 - val_loss: 3.3707e-04\n",
      "Epoch 90/100\n",
      "16/16 [==============================] - 0s 21ms/step - loss: 1.1932e-04 - val_loss: 3.2981e-04\n",
      "Epoch 91/100\n",
      "16/16 [==============================] - 0s 21ms/step - loss: 1.2094e-04 - val_loss: 2.2011e-04\n",
      "Epoch 92/100\n",
      "16/16 [==============================] - 0s 21ms/step - loss: 1.2400e-04 - val_loss: 2.7142e-04\n",
      "Epoch 93/100\n",
      "16/16 [==============================] - 0s 23ms/step - loss: 1.2042e-04 - val_loss: 4.0700e-04\n",
      "Epoch 94/100\n",
      "16/16 [==============================] - 0s 24ms/step - loss: 1.2455e-04 - val_loss: 2.2513e-04\n",
      "Epoch 95/100\n",
      "16/16 [==============================] - 0s 24ms/step - loss: 1.2328e-04 - val_loss: 3.9078e-04\n",
      "Epoch 96/100\n",
      "16/16 [==============================] - 0s 22ms/step - loss: 1.2718e-04 - val_loss: 2.3935e-04\n",
      "Epoch 97/100\n",
      "16/16 [==============================] - 0s 16ms/step - loss: 1.2655e-04 - val_loss: 5.1186e-04\n",
      "Epoch 98/100\n",
      "16/16 [==============================] - 0s 18ms/step - loss: 1.4832e-04 - val_loss: 2.3070e-04\n",
      "Epoch 99/100\n",
      "16/16 [==============================] - 0s 17ms/step - loss: 1.3260e-04 - val_loss: 4.4758e-04\n",
      "Epoch 100/100\n",
      "16/16 [==============================] - 0s 16ms/step - loss: 1.2944e-04 - val_loss: 4.5011e-04\n"
     ]
    },
    {
     "data": {
      "text/plain": "<keras.callbacks.History at 0x272beeb3ee0>"
     },
     "execution_count": 51,
     "metadata": {},
     "output_type": "execute_result"
    }
   ],
   "source": [
    "# 8. Define GRU Model\n",
    "model = Sequential()\n",
    "model.add(GRU(64, input_shape=(time_step, 1)))\n",
    "model.add(Dense(1))\n",
    "model.compile(optimizer='adam', loss='mean_squared_error')\n",
    "\n",
    "# 9. Fit mô hình với dữ liệu train\n",
    "model.fit(X_train,y_train,validation_data=(X_test,y_test),epochs=100,batch_size=64,verbose=1)"
   ],
   "metadata": {
    "collapsed": false,
    "ExecuteTime": {
     "end_time": "2024-05-28T15:03:21.812254Z",
     "start_time": "2024-05-28T15:02:44.695666900Z"
    }
   }
  },
  {
   "cell_type": "code",
   "execution_count": 52,
   "outputs": [
    {
     "name": "stdout",
     "output_type": "stream",
     "text": [
      "7/7 [==============================] - 1s 5ms/step\n"
     ]
    }
   ],
   "source": [
    "# Dự báo dữ liệu test\n",
    "y_pred = model.predict(X_test)\n",
    "\n",
    "# Chuẩn hóa dữ liệu y_pred\n",
    "y_pred_new = scaler.inverse_transform(y_pred.reshape(1, -1))\n",
    "y_test_new = scaler.inverse_transform(np.array([y_test], dtype=np.float32))"
   ],
   "metadata": {
    "collapsed": false,
    "ExecuteTime": {
     "end_time": "2024-05-28T15:03:24.295039700Z",
     "start_time": "2024-05-28T15:03:23.638303300Z"
    }
   }
  },
  {
   "cell_type": "code",
   "execution_count": 53,
   "outputs": [
    {
     "name": "stdout",
     "output_type": "stream",
     "text": [
      "RMSE trên tập test là: 1943.5823\n",
      "MAPE trên tập test là: 1.713898777961731 %\n",
      "MSLE trên tập test là: 0.00045576986\n"
     ]
    }
   ],
   "source": [
    "from sklearn.metrics import mean_squared_log_error\n",
    "\n",
    "# Tính toán RMSE, MAPE và MLSE trên tập test\n",
    "test_score_rmse = np.sqrt(mean_squared_error(y_test_new, y_pred_new))\n",
    "test_score_mape = mean_absolute_percentage_error(y_test_new, y_pred_new) * 100\n",
    "test_score_msle = mean_squared_log_error(y_test_new, y_pred_new)\n",
    "\n",
    "print('RMSE trên tập test là:', test_score_rmse)\n",
    "print('MAPE trên tập test là:', test_score_mape, '%')\n",
    "print('MSLE trên tập test là:', test_score_msle)"
   ],
   "metadata": {
    "collapsed": false,
    "ExecuteTime": {
     "end_time": "2024-05-28T15:03:25.697224600Z",
     "start_time": "2024-05-28T15:03:25.672532100Z"
    }
   }
  },
  {
   "cell_type": "code",
   "execution_count": 54,
   "outputs": [],
   "source": [
    "# Dự báo 30 ngày tiếp theo\n",
    "x_input = test_data[-time_step:].reshape(1, -1)\n",
    "temp_input = list(x_input[0])\n",
    "lst_output = []\n",
    "\n",
    "for i in range(30):\n",
    "    if len(temp_input) > time_step:\n",
    "        x_input = np.array(temp_input[1:]).reshape(1, -1)\n",
    "        x_input = x_input.reshape((1, time_step, 1))\n",
    "        y_hat = model.predict(x_input, verbose=0)\n",
    "        temp_input.extend(y_hat[0].tolist())\n",
    "        temp_input = temp_input[1:]\n",
    "        lst_output.extend(y_hat.tolist())\n",
    "    else:\n",
    "        x_input = x_input.reshape((1, time_step, 1))\n",
    "        y_hat = model.predict(x_input, verbose=0)\n",
    "        temp_input.extend(y_hat[0].tolist())\n",
    "        lst_output.extend(y_hat.tolist())"
   ],
   "metadata": {
    "collapsed": false,
    "ExecuteTime": {
     "end_time": "2024-05-28T15:03:31.684608400Z",
     "start_time": "2024-05-28T15:03:29.464210600Z"
    }
   }
  },
  {
   "cell_type": "code",
   "execution_count": 55,
   "outputs": [
    {
     "data": {
      "text/plain": "<Figure size 1200x600 with 1 Axes>",
      "image/png": "[encoded data removed]"
     },
     "metadata": {},
     "output_type": "display_data"
    }
   ],
   "source": [
    "# Visualize the predictions\n",
    "plt.figure(figsize=(12, 6))\n",
    "plt.plot(scaler.inverse_transform(df1), label='Train')\n",
    "test_data_index = pd.RangeIndex(start=train_size, stop=train_size + test_size, step=1)\n",
    "plt.plot(test_data_index, scaler.inverse_transform(test_data), label='Actual Test')\n",
    "test_pred_index = pd.RangeIndex(start=train_size + time_step, stop=train_size + test_size - 1, step=1)\n",
    "plt.plot(test_pred_index, scaler.inverse_transform(y_pred.reshape(-1, 1)), label='Predicted Test')\n",
    "predict_data_index = pd.RangeIndex(start=len(df1), stop=len(df1) + 30, step=1)\n",
    "plt.plot(predict_data_index, scaler.inverse_transform(lst_output), label='Next 30 days')\n",
    "plt.xlabel('Time')\n",
    "plt.ylabel('Price')\n",
    "plt.title('Stock Price Prediction')\n",
    "plt.legend()\n",
    "plt.show()\n"
   ],
   "metadata": {
    "collapsed": false,
    "ExecuteTime": {
     "end_time": "2024-05-28T15:03:32.957451500Z",
     "start_time": "2024-05-28T15:03:32.758601300Z"
    }
   }
  },
  {
   "cell_type": "markdown",
   "source": [
    "# (Split 9/1)"
   ],
   "metadata": {
    "collapsed": false
   }
  },
  {
   "cell_type": "code",
   "execution_count": 32,
   "outputs": [
    {
     "data": {
      "text/plain": "   close\n0  19270\n1  19440\n2  19390\n3  19270\n4  19330",
      "text/html": "<div>\n<style scoped>\n    .dataframe tbody tr th:only-of-type {\n        vertical-align: middle;\n    }\n\n    .dataframe tbody tr th {\n        vertical-align: top;\n    }\n\n    .dataframe thead th {\n        text-align: right;\n    }\n</style>\n<table border=\"1\" class=\"dataframe\">\n  <thead>\n    <tr style=\"text-align: right;\">\n      <th></th>\n      <th>close</th>\n    </tr>\n  </thead>\n  <tbody>\n    <tr>\n      <th>0</th>\n      <td>19270</td>\n    </tr>\n    <tr>\n      <th>1</th>\n      <td>19440</td>\n    </tr>\n    <tr>\n      <th>2</th>\n      <td>19390</td>\n    </tr>\n    <tr>\n      <th>3</th>\n      <td>19270</td>\n    </tr>\n    <tr>\n      <th>4</th>\n      <td>19330</td>\n    </tr>\n  </tbody>\n</table>\n</div>"
     },
     "execution_count": 32,
     "metadata": {},
     "output_type": "execute_result"
    }
   ],
   "source": [
    "# 1. Import thư viện cần thiết\n",
    "import numpy as np\n",
    "import pandas as pd\n",
    "import matplotlib.pyplot as plt\n",
    "from sklearn.preprocessing import MinMaxScaler\n",
    "from keras.models import Sequential\n",
    "from keras.layers import Dense, GRU\n",
    "from sklearn.metrics import mean_squared_error, mean_absolute_percentage_error\n",
    "df = pd.read_csv('D:\\\\Workspace\\\\23-24_HK2\\\\IS403-PTDLKD\\\\Thuc-hanh\\\\Lab 4\\\\fpt_data_sheet.csv', index_col='time', parse_dates=True)\n",
    "df=df.drop(columns=['open', 'high', 'low', 'volume','ticker'])\n",
    "df = df.reset_index(drop=True)\n",
    "df.head()"
   ],
   "metadata": {
    "collapsed": false,
    "ExecuteTime": {
     "end_time": "2024-05-28T15:00:08.525706300Z",
     "start_time": "2024-05-28T15:00:08.500780300Z"
    }
   }
  },
  {
   "cell_type": "code",
   "execution_count": 33,
   "outputs": [],
   "source": [
    "# 2. Đọc file csv và gắn index với Price\n",
    "df1=df.reset_index()['close']\n",
    "\n",
    "# 3. Scaler data\n",
    "scaler=MinMaxScaler(feature_range=(0,1))\n",
    "df1=scaler.fit_transform(np.array(df1).reshape(-1,1))\n",
    "\n",
    "# 4. Chia train test\n",
    "train_size = int(0.9 * len(df1))\n",
    "test_size = len(df1) - train_size\n",
    "\n",
    "train_data = df1[:train_size]\n",
    "test_data = df1[train_size:]\n",
    "\n",
    "# 5. Hàm Create Dataset\n",
    "import numpy\n",
    "# convert an array of values into a dataset matrix\n",
    "def create_dataset(dataset, time_step=1):\n",
    "\tdataX, dataY = [], []\n",
    "\tfor i in range(len(dataset)-time_step-1):\n",
    "\t\ta = dataset[i:(i+time_step), 0]   ###i=0, X=0,1,2,3-----99   Y=100\n",
    "\t\tdataX.append(a)\n",
    "\t\tdataY.append(dataset[i + time_step, 0])\n",
    "\treturn numpy.array(dataX), numpy.array(dataY)"
   ],
   "metadata": {
    "collapsed": false,
    "ExecuteTime": {
     "end_time": "2024-05-28T15:00:09.406479600Z",
     "start_time": "2024-05-28T15:00:09.386196500Z"
    }
   }
  },
  {
   "cell_type": "code",
   "execution_count": 34,
   "outputs": [],
   "source": [
    "#6. Reshape into X=t,t+1,t+2..t+99 and Y=t+100\n",
    "time_step = 30\n",
    "X_train, y_train = create_dataset(train_data, time_step)\n",
    "X_test, y_test = create_dataset(test_data, time_step)\n",
    "\n",
    "# 7. Reshape input to be [samples, time steps, features] which is required for GRU\n",
    "X_train =X_train.reshape(X_train.shape[0],X_train.shape[1] , 1)\n",
    "X_test = X_test.reshape(X_test.shape[0],X_test.shape[1] , 1)"
   ],
   "metadata": {
    "collapsed": false,
    "ExecuteTime": {
     "end_time": "2024-05-28T15:00:10.150053700Z",
     "start_time": "2024-05-28T15:00:10.130297900Z"
    }
   }
  },
  {
   "cell_type": "code",
   "execution_count": 35,
   "outputs": [
    {
     "name": "stdout",
     "output_type": "stream",
     "text": [
      "Epoch 1/100\n",
      "18/18 [==============================] - 4s 53ms/step - loss: 0.0961 - val_loss: 0.0203\n",
      "Epoch 2/100\n",
      "18/18 [==============================] - 0s 18ms/step - loss: 0.0195 - val_loss: 0.0632\n",
      "Epoch 3/100\n",
      "18/18 [==============================] - 0s 19ms/step - loss: 0.0070 - val_loss: 0.0021\n",
      "Epoch 4/100\n",
      "18/18 [==============================] - 0s 19ms/step - loss: 0.0014 - val_loss: 6.4499e-04\n",
      "Epoch 5/100\n",
      "18/18 [==============================] - 0s 19ms/step - loss: 3.6435e-04 - val_loss: 7.9243e-04\n",
      "Epoch 6/100\n",
      "18/18 [==============================] - 0s 18ms/step - loss: 2.8695e-04 - val_loss: 7.5095e-04\n",
      "Epoch 7/100\n",
      "18/18 [==============================] - 0s 19ms/step - loss: 2.6894e-04 - val_loss: 7.3044e-04\n",
      "Epoch 8/100\n",
      "18/18 [==============================] - 0s 18ms/step - loss: 2.6263e-04 - val_loss: 6.4492e-04\n",
      "Epoch 9/100\n",
      "18/18 [==============================] - 0s 18ms/step - loss: 2.6897e-04 - val_loss: 5.6530e-04\n",
      "Epoch 10/100\n",
      "18/18 [==============================] - 0s 19ms/step - loss: 2.5873e-04 - val_loss: 6.4043e-04\n",
      "Epoch 11/100\n",
      "18/18 [==============================] - 0s 20ms/step - loss: 2.4654e-04 - val_loss: 6.3554e-04\n",
      "Epoch 12/100\n",
      "18/18 [==============================] - 0s 18ms/step - loss: 2.4630e-04 - val_loss: 6.3846e-04\n",
      "Epoch 13/100\n",
      "18/18 [==============================] - 0s 18ms/step - loss: 2.3590e-04 - val_loss: 6.2065e-04\n",
      "Epoch 14/100\n",
      "18/18 [==============================] - 0s 19ms/step - loss: 2.2902e-04 - val_loss: 5.6567e-04\n",
      "Epoch 15/100\n",
      "18/18 [==============================] - 0s 19ms/step - loss: 2.2775e-04 - val_loss: 5.2397e-04\n",
      "Epoch 16/100\n",
      "18/18 [==============================] - 0s 19ms/step - loss: 2.2096e-04 - val_loss: 5.1067e-04\n",
      "Epoch 17/100\n",
      "18/18 [==============================] - 0s 19ms/step - loss: 2.1767e-04 - val_loss: 5.7513e-04\n",
      "Epoch 18/100\n",
      "18/18 [==============================] - 0s 19ms/step - loss: 2.1558e-04 - val_loss: 4.6342e-04\n",
      "Epoch 19/100\n",
      "18/18 [==============================] - 0s 19ms/step - loss: 2.2832e-04 - val_loss: 4.6521e-04\n",
      "Epoch 20/100\n",
      "18/18 [==============================] - 0s 19ms/step - loss: 2.1215e-04 - val_loss: 4.8695e-04\n",
      "Epoch 21/100\n",
      "18/18 [==============================] - 0s 20ms/step - loss: 2.1564e-04 - val_loss: 4.4634e-04\n",
      "Epoch 22/100\n",
      "18/18 [==============================] - 0s 20ms/step - loss: 2.3099e-04 - val_loss: 4.5903e-04\n",
      "Epoch 23/100\n",
      "18/18 [==============================] - 0s 25ms/step - loss: 1.9920e-04 - val_loss: 4.6908e-04\n",
      "Epoch 24/100\n",
      "18/18 [==============================] - 0s 20ms/step - loss: 1.9811e-04 - val_loss: 4.3201e-04\n",
      "Epoch 25/100\n",
      "18/18 [==============================] - 0s 19ms/step - loss: 1.9994e-04 - val_loss: 4.1360e-04\n",
      "Epoch 26/100\n",
      "18/18 [==============================] - 0s 19ms/step - loss: 1.9084e-04 - val_loss: 4.1083e-04\n",
      "Epoch 27/100\n",
      "18/18 [==============================] - 0s 19ms/step - loss: 1.9196e-04 - val_loss: 4.4373e-04\n",
      "Epoch 28/100\n",
      "18/18 [==============================] - 0s 19ms/step - loss: 1.9698e-04 - val_loss: 4.0244e-04\n",
      "Epoch 29/100\n",
      "18/18 [==============================] - 0s 20ms/step - loss: 1.8488e-04 - val_loss: 3.9396e-04\n",
      "Epoch 30/100\n",
      "18/18 [==============================] - 0s 19ms/step - loss: 1.8124e-04 - val_loss: 3.8950e-04\n",
      "Epoch 31/100\n",
      "18/18 [==============================] - 0s 19ms/step - loss: 1.8164e-04 - val_loss: 3.8927e-04\n",
      "Epoch 32/100\n",
      "18/18 [==============================] - 0s 19ms/step - loss: 1.7762e-04 - val_loss: 3.8151e-04\n",
      "Epoch 33/100\n",
      "18/18 [==============================] - 0s 19ms/step - loss: 1.7735e-04 - val_loss: 4.2140e-04\n",
      "Epoch 34/100\n",
      "18/18 [==============================] - 0s 19ms/step - loss: 1.7666e-04 - val_loss: 4.2547e-04\n",
      "Epoch 35/100\n",
      "18/18 [==============================] - 0s 19ms/step - loss: 1.8186e-04 - val_loss: 3.9244e-04\n",
      "Epoch 36/100\n",
      "18/18 [==============================] - 0s 19ms/step - loss: 1.7384e-04 - val_loss: 3.7054e-04\n",
      "Epoch 37/100\n",
      "18/18 [==============================] - 0s 19ms/step - loss: 1.7207e-04 - val_loss: 3.7291e-04\n",
      "Epoch 38/100\n",
      "18/18 [==============================] - 0s 19ms/step - loss: 1.6847e-04 - val_loss: 3.6547e-04\n",
      "Epoch 39/100\n",
      "18/18 [==============================] - 0s 20ms/step - loss: 1.7037e-04 - val_loss: 4.0440e-04\n",
      "Epoch 40/100\n",
      "18/18 [==============================] - 0s 20ms/step - loss: 1.7590e-04 - val_loss: 3.5669e-04\n",
      "Epoch 41/100\n",
      "18/18 [==============================] - 0s 20ms/step - loss: 1.7299e-04 - val_loss: 3.9928e-04\n",
      "Epoch 42/100\n",
      "18/18 [==============================] - 0s 20ms/step - loss: 1.7877e-04 - val_loss: 3.6597e-04\n",
      "Epoch 43/100\n",
      "18/18 [==============================] - 0s 19ms/step - loss: 1.7263e-04 - val_loss: 4.3488e-04\n",
      "Epoch 44/100\n",
      "18/18 [==============================] - 1s 40ms/step - loss: 1.6449e-04 - val_loss: 3.5122e-04\n",
      "Epoch 45/100\n",
      "18/18 [==============================] - 0s 20ms/step - loss: 1.6278e-04 - val_loss: 4.4909e-04\n",
      "Epoch 46/100\n",
      "18/18 [==============================] - 0s 20ms/step - loss: 1.6119e-04 - val_loss: 3.6557e-04\n",
      "Epoch 47/100\n",
      "18/18 [==============================] - 0s 22ms/step - loss: 1.5969e-04 - val_loss: 4.5810e-04\n",
      "Epoch 48/100\n",
      "18/18 [==============================] - 0s 20ms/step - loss: 1.5925e-04 - val_loss: 3.3689e-04\n",
      "Epoch 49/100\n",
      "18/18 [==============================] - 0s 20ms/step - loss: 1.6325e-04 - val_loss: 3.5905e-04\n",
      "Epoch 50/100\n",
      "18/18 [==============================] - 0s 21ms/step - loss: 1.5619e-04 - val_loss: 4.0503e-04\n",
      "Epoch 51/100\n",
      "18/18 [==============================] - 0s 20ms/step - loss: 1.5672e-04 - val_loss: 3.8952e-04\n",
      "Epoch 52/100\n",
      "18/18 [==============================] - 0s 20ms/step - loss: 1.5443e-04 - val_loss: 3.7759e-04\n",
      "Epoch 53/100\n",
      "18/18 [==============================] - 0s 20ms/step - loss: 1.5423e-04 - val_loss: 3.7994e-04\n",
      "Epoch 54/100\n",
      "18/18 [==============================] - 0s 20ms/step - loss: 1.5930e-04 - val_loss: 4.2296e-04\n",
      "Epoch 55/100\n",
      "18/18 [==============================] - 0s 20ms/step - loss: 1.6995e-04 - val_loss: 3.3767e-04\n",
      "Epoch 56/100\n",
      "18/18 [==============================] - 0s 21ms/step - loss: 1.5158e-04 - val_loss: 3.9938e-04\n",
      "Epoch 57/100\n",
      "18/18 [==============================] - 1s 32ms/step - loss: 1.6084e-04 - val_loss: 4.2746e-04\n",
      "Epoch 58/100\n",
      "18/18 [==============================] - 0s 20ms/step - loss: 1.4920e-04 - val_loss: 3.7737e-04\n",
      "Epoch 59/100\n",
      "18/18 [==============================] - 0s 21ms/step - loss: 1.4684e-04 - val_loss: 3.4334e-04\n",
      "Epoch 60/100\n",
      "18/18 [==============================] - 0s 20ms/step - loss: 1.4701e-04 - val_loss: 3.2156e-04\n",
      "Epoch 61/100\n",
      "18/18 [==============================] - 0s 20ms/step - loss: 1.6907e-04 - val_loss: 4.0759e-04\n",
      "Epoch 62/100\n",
      "18/18 [==============================] - 0s 21ms/step - loss: 1.4814e-04 - val_loss: 3.1534e-04\n",
      "Epoch 63/100\n",
      "18/18 [==============================] - 0s 20ms/step - loss: 1.4876e-04 - val_loss: 4.8628e-04\n",
      "Epoch 64/100\n",
      "18/18 [==============================] - 0s 20ms/step - loss: 1.4785e-04 - val_loss: 3.2112e-04\n",
      "Epoch 65/100\n",
      "18/18 [==============================] - 0s 20ms/step - loss: 1.4506e-04 - val_loss: 3.5113e-04\n",
      "Epoch 66/100\n",
      "18/18 [==============================] - 0s 23ms/step - loss: 1.4333e-04 - val_loss: 3.1414e-04\n",
      "Epoch 67/100\n",
      "18/18 [==============================] - 0s 21ms/step - loss: 1.4277e-04 - val_loss: 3.2828e-04\n",
      "Epoch 68/100\n",
      "18/18 [==============================] - 0s 20ms/step - loss: 1.4359e-04 - val_loss: 3.4093e-04\n",
      "Epoch 69/100\n",
      "18/18 [==============================] - 0s 20ms/step - loss: 1.4630e-04 - val_loss: 3.9603e-04\n",
      "Epoch 70/100\n",
      "18/18 [==============================] - 0s 20ms/step - loss: 1.3919e-04 - val_loss: 4.6445e-04\n",
      "Epoch 71/100\n",
      "18/18 [==============================] - 0s 20ms/step - loss: 1.4259e-04 - val_loss: 4.4217e-04\n",
      "Epoch 72/100\n",
      "18/18 [==============================] - 0s 20ms/step - loss: 1.4503e-04 - val_loss: 4.6855e-04\n",
      "Epoch 73/100\n",
      "18/18 [==============================] - 0s 20ms/step - loss: 1.4854e-04 - val_loss: 3.7851e-04\n",
      "Epoch 74/100\n",
      "18/18 [==============================] - 0s 21ms/step - loss: 1.4912e-04 - val_loss: 3.2059e-04\n",
      "Epoch 75/100\n",
      "18/18 [==============================] - 0s 20ms/step - loss: 1.4185e-04 - val_loss: 2.9922e-04\n",
      "Epoch 76/100\n",
      "18/18 [==============================] - 0s 20ms/step - loss: 1.5012e-04 - val_loss: 3.7152e-04\n",
      "Epoch 77/100\n",
      "18/18 [==============================] - 0s 20ms/step - loss: 1.3796e-04 - val_loss: 2.9883e-04\n",
      "Epoch 78/100\n",
      "18/18 [==============================] - 0s 21ms/step - loss: 1.4206e-04 - val_loss: 4.4517e-04\n",
      "Epoch 79/100\n",
      "18/18 [==============================] - 0s 21ms/step - loss: 1.4045e-04 - val_loss: 2.9487e-04\n",
      "Epoch 80/100\n",
      "18/18 [==============================] - 0s 20ms/step - loss: 1.3756e-04 - val_loss: 3.3283e-04\n",
      "Epoch 81/100\n",
      "18/18 [==============================] - 0s 20ms/step - loss: 1.5848e-04 - val_loss: 9.8932e-04\n",
      "Epoch 82/100\n",
      "18/18 [==============================] - 0s 20ms/step - loss: 1.8083e-04 - val_loss: 3.2320e-04\n",
      "Epoch 83/100\n",
      "18/18 [==============================] - 0s 21ms/step - loss: 1.3684e-04 - val_loss: 3.9442e-04\n",
      "Epoch 84/100\n",
      "18/18 [==============================] - 0s 23ms/step - loss: 1.3937e-04 - val_loss: 3.9363e-04\n",
      "Epoch 85/100\n",
      "18/18 [==============================] - 0s 20ms/step - loss: 1.4274e-04 - val_loss: 3.5795e-04\n",
      "Epoch 86/100\n",
      "18/18 [==============================] - 0s 23ms/step - loss: 1.3479e-04 - val_loss: 4.9907e-04\n",
      "Epoch 87/100\n",
      "18/18 [==============================] - 0s 21ms/step - loss: 1.5283e-04 - val_loss: 3.8808e-04\n",
      "Epoch 88/100\n",
      "18/18 [==============================] - 0s 20ms/step - loss: 1.5787e-04 - val_loss: 3.1166e-04\n",
      "Epoch 89/100\n",
      "18/18 [==============================] - 0s 22ms/step - loss: 1.3809e-04 - val_loss: 2.9382e-04\n",
      "Epoch 90/100\n",
      "18/18 [==============================] - 0s 21ms/step - loss: 1.4012e-04 - val_loss: 2.8666e-04\n",
      "Epoch 91/100\n",
      "18/18 [==============================] - 0s 20ms/step - loss: 1.5460e-04 - val_loss: 3.4471e-04\n",
      "Epoch 92/100\n",
      "18/18 [==============================] - 0s 22ms/step - loss: 1.3208e-04 - val_loss: 2.9922e-04\n",
      "Epoch 93/100\n",
      "18/18 [==============================] - 0s 20ms/step - loss: 1.3097e-04 - val_loss: 4.7124e-04\n",
      "Epoch 94/100\n",
      "18/18 [==============================] - 0s 22ms/step - loss: 1.3628e-04 - val_loss: 3.5033e-04\n",
      "Epoch 95/100\n",
      "18/18 [==============================] - 0s 20ms/step - loss: 1.3563e-04 - val_loss: 4.2728e-04\n",
      "Epoch 96/100\n",
      "18/18 [==============================] - 0s 22ms/step - loss: 1.3086e-04 - val_loss: 3.2326e-04\n",
      "Epoch 97/100\n",
      "18/18 [==============================] - 0s 20ms/step - loss: 1.3104e-04 - val_loss: 5.4902e-04\n",
      "Epoch 98/100\n",
      "18/18 [==============================] - 0s 20ms/step - loss: 1.7151e-04 - val_loss: 2.8746e-04\n",
      "Epoch 99/100\n",
      "18/18 [==============================] - 0s 20ms/step - loss: 1.3301e-04 - val_loss: 4.0587e-04\n",
      "Epoch 100/100\n",
      "18/18 [==============================] - 0s 20ms/step - loss: 1.3588e-04 - val_loss: 4.3327e-04\n"
     ]
    },
    {
     "data": {
      "text/plain": "<keras.callbacks.History at 0x272b55b3b20>"
     },
     "execution_count": 35,
     "metadata": {},
     "output_type": "execute_result"
    }
   ],
   "source": [
    "# 8. Define GRU Model\n",
    "model = Sequential()\n",
    "model.add(GRU(64, input_shape=(time_step, 1)))\n",
    "model.add(Dense(1))\n",
    "model.compile(optimizer='adam', loss='mean_squared_error')\n",
    "\n",
    "# 9. Fit mô hình với dữ liệu train\n",
    "model.fit(X_train,y_train,validation_data=(X_test,y_test),epochs=100,batch_size=64,verbose=1)"
   ],
   "metadata": {
    "collapsed": false,
    "ExecuteTime": {
     "end_time": "2024-05-28T15:00:51.145681200Z",
     "start_time": "2024-05-28T15:00:10.795674400Z"
    }
   }
  },
  {
   "cell_type": "code",
   "execution_count": 36,
   "outputs": [
    {
     "name": "stdout",
     "output_type": "stream",
     "text": [
      "3/3 [==============================] - 1s 9ms/step\n"
     ]
    }
   ],
   "source": [
    "# Dự báo dữ liệu test\n",
    "y_pred = model.predict(X_test)\n",
    "\n",
    "# Chuẩn hóa dữ liệu y_pred\n",
    "y_pred_new = scaler.inverse_transform(y_pred.reshape(1, -1))\n",
    "y_test_new = scaler.inverse_transform(np.array([y_test], dtype=np.float32))"
   ],
   "metadata": {
    "collapsed": false,
    "ExecuteTime": {
     "end_time": "2024-05-28T15:00:55.293367800Z",
     "start_time": "2024-05-28T15:00:54.619833200Z"
    }
   }
  },
  {
   "cell_type": "code",
   "execution_count": 37,
   "outputs": [
    {
     "name": "stdout",
     "output_type": "stream",
     "text": [
      "RMSE trên tập test là: 1906.8689\n",
      "MAPE trên tập test là: 1.5701714903116226 %\n",
      "MSLE trên tập test là: 0.00040266936\n"
     ]
    }
   ],
   "source": [
    "from sklearn.metrics import mean_squared_log_error\n",
    "\n",
    "# Tính toán RMSE, MAPE và MLSE trên tập test\n",
    "test_score_rmse = np.sqrt(mean_squared_error(y_test_new, y_pred_new))\n",
    "test_score_mape = mean_absolute_percentage_error(y_test_new, y_pred_new) * 100\n",
    "test_score_msle = mean_squared_log_error(y_test_new, y_pred_new)\n",
    "\n",
    "print('RMSE trên tập test là:', test_score_rmse)\n",
    "print('MAPE trên tập test là:', test_score_mape, '%')\n",
    "print('MSLE trên tập test là:', test_score_msle)"
   ],
   "metadata": {
    "collapsed": false,
    "ExecuteTime": {
     "end_time": "2024-05-28T15:00:56.413066100Z",
     "start_time": "2024-05-28T15:00:56.366913800Z"
    }
   }
  },
  {
   "cell_type": "code",
   "execution_count": 38,
   "outputs": [],
   "source": [
    "# Dự báo 30 ngày tiếp theo\n",
    "x_input = test_data[-time_step:].reshape(1, -1)\n",
    "temp_input = list(x_input[0])\n",
    "lst_output = []\n",
    "\n",
    "for i in range(30):\n",
    "    if len(temp_input) > time_step:\n",
    "        x_input = np.array(temp_input[1:]).reshape(1, -1)\n",
    "        x_input = x_input.reshape((1, time_step, 1))\n",
    "        y_hat = model.predict(x_input, verbose=0)\n",
    "        temp_input.extend(y_hat[0].tolist())\n",
    "        temp_input = temp_input[1:]\n",
    "        lst_output.extend(y_hat.tolist())\n",
    "    else:\n",
    "        x_input = x_input.reshape((1, time_step, 1))\n",
    "        y_hat = model.predict(x_input, verbose=0)\n",
    "        temp_input.extend(y_hat[0].tolist())\n",
    "        lst_output.extend(y_hat.tolist())"
   ],
   "metadata": {
    "collapsed": false,
    "ExecuteTime": {
     "end_time": "2024-05-28T15:01:05.115164400Z",
     "start_time": "2024-05-28T15:01:01.900365Z"
    }
   }
  },
  {
   "cell_type": "code",
   "execution_count": 39,
   "outputs": [
    {
     "data": {
      "text/plain": "<Figure size 1200x600 with 1 Axes>",
      "image/png": "[encoded data removed]"
     },
     "metadata": {},
     "output_type": "display_data"
    }
   ],
   "source": [
    "# Visualize the predictions\n",
    "plt.figure(figsize=(12, 6))\n",
    "plt.plot(scaler.inverse_transform(df1), label='Train')\n",
    "test_data_index = pd.RangeIndex(start=train_size, stop=train_size + test_size, step=1)\n",
    "plt.plot(test_data_index, scaler.inverse_transform(test_data), label='Actual Test')\n",
    "test_pred_index = pd.RangeIndex(start=train_size + time_step, stop=train_size + test_size - 1, step=1)\n",
    "plt.plot(test_pred_index, scaler.inverse_transform(y_pred.reshape(-1, 1)), label='Predicted Test')\n",
    "predict_data_index = pd.RangeIndex(start=len(df1), stop=len(df1) + 30, step=1)\n",
    "plt.plot(predict_data_index, scaler.inverse_transform(lst_output), label='Next 30 days')\n",
    "plt.xlabel('Time')\n",
    "plt.ylabel('Price')\n",
    "plt.title('Stock Price Prediction')\n",
    "plt.legend()\n",
    "plt.show()"
   ],
   "metadata": {
    "collapsed": false,
    "ExecuteTime": {
     "end_time": "2024-05-28T15:01:06.349672Z",
     "start_time": "2024-05-28T15:01:06.077637500Z"
    }
   }
  },
  {
   "cell_type": "code",
   "execution_count": null,
   "outputs": [],
   "source": [],
   "metadata": {
    "collapsed": false
   }
  }
 ],
 "metadata": {
  "kernelspec": {
   "display_name": "Python 3",
   "language": "python",
   "name": "python3"
  },
  "language_info": {
   "codemirror_mode": {
    "name": "ipython",
    "version": 2
   },
   "file_extension": ".py",
   "mimetype": "text/x-python",
   "name": "python",
   "nbconvert_exporter": "python",
   "pygments_lexer": "ipython2",
   "version": "2.7.6"
  }
 },
 "nbformat": 4,
 "nbformat_minor": 0
}
