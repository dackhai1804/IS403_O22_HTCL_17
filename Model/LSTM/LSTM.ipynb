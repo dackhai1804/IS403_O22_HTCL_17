{
 "cells": [
  {
   "cell_type": "code",
   "execution_count": 1,
   "outputs": [],
   "source": [
    "# 1. Import thư viện cần thiết\n",
    "import numpy as np\n",
    "import pandas as pd\n",
    "import matplotlib.pyplot as plt\n",
    "from sklearn.preprocessing import MinMaxScaler\n",
    "from keras.models import Sequential\n",
    "from keras.layers import Dense, LSTM\n",
    "from sklearn.metrics import mean_squared_error, mean_absolute_percentage_error\n",
    "\n",
    "# 2. Đọc file csv và gắn index với giá Close\n",
    "data = pd.read_csv('D:\\\\Workspace\\\\23-24_HK2\\\\IS403-PTDLKD\\\\Thuc-hanh\\\\Lab 4\\\\fpt_data_sheet.csv', index_col='time', parse_dates=True)\n",
    "data=data.drop(columns=['open', 'high', 'low', 'volume','ticker'])\n",
    "data = data.reset_index(drop=True)\n",
    "df1 = data.reset_index()['close']"
   ],
   "metadata": {
    "collapsed": false,
    "ExecuteTime": {
     "end_time": "2024-05-28T14:48:14.649414Z",
     "start_time": "2024-05-28T14:48:09.966619300Z"
    }
   }
  },
  {
   "cell_type": "code",
   "execution_count": 2,
   "outputs": [],
   "source": [
    "# 3. Scaler data\n",
    "scaler = MinMaxScaler(feature_range=(0, 1))\n",
    "df1 = scaler.fit_transform(np.array(df1).reshape(-1, 1))"
   ],
   "metadata": {
    "collapsed": false,
    "ExecuteTime": {
     "end_time": "2024-05-28T14:48:25.602823500Z",
     "start_time": "2024-05-28T14:48:25.580373500Z"
    }
   }
  },
  {
   "cell_type": "code",
   "execution_count": 3,
   "outputs": [],
   "source": [
    "# 4. Chia train test (70% train, 30% test)\n",
    "train_size = int(0.7 * len(df1))\n",
    "test_size = len(df1) - train_size\n",
    "\n",
    "train_data = df1[:train_size]\n",
    "test_data = df1[train_size:]"
   ],
   "metadata": {
    "collapsed": false,
    "ExecuteTime": {
     "end_time": "2024-05-28T14:48:34.310582300Z",
     "start_time": "2024-05-28T14:48:34.293911Z"
    }
   }
  },
  {
   "cell_type": "code",
   "execution_count": 4,
   "outputs": [],
   "source": [
    "# 5. Hàm Create Dataset\n",
    "def create_dataset(dataset, time_step=1):\n",
    "    dataX, dataY = [], []\n",
    "    for i in range(len(dataset) - time_step - 1):\n",
    "        a = dataset[i:(i + time_step), 0]\n",
    "        dataX.append(a)\n",
    "        dataY.append(dataset[i + time_step, 0])\n",
    "    return np.array(dataX), np.array(dataY)"
   ],
   "metadata": {
    "collapsed": false,
    "ExecuteTime": {
     "end_time": "2024-05-28T14:48:42.073073400Z",
     "start_time": "2024-05-28T14:48:42.053551900Z"
    }
   }
  },
  {
   "cell_type": "code",
   "execution_count": 5,
   "outputs": [],
   "source": [
    "# 6. Reshape into X=t,t+1,t+2..t+99 and Y=t+100\n",
    "time_step = 30\n",
    "X_train, y_train = create_dataset(train_data, time_step)\n",
    "X_test, y_test = create_dataset(test_data, time_step)"
   ],
   "metadata": {
    "collapsed": false,
    "ExecuteTime": {
     "end_time": "2024-05-28T14:48:49.565208600Z",
     "start_time": "2024-05-28T14:48:49.561089Z"
    }
   }
  },
  {
   "cell_type": "code",
   "execution_count": 6,
   "outputs": [],
   "source": [
    "# 7. Reshape input to be [samples, time steps, features] which is required for LSTM\n",
    "X_train = X_train.reshape(X_train.shape[0], X_train.shape[1], 1)\n",
    "X_test = X_test.reshape(X_test.shape[0], X_test.shape[1], 1)"
   ],
   "metadata": {
    "collapsed": false,
    "ExecuteTime": {
     "end_time": "2024-05-28T14:48:58.248665100Z",
     "start_time": "2024-05-28T14:48:58.236569300Z"
    }
   }
  },
  {
   "cell_type": "code",
   "execution_count": 7,
   "outputs": [],
   "source": [
    "# 8. Define LSTM Model\n",
    "model = Sequential()\n",
    "model.add(LSTM(50, return_sequences=True, input_shape=(time_step, 1)))\n",
    "model.add(LSTM(50, return_sequences=True))\n",
    "model.add(LSTM(50))\n",
    "model.add(Dense(1))\n",
    "model.compile(loss='mean_squared_error', optimizer='adam')"
   ],
   "metadata": {
    "collapsed": false,
    "ExecuteTime": {
     "end_time": "2024-05-28T14:49:07.516332800Z",
     "start_time": "2024-05-28T14:49:06.237622100Z"
    }
   }
  },
  {
   "cell_type": "code",
   "execution_count": 8,
   "outputs": [
    {
     "name": "stdout",
     "output_type": "stream",
     "text": [
      "Epoch 1/100\n",
      "14/14 [==============================] - 9s 172ms/step - loss: 0.0357 - val_loss: 0.0472\n",
      "Epoch 2/100\n",
      "14/14 [==============================] - 1s 51ms/step - loss: 0.0055 - val_loss: 0.0021\n",
      "Epoch 3/100\n",
      "14/14 [==============================] - 1s 52ms/step - loss: 0.0014 - val_loss: 0.0016\n",
      "Epoch 4/100\n",
      "14/14 [==============================] - 1s 51ms/step - loss: 9.7250e-04 - val_loss: 0.0022\n",
      "Epoch 5/100\n",
      "14/14 [==============================] - 1s 52ms/step - loss: 8.0691e-04 - val_loss: 0.0023\n",
      "Epoch 6/100\n",
      "14/14 [==============================] - 1s 55ms/step - loss: 8.1106e-04 - val_loss: 0.0025\n",
      "Epoch 7/100\n",
      "14/14 [==============================] - 1s 54ms/step - loss: 7.1736e-04 - val_loss: 0.0032\n",
      "Epoch 8/100\n",
      "14/14 [==============================] - 1s 56ms/step - loss: 7.1437e-04 - val_loss: 0.0029\n",
      "Epoch 9/100\n",
      "14/14 [==============================] - 1s 52ms/step - loss: 7.2994e-04 - val_loss: 0.0036\n",
      "Epoch 10/100\n",
      "14/14 [==============================] - 1s 53ms/step - loss: 7.0552e-04 - val_loss: 0.0032\n",
      "Epoch 11/100\n",
      "14/14 [==============================] - 1s 53ms/step - loss: 7.0131e-04 - val_loss: 0.0043\n",
      "Epoch 12/100\n",
      "14/14 [==============================] - 1s 54ms/step - loss: 7.2133e-04 - val_loss: 0.0053\n",
      "Epoch 13/100\n",
      "14/14 [==============================] - 1s 54ms/step - loss: 6.8221e-04 - val_loss: 0.0056\n",
      "Epoch 14/100\n",
      "14/14 [==============================] - 1s 54ms/step - loss: 6.8749e-04 - val_loss: 0.0041\n",
      "Epoch 15/100\n",
      "14/14 [==============================] - 1s 54ms/step - loss: 6.5520e-04 - val_loss: 0.0048\n",
      "Epoch 16/100\n",
      "14/14 [==============================] - 1s 56ms/step - loss: 6.8908e-04 - val_loss: 0.0061\n",
      "Epoch 17/100\n",
      "14/14 [==============================] - 1s 53ms/step - loss: 6.6666e-04 - val_loss: 0.0051\n",
      "Epoch 18/100\n",
      "14/14 [==============================] - 1s 53ms/step - loss: 6.6689e-04 - val_loss: 0.0036\n",
      "Epoch 19/100\n",
      "14/14 [==============================] - 1s 53ms/step - loss: 6.6902e-04 - val_loss: 0.0038\n",
      "Epoch 20/100\n",
      "14/14 [==============================] - 1s 55ms/step - loss: 6.7952e-04 - val_loss: 0.0060\n",
      "Epoch 21/100\n",
      "14/14 [==============================] - 1s 64ms/step - loss: 6.8076e-04 - val_loss: 0.0044\n",
      "Epoch 22/100\n",
      "14/14 [==============================] - 1s 57ms/step - loss: 6.5938e-04 - val_loss: 0.0056\n",
      "Epoch 23/100\n",
      "14/14 [==============================] - 1s 59ms/step - loss: 6.3360e-04 - val_loss: 0.0029\n",
      "Epoch 24/100\n",
      "14/14 [==============================] - 1s 56ms/step - loss: 7.4645e-04 - val_loss: 0.0050\n",
      "Epoch 25/100\n",
      "14/14 [==============================] - 1s 56ms/step - loss: 6.2144e-04 - val_loss: 0.0031\n",
      "Epoch 26/100\n",
      "14/14 [==============================] - 1s 57ms/step - loss: 6.6527e-04 - val_loss: 0.0043\n",
      "Epoch 27/100\n",
      "14/14 [==============================] - 1s 55ms/step - loss: 6.0084e-04 - val_loss: 0.0052\n",
      "Epoch 28/100\n",
      "14/14 [==============================] - 1s 54ms/step - loss: 6.2370e-04 - val_loss: 0.0031\n",
      "Epoch 29/100\n",
      "14/14 [==============================] - 1s 55ms/step - loss: 6.2130e-04 - val_loss: 0.0048\n",
      "Epoch 30/100\n",
      "14/14 [==============================] - 1s 72ms/step - loss: 6.0976e-04 - val_loss: 0.0036\n",
      "Epoch 31/100\n",
      "14/14 [==============================] - 1s 57ms/step - loss: 6.4035e-04 - val_loss: 0.0053\n",
      "Epoch 32/100\n",
      "14/14 [==============================] - 1s 55ms/step - loss: 6.0317e-04 - val_loss: 0.0040\n",
      "Epoch 33/100\n",
      "14/14 [==============================] - 1s 56ms/step - loss: 5.6767e-04 - val_loss: 0.0047\n",
      "Epoch 34/100\n",
      "14/14 [==============================] - 1s 58ms/step - loss: 5.7741e-04 - val_loss: 0.0028\n",
      "Epoch 35/100\n",
      "14/14 [==============================] - 1s 58ms/step - loss: 6.4727e-04 - val_loss: 0.0038\n",
      "Epoch 36/100\n",
      "14/14 [==============================] - 1s 73ms/step - loss: 5.7387e-04 - val_loss: 0.0046\n",
      "Epoch 37/100\n",
      "14/14 [==============================] - 1s 57ms/step - loss: 5.6708e-04 - val_loss: 0.0050\n",
      "Epoch 38/100\n",
      "14/14 [==============================] - 1s 56ms/step - loss: 5.7385e-04 - val_loss: 0.0033\n",
      "Epoch 39/100\n",
      "14/14 [==============================] - 1s 57ms/step - loss: 5.4367e-04 - val_loss: 0.0043\n",
      "Epoch 40/100\n",
      "14/14 [==============================] - 1s 56ms/step - loss: 6.0674e-04 - val_loss: 0.0022\n",
      "Epoch 41/100\n",
      "14/14 [==============================] - 1s 57ms/step - loss: 5.6933e-04 - val_loss: 0.0042\n",
      "Epoch 42/100\n",
      "14/14 [==============================] - 1s 70ms/step - loss: 5.0911e-04 - val_loss: 0.0040\n",
      "Epoch 43/100\n",
      "14/14 [==============================] - 1s 68ms/step - loss: 5.2239e-04 - val_loss: 0.0060\n",
      "Epoch 44/100\n",
      "14/14 [==============================] - 1s 58ms/step - loss: 5.6343e-04 - val_loss: 0.0023\n",
      "Epoch 45/100\n",
      "14/14 [==============================] - 1s 59ms/step - loss: 5.8352e-04 - val_loss: 0.0041\n",
      "Epoch 46/100\n",
      "14/14 [==============================] - 1s 61ms/step - loss: 5.0545e-04 - val_loss: 0.0076\n",
      "Epoch 47/100\n",
      "14/14 [==============================] - 1s 60ms/step - loss: 5.6465e-04 - val_loss: 0.0028\n",
      "Epoch 48/100\n",
      "14/14 [==============================] - 1s 56ms/step - loss: 4.9666e-04 - val_loss: 0.0028\n",
      "Epoch 49/100\n",
      "14/14 [==============================] - 1s 64ms/step - loss: 5.0573e-04 - val_loss: 0.0041\n",
      "Epoch 50/100\n",
      "14/14 [==============================] - 1s 62ms/step - loss: 4.2978e-04 - val_loss: 0.0032\n",
      "Epoch 51/100\n",
      "14/14 [==============================] - 1s 62ms/step - loss: 4.5621e-04 - val_loss: 0.0032\n",
      "Epoch 52/100\n",
      "14/14 [==============================] - 1s 60ms/step - loss: 4.3505e-04 - val_loss: 0.0042\n",
      "Epoch 53/100\n",
      "14/14 [==============================] - 1s 70ms/step - loss: 4.0335e-04 - val_loss: 0.0028\n",
      "Epoch 54/100\n",
      "14/14 [==============================] - 1s 65ms/step - loss: 4.4156e-04 - val_loss: 0.0026\n",
      "Epoch 55/100\n",
      "14/14 [==============================] - 1s 67ms/step - loss: 4.1255e-04 - val_loss: 0.0034\n",
      "Epoch 56/100\n",
      "14/14 [==============================] - 1s 57ms/step - loss: 4.6924e-04 - val_loss: 0.0061\n",
      "Epoch 57/100\n",
      "14/14 [==============================] - 1s 58ms/step - loss: 3.8786e-04 - val_loss: 0.0049\n",
      "Epoch 58/100\n",
      "14/14 [==============================] - 1s 59ms/step - loss: 3.4214e-04 - val_loss: 0.0055\n",
      "Epoch 59/100\n",
      "14/14 [==============================] - 1s 57ms/step - loss: 3.5776e-04 - val_loss: 0.0034\n",
      "Epoch 60/100\n",
      "14/14 [==============================] - 1s 73ms/step - loss: 3.2818e-04 - val_loss: 0.0032\n",
      "Epoch 61/100\n",
      "14/14 [==============================] - 1s 58ms/step - loss: 3.1508e-04 - val_loss: 0.0049\n",
      "Epoch 62/100\n",
      "14/14 [==============================] - 1s 60ms/step - loss: 3.1647e-04 - val_loss: 0.0023\n",
      "Epoch 63/100\n",
      "14/14 [==============================] - 1s 70ms/step - loss: 3.3033e-04 - val_loss: 0.0020\n",
      "Epoch 64/100\n",
      "14/14 [==============================] - 1s 89ms/step - loss: 3.2549e-04 - val_loss: 0.0046\n",
      "Epoch 65/100\n",
      "14/14 [==============================] - 1s 60ms/step - loss: 3.0004e-04 - val_loss: 0.0055\n",
      "Epoch 66/100\n",
      "14/14 [==============================] - 1s 68ms/step - loss: 3.2928e-04 - val_loss: 0.0034\n",
      "Epoch 67/100\n",
      "14/14 [==============================] - 1s 58ms/step - loss: 3.1524e-04 - val_loss: 0.0041\n",
      "Epoch 68/100\n",
      "14/14 [==============================] - 1s 56ms/step - loss: 3.2661e-04 - val_loss: 0.0033\n",
      "Epoch 69/100\n",
      "14/14 [==============================] - 1s 57ms/step - loss: 3.0761e-04 - val_loss: 0.0016\n",
      "Epoch 70/100\n",
      "14/14 [==============================] - 1s 58ms/step - loss: 3.0826e-04 - val_loss: 0.0035\n",
      "Epoch 71/100\n",
      "14/14 [==============================] - 1s 57ms/step - loss: 2.7796e-04 - val_loss: 0.0022\n",
      "Epoch 72/100\n",
      "14/14 [==============================] - 1s 55ms/step - loss: 2.9487e-04 - val_loss: 0.0018\n",
      "Epoch 73/100\n",
      "14/14 [==============================] - 1s 57ms/step - loss: 3.1884e-04 - val_loss: 0.0023\n",
      "Epoch 74/100\n",
      "14/14 [==============================] - 1s 59ms/step - loss: 2.7767e-04 - val_loss: 0.0027\n",
      "Epoch 75/100\n",
      "14/14 [==============================] - 1s 56ms/step - loss: 2.7640e-04 - val_loss: 0.0028\n",
      "Epoch 76/100\n",
      "14/14 [==============================] - 1s 57ms/step - loss: 2.7328e-04 - val_loss: 0.0033\n",
      "Epoch 77/100\n",
      "14/14 [==============================] - 1s 56ms/step - loss: 2.9980e-04 - val_loss: 0.0016\n",
      "Epoch 78/100\n",
      "14/14 [==============================] - 1s 57ms/step - loss: 4.8437e-04 - val_loss: 0.0029\n",
      "Epoch 79/100\n",
      "14/14 [==============================] - 1s 62ms/step - loss: 4.3355e-04 - val_loss: 0.0039\n",
      "Epoch 80/100\n",
      "14/14 [==============================] - 1s 60ms/step - loss: 2.7428e-04 - val_loss: 0.0047\n",
      "Epoch 81/100\n",
      "14/14 [==============================] - 1s 57ms/step - loss: 2.7734e-04 - val_loss: 0.0023\n",
      "Epoch 82/100\n",
      "14/14 [==============================] - 1s 58ms/step - loss: 2.9923e-04 - val_loss: 0.0042\n",
      "Epoch 83/100\n",
      "14/14 [==============================] - 1s 57ms/step - loss: 2.7788e-04 - val_loss: 0.0024\n",
      "Epoch 84/100\n",
      "14/14 [==============================] - 1s 57ms/step - loss: 2.6150e-04 - val_loss: 0.0024\n",
      "Epoch 85/100\n",
      "14/14 [==============================] - 1s 56ms/step - loss: 2.5690e-04 - val_loss: 0.0029\n",
      "Epoch 86/100\n",
      "14/14 [==============================] - 1s 57ms/step - loss: 2.9121e-04 - val_loss: 0.0019\n",
      "Epoch 87/100\n",
      "14/14 [==============================] - 1s 56ms/step - loss: 2.7892e-04 - val_loss: 0.0025\n",
      "Epoch 88/100\n",
      "14/14 [==============================] - 1s 56ms/step - loss: 2.5221e-04 - val_loss: 0.0024\n",
      "Epoch 89/100\n",
      "14/14 [==============================] - 1s 56ms/step - loss: 2.7020e-04 - val_loss: 0.0039\n",
      "Epoch 90/100\n",
      "14/14 [==============================] - 1s 58ms/step - loss: 2.6983e-04 - val_loss: 0.0022\n",
      "Epoch 91/100\n",
      "14/14 [==============================] - 1s 56ms/step - loss: 2.4713e-04 - val_loss: 0.0020\n",
      "Epoch 92/100\n",
      "14/14 [==============================] - 1s 56ms/step - loss: 2.4423e-04 - val_loss: 0.0015\n",
      "Epoch 93/100\n",
      "14/14 [==============================] - 1s 57ms/step - loss: 2.7034e-04 - val_loss: 0.0011\n",
      "Epoch 94/100\n",
      "14/14 [==============================] - 1s 74ms/step - loss: 2.8302e-04 - val_loss: 0.0010\n",
      "Epoch 95/100\n",
      "14/14 [==============================] - 1s 57ms/step - loss: 3.2488e-04 - val_loss: 0.0014\n",
      "Epoch 96/100\n",
      "14/14 [==============================] - 1s 57ms/step - loss: 2.5282e-04 - val_loss: 0.0014\n",
      "Epoch 97/100\n",
      "14/14 [==============================] - 1s 57ms/step - loss: 2.6193e-04 - val_loss: 0.0015\n",
      "Epoch 98/100\n",
      "14/14 [==============================] - 1s 57ms/step - loss: 2.3984e-04 - val_loss: 0.0012\n",
      "Epoch 99/100\n",
      "14/14 [==============================] - 1s 56ms/step - loss: 2.7312e-04 - val_loss: 0.0010\n",
      "Epoch 100/100\n",
      "14/14 [==============================] - 1s 62ms/step - loss: 3.5168e-04 - val_loss: 0.0011\n"
     ]
    },
    {
     "data": {
      "text/plain": "<keras.callbacks.History at 0x2503b313f70>"
     },
     "execution_count": 8,
     "metadata": {},
     "output_type": "execute_result"
    }
   ],
   "source": [
    "# 9. Fit mô hình với dữ liệu train\n",
    "model.fit(X_train, y_train, validation_data=(X_test, y_test), epochs=100, batch_size=64, verbose=1)"
   ],
   "metadata": {
    "collapsed": false,
    "ExecuteTime": {
     "end_time": "2024-05-28T14:50:49.502679Z",
     "start_time": "2024-05-28T14:49:19.478599400Z"
    }
   }
  },
  {
   "cell_type": "code",
   "execution_count": 9,
   "outputs": [
    {
     "name": "stdout",
     "output_type": "stream",
     "text": [
      "11/11 [==============================] - 2s 11ms/step\n"
     ]
    }
   ],
   "source": [
    "# 10. Dự báo dữ liệu test\n",
    "y_pred = model.predict(X_test)"
   ],
   "metadata": {
    "collapsed": false,
    "ExecuteTime": {
     "end_time": "2024-05-28T14:52:04.353638600Z",
     "start_time": "2024-05-28T14:52:02.273380100Z"
    }
   }
  },
  {
   "cell_type": "code",
   "execution_count": 10,
   "outputs": [],
   "source": [
    "# 11. Inverse transform dự báo và dữ liệu thực tế\n",
    "y_pred_new = scaler.inverse_transform(y_pred)\n",
    "y_test_new = scaler.inverse_transform(y_test.reshape(-1, 1))"
   ],
   "metadata": {
    "collapsed": false,
    "ExecuteTime": {
     "end_time": "2024-05-28T14:52:05.972886800Z",
     "start_time": "2024-05-28T14:52:05.957841300Z"
    }
   }
  },
  {
   "cell_type": "code",
   "execution_count": 11,
   "outputs": [
    {
     "name": "stdout",
     "output_type": "stream",
     "text": [
      "RMSE trên tập test là: 3096.390045934269\n",
      "MAPE trên tập test là: 2.7475088553534537 %\n",
      "MSLE trên tập test là: 0.001246082225774487\n"
     ]
    }
   ],
   "source": [
    "from sklearn.metrics import mean_squared_log_error\n",
    "\n",
    "# Tính toán RMSE, MAE và MAPE trên tập test\n",
    "test_score_rmse = np.sqrt(mean_squared_error(y_test_new, y_pred_new))\n",
    "test_score_mape = mean_absolute_percentage_error(y_test_new, y_pred_new) * 100\n",
    "test_score_msle = mean_squared_log_error(y_test_new, y_pred_new)\n",
    "\n",
    "print('RMSE trên tập test là:', test_score_rmse)\n",
    "print('MAPE trên tập test là:', test_score_mape, '%')\n",
    "print('MSLE trên tập test là:', test_score_msle)"
   ],
   "metadata": {
    "collapsed": false,
    "ExecuteTime": {
     "end_time": "2024-05-28T14:52:07.205163800Z",
     "start_time": "2024-05-28T14:52:07.187169300Z"
    }
   }
  },
  {
   "cell_type": "code",
   "execution_count": 12,
   "outputs": [],
   "source": [
    "# 13. Dự báo 30 ngày tiếp theo\n",
    "x_input = test_data[len(test_data) - time_step:].reshape(1, -1)\n",
    "temp_input = list(x_input)\n",
    "temp_input = temp_input[0].tolist()\n",
    "\n",
    "lst_output = []\n",
    "i = 0\n",
    "while i < 30:\n",
    "    if len(temp_input) > time_step:\n",
    "        x_input = np.array(temp_input[1:])\n",
    "        x_input = x_input.reshape(1, -1)\n",
    "        x_input = x_input.reshape((1, time_step, 1))\n",
    "        yhat = model.predict(x_input, verbose=0)\n",
    "        temp_input.extend(yhat[0].tolist())\n",
    "        temp_input = temp_input[1:]\n",
    "        lst_output.extend(yhat.tolist())\n",
    "        i += 1\n",
    "    else:\n",
    "        x_input = x_input.reshape((1, time_step, 1))\n",
    "        yhat = model.predict(x_input, verbose=0)\n",
    "        temp_input.extend(yhat[0].tolist())\n",
    "        lst_output.extend(yhat.tolist())\n",
    "        i += 1"
   ],
   "metadata": {
    "collapsed": false,
    "ExecuteTime": {
     "end_time": "2024-05-28T14:52:22.246638900Z",
     "start_time": "2024-05-28T14:52:19.799016600Z"
    }
   }
  },
  {
   "cell_type": "code",
   "execution_count": 13,
   "outputs": [
    {
     "data": {
      "text/plain": "<Figure size 1200x600 with 1 Axes>",
      "image/png": "[encoded data removed]"
     },
     "metadata": {},
     "output_type": "display_data"
    }
   ],
   "source": [
    "# 14. Vẽ hình\n",
    "plt.figure(figsize=(12, 6))\n",
    "plt.plot(scaler.inverse_transform(df1), label='Train')\n",
    "test_data_index = pd.RangeIndex(start=train_size, stop=train_size + test_size, step=1)\n",
    "plt.plot(test_data_index, scaler.inverse_transform(test_data), label='Actual Test')\n",
    "test_pred_index = pd.RangeIndex(start=train_size + time_step, stop=train_size + test_size - 1, step=1)\n",
    "plt.plot(test_pred_index, scaler.inverse_transform(y_pred), label='Predicted Test')\n",
    "predict_data_index = pd.RangeIndex(start=len(df1), stop=len(df1) + 30, step=1)\n",
    "plt.plot(predict_data_index, scaler.inverse_transform(lst_output), label='Next 30 days')\n",
    "plt.xlabel('Time')\n",
    "plt.ylabel('Price')\n",
    "plt.legend()\n",
    "plt.show()"
   ],
   "metadata": {
    "collapsed": false,
    "ExecuteTime": {
     "end_time": "2024-05-28T14:52:31.043771Z",
     "start_time": "2024-05-28T14:52:30.805673800Z"
    }
   }
  },
  {
   "cell_type": "markdown",
   "source": [
    "# (Split 8/2)"
   ],
   "metadata": {
    "collapsed": false
   }
  },
  {
   "cell_type": "code",
   "execution_count": 14,
   "outputs": [],
   "source": [
    "# 1. Import thư viện cần thiết\n",
    "import numpy as np\n",
    "import pandas as pd\n",
    "import matplotlib.pyplot as plt\n",
    "from sklearn.preprocessing import MinMaxScaler\n",
    "from keras.models import Sequential\n",
    "from keras.layers import Dense, LSTM\n",
    "from sklearn.metrics import mean_squared_error, mean_absolute_percentage_error\n",
    "\n",
    "# 2. Đọc file csv và gắn index với giá Close\n",
    "data = pd.read_csv('D:\\\\Workspace\\\\23-24_HK2\\\\IS403-PTDLKD\\\\Thuc-hanh\\\\Lab 4\\\\fpt_data_sheet.csv', index_col='time', parse_dates=True)\n",
    "data=data.drop(columns=['open', 'high', 'low', 'volume','ticker'])\n",
    "data = data.reset_index(drop=True)\n",
    "df1 = data.reset_index()['close']"
   ],
   "metadata": {
    "collapsed": false,
    "ExecuteTime": {
     "end_time": "2024-05-28T14:53:23.221255800Z",
     "start_time": "2024-05-28T14:53:23.189975500Z"
    }
   }
  },
  {
   "cell_type": "code",
   "execution_count": 15,
   "outputs": [],
   "source": [
    "# 3. Scaler data\n",
    "scaler = MinMaxScaler(feature_range=(0, 1))\n",
    "df1 = scaler.fit_transform(np.array(df1).reshape(-1, 1))"
   ],
   "metadata": {
    "collapsed": false,
    "ExecuteTime": {
     "end_time": "2024-05-28T14:53:45.526201Z",
     "start_time": "2024-05-28T14:53:45.494608100Z"
    }
   }
  },
  {
   "cell_type": "code",
   "execution_count": 16,
   "outputs": [],
   "source": [
    "# 4. Chia train test\n",
    "train_size = int(0.8 * len(df1))\n",
    "test_size = len(df1) - train_size\n",
    "\n",
    "train_data = df1[:train_size]\n",
    "test_data = df1[train_size:]"
   ],
   "metadata": {
    "collapsed": false,
    "ExecuteTime": {
     "end_time": "2024-05-28T14:54:04.096894Z",
     "start_time": "2024-05-28T14:54:04.078891800Z"
    }
   }
  },
  {
   "cell_type": "code",
   "execution_count": 17,
   "outputs": [],
   "source": [
    "# 5. Hàm Create Dataset\n",
    "def create_dataset(dataset, time_step=1):\n",
    "    dataX, dataY = [], []\n",
    "    for i in range(len(dataset) - time_step - 1):\n",
    "        a = dataset[i:(i + time_step), 0]\n",
    "        dataX.append(a)\n",
    "        dataY.append(dataset[i + time_step, 0])\n",
    "    return np.array(dataX), np.array(dataY)"
   ],
   "metadata": {
    "collapsed": false,
    "ExecuteTime": {
     "end_time": "2024-05-28T14:54:19.858878Z",
     "start_time": "2024-05-28T14:54:19.853777800Z"
    }
   }
  },
  {
   "cell_type": "code",
   "execution_count": 18,
   "outputs": [],
   "source": [
    "# 6. Reshape into X=t,t+1,t+2..t+99 and Y=t+100\n",
    "time_step = 30\n",
    "X_train, y_train = create_dataset(train_data, time_step)\n",
    "X_test, y_test = create_dataset(test_data, time_step)"
   ],
   "metadata": {
    "collapsed": false,
    "ExecuteTime": {
     "end_time": "2024-05-28T14:54:35.348902700Z",
     "start_time": "2024-05-28T14:54:35.325482200Z"
    }
   }
  },
  {
   "cell_type": "code",
   "execution_count": 19,
   "outputs": [],
   "source": [
    "# 7. Reshape input to be [samples, time steps, features] which is required for LSTM\n",
    "X_train = X_train.reshape(X_train.shape[0], X_train.shape[1], 1)\n",
    "X_test = X_test.reshape(X_test.shape[0], X_test.shape[1], 1)"
   ],
   "metadata": {
    "collapsed": false,
    "ExecuteTime": {
     "end_time": "2024-05-28T14:54:45.315717400Z",
     "start_time": "2024-05-28T14:54:45.254296100Z"
    }
   }
  },
  {
   "cell_type": "code",
   "execution_count": 20,
   "outputs": [],
   "source": [
    "# 8. Define LSTM Model\n",
    "model = Sequential()\n",
    "model.add(LSTM(50, return_sequences=True, input_shape=(time_step, 1)))\n",
    "model.add(LSTM(50, return_sequences=True))\n",
    "model.add(LSTM(50))\n",
    "model.add(Dense(1))\n",
    "model.compile(loss='mean_squared_error', optimizer='adam')"
   ],
   "metadata": {
    "collapsed": false,
    "ExecuteTime": {
     "end_time": "2024-05-28T14:55:00.120838100Z",
     "start_time": "2024-05-28T14:54:58.918711500Z"
    }
   }
  },
  {
   "cell_type": "code",
   "execution_count": 21,
   "outputs": [
    {
     "name": "stdout",
     "output_type": "stream",
     "text": [
      "Epoch 1/100\n",
      "16/16 [==============================] - 10s 143ms/step - loss: 0.0376 - val_loss: 0.0740\n",
      "Epoch 2/100\n",
      "16/16 [==============================] - 1s 42ms/step - loss: 0.0054 - val_loss: 0.0114\n",
      "Epoch 3/100\n",
      "16/16 [==============================] - 1s 41ms/step - loss: 0.0011 - val_loss: 0.0049\n",
      "Epoch 4/100\n",
      "16/16 [==============================] - 1s 41ms/step - loss: 8.7385e-04 - val_loss: 0.0058\n",
      "Epoch 5/100\n",
      "16/16 [==============================] - 1s 42ms/step - loss: 7.5365e-04 - val_loss: 0.0055\n",
      "Epoch 6/100\n",
      "16/16 [==============================] - 1s 41ms/step - loss: 7.5212e-04 - val_loss: 0.0054\n",
      "Epoch 7/100\n",
      "16/16 [==============================] - 1s 41ms/step - loss: 7.2147e-04 - val_loss: 0.0057\n",
      "Epoch 8/100\n",
      "16/16 [==============================] - 1s 40ms/step - loss: 7.0068e-04 - val_loss: 0.0050\n",
      "Epoch 9/100\n",
      "16/16 [==============================] - 1s 41ms/step - loss: 7.0691e-04 - val_loss: 0.0060\n",
      "Epoch 10/100\n",
      "16/16 [==============================] - 1s 41ms/step - loss: 6.9634e-04 - val_loss: 0.0063\n",
      "Epoch 11/100\n",
      "16/16 [==============================] - 1s 42ms/step - loss: 6.7764e-04 - val_loss: 0.0052\n",
      "Epoch 12/100\n",
      "16/16 [==============================] - 1s 41ms/step - loss: 6.8213e-04 - val_loss: 0.0056\n",
      "Epoch 13/100\n",
      "16/16 [==============================] - 1s 40ms/step - loss: 6.5045e-04 - val_loss: 0.0074\n",
      "Epoch 14/100\n",
      "16/16 [==============================] - 1s 41ms/step - loss: 6.3958e-04 - val_loss: 0.0043\n",
      "Epoch 15/100\n",
      "16/16 [==============================] - 1s 41ms/step - loss: 7.3875e-04 - val_loss: 0.0112\n",
      "Epoch 16/100\n",
      "16/16 [==============================] - 1s 42ms/step - loss: 7.4952e-04 - val_loss: 0.0054\n",
      "Epoch 17/100\n",
      "16/16 [==============================] - 1s 42ms/step - loss: 6.3933e-04 - val_loss: 0.0086\n",
      "Epoch 18/100\n",
      "16/16 [==============================] - 1s 42ms/step - loss: 6.2778e-04 - val_loss: 0.0047\n",
      "Epoch 19/100\n",
      "16/16 [==============================] - 1s 41ms/step - loss: 6.3389e-04 - val_loss: 0.0080\n",
      "Epoch 20/100\n",
      "16/16 [==============================] - 1s 41ms/step - loss: 6.0151e-04 - val_loss: 0.0108\n",
      "Epoch 21/100\n",
      "16/16 [==============================] - 1s 41ms/step - loss: 6.3735e-04 - val_loss: 0.0069\n",
      "Epoch 22/100\n",
      "16/16 [==============================] - 1s 44ms/step - loss: 5.6369e-04 - val_loss: 0.0083\n",
      "Epoch 23/100\n",
      "16/16 [==============================] - 1s 42ms/step - loss: 5.4991e-04 - val_loss: 0.0089\n",
      "Epoch 24/100\n",
      "16/16 [==============================] - 1s 42ms/step - loss: 5.3689e-04 - val_loss: 0.0049\n",
      "Epoch 25/100\n",
      "16/16 [==============================] - 1s 52ms/step - loss: 5.7266e-04 - val_loss: 0.0066\n",
      "Epoch 26/100\n",
      "16/16 [==============================] - 1s 47ms/step - loss: 5.0298e-04 - val_loss: 0.0060\n",
      "Epoch 27/100\n",
      "16/16 [==============================] - 1s 46ms/step - loss: 4.7872e-04 - val_loss: 0.0057\n",
      "Epoch 28/100\n",
      "16/16 [==============================] - 1s 44ms/step - loss: 4.7329e-04 - val_loss: 0.0037\n",
      "Epoch 29/100\n",
      "16/16 [==============================] - 1s 43ms/step - loss: 5.4377e-04 - val_loss: 0.0060\n",
      "Epoch 30/100\n",
      "16/16 [==============================] - 1s 45ms/step - loss: 4.8522e-04 - val_loss: 0.0070\n",
      "Epoch 31/100\n",
      "16/16 [==============================] - 1s 44ms/step - loss: 4.3706e-04 - val_loss: 0.0062\n",
      "Epoch 32/100\n",
      "16/16 [==============================] - 1s 45ms/step - loss: 4.4973e-04 - val_loss: 0.0079\n",
      "Epoch 33/100\n",
      "16/16 [==============================] - 1s 42ms/step - loss: 4.5095e-04 - val_loss: 0.0079\n",
      "Epoch 34/100\n",
      "16/16 [==============================] - 1s 48ms/step - loss: 4.2340e-04 - val_loss: 0.0031\n",
      "Epoch 35/100\n",
      "16/16 [==============================] - 1s 43ms/step - loss: 4.3536e-04 - val_loss: 0.0055\n",
      "Epoch 36/100\n",
      "16/16 [==============================] - 1s 62ms/step - loss: 3.5771e-04 - val_loss: 0.0042\n",
      "Epoch 37/100\n",
      "16/16 [==============================] - 1s 43ms/step - loss: 3.5023e-04 - val_loss: 0.0060\n",
      "Epoch 38/100\n",
      "16/16 [==============================] - 1s 43ms/step - loss: 3.2168e-04 - val_loss: 0.0051\n",
      "Epoch 39/100\n",
      "16/16 [==============================] - 1s 44ms/step - loss: 3.3674e-04 - val_loss: 0.0053\n",
      "Epoch 40/100\n",
      "16/16 [==============================] - 1s 43ms/step - loss: 3.1867e-04 - val_loss: 0.0035\n",
      "Epoch 41/100\n",
      "16/16 [==============================] - 1s 43ms/step - loss: 3.1466e-04 - val_loss: 0.0056\n",
      "Epoch 42/100\n",
      "16/16 [==============================] - 1s 42ms/step - loss: 3.0958e-04 - val_loss: 0.0028\n",
      "Epoch 43/100\n",
      "16/16 [==============================] - 1s 42ms/step - loss: 3.6121e-04 - val_loss: 0.0053\n",
      "Epoch 44/100\n",
      "16/16 [==============================] - 1s 42ms/step - loss: 2.9470e-04 - val_loss: 0.0062\n",
      "Epoch 45/100\n",
      "16/16 [==============================] - 1s 45ms/step - loss: 3.1186e-04 - val_loss: 0.0024\n",
      "Epoch 46/100\n",
      "16/16 [==============================] - 1s 42ms/step - loss: 3.0604e-04 - val_loss: 0.0036\n",
      "Epoch 47/100\n",
      "16/16 [==============================] - 1s 43ms/step - loss: 2.9696e-04 - val_loss: 0.0030\n",
      "Epoch 48/100\n",
      "16/16 [==============================] - 1s 45ms/step - loss: 3.0079e-04 - val_loss: 0.0024\n",
      "Epoch 49/100\n",
      "16/16 [==============================] - 1s 43ms/step - loss: 3.5020e-04 - val_loss: 0.0063\n",
      "Epoch 50/100\n",
      "16/16 [==============================] - 1s 44ms/step - loss: 3.1385e-04 - val_loss: 0.0034\n",
      "Epoch 51/100\n",
      "16/16 [==============================] - 1s 45ms/step - loss: 2.8977e-04 - val_loss: 0.0031\n",
      "Epoch 52/100\n",
      "16/16 [==============================] - 1s 43ms/step - loss: 3.1604e-04 - val_loss: 0.0055\n",
      "Epoch 53/100\n",
      "16/16 [==============================] - 1s 42ms/step - loss: 3.0411e-04 - val_loss: 0.0034\n",
      "Epoch 54/100\n",
      "16/16 [==============================] - 1s 43ms/step - loss: 2.9178e-04 - val_loss: 0.0016\n",
      "Epoch 55/100\n",
      "16/16 [==============================] - 1s 44ms/step - loss: 3.2439e-04 - val_loss: 0.0019\n",
      "Epoch 56/100\n",
      "16/16 [==============================] - 1s 42ms/step - loss: 2.8877e-04 - val_loss: 0.0035\n",
      "Epoch 57/100\n",
      "16/16 [==============================] - 1s 42ms/step - loss: 2.8571e-04 - val_loss: 0.0031\n",
      "Epoch 58/100\n",
      "16/16 [==============================] - 1s 43ms/step - loss: 2.6839e-04 - val_loss: 0.0011\n",
      "Epoch 59/100\n",
      "16/16 [==============================] - 1s 43ms/step - loss: 2.8043e-04 - val_loss: 0.0015\n",
      "Epoch 60/100\n",
      "16/16 [==============================] - 1s 43ms/step - loss: 2.7492e-04 - val_loss: 0.0035\n",
      "Epoch 61/100\n",
      "16/16 [==============================] - 1s 43ms/step - loss: 2.6020e-04 - val_loss: 0.0013\n",
      "Epoch 62/100\n",
      "16/16 [==============================] - 1s 42ms/step - loss: 2.8229e-04 - val_loss: 0.0022\n",
      "Epoch 63/100\n",
      "16/16 [==============================] - 1s 42ms/step - loss: 2.4892e-04 - val_loss: 0.0022\n",
      "Epoch 64/100\n",
      "16/16 [==============================] - 1s 47ms/step - loss: 2.4759e-04 - val_loss: 0.0013\n",
      "Epoch 65/100\n",
      "16/16 [==============================] - 1s 43ms/step - loss: 2.6092e-04 - val_loss: 0.0043\n",
      "Epoch 66/100\n",
      "16/16 [==============================] - 1s 43ms/step - loss: 2.9170e-04 - val_loss: 0.0024\n",
      "Epoch 67/100\n",
      "16/16 [==============================] - 1s 43ms/step - loss: 2.5088e-04 - val_loss: 0.0025\n",
      "Epoch 68/100\n",
      "16/16 [==============================] - 1s 43ms/step - loss: 2.4635e-04 - val_loss: 0.0013\n",
      "Epoch 69/100\n",
      "16/16 [==============================] - 1s 43ms/step - loss: 2.8277e-04 - val_loss: 0.0019\n",
      "Epoch 70/100\n",
      "16/16 [==============================] - 1s 42ms/step - loss: 2.6111e-04 - val_loss: 0.0012\n",
      "Epoch 71/100\n",
      "16/16 [==============================] - 1s 43ms/step - loss: 2.3954e-04 - val_loss: 0.0017\n",
      "Epoch 72/100\n",
      "16/16 [==============================] - 1s 42ms/step - loss: 2.3852e-04 - val_loss: 0.0017\n",
      "Epoch 73/100\n",
      "16/16 [==============================] - 1s 44ms/step - loss: 2.3699e-04 - val_loss: 0.0015\n",
      "Epoch 74/100\n",
      "16/16 [==============================] - 1s 43ms/step - loss: 2.4199e-04 - val_loss: 0.0015\n",
      "Epoch 75/100\n",
      "16/16 [==============================] - 1s 42ms/step - loss: 2.5865e-04 - val_loss: 0.0011\n",
      "Epoch 76/100\n",
      "16/16 [==============================] - 1s 42ms/step - loss: 2.4583e-04 - val_loss: 0.0014\n",
      "Epoch 77/100\n",
      "16/16 [==============================] - 1s 42ms/step - loss: 2.3115e-04 - val_loss: 0.0013\n",
      "Epoch 78/100\n",
      "16/16 [==============================] - 1s 42ms/step - loss: 2.4490e-04 - val_loss: 0.0023\n",
      "Epoch 79/100\n",
      "16/16 [==============================] - 1s 43ms/step - loss: 2.4840e-04 - val_loss: 0.0015\n",
      "Epoch 80/100\n",
      "16/16 [==============================] - 1s 43ms/step - loss: 2.6158e-04 - val_loss: 0.0021\n",
      "Epoch 81/100\n",
      "16/16 [==============================] - 1s 43ms/step - loss: 2.2999e-04 - val_loss: 0.0050\n",
      "Epoch 82/100\n",
      "16/16 [==============================] - 1s 43ms/step - loss: 4.3228e-04 - val_loss: 6.0036e-04\n",
      "Epoch 83/100\n",
      "16/16 [==============================] - 1s 45ms/step - loss: 3.5843e-04 - val_loss: 0.0030\n",
      "Epoch 84/100\n",
      "16/16 [==============================] - 1s 42ms/step - loss: 2.4741e-04 - val_loss: 0.0018\n",
      "Epoch 85/100\n",
      "16/16 [==============================] - 1s 43ms/step - loss: 2.3795e-04 - val_loss: 8.9949e-04\n",
      "Epoch 86/100\n",
      "16/16 [==============================] - 1s 45ms/step - loss: 2.7237e-04 - val_loss: 0.0027\n",
      "Epoch 87/100\n",
      "16/16 [==============================] - 1s 47ms/step - loss: 2.3780e-04 - val_loss: 0.0011\n",
      "Epoch 88/100\n",
      "16/16 [==============================] - 1s 47ms/step - loss: 2.4618e-04 - val_loss: 0.0014\n",
      "Epoch 89/100\n",
      "16/16 [==============================] - 1s 45ms/step - loss: 2.2759e-04 - val_loss: 0.0025\n",
      "Epoch 90/100\n",
      "16/16 [==============================] - 1s 48ms/step - loss: 2.3368e-04 - val_loss: 0.0017\n",
      "Epoch 91/100\n",
      "16/16 [==============================] - 1s 45ms/step - loss: 2.2159e-04 - val_loss: 0.0014\n",
      "Epoch 92/100\n",
      "16/16 [==============================] - 1s 42ms/step - loss: 2.1477e-04 - val_loss: 0.0027\n",
      "Epoch 93/100\n",
      "16/16 [==============================] - 1s 45ms/step - loss: 2.4463e-04 - val_loss: 0.0016\n",
      "Epoch 94/100\n",
      "16/16 [==============================] - 1s 43ms/step - loss: 2.4214e-04 - val_loss: 0.0028\n",
      "Epoch 95/100\n",
      "16/16 [==============================] - 1s 42ms/step - loss: 2.6124e-04 - val_loss: 7.1821e-04\n",
      "Epoch 96/100\n",
      "16/16 [==============================] - 1s 44ms/step - loss: 2.7134e-04 - val_loss: 0.0023\n",
      "Epoch 97/100\n",
      "16/16 [==============================] - 1s 44ms/step - loss: 2.2305e-04 - val_loss: 0.0023\n",
      "Epoch 98/100\n",
      "16/16 [==============================] - 1s 45ms/step - loss: 2.3252e-04 - val_loss: 0.0010\n",
      "Epoch 99/100\n",
      "16/16 [==============================] - 1s 43ms/step - loss: 2.3392e-04 - val_loss: 0.0026\n",
      "Epoch 100/100\n",
      "16/16 [==============================] - 1s 42ms/step - loss: 2.4046e-04 - val_loss: 0.0024\n"
     ]
    },
    {
     "data": {
      "text/plain": "<keras.callbacks.History at 0x2504a2d3490>"
     },
     "execution_count": 21,
     "metadata": {},
     "output_type": "execute_result"
    }
   ],
   "source": [
    "# 9. Fit mô hình với dữ liệu train\n",
    "model.fit(X_train, y_train, validation_data=(X_test, y_test), epochs=100, batch_size=64, verbose=1)"
   ],
   "metadata": {
    "collapsed": false,
    "ExecuteTime": {
     "end_time": "2024-05-28T14:56:30.102897700Z",
     "start_time": "2024-05-28T14:55:12.041395900Z"
    }
   }
  },
  {
   "cell_type": "code",
   "execution_count": 22,
   "outputs": [
    {
     "name": "stdout",
     "output_type": "stream",
     "text": [
      "7/7 [==============================] - 2s 10ms/step\n"
     ]
    }
   ],
   "source": [
    "# 10. Dự báo dữ liệu test\n",
    "y_pred = model.predict(X_test)"
   ],
   "metadata": {
    "collapsed": false,
    "ExecuteTime": {
     "end_time": "2024-05-28T14:56:50.591406800Z",
     "start_time": "2024-05-28T14:56:48.662794700Z"
    }
   }
  },
  {
   "cell_type": "code",
   "execution_count": 23,
   "outputs": [],
   "source": [
    "# 11. Inverse transform dự báo và dữ liệu thực tế\n",
    "y_pred_new = scaler.inverse_transform(y_pred)\n",
    "y_test_new = scaler.inverse_transform(y_test.reshape(-1, 1))"
   ],
   "metadata": {
    "collapsed": false,
    "ExecuteTime": {
     "end_time": "2024-05-28T14:56:51.494533700Z",
     "start_time": "2024-05-28T14:56:51.483432Z"
    }
   }
  },
  {
   "cell_type": "code",
   "execution_count": 24,
   "outputs": [
    {
     "name": "stdout",
     "output_type": "stream",
     "text": [
      "RMSE trên tập test là: 4524.789514248941\n",
      "MAPE trên tập test là: 4.131064562987323 %\n",
      "MSLE trên tập test là: 0.0024351010391185945\n"
     ]
    }
   ],
   "source": [
    "from sklearn.metrics import mean_squared_log_error\n",
    "\n",
    "# Tính toán RMSE, MAE và MAPE trên tập test\n",
    "test_score_rmse = np.sqrt(mean_squared_error(y_test_new, y_pred_new))\n",
    "test_score_mape = mean_absolute_percentage_error(y_test_new, y_pred_new) * 100\n",
    "test_score_msle = mean_squared_log_error(y_test_new, y_pred_new)\n",
    "\n",
    "print('RMSE trên tập test là:', test_score_rmse)\n",
    "print('MAPE trên tập test là:', test_score_mape, '%')\n",
    "print('MSLE trên tập test là:', test_score_msle)"
   ],
   "metadata": {
    "collapsed": false,
    "ExecuteTime": {
     "end_time": "2024-05-28T14:56:52.303265700Z",
     "start_time": "2024-05-28T14:56:52.256388100Z"
    }
   }
  },
  {
   "cell_type": "code",
   "execution_count": 25,
   "outputs": [],
   "source": [
    "# 13. Dự báo 30 ngày tiếp theo\n",
    "x_input = test_data[len(test_data) - time_step:].reshape(1, -1)\n",
    "temp_input = list(x_input)\n",
    "temp_input = temp_input[0].tolist()\n",
    "\n",
    "lst_output = []\n",
    "i = 0\n",
    "while i < 30:\n",
    "    if len(temp_input) > time_step:\n",
    "        x_input = np.array(temp_input[1:])\n",
    "        x_input = x_input.reshape(1, -1)\n",
    "        x_input = x_input.reshape((1, time_step, 1))\n",
    "        yhat = model.predict(x_input, verbose=0)\n",
    "        temp_input.extend(yhat[0].tolist())\n",
    "        temp_input = temp_input[1:]\n",
    "        lst_output.extend(yhat.tolist())\n",
    "        i += 1\n",
    "    else:\n",
    "        x_input = x_input.reshape((1, time_step, 1))\n",
    "        yhat = model.predict(x_input, verbose=0)\n",
    "        temp_input.extend(yhat[0].tolist())\n",
    "        lst_output.extend(yhat.tolist())\n",
    "        i += 1"
   ],
   "metadata": {
    "collapsed": false,
    "ExecuteTime": {
     "end_time": "2024-05-28T14:57:12.986620Z",
     "start_time": "2024-05-28T14:57:10.872785900Z"
    }
   }
  },
  {
   "cell_type": "code",
   "execution_count": 26,
   "outputs": [
    {
     "data": {
      "text/plain": "<Figure size 1200x600 with 1 Axes>",
      "image/png": "[encoded data removed]"
     },
     "metadata": {},
     "output_type": "display_data"
    }
   ],
   "source": [
    "# 14. Vẽ hình\n",
    "plt.figure(figsize=(12, 6))\n",
    "plt.plot(scaler.inverse_transform(df1), label='Train')\n",
    "test_data_index = pd.RangeIndex(start=train_size, stop=train_size + test_size, step=1)\n",
    "plt.plot(test_data_index, scaler.inverse_transform(test_data), label='Actual Test')\n",
    "test_pred_index = pd.RangeIndex(start=train_size + time_step, stop=train_size + test_size - 1, step=1)\n",
    "plt.plot(test_pred_index, scaler.inverse_transform(y_pred), label='Predicted Test')\n",
    "predict_data_index = pd.RangeIndex(start=len(df1), stop=len(df1) + 30, step=1)\n",
    "plt.plot(predict_data_index, scaler.inverse_transform(lst_output), label='Next 30 days')\n",
    "plt.xlabel('Time')\n",
    "plt.ylabel('Price')\n",
    "plt.legend()\n",
    "plt.show()"
   ],
   "metadata": {
    "collapsed": false,
    "ExecuteTime": {
     "end_time": "2024-05-28T14:57:26.410783500Z",
     "start_time": "2024-05-28T14:57:26.214163600Z"
    }
   }
  },
  {
   "cell_type": "markdown",
   "source": [
    "# (Split 9/1)"
   ],
   "metadata": {
    "collapsed": false
   }
  },
  {
   "cell_type": "code",
   "execution_count": 27,
   "outputs": [],
   "source": [
    "# 1. Import thư viện cần thiết\n",
    "import numpy as np\n",
    "import pandas as pd\n",
    "import matplotlib.pyplot as plt\n",
    "from sklearn.preprocessing import MinMaxScaler\n",
    "from keras.models import Sequential\n",
    "from keras.layers import Dense, LSTM\n",
    "from sklearn.metrics import mean_squared_error, mean_absolute_percentage_error\n",
    "\n",
    "# 2. Đọc file csv và gắn index với giá Close\n",
    "data = pd.read_csv('D:\\\\Workspace\\\\23-24_HK2\\\\IS403-PTDLKD\\\\Thuc-hanh\\\\Lab 4\\\\fpt_data_sheet.csv', index_col='time', parse_dates=True)\n",
    "data=data.drop(columns=['open', 'high', 'low', 'volume','ticker'])\n",
    "data = data.reset_index(drop=True)\n",
    "df1 = data.reset_index()['close']"
   ],
   "metadata": {
    "collapsed": false,
    "ExecuteTime": {
     "end_time": "2024-05-28T15:04:52.836836400Z",
     "start_time": "2024-05-28T15:04:52.774027800Z"
    }
   }
  },
  {
   "cell_type": "code",
   "execution_count": 28,
   "outputs": [],
   "source": [
    "# 3. Scaler data\n",
    "scaler = MinMaxScaler(feature_range=(0, 1))\n",
    "df1 = scaler.fit_transform(np.array(df1).reshape(-1, 1))"
   ],
   "metadata": {
    "collapsed": false,
    "ExecuteTime": {
     "end_time": "2024-05-28T15:05:06.808057600Z",
     "start_time": "2024-05-28T15:05:06.792414300Z"
    }
   }
  },
  {
   "cell_type": "code",
   "execution_count": 29,
   "outputs": [],
   "source": [
    "# 4. Chia train test\n",
    "train_size = int(0.9 * len(df1))\n",
    "test_size = len(df1) - train_size\n",
    "\n",
    "train_data = df1[:train_size]\n",
    "test_data = df1[train_size:]"
   ],
   "metadata": {
    "collapsed": false,
    "ExecuteTime": {
     "end_time": "2024-05-28T15:06:59.555402800Z",
     "start_time": "2024-05-28T15:06:59.518911500Z"
    }
   }
  },
  {
   "cell_type": "code",
   "execution_count": 30,
   "outputs": [],
   "source": [
    "# 5. Hàm Create Dataset\n",
    "def create_dataset(dataset, time_step=1):\n",
    "    dataX, dataY = [], []\n",
    "    for i in range(len(dataset) - time_step - 1):\n",
    "        a = dataset[i:(i + time_step), 0]\n",
    "        dataX.append(a)\n",
    "        dataY.append(dataset[i + time_step, 0])\n",
    "    return np.array(dataX), np.array(dataY)"
   ],
   "metadata": {
    "collapsed": false,
    "ExecuteTime": {
     "end_time": "2024-05-28T15:07:02.138963100Z",
     "start_time": "2024-05-28T15:07:02.095951400Z"
    }
   }
  },
  {
   "cell_type": "code",
   "execution_count": 31,
   "outputs": [],
   "source": [
    "# 6. Reshape into X=t,t+1,t+2..t+99 and Y=t+100\n",
    "time_step = 30\n",
    "X_train, y_train = create_dataset(train_data, time_step)\n",
    "X_test, y_test = create_dataset(test_data, time_step)"
   ],
   "metadata": {
    "collapsed": false,
    "ExecuteTime": {
     "end_time": "2024-05-28T15:07:21.939300200Z",
     "start_time": "2024-05-28T15:07:21.893050600Z"
    }
   }
  },
  {
   "cell_type": "code",
   "execution_count": 32,
   "outputs": [],
   "source": [
    "# 7. Reshape input to be [samples, time steps, features] which is required for LSTM\n",
    "X_train = X_train.reshape(X_train.shape[0], X_train.shape[1], 1)\n",
    "X_test = X_test.reshape(X_test.shape[0], X_test.shape[1], 1)"
   ],
   "metadata": {
    "collapsed": false,
    "ExecuteTime": {
     "end_time": "2024-05-28T15:07:44.804807900Z",
     "start_time": "2024-05-28T15:07:44.757931600Z"
    }
   }
  },
  {
   "cell_type": "code",
   "execution_count": 33,
   "outputs": [],
   "source": [
    "# 8. Define LSTM Model\n",
    "model = Sequential()\n",
    "model.add(LSTM(50, return_sequences=True, input_shape=(time_step, 1)))\n",
    "model.add(LSTM(50, return_sequences=True))\n",
    "model.add(LSTM(50))\n",
    "model.add(Dense(1))\n",
    "model.compile(loss='mean_squared_error', optimizer='adam')"
   ],
   "metadata": {
    "collapsed": false,
    "ExecuteTime": {
     "end_time": "2024-05-28T15:07:59.443261100Z",
     "start_time": "2024-05-28T15:07:58.118183700Z"
    }
   }
  },
  {
   "cell_type": "code",
   "execution_count": 34,
   "outputs": [
    {
     "name": "stdout",
     "output_type": "stream",
     "text": [
      "Epoch 1/100\n",
      "18/18 [==============================] - 10s 127ms/step - loss: 0.0229 - val_loss: 0.0261\n",
      "Epoch 2/100\n",
      "18/18 [==============================] - 1s 38ms/step - loss: 0.0024 - val_loss: 0.0033\n",
      "Epoch 3/100\n",
      "18/18 [==============================] - 1s 38ms/step - loss: 0.0010 - val_loss: 0.0043\n",
      "Epoch 4/100\n",
      "18/18 [==============================] - 1s 38ms/step - loss: 8.4429e-04 - val_loss: 0.0078\n",
      "Epoch 5/100\n",
      "18/18 [==============================] - 1s 38ms/step - loss: 8.0291e-04 - val_loss: 0.0074\n",
      "Epoch 6/100\n",
      "18/18 [==============================] - 1s 38ms/step - loss: 8.2504e-04 - val_loss: 0.0064\n",
      "Epoch 7/100\n",
      "18/18 [==============================] - 1s 38ms/step - loss: 8.0564e-04 - val_loss: 0.0076\n",
      "Epoch 8/100\n",
      "18/18 [==============================] - 1s 38ms/step - loss: 8.3486e-04 - val_loss: 0.0048\n",
      "Epoch 9/100\n",
      "18/18 [==============================] - 1s 39ms/step - loss: 7.7719e-04 - val_loss: 0.0072\n",
      "Epoch 10/100\n",
      "18/18 [==============================] - 1s 39ms/step - loss: 7.5566e-04 - val_loss: 0.0054\n",
      "Epoch 11/100\n",
      "18/18 [==============================] - 1s 39ms/step - loss: 8.0862e-04 - val_loss: 0.0078\n",
      "Epoch 12/100\n",
      "18/18 [==============================] - 1s 42ms/step - loss: 7.6595e-04 - val_loss: 0.0060\n",
      "Epoch 13/100\n",
      "18/18 [==============================] - 1s 40ms/step - loss: 7.5738e-04 - val_loss: 0.0087\n",
      "Epoch 14/100\n",
      "18/18 [==============================] - 1s 41ms/step - loss: 8.5493e-04 - val_loss: 0.0055\n",
      "Epoch 15/100\n",
      "18/18 [==============================] - 1s 41ms/step - loss: 7.1428e-04 - val_loss: 0.0055\n",
      "Epoch 16/100\n",
      "18/18 [==============================] - 1s 41ms/step - loss: 7.4961e-04 - val_loss: 0.0023\n",
      "Epoch 17/100\n",
      "18/18 [==============================] - 1s 40ms/step - loss: 8.0603e-04 - val_loss: 0.0029\n",
      "Epoch 18/100\n",
      "18/18 [==============================] - 1s 40ms/step - loss: 8.2997e-04 - val_loss: 0.0016\n",
      "Epoch 19/100\n",
      "18/18 [==============================] - 1s 39ms/step - loss: 8.5205e-04 - val_loss: 0.0026\n",
      "Epoch 20/100\n",
      "18/18 [==============================] - 1s 38ms/step - loss: 6.6725e-04 - val_loss: 0.0055\n",
      "Epoch 21/100\n",
      "18/18 [==============================] - 1s 38ms/step - loss: 6.5859e-04 - val_loss: 0.0055\n",
      "Epoch 22/100\n",
      "18/18 [==============================] - 1s 39ms/step - loss: 6.9398e-04 - val_loss: 0.0015\n",
      "Epoch 23/100\n",
      "18/18 [==============================] - 1s 38ms/step - loss: 0.0011 - val_loss: 0.0035\n",
      "Epoch 24/100\n",
      "18/18 [==============================] - 1s 39ms/step - loss: 6.3643e-04 - val_loss: 0.0034\n",
      "Epoch 25/100\n",
      "18/18 [==============================] - 1s 44ms/step - loss: 5.9997e-04 - val_loss: 0.0025\n",
      "Epoch 26/100\n",
      "18/18 [==============================] - 1s 39ms/step - loss: 5.7808e-04 - val_loss: 0.0038\n",
      "Epoch 27/100\n",
      "18/18 [==============================] - 1s 39ms/step - loss: 5.5174e-04 - val_loss: 0.0031\n",
      "Epoch 28/100\n",
      "18/18 [==============================] - 1s 40ms/step - loss: 5.3329e-04 - val_loss: 0.0026\n",
      "Epoch 29/100\n",
      "18/18 [==============================] - 1s 39ms/step - loss: 5.6940e-04 - val_loss: 0.0030\n",
      "Epoch 30/100\n",
      "18/18 [==============================] - 1s 39ms/step - loss: 5.5863e-04 - val_loss: 0.0026\n",
      "Epoch 31/100\n",
      "18/18 [==============================] - 1s 44ms/step - loss: 4.8964e-04 - val_loss: 0.0025\n",
      "Epoch 32/100\n",
      "18/18 [==============================] - 1s 48ms/step - loss: 4.7968e-04 - val_loss: 0.0015\n",
      "Epoch 33/100\n",
      "18/18 [==============================] - 1s 42ms/step - loss: 4.9145e-04 - val_loss: 0.0029\n",
      "Epoch 34/100\n",
      "18/18 [==============================] - 1s 40ms/step - loss: 4.4153e-04 - val_loss: 0.0032\n",
      "Epoch 35/100\n",
      "18/18 [==============================] - 1s 41ms/step - loss: 4.2936e-04 - val_loss: 0.0048\n",
      "Epoch 36/100\n",
      "18/18 [==============================] - 1s 41ms/step - loss: 4.1401e-04 - val_loss: 0.0035\n",
      "Epoch 37/100\n",
      "18/18 [==============================] - 1s 41ms/step - loss: 4.2076e-04 - val_loss: 0.0013\n",
      "Epoch 38/100\n",
      "18/18 [==============================] - 1s 40ms/step - loss: 5.1235e-04 - val_loss: 0.0021\n",
      "Epoch 39/100\n",
      "18/18 [==============================] - 1s 59ms/step - loss: 3.8903e-04 - val_loss: 0.0025\n",
      "Epoch 40/100\n",
      "18/18 [==============================] - 1s 49ms/step - loss: 3.8673e-04 - val_loss: 0.0064\n",
      "Epoch 41/100\n",
      "18/18 [==============================] - 1s 43ms/step - loss: 5.6655e-04 - val_loss: 0.0043\n",
      "Epoch 42/100\n",
      "18/18 [==============================] - 1s 42ms/step - loss: 3.9548e-04 - val_loss: 0.0012\n",
      "Epoch 43/100\n",
      "18/18 [==============================] - 1s 41ms/step - loss: 3.9107e-04 - val_loss: 0.0036\n",
      "Epoch 44/100\n",
      "18/18 [==============================] - 1s 42ms/step - loss: 3.4316e-04 - val_loss: 9.8959e-04\n",
      "Epoch 45/100\n",
      "18/18 [==============================] - 1s 42ms/step - loss: 4.1752e-04 - val_loss: 0.0031\n",
      "Epoch 46/100\n",
      "18/18 [==============================] - 1s 40ms/step - loss: 3.3358e-04 - val_loss: 9.6126e-04\n",
      "Epoch 47/100\n",
      "18/18 [==============================] - 1s 39ms/step - loss: 3.5386e-04 - val_loss: 0.0025\n",
      "Epoch 48/100\n",
      "18/18 [==============================] - 1s 39ms/step - loss: 3.4494e-04 - val_loss: 9.7657e-04\n",
      "Epoch 49/100\n",
      "18/18 [==============================] - 1s 40ms/step - loss: 3.2262e-04 - val_loss: 9.9118e-04\n",
      "Epoch 50/100\n",
      "18/18 [==============================] - 2s 144ms/step - loss: 2.9451e-04 - val_loss: 0.0019\n",
      "Epoch 51/100\n",
      "18/18 [==============================] - 1s 54ms/step - loss: 3.2191e-04 - val_loss: 0.0011\n",
      "Epoch 52/100\n",
      "18/18 [==============================] - 1s 39ms/step - loss: 3.4290e-04 - val_loss: 0.0025\n",
      "Epoch 53/100\n",
      "18/18 [==============================] - 1s 39ms/step - loss: 3.3194e-04 - val_loss: 0.0017\n",
      "Epoch 54/100\n",
      "18/18 [==============================] - 1s 40ms/step - loss: 3.9241e-04 - val_loss: 0.0025\n",
      "Epoch 55/100\n",
      "18/18 [==============================] - 1s 39ms/step - loss: 3.4008e-04 - val_loss: 0.0012\n",
      "Epoch 56/100\n",
      "18/18 [==============================] - 1s 39ms/step - loss: 2.7911e-04 - val_loss: 0.0016\n",
      "Epoch 57/100\n",
      "18/18 [==============================] - 1s 39ms/step - loss: 2.8093e-04 - val_loss: 8.2217e-04\n",
      "Epoch 58/100\n",
      "18/18 [==============================] - 1s 40ms/step - loss: 2.8273e-04 - val_loss: 0.0010\n",
      "Epoch 59/100\n",
      "18/18 [==============================] - 1s 40ms/step - loss: 2.8521e-04 - val_loss: 0.0013\n",
      "Epoch 60/100\n",
      "18/18 [==============================] - 1s 42ms/step - loss: 2.5674e-04 - val_loss: 0.0021\n",
      "Epoch 61/100\n",
      "18/18 [==============================] - 1s 42ms/step - loss: 2.8650e-04 - val_loss: 0.0013\n",
      "Epoch 62/100\n",
      "18/18 [==============================] - 1s 39ms/step - loss: 2.5600e-04 - val_loss: 0.0026\n",
      "Epoch 63/100\n",
      "18/18 [==============================] - 1s 47ms/step - loss: 3.7671e-04 - val_loss: 0.0017\n",
      "Epoch 64/100\n",
      "18/18 [==============================] - 1s 39ms/step - loss: 2.9464e-04 - val_loss: 8.0577e-04\n",
      "Epoch 65/100\n",
      "18/18 [==============================] - 1s 39ms/step - loss: 2.4857e-04 - val_loss: 7.2022e-04\n",
      "Epoch 66/100\n",
      "18/18 [==============================] - 1s 39ms/step - loss: 2.5069e-04 - val_loss: 8.3675e-04\n",
      "Epoch 67/100\n",
      "18/18 [==============================] - 1s 41ms/step - loss: 2.3952e-04 - val_loss: 7.1422e-04\n",
      "Epoch 68/100\n",
      "18/18 [==============================] - 1s 43ms/step - loss: 2.6167e-04 - val_loss: 6.5617e-04\n",
      "Epoch 69/100\n",
      "18/18 [==============================] - 1s 41ms/step - loss: 2.6167e-04 - val_loss: 7.1557e-04\n",
      "Epoch 70/100\n",
      "18/18 [==============================] - 1s 41ms/step - loss: 2.7086e-04 - val_loss: 0.0014\n",
      "Epoch 71/100\n",
      "18/18 [==============================] - 1s 41ms/step - loss: 2.7741e-04 - val_loss: 6.4581e-04\n",
      "Epoch 72/100\n",
      "18/18 [==============================] - 1s 43ms/step - loss: 2.7589e-04 - val_loss: 6.6296e-04\n",
      "Epoch 73/100\n",
      "18/18 [==============================] - 1s 41ms/step - loss: 2.3821e-04 - val_loss: 0.0022\n",
      "Epoch 74/100\n",
      "18/18 [==============================] - 1s 41ms/step - loss: 3.0762e-04 - val_loss: 0.0027\n",
      "Epoch 75/100\n",
      "18/18 [==============================] - 1s 43ms/step - loss: 3.9783e-04 - val_loss: 7.6787e-04\n",
      "Epoch 76/100\n",
      "18/18 [==============================] - 1s 40ms/step - loss: 3.0240e-04 - val_loss: 9.9385e-04\n",
      "Epoch 77/100\n",
      "18/18 [==============================] - 1s 40ms/step - loss: 3.1722e-04 - val_loss: 5.9608e-04\n",
      "Epoch 78/100\n",
      "18/18 [==============================] - 1s 40ms/step - loss: 2.3668e-04 - val_loss: 6.0399e-04\n",
      "Epoch 79/100\n",
      "18/18 [==============================] - 1s 40ms/step - loss: 2.4081e-04 - val_loss: 6.2957e-04\n",
      "Epoch 80/100\n",
      "18/18 [==============================] - 1s 40ms/step - loss: 2.4342e-04 - val_loss: 6.3952e-04\n",
      "Epoch 81/100\n",
      "18/18 [==============================] - 1s 40ms/step - loss: 2.3614e-04 - val_loss: 6.1894e-04\n",
      "Epoch 82/100\n",
      "18/18 [==============================] - 1s 40ms/step - loss: 2.2549e-04 - val_loss: 5.7775e-04\n",
      "Epoch 83/100\n",
      "18/18 [==============================] - 1s 40ms/step - loss: 2.2231e-04 - val_loss: 6.0124e-04\n",
      "Epoch 84/100\n",
      "18/18 [==============================] - 1s 40ms/step - loss: 2.2515e-04 - val_loss: 5.6373e-04\n",
      "Epoch 85/100\n",
      "18/18 [==============================] - 1s 39ms/step - loss: 2.1944e-04 - val_loss: 8.1799e-04\n",
      "Epoch 86/100\n",
      "18/18 [==============================] - 1s 39ms/step - loss: 2.5201e-04 - val_loss: 5.8188e-04\n",
      "Epoch 87/100\n",
      "18/18 [==============================] - 1s 40ms/step - loss: 2.4941e-04 - val_loss: 0.0023\n",
      "Epoch 88/100\n",
      "18/18 [==============================] - 1s 40ms/step - loss: 2.7754e-04 - val_loss: 5.3821e-04\n",
      "Epoch 89/100\n",
      "18/18 [==============================] - 1s 40ms/step - loss: 2.2400e-04 - val_loss: 6.0555e-04\n",
      "Epoch 90/100\n",
      "18/18 [==============================] - 1s 39ms/step - loss: 2.6717e-04 - val_loss: 0.0011\n",
      "Epoch 91/100\n",
      "18/18 [==============================] - 1s 40ms/step - loss: 2.5513e-04 - val_loss: 6.8453e-04\n",
      "Epoch 92/100\n",
      "18/18 [==============================] - 1s 40ms/step - loss: 2.4182e-04 - val_loss: 5.7593e-04\n",
      "Epoch 93/100\n",
      "18/18 [==============================] - 1s 40ms/step - loss: 2.1902e-04 - val_loss: 0.0012\n",
      "Epoch 94/100\n",
      "18/18 [==============================] - 1s 40ms/step - loss: 2.7970e-04 - val_loss: 6.1047e-04\n",
      "Epoch 95/100\n",
      "18/18 [==============================] - 1s 40ms/step - loss: 2.1592e-04 - val_loss: 5.6052e-04\n",
      "Epoch 96/100\n",
      "18/18 [==============================] - 1s 40ms/step - loss: 2.2334e-04 - val_loss: 0.0026\n",
      "Epoch 97/100\n",
      "18/18 [==============================] - 1s 40ms/step - loss: 3.4020e-04 - val_loss: 6.1777e-04\n",
      "Epoch 98/100\n",
      "18/18 [==============================] - 1s 40ms/step - loss: 2.5257e-04 - val_loss: 0.0011\n",
      "Epoch 99/100\n",
      "18/18 [==============================] - 1s 44ms/step - loss: 2.8506e-04 - val_loss: 5.1423e-04\n",
      "Epoch 100/100\n",
      "18/18 [==============================] - 1s 44ms/step - loss: 2.0911e-04 - val_loss: 7.8213e-04\n"
     ]
    },
    {
     "data": {
      "text/plain": "<keras.callbacks.History at 0x25053ff2560>"
     },
     "execution_count": 34,
     "metadata": {},
     "output_type": "execute_result"
    }
   ],
   "source": [
    "# 9. Fit mô hình với dữ liệu train\n",
    "model.fit(X_train, y_train, validation_data=(X_test, y_test), epochs=100, batch_size=64, verbose=1)"
   ],
   "metadata": {
    "collapsed": false,
    "ExecuteTime": {
     "end_time": "2024-05-28T15:09:35.990663500Z",
     "start_time": "2024-05-28T15:08:11.766231200Z"
    }
   }
  },
  {
   "cell_type": "code",
   "execution_count": 35,
   "outputs": [
    {
     "name": "stdout",
     "output_type": "stream",
     "text": [
      "3/3 [==============================] - 2s 10ms/step\n"
     ]
    }
   ],
   "source": [
    "# 10. Dự báo dữ liệu test\n",
    "y_pred = model.predict(X_test)"
   ],
   "metadata": {
    "collapsed": false,
    "ExecuteTime": {
     "end_time": "2024-05-28T15:09:54.006918900Z",
     "start_time": "2024-05-28T15:09:52.343132300Z"
    }
   }
  },
  {
   "cell_type": "code",
   "execution_count": 36,
   "outputs": [],
   "source": [
    "# 11. Inverse transform dự báo và dữ liệu thực tế\n",
    "y_pred_new = scaler.inverse_transform(y_pred)\n",
    "y_test_new = scaler.inverse_transform(y_test.reshape(-1, 1))"
   ],
   "metadata": {
    "collapsed": false,
    "ExecuteTime": {
     "end_time": "2024-05-28T15:10:26.279554200Z",
     "start_time": "2024-05-28T15:10:26.230038600Z"
    }
   }
  },
  {
   "cell_type": "code",
   "execution_count": 37,
   "outputs": [
    {
     "name": "stdout",
     "output_type": "stream",
     "text": [
      "RMSE trên tập test là: 2562.020257320633\n",
      "MAPE trên tập test là: 2.1031593147904126 %\n",
      "MSLE trên tập test là: 0.0007449227477926999\n"
     ]
    }
   ],
   "source": [
    "from sklearn.metrics import mean_squared_log_error\n",
    "\n",
    "# Tính toán RMSE, MAE và MAPE trên tập test\n",
    "test_score_rmse = np.sqrt(mean_squared_error(y_test_new, y_pred_new))\n",
    "test_score_mape = mean_absolute_percentage_error(y_test_new, y_pred_new) * 100\n",
    "test_score_msle = mean_squared_log_error(y_test_new, y_pred_new)\n",
    "\n",
    "print('RMSE trên tập test là:', test_score_rmse)\n",
    "print('MAPE trên tập test là:', test_score_mape, '%')\n",
    "print('MSLE trên tập test là:', test_score_msle)"
   ],
   "metadata": {
    "collapsed": false,
    "ExecuteTime": {
     "end_time": "2024-05-28T15:10:28.303802600Z",
     "start_time": "2024-05-28T15:10:28.303802600Z"
    }
   }
  },
  {
   "cell_type": "code",
   "execution_count": 38,
   "outputs": [],
   "source": [
    "# 13. Dự báo 30 ngày tiếp theo\n",
    "x_input = test_data[len(test_data) - time_step:].reshape(1, -1)\n",
    "temp_input = list(x_input)\n",
    "temp_input = temp_input[0].tolist()\n",
    "\n",
    "lst_output = []\n",
    "i = 0\n",
    "while i < 30:\n",
    "    if len(temp_input) > time_step:\n",
    "        x_input = np.array(temp_input[1:])\n",
    "        x_input = x_input.reshape(1, -1)\n",
    "        x_input = x_input.reshape((1, time_step, 1))\n",
    "        yhat = model.predict(x_input, verbose=0)\n",
    "        temp_input.extend(yhat[0].tolist())\n",
    "        temp_input = temp_input[1:]\n",
    "        lst_output.extend(yhat.tolist())\n",
    "        i += 1\n",
    "    else:\n",
    "        x_input = x_input.reshape((1, time_step, 1))\n",
    "        yhat = model.predict(x_input, verbose=0)\n",
    "        temp_input.extend(yhat[0].tolist())\n",
    "        lst_output.extend(yhat.tolist())\n",
    "        i += 1"
   ],
   "metadata": {
    "collapsed": false,
    "ExecuteTime": {
     "end_time": "2024-05-28T15:10:54.836231800Z",
     "start_time": "2024-05-28T15:10:52.419310400Z"
    }
   }
  },
  {
   "cell_type": "code",
   "execution_count": 39,
   "outputs": [
    {
     "data": {
      "text/plain": "<Figure size 1200x600 with 1 Axes>",
      "image/png": "[encoded data removed]"
     },
     "metadata": {},
     "output_type": "display_data"
    }
   ],
   "source": [
    "# 14. Vẽ hình\n",
    "plt.figure(figsize=(12, 6))\n",
    "plt.plot(scaler.inverse_transform(df1), label='Train')\n",
    "test_data_index = pd.RangeIndex(start=train_size, stop=train_size + test_size, step=1)\n",
    "plt.plot(test_data_index, scaler.inverse_transform(test_data), label='Actual Test')\n",
    "test_pred_index = pd.RangeIndex(start=train_size + time_step, stop=train_size + test_size - 1, step=1)\n",
    "plt.plot(test_pred_index, scaler.inverse_transform(y_pred), label='Predicted Test')\n",
    "predict_data_index = pd.RangeIndex(start=len(df1), stop=len(df1) + 30, step=1)\n",
    "plt.plot(predict_data_index, scaler.inverse_transform(lst_output), label='Next 30 days')\n",
    "plt.xlabel('Time')\n",
    "plt.ylabel('Price')\n",
    "plt.legend()\n",
    "plt.show()"
   ],
   "metadata": {
    "collapsed": false,
    "ExecuteTime": {
     "end_time": "2024-05-28T15:10:56.101037500Z",
     "start_time": "2024-05-28T15:10:55.899675800Z"
    }
   }
  },
  {
   "cell_type": "code",
   "execution_count": null,
   "outputs": [],
   "source": [],
   "metadata": {
    "collapsed": false
   }
  }
 ],
 "metadata": {
  "kernelspec": {
   "display_name": "Python 3",
   "language": "python",
   "name": "python3"
  },
  "language_info": {
   "codemirror_mode": {
    "name": "ipython",
    "version": 2
   },
   "file_extension": ".py",
   "mimetype": "text/x-python",
   "name": "python",
   "nbconvert_exporter": "python",
   "pygments_lexer": "ipython2",
   "version": "2.7.6"
  }
 },
 "nbformat": 4,
 "nbformat_minor": 0
}
