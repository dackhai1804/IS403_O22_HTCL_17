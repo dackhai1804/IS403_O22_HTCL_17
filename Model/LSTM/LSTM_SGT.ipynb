{
  "cells": [
    {
      "cell_type": "code",
      "execution_count": 79,
      "outputs": [],
      "source": [
        "# 1. Import thư viện cần thiết\n",
        "import numpy as np\n",
        "import pandas as pd\n",
        "import matplotlib.pyplot as plt\n",
        "from sklearn.preprocessing import MinMaxScaler\n",
        "from keras.models import Sequential\n",
        "from keras.layers import Dense, LSTM\n",
        "from sklearn.metrics import mean_squared_error, mean_absolute_percentage_error\n",
        "\n",
        "# 2. Đọc file csv và gắn index với giá Close\n",
        "data = pd.read_csv('SGT.csv', index_col='time', parse_dates=True)\n",
        "data=data.drop(columns=['open', 'high', 'low', 'volume'])\n",
        "data = data.reset_index(drop=True)\n",
        "df1 = data.reset_index()['close']"
      ],
      "metadata": {
        "ExecuteTime": {
          "end_time": "2024-05-28T14:48:14.649414Z",
          "start_time": "2024-05-28T14:48:09.966619300Z"
        },
        "id": "xVwQ8TMbxAqp"
      }
    },
    {
      "cell_type": "code",
      "execution_count": 80,
      "outputs": [],
      "source": [
        "# 3. Scaler data\n",
        "scaler = MinMaxScaler(feature_range=(0, 1))\n",
        "df1 = scaler.fit_transform(np.array(df1).reshape(-1, 1))"
      ],
      "metadata": {
        "ExecuteTime": {
          "end_time": "2024-05-28T14:48:25.602823500Z",
          "start_time": "2024-05-28T14:48:25.580373500Z"
        },
        "id": "TEVQzJHrxAqq"
      }
    },
    {
      "cell_type": "code",
      "execution_count": 81,
      "outputs": [],
      "source": [
        "# 4. Chia train test (70% train, 30% test)\n",
        "train_size = int(0.7 * len(df1))\n",
        "test_size = len(df1) - train_size\n",
        "\n",
        "train_data = df1[:train_size]\n",
        "test_data = df1[train_size:]"
      ],
      "metadata": {
        "ExecuteTime": {
          "end_time": "2024-05-28T14:48:34.310582300Z",
          "start_time": "2024-05-28T14:48:34.293911Z"
        },
        "id": "AnP5ibVsxAqq"
      }
    },
    {
      "cell_type": "code",
      "execution_count": 82,
      "outputs": [],
      "source": [
        "# 5. Hàm Create Dataset\n",
        "def create_dataset(dataset, time_step=1):\n",
        "    dataX, dataY = [], []\n",
        "    for i in range(len(dataset) - time_step - 1):\n",
        "        a = dataset[i:(i + time_step), 0]\n",
        "        dataX.append(a)\n",
        "        dataY.append(dataset[i + time_step, 0])\n",
        "    return np.array(dataX), np.array(dataY)"
      ],
      "metadata": {
        "ExecuteTime": {
          "end_time": "2024-05-28T14:48:42.073073400Z",
          "start_time": "2024-05-28T14:48:42.053551900Z"
        },
        "id": "FXDgCdILxAqq"
      }
    },
    {
      "cell_type": "code",
      "execution_count": 83,
      "outputs": [],
      "source": [
        "# 6. Reshape into X=t,t+1,t+2..t+99 and Y=t+100\n",
        "time_step = 30\n",
        "X_train, y_train = create_dataset(train_data, time_step)\n",
        "X_test, y_test = create_dataset(test_data, time_step)"
      ],
      "metadata": {
        "ExecuteTime": {
          "end_time": "2024-05-28T14:48:49.565208600Z",
          "start_time": "2024-05-28T14:48:49.561089Z"
        },
        "id": "yrK7_8w6xAqq"
      }
    },
    {
      "cell_type": "code",
      "execution_count": 84,
      "outputs": [],
      "source": [
        "# 7. Reshape input to be [samples, time steps, features] which is required for LSTM\n",
        "X_train = X_train.reshape(X_train.shape[0], X_train.shape[1], 1)\n",
        "X_test = X_test.reshape(X_test.shape[0], X_test.shape[1], 1)"
      ],
      "metadata": {
        "ExecuteTime": {
          "end_time": "2024-05-28T14:48:58.248665100Z",
          "start_time": "2024-05-28T14:48:58.236569300Z"
        },
        "id": "20wf8GH4xAqr"
      }
    },
    {
      "cell_type": "code",
      "execution_count": 85,
      "outputs": [],
      "source": [
        "# 8. Define LSTM Model\n",
        "model = Sequential()\n",
        "model.add(LSTM(50, return_sequences=True, input_shape=(time_step, 1)))\n",
        "model.add(LSTM(50, return_sequences=True))\n",
        "model.add(LSTM(50))\n",
        "model.add(Dense(1))\n",
        "model.compile(loss='mean_squared_error', optimizer='adam')"
      ],
      "metadata": {
        "ExecuteTime": {
          "end_time": "2024-05-28T14:49:07.516332800Z",
          "start_time": "2024-05-28T14:49:06.237622100Z"
        },
        "id": "8kw4Dq1cxAqr"
      }
    },
    {
      "cell_type": "code",
      "execution_count": 86,
      "outputs": [
        {
          "output_type": "stream",
          "name": "stdout",
          "text": [
            "Epoch 1/100\n",
            "14/14 [==============================] - 9s 164ms/step - loss: 0.0511 - val_loss: 0.0083\n",
            "Epoch 2/100\n",
            "14/14 [==============================] - 1s 67ms/step - loss: 0.0091 - val_loss: 0.0028\n",
            "Epoch 3/100\n",
            "14/14 [==============================] - 1s 69ms/step - loss: 0.0036 - val_loss: 0.0017\n",
            "Epoch 4/100\n",
            "14/14 [==============================] - 1s 67ms/step - loss: 0.0033 - val_loss: 0.0012\n",
            "Epoch 5/100\n",
            "14/14 [==============================] - 1s 67ms/step - loss: 0.0034 - val_loss: 0.0011\n",
            "Epoch 6/100\n",
            "14/14 [==============================] - 1s 67ms/step - loss: 0.0033 - val_loss: 0.0012\n",
            "Epoch 7/100\n",
            "14/14 [==============================] - 1s 69ms/step - loss: 0.0030 - val_loss: 0.0013\n",
            "Epoch 8/100\n",
            "14/14 [==============================] - 1s 68ms/step - loss: 0.0030 - val_loss: 0.0015\n",
            "Epoch 9/100\n",
            "14/14 [==============================] - 1s 101ms/step - loss: 0.0029 - val_loss: 0.0017\n",
            "Epoch 10/100\n",
            "14/14 [==============================] - 2s 116ms/step - loss: 0.0030 - val_loss: 0.0012\n",
            "Epoch 11/100\n",
            "14/14 [==============================] - 1s 92ms/step - loss: 0.0028 - val_loss: 0.0012\n",
            "Epoch 12/100\n",
            "14/14 [==============================] - 1s 68ms/step - loss: 0.0028 - val_loss: 9.9627e-04\n",
            "Epoch 13/100\n",
            "14/14 [==============================] - 1s 67ms/step - loss: 0.0026 - val_loss: 0.0013\n",
            "Epoch 14/100\n",
            "14/14 [==============================] - 1s 66ms/step - loss: 0.0025 - val_loss: 0.0012\n",
            "Epoch 15/100\n",
            "14/14 [==============================] - 1s 68ms/step - loss: 0.0024 - val_loss: 9.1976e-04\n",
            "Epoch 16/100\n",
            "14/14 [==============================] - 1s 69ms/step - loss: 0.0024 - val_loss: 8.8924e-04\n",
            "Epoch 17/100\n",
            "14/14 [==============================] - 1s 68ms/step - loss: 0.0024 - val_loss: 0.0015\n",
            "Epoch 18/100\n",
            "14/14 [==============================] - 1s 68ms/step - loss: 0.0022 - val_loss: 8.8883e-04\n",
            "Epoch 19/100\n",
            "14/14 [==============================] - 1s 69ms/step - loss: 0.0021 - val_loss: 0.0011\n",
            "Epoch 20/100\n",
            "14/14 [==============================] - 1s 68ms/step - loss: 0.0019 - val_loss: 7.9057e-04\n",
            "Epoch 21/100\n",
            "14/14 [==============================] - 1s 69ms/step - loss: 0.0021 - val_loss: 9.2678e-04\n",
            "Epoch 22/100\n",
            "14/14 [==============================] - 1s 109ms/step - loss: 0.0020 - val_loss: 0.0012\n",
            "Epoch 23/100\n",
            "14/14 [==============================] - 2s 115ms/step - loss: 0.0019 - val_loss: 7.5551e-04\n",
            "Epoch 24/100\n",
            "14/14 [==============================] - 1s 91ms/step - loss: 0.0018 - val_loss: 0.0014\n",
            "Epoch 25/100\n",
            "14/14 [==============================] - 1s 67ms/step - loss: 0.0017 - val_loss: 8.6273e-04\n",
            "Epoch 26/100\n",
            "14/14 [==============================] - 1s 70ms/step - loss: 0.0017 - val_loss: 7.7110e-04\n",
            "Epoch 27/100\n",
            "14/14 [==============================] - 1s 67ms/step - loss: 0.0017 - val_loss: 7.5335e-04\n",
            "Epoch 28/100\n",
            "14/14 [==============================] - 1s 69ms/step - loss: 0.0019 - val_loss: 7.0975e-04\n",
            "Epoch 29/100\n",
            "14/14 [==============================] - 1s 71ms/step - loss: 0.0017 - val_loss: 9.9147e-04\n",
            "Epoch 30/100\n",
            "14/14 [==============================] - 1s 68ms/step - loss: 0.0016 - val_loss: 9.4621e-04\n",
            "Epoch 31/100\n",
            "14/14 [==============================] - 1s 69ms/step - loss: 0.0015 - val_loss: 6.8955e-04\n",
            "Epoch 32/100\n",
            "14/14 [==============================] - 1s 75ms/step - loss: 0.0017 - val_loss: 7.1970e-04\n",
            "Epoch 33/100\n",
            "14/14 [==============================] - 1s 69ms/step - loss: 0.0016 - val_loss: 0.0011\n",
            "Epoch 34/100\n",
            "14/14 [==============================] - 1s 69ms/step - loss: 0.0015 - val_loss: 8.6370e-04\n",
            "Epoch 35/100\n",
            "14/14 [==============================] - 2s 114ms/step - loss: 0.0015 - val_loss: 6.9325e-04\n",
            "Epoch 36/100\n",
            "14/14 [==============================] - 2s 115ms/step - loss: 0.0015 - val_loss: 6.7676e-04\n",
            "Epoch 37/100\n",
            "14/14 [==============================] - 1s 81ms/step - loss: 0.0014 - val_loss: 6.6958e-04\n",
            "Epoch 38/100\n",
            "14/14 [==============================] - 1s 68ms/step - loss: 0.0014 - val_loss: 7.0815e-04\n",
            "Epoch 39/100\n",
            "14/14 [==============================] - 1s 67ms/step - loss: 0.0014 - val_loss: 7.5619e-04\n",
            "Epoch 40/100\n",
            "14/14 [==============================] - 1s 69ms/step - loss: 0.0013 - val_loss: 6.9124e-04\n",
            "Epoch 41/100\n",
            "14/14 [==============================] - 1s 70ms/step - loss: 0.0013 - val_loss: 7.3877e-04\n",
            "Epoch 42/100\n",
            "14/14 [==============================] - 1s 70ms/step - loss: 0.0013 - val_loss: 7.4414e-04\n",
            "Epoch 43/100\n",
            "14/14 [==============================] - 1s 68ms/step - loss: 0.0013 - val_loss: 6.5085e-04\n",
            "Epoch 44/100\n",
            "14/14 [==============================] - 1s 70ms/step - loss: 0.0013 - val_loss: 7.7271e-04\n",
            "Epoch 45/100\n",
            "14/14 [==============================] - 1s 68ms/step - loss: 0.0012 - val_loss: 6.5695e-04\n",
            "Epoch 46/100\n",
            "14/14 [==============================] - 1s 66ms/step - loss: 0.0013 - val_loss: 6.2800e-04\n",
            "Epoch 47/100\n",
            "14/14 [==============================] - 1s 71ms/step - loss: 0.0013 - val_loss: 6.1703e-04\n",
            "Epoch 48/100\n",
            "14/14 [==============================] - 1s 106ms/step - loss: 0.0012 - val_loss: 8.6451e-04\n",
            "Epoch 49/100\n",
            "14/14 [==============================] - 2s 118ms/step - loss: 0.0013 - val_loss: 7.2380e-04\n",
            "Epoch 50/100\n",
            "14/14 [==============================] - 1s 83ms/step - loss: 0.0015 - val_loss: 6.1139e-04\n",
            "Epoch 51/100\n",
            "14/14 [==============================] - 1s 68ms/step - loss: 0.0016 - val_loss: 0.0011\n",
            "Epoch 52/100\n",
            "14/14 [==============================] - 1s 68ms/step - loss: 0.0013 - val_loss: 0.0010\n",
            "Epoch 53/100\n",
            "14/14 [==============================] - 1s 67ms/step - loss: 0.0013 - val_loss: 8.7420e-04\n",
            "Epoch 54/100\n",
            "14/14 [==============================] - 1s 67ms/step - loss: 0.0012 - val_loss: 5.9052e-04\n",
            "Epoch 55/100\n",
            "14/14 [==============================] - 1s 67ms/step - loss: 0.0012 - val_loss: 6.1064e-04\n",
            "Epoch 56/100\n",
            "14/14 [==============================] - 1s 68ms/step - loss: 0.0011 - val_loss: 6.3621e-04\n",
            "Epoch 57/100\n",
            "14/14 [==============================] - 1s 70ms/step - loss: 0.0011 - val_loss: 5.7205e-04\n",
            "Epoch 58/100\n",
            "14/14 [==============================] - 1s 69ms/step - loss: 0.0011 - val_loss: 7.2988e-04\n",
            "Epoch 59/100\n",
            "14/14 [==============================] - 1s 68ms/step - loss: 0.0011 - val_loss: 5.5126e-04\n",
            "Epoch 60/100\n",
            "14/14 [==============================] - 1s 82ms/step - loss: 0.0012 - val_loss: 5.4367e-04\n",
            "Epoch 61/100\n",
            "14/14 [==============================] - 1s 103ms/step - loss: 0.0013 - val_loss: 8.2572e-04\n",
            "Epoch 62/100\n",
            "14/14 [==============================] - 2s 115ms/step - loss: 0.0012 - val_loss: 6.3745e-04\n",
            "Epoch 63/100\n",
            "14/14 [==============================] - 1s 81ms/step - loss: 0.0013 - val_loss: 0.0010\n",
            "Epoch 64/100\n",
            "14/14 [==============================] - 1s 68ms/step - loss: 0.0011 - val_loss: 5.5420e-04\n",
            "Epoch 65/100\n",
            "14/14 [==============================] - 1s 66ms/step - loss: 0.0011 - val_loss: 5.3612e-04\n",
            "Epoch 66/100\n",
            "14/14 [==============================] - 1s 68ms/step - loss: 0.0011 - val_loss: 5.1548e-04\n",
            "Epoch 67/100\n",
            "14/14 [==============================] - 1s 69ms/step - loss: 0.0011 - val_loss: 0.0011\n",
            "Epoch 68/100\n",
            "14/14 [==============================] - 1s 67ms/step - loss: 0.0011 - val_loss: 5.1934e-04\n",
            "Epoch 69/100\n",
            "14/14 [==============================] - 1s 67ms/step - loss: 9.9473e-04 - val_loss: 5.6693e-04\n",
            "Epoch 70/100\n",
            "14/14 [==============================] - 1s 68ms/step - loss: 0.0011 - val_loss: 5.0629e-04\n",
            "Epoch 71/100\n",
            "14/14 [==============================] - 1s 70ms/step - loss: 0.0010 - val_loss: 4.8455e-04\n",
            "Epoch 72/100\n",
            "14/14 [==============================] - 1s 68ms/step - loss: 0.0010 - val_loss: 6.7186e-04\n",
            "Epoch 73/100\n",
            "14/14 [==============================] - 1s 74ms/step - loss: 9.9959e-04 - val_loss: 7.1574e-04\n",
            "Epoch 74/100\n",
            "14/14 [==============================] - 2s 115ms/step - loss: 9.6400e-04 - val_loss: 8.3427e-04\n",
            "Epoch 75/100\n",
            "14/14 [==============================] - 1s 107ms/step - loss: 0.0010 - val_loss: 7.2595e-04\n",
            "Epoch 76/100\n",
            "14/14 [==============================] - 1s 79ms/step - loss: 9.5349e-04 - val_loss: 6.9321e-04\n",
            "Epoch 77/100\n",
            "14/14 [==============================] - 1s 68ms/step - loss: 9.9609e-04 - val_loss: 5.8936e-04\n",
            "Epoch 78/100\n",
            "14/14 [==============================] - 1s 69ms/step - loss: 0.0013 - val_loss: 4.6640e-04\n",
            "Epoch 79/100\n",
            "14/14 [==============================] - 1s 68ms/step - loss: 0.0012 - val_loss: 4.5373e-04\n",
            "Epoch 80/100\n",
            "14/14 [==============================] - 1s 67ms/step - loss: 9.7102e-04 - val_loss: 4.3089e-04\n",
            "Epoch 81/100\n",
            "14/14 [==============================] - 1s 69ms/step - loss: 9.0910e-04 - val_loss: 4.4149e-04\n",
            "Epoch 82/100\n",
            "14/14 [==============================] - 1s 68ms/step - loss: 9.7831e-04 - val_loss: 6.6710e-04\n",
            "Epoch 83/100\n",
            "14/14 [==============================] - 1s 67ms/step - loss: 9.3752e-04 - val_loss: 7.6480e-04\n",
            "Epoch 84/100\n",
            "14/14 [==============================] - 1s 68ms/step - loss: 9.2779e-04 - val_loss: 4.5351e-04\n",
            "Epoch 85/100\n",
            "14/14 [==============================] - 1s 69ms/step - loss: 8.1285e-04 - val_loss: 4.5656e-04\n",
            "Epoch 86/100\n",
            "14/14 [==============================] - 1s 84ms/step - loss: 8.1356e-04 - val_loss: 4.5644e-04\n",
            "Epoch 87/100\n",
            "14/14 [==============================] - 2s 184ms/step - loss: 7.9482e-04 - val_loss: 4.5144e-04\n",
            "Epoch 88/100\n",
            "14/14 [==============================] - 1s 98ms/step - loss: 8.0999e-04 - val_loss: 5.0490e-04\n",
            "Epoch 89/100\n",
            "14/14 [==============================] - 1s 68ms/step - loss: 8.1683e-04 - val_loss: 4.5401e-04\n",
            "Epoch 90/100\n",
            "14/14 [==============================] - 1s 69ms/step - loss: 7.5310e-04 - val_loss: 4.3129e-04\n",
            "Epoch 91/100\n",
            "14/14 [==============================] - 1s 67ms/step - loss: 7.6597e-04 - val_loss: 5.6455e-04\n",
            "Epoch 92/100\n",
            "14/14 [==============================] - 1s 68ms/step - loss: 7.5936e-04 - val_loss: 5.1898e-04\n",
            "Epoch 93/100\n",
            "14/14 [==============================] - 1s 66ms/step - loss: 7.3579e-04 - val_loss: 4.3549e-04\n",
            "Epoch 94/100\n",
            "14/14 [==============================] - 1s 66ms/step - loss: 6.9630e-04 - val_loss: 3.4968e-04\n",
            "Epoch 95/100\n",
            "14/14 [==============================] - 1s 66ms/step - loss: 6.9234e-04 - val_loss: 3.4629e-04\n",
            "Epoch 96/100\n",
            "14/14 [==============================] - 1s 67ms/step - loss: 6.9798e-04 - val_loss: 4.0079e-04\n",
            "Epoch 97/100\n",
            "14/14 [==============================] - 1s 70ms/step - loss: 6.3347e-04 - val_loss: 3.3499e-04\n",
            "Epoch 98/100\n",
            "14/14 [==============================] - 1s 70ms/step - loss: 6.3757e-04 - val_loss: 3.2219e-04\n",
            "Epoch 99/100\n",
            "14/14 [==============================] - 1s 105ms/step - loss: 7.1127e-04 - val_loss: 8.4904e-04\n",
            "Epoch 100/100\n",
            "14/14 [==============================] - 2s 116ms/step - loss: 6.9043e-04 - val_loss: 3.0734e-04\n"
          ]
        },
        {
          "output_type": "execute_result",
          "data": {
            "text/plain": [
              "<keras.src.callbacks.History at 0x7cd75b6e7550>"
            ]
          },
          "metadata": {},
          "execution_count": 86
        }
      ],
      "source": [
        "# 9. Fit mô hình với dữ liệu train\n",
        "model.fit(X_train, y_train, validation_data=(X_test, y_test), epochs=100, batch_size=64, verbose=1)"
      ],
      "metadata": {
        "ExecuteTime": {
          "end_time": "2024-05-28T14:50:49.502679Z",
          "start_time": "2024-05-28T14:49:19.478599400Z"
        },
        "colab": {
          "base_uri": "https://localhost:8080/"
        },
        "id": "sVyLa95axAqr",
        "outputId": "6cb0ede2-164b-4cf6-c92f-eca849f40ff4"
      }
    },
    {
      "cell_type": "code",
      "execution_count": 87,
      "outputs": [
        {
          "output_type": "stream",
          "name": "stdout",
          "text": [
            "12/12 [==============================] - 2s 12ms/step\n"
          ]
        }
      ],
      "source": [
        "# 10. Dự báo dữ liệu test\n",
        "y_pred = model.predict(X_test)"
      ],
      "metadata": {
        "ExecuteTime": {
          "end_time": "2024-05-28T14:52:04.353638600Z",
          "start_time": "2024-05-28T14:52:02.273380100Z"
        },
        "colab": {
          "base_uri": "https://localhost:8080/"
        },
        "id": "PZoDofWpxAqr",
        "outputId": "7a20eec3-2201-447b-a938-782d94059165"
      }
    },
    {
      "cell_type": "code",
      "execution_count": 88,
      "outputs": [],
      "source": [
        "# 11. Inverse transform dự báo và dữ liệu thực tế\n",
        "y_pred_new = scaler.inverse_transform(y_pred)\n",
        "y_test_new = scaler.inverse_transform(y_test.reshape(-1, 1))"
      ],
      "metadata": {
        "ExecuteTime": {
          "end_time": "2024-05-28T14:52:05.972886800Z",
          "start_time": "2024-05-28T14:52:05.957841300Z"
        },
        "id": "SSoqrumJxAqr"
      }
    },
    {
      "cell_type": "code",
      "execution_count": 89,
      "outputs": [
        {
          "output_type": "stream",
          "name": "stdout",
          "text": [
            "RMSE trên tập test là: 416.54138118640435\n",
            "MAPE trên tập test là: 2.2523588072004235 %\n",
            "MSLE trên tập test là: 0.0009904409341795273\n"
          ]
        }
      ],
      "source": [
        "from sklearn.metrics import mean_squared_log_error\n",
        "\n",
        "# Tính toán RMSE, MAE và MAPE trên tập test\n",
        "test_score_rmse = np.sqrt(mean_squared_error(y_test_new, y_pred_new))\n",
        "test_score_mape = mean_absolute_percentage_error(y_test_new, y_pred_new) * 100\n",
        "test_score_msle = mean_squared_log_error(y_test_new, y_pred_new)\n",
        "\n",
        "print('RMSE trên tập test là:', test_score_rmse)\n",
        "print('MAPE trên tập test là:', test_score_mape, '%')\n",
        "print('MSLE trên tập test là:', test_score_msle)"
      ],
      "metadata": {
        "ExecuteTime": {
          "end_time": "2024-05-28T14:52:07.205163800Z",
          "start_time": "2024-05-28T14:52:07.187169300Z"
        },
        "colab": {
          "base_uri": "https://localhost:8080/"
        },
        "id": "IBjYrOUFxAqs",
        "outputId": "487fa6f6-3535-4409-8a6a-7335fbdcad46"
      }
    },
    {
      "cell_type": "code",
      "execution_count": 90,
      "outputs": [],
      "source": [
        "# 13. Dự báo 30 ngày tiếp theo\n",
        "x_input = test_data[len(test_data) - time_step:].reshape(1, -1)\n",
        "temp_input = list(x_input)\n",
        "temp_input = temp_input[0].tolist()\n",
        "\n",
        "lst_output = []\n",
        "i = 0\n",
        "while i < 30:\n",
        "    if len(temp_input) > time_step:\n",
        "        x_input = np.array(temp_input[1:])\n",
        "        x_input = x_input.reshape(1, -1)\n",
        "        x_input = x_input.reshape((1, time_step, 1))\n",
        "        yhat = model.predict(x_input, verbose=0)\n",
        "        temp_input.extend(yhat[0].tolist())\n",
        "        temp_input = temp_input[1:]\n",
        "        lst_output.extend(yhat.tolist())\n",
        "        i += 1\n",
        "    else:\n",
        "        x_input = x_input.reshape((1, time_step, 1))\n",
        "        yhat = model.predict(x_input, verbose=0)\n",
        "        temp_input.extend(yhat[0].tolist())\n",
        "        lst_output.extend(yhat.tolist())\n",
        "        i += 1"
      ],
      "metadata": {
        "ExecuteTime": {
          "end_time": "2024-05-28T14:52:22.246638900Z",
          "start_time": "2024-05-28T14:52:19.799016600Z"
        },
        "id": "L_397iR3xAqs"
      }
    },
    {
      "cell_type": "code",
      "execution_count": 91,
      "outputs": [
        {
          "output_type": "display_data",
          "data": {
            "text/plain": [
              "<Figure size 1200x600 with 1 Axes>"
            ],
            "image/png": "[encoded data removed]"
          },
          "metadata": {}
        }
      ],
      "source": [
        "# 14. Vẽ hình\n",
        "plt.figure(figsize=(12, 6))\n",
        "plt.plot(scaler.inverse_transform(df1), label='Train')\n",
        "test_data_index = pd.RangeIndex(start=train_size, stop=train_size + test_size, step=1)\n",
        "plt.plot(test_data_index, scaler.inverse_transform(test_data), label='Actual Test')\n",
        "test_pred_index = pd.RangeIndex(start=train_size + time_step, stop=train_size + test_size - 1, step=1)\n",
        "plt.plot(test_pred_index, scaler.inverse_transform(y_pred), label='Predicted Test')\n",
        "predict_data_index = pd.RangeIndex(start=len(df1), stop=len(df1) + 30, step=1)\n",
        "plt.plot(predict_data_index, scaler.inverse_transform(lst_output), label='Next 30 days')\n",
        "plt.xlabel('Time')\n",
        "plt.ylabel('Price')\n",
        "plt.legend()\n",
        "plt.show()"
      ],
      "metadata": {
        "ExecuteTime": {
          "end_time": "2024-05-28T14:52:31.043771Z",
          "start_time": "2024-05-28T14:52:30.805673800Z"
        },
        "colab": {
          "base_uri": "https://localhost:8080/",
          "height": 542
        },
        "id": "T62sHotmxAqs",
        "outputId": "d1947aaf-937c-4d29-f1d0-d527c016deb1"
      }
    },
    {
      "cell_type": "markdown",
      "source": [
        "# (Split 8/2)"
      ],
      "metadata": {
        "collapsed": false,
        "id": "mXO0Qe1xxAqs"
      }
    },
    {
      "cell_type": "code",
      "execution_count": 92,
      "outputs": [],
      "source": [
        "# 1. Import thư viện cần thiết\n",
        "import numpy as np\n",
        "import pandas as pd\n",
        "import matplotlib.pyplot as plt\n",
        "from sklearn.preprocessing import MinMaxScaler\n",
        "from keras.models import Sequential\n",
        "from keras.layers import Dense, LSTM\n",
        "from sklearn.metrics import mean_squared_error, mean_absolute_percentage_error\n",
        "\n",
        "# 2. Đọc file csv và gắn index với giá Close\n",
        "data = pd.read_csv('SGT.csv', index_col='time', parse_dates=True)\n",
        "data=data.drop(columns=['open', 'high', 'low', 'volume'])\n",
        "data = data.reset_index(drop=True)\n",
        "df1 = data.reset_index()['close']"
      ],
      "metadata": {
        "ExecuteTime": {
          "end_time": "2024-05-28T14:53:23.221255800Z",
          "start_time": "2024-05-28T14:53:23.189975500Z"
        },
        "id": "wmo9VDkqxAqs"
      }
    },
    {
      "cell_type": "code",
      "execution_count": 93,
      "outputs": [],
      "source": [
        "# 3. Scaler data\n",
        "scaler = MinMaxScaler(feature_range=(0, 1))\n",
        "df1 = scaler.fit_transform(np.array(df1).reshape(-1, 1))"
      ],
      "metadata": {
        "ExecuteTime": {
          "end_time": "2024-05-28T14:53:45.526201Z",
          "start_time": "2024-05-28T14:53:45.494608100Z"
        },
        "id": "S18uBoflxAqt"
      }
    },
    {
      "cell_type": "code",
      "execution_count": 94,
      "outputs": [],
      "source": [
        "# 4. Chia train test\n",
        "train_size = int(0.8 * len(df1))\n",
        "test_size = len(df1) - train_size\n",
        "\n",
        "train_data = df1[:train_size]\n",
        "test_data = df1[train_size:]"
      ],
      "metadata": {
        "ExecuteTime": {
          "end_time": "2024-05-28T14:54:04.096894Z",
          "start_time": "2024-05-28T14:54:04.078891800Z"
        },
        "id": "ErjJCKYmxAqt"
      }
    },
    {
      "cell_type": "code",
      "execution_count": 95,
      "outputs": [],
      "source": [
        "# 5. Hàm Create Dataset\n",
        "def create_dataset(dataset, time_step=1):\n",
        "    dataX, dataY = [], []\n",
        "    for i in range(len(dataset) - time_step - 1):\n",
        "        a = dataset[i:(i + time_step), 0]\n",
        "        dataX.append(a)\n",
        "        dataY.append(dataset[i + time_step, 0])\n",
        "    return np.array(dataX), np.array(dataY)"
      ],
      "metadata": {
        "ExecuteTime": {
          "end_time": "2024-05-28T14:54:19.858878Z",
          "start_time": "2024-05-28T14:54:19.853777800Z"
        },
        "id": "kQ6K6jLCxAqt"
      }
    },
    {
      "cell_type": "code",
      "execution_count": 96,
      "outputs": [],
      "source": [
        "# 6. Reshape into X=t,t+1,t+2..t+99 and Y=t+100\n",
        "time_step = 30\n",
        "X_train, y_train = create_dataset(train_data, time_step)\n",
        "X_test, y_test = create_dataset(test_data, time_step)"
      ],
      "metadata": {
        "ExecuteTime": {
          "end_time": "2024-05-28T14:54:35.348902700Z",
          "start_time": "2024-05-28T14:54:35.325482200Z"
        },
        "id": "Ux85mXsCxAqt"
      }
    },
    {
      "cell_type": "code",
      "execution_count": 97,
      "outputs": [],
      "source": [
        "# 7. Reshape input to be [samples, time steps, features] which is required for LSTM\n",
        "X_train = X_train.reshape(X_train.shape[0], X_train.shape[1], 1)\n",
        "X_test = X_test.reshape(X_test.shape[0], X_test.shape[1], 1)"
      ],
      "metadata": {
        "ExecuteTime": {
          "end_time": "2024-05-28T14:54:45.315717400Z",
          "start_time": "2024-05-28T14:54:45.254296100Z"
        },
        "id": "aJpj7YDkxAqt"
      }
    },
    {
      "cell_type": "code",
      "execution_count": 98,
      "outputs": [],
      "source": [
        "# 8. Define LSTM Model\n",
        "model = Sequential()\n",
        "model.add(LSTM(50, return_sequences=True, input_shape=(time_step, 1)))\n",
        "model.add(LSTM(50, return_sequences=True))\n",
        "model.add(LSTM(50))\n",
        "model.add(Dense(1))\n",
        "model.compile(loss='mean_squared_error', optimizer='adam')"
      ],
      "metadata": {
        "ExecuteTime": {
          "end_time": "2024-05-28T14:55:00.120838100Z",
          "start_time": "2024-05-28T14:54:58.918711500Z"
        },
        "id": "8R2fQyTMxAqt"
      }
    },
    {
      "cell_type": "code",
      "execution_count": 99,
      "outputs": [
        {
          "output_type": "stream",
          "name": "stdout",
          "text": [
            "Epoch 1/100\n",
            "17/17 [==============================] - 9s 222ms/step - loss: 0.0423 - val_loss: 0.0043\n",
            "Epoch 2/100\n",
            "17/17 [==============================] - 1s 59ms/step - loss: 0.0070 - val_loss: 0.0035\n",
            "Epoch 3/100\n",
            "17/17 [==============================] - 1s 64ms/step - loss: 0.0033 - val_loss: 9.5850e-04\n",
            "Epoch 4/100\n",
            "17/17 [==============================] - 1s 59ms/step - loss: 0.0027 - val_loss: 8.8303e-04\n",
            "Epoch 5/100\n",
            "17/17 [==============================] - 1s 60ms/step - loss: 0.0026 - val_loss: 8.5686e-04\n",
            "Epoch 6/100\n",
            "17/17 [==============================] - 1s 62ms/step - loss: 0.0026 - val_loss: 8.4110e-04\n",
            "Epoch 7/100\n",
            "17/17 [==============================] - 1s 65ms/step - loss: 0.0029 - val_loss: 0.0015\n",
            "Epoch 8/100\n",
            "17/17 [==============================] - 1s 61ms/step - loss: 0.0026 - val_loss: 0.0010\n",
            "Epoch 9/100\n",
            "17/17 [==============================] - 1s 61ms/step - loss: 0.0026 - val_loss: 8.4969e-04\n",
            "Epoch 10/100\n",
            "17/17 [==============================] - 1s 60ms/step - loss: 0.0023 - val_loss: 8.9469e-04\n",
            "Epoch 11/100\n",
            "17/17 [==============================] - 1s 77ms/step - loss: 0.0021 - val_loss: 7.0442e-04\n",
            "Epoch 12/100\n",
            "17/17 [==============================] - 2s 97ms/step - loss: 0.0020 - val_loss: 6.9209e-04\n",
            "Epoch 13/100\n",
            "17/17 [==============================] - 3s 181ms/step - loss: 0.0019 - val_loss: 6.5661e-04\n",
            "Epoch 14/100\n",
            "17/17 [==============================] - 1s 61ms/step - loss: 0.0018 - val_loss: 6.3949e-04\n",
            "Epoch 15/100\n",
            "17/17 [==============================] - 1s 65ms/step - loss: 0.0020 - val_loss: 7.6233e-04\n",
            "Epoch 16/100\n",
            "17/17 [==============================] - 1s 64ms/step - loss: 0.0019 - val_loss: 8.1724e-04\n",
            "Epoch 17/100\n",
            "17/17 [==============================] - 1s 61ms/step - loss: 0.0017 - val_loss: 6.3148e-04\n",
            "Epoch 18/100\n",
            "17/17 [==============================] - 1s 62ms/step - loss: 0.0017 - val_loss: 0.0013\n",
            "Epoch 19/100\n",
            "17/17 [==============================] - 1s 60ms/step - loss: 0.0016 - val_loss: 7.6669e-04\n",
            "Epoch 20/100\n",
            "17/17 [==============================] - 1s 61ms/step - loss: 0.0017 - val_loss: 0.0026\n",
            "Epoch 21/100\n",
            "17/17 [==============================] - 1s 62ms/step - loss: 0.0017 - val_loss: 0.0015\n",
            "Epoch 22/100\n",
            "17/17 [==============================] - 1s 68ms/step - loss: 0.0019 - val_loss: 7.6184e-04\n",
            "Epoch 23/100\n",
            "17/17 [==============================] - 3s 160ms/step - loss: 0.0019 - val_loss: 7.1957e-04\n",
            "Epoch 24/100\n",
            "17/17 [==============================] - 2s 96ms/step - loss: 0.0023 - val_loss: 5.7213e-04\n",
            "Epoch 25/100\n",
            "17/17 [==============================] - 1s 61ms/step - loss: 0.0014 - val_loss: 5.9906e-04\n",
            "Epoch 26/100\n",
            "17/17 [==============================] - 1s 61ms/step - loss: 0.0013 - val_loss: 0.0016\n",
            "Epoch 27/100\n",
            "17/17 [==============================] - 1s 62ms/step - loss: 0.0024 - val_loss: 0.0024\n",
            "Epoch 28/100\n",
            "17/17 [==============================] - 1s 60ms/step - loss: 0.0025 - val_loss: 0.0011\n",
            "Epoch 29/100\n",
            "17/17 [==============================] - 1s 61ms/step - loss: 0.0021 - val_loss: 7.4093e-04\n",
            "Epoch 30/100\n",
            "17/17 [==============================] - 1s 62ms/step - loss: 0.0014 - val_loss: 5.3171e-04\n",
            "Epoch 31/100\n",
            "17/17 [==============================] - 1s 61ms/step - loss: 0.0013 - val_loss: 5.3645e-04\n",
            "Epoch 32/100\n",
            "17/17 [==============================] - 1s 61ms/step - loss: 0.0013 - val_loss: 5.3274e-04\n",
            "Epoch 33/100\n",
            "17/17 [==============================] - 1s 61ms/step - loss: 0.0012 - val_loss: 5.6549e-04\n",
            "Epoch 34/100\n",
            "17/17 [==============================] - 1s 82ms/step - loss: 0.0013 - val_loss: 5.1733e-04\n",
            "Epoch 35/100\n",
            "17/17 [==============================] - 2s 95ms/step - loss: 0.0013 - val_loss: 5.5174e-04\n",
            "Epoch 36/100\n",
            "17/17 [==============================] - 2s 100ms/step - loss: 0.0012 - val_loss: 5.0439e-04\n",
            "Epoch 37/100\n",
            "17/17 [==============================] - 1s 66ms/step - loss: 0.0012 - val_loss: 5.3781e-04\n",
            "Epoch 38/100\n",
            "17/17 [==============================] - 1s 62ms/step - loss: 0.0012 - val_loss: 7.1927e-04\n",
            "Epoch 39/100\n",
            "17/17 [==============================] - 1s 62ms/step - loss: 0.0013 - val_loss: 5.4956e-04\n",
            "Epoch 40/100\n",
            "17/17 [==============================] - 1s 62ms/step - loss: 0.0012 - val_loss: 6.5312e-04\n",
            "Epoch 41/100\n",
            "17/17 [==============================] - 1s 61ms/step - loss: 0.0013 - val_loss: 4.7119e-04\n",
            "Epoch 42/100\n",
            "17/17 [==============================] - 1s 62ms/step - loss: 0.0012 - val_loss: 8.1436e-04\n",
            "Epoch 43/100\n",
            "17/17 [==============================] - 1s 61ms/step - loss: 0.0012 - val_loss: 4.5466e-04\n",
            "Epoch 44/100\n",
            "17/17 [==============================] - 1s 62ms/step - loss: 0.0012 - val_loss: 5.3365e-04\n",
            "Epoch 45/100\n",
            "17/17 [==============================] - 1s 61ms/step - loss: 0.0011 - val_loss: 4.4122e-04\n",
            "Epoch 46/100\n",
            "17/17 [==============================] - 1s 73ms/step - loss: 0.0011 - val_loss: 5.0155e-04\n",
            "Epoch 47/100\n",
            "17/17 [==============================] - 2s 99ms/step - loss: 0.0011 - val_loss: 4.3761e-04\n",
            "Epoch 48/100\n",
            "17/17 [==============================] - 2s 103ms/step - loss: 0.0011 - val_loss: 4.7297e-04\n",
            "Epoch 49/100\n",
            "17/17 [==============================] - 1s 62ms/step - loss: 0.0010 - val_loss: 6.2749e-04\n",
            "Epoch 50/100\n",
            "17/17 [==============================] - 1s 62ms/step - loss: 0.0012 - val_loss: 4.0857e-04\n",
            "Epoch 51/100\n",
            "17/17 [==============================] - 1s 62ms/step - loss: 0.0010 - val_loss: 4.0930e-04\n",
            "Epoch 52/100\n",
            "17/17 [==============================] - 1s 61ms/step - loss: 0.0011 - val_loss: 4.3477e-04\n",
            "Epoch 53/100\n",
            "17/17 [==============================] - 1s 63ms/step - loss: 9.9937e-04 - val_loss: 4.1744e-04\n",
            "Epoch 54/100\n",
            "17/17 [==============================] - 1s 61ms/step - loss: 9.8292e-04 - val_loss: 4.2585e-04\n",
            "Epoch 55/100\n",
            "17/17 [==============================] - 1s 61ms/step - loss: 9.7424e-04 - val_loss: 4.2362e-04\n",
            "Epoch 56/100\n",
            "17/17 [==============================] - 1s 61ms/step - loss: 9.9212e-04 - val_loss: 3.9043e-04\n",
            "Epoch 57/100\n",
            "17/17 [==============================] - 1s 61ms/step - loss: 9.4534e-04 - val_loss: 3.8817e-04\n",
            "Epoch 58/100\n",
            "17/17 [==============================] - 1s 80ms/step - loss: 9.2033e-04 - val_loss: 4.7195e-04\n",
            "Epoch 59/100\n",
            "17/17 [==============================] - 2s 95ms/step - loss: 8.9047e-04 - val_loss: 3.4825e-04\n",
            "Epoch 60/100\n",
            "17/17 [==============================] - 2s 101ms/step - loss: 8.8557e-04 - val_loss: 4.3713e-04\n",
            "Epoch 61/100\n",
            "17/17 [==============================] - 1s 63ms/step - loss: 8.5594e-04 - val_loss: 4.5344e-04\n",
            "Epoch 62/100\n",
            "17/17 [==============================] - 1s 62ms/step - loss: 8.4111e-04 - val_loss: 5.9259e-04\n",
            "Epoch 63/100\n",
            "17/17 [==============================] - 1s 62ms/step - loss: 8.9184e-04 - val_loss: 3.8909e-04\n",
            "Epoch 64/100\n",
            "17/17 [==============================] - 1s 62ms/step - loss: 7.9942e-04 - val_loss: 8.4354e-04\n",
            "Epoch 65/100\n",
            "17/17 [==============================] - 1s 65ms/step - loss: 0.0010 - val_loss: 3.4224e-04\n",
            "Epoch 66/100\n",
            "17/17 [==============================] - 1s 61ms/step - loss: 7.8581e-04 - val_loss: 7.5405e-04\n",
            "Epoch 67/100\n",
            "17/17 [==============================] - 1s 64ms/step - loss: 9.1459e-04 - val_loss: 3.4828e-04\n",
            "Epoch 68/100\n",
            "17/17 [==============================] - 1s 60ms/step - loss: 7.7486e-04 - val_loss: 7.4153e-04\n",
            "Epoch 69/100\n",
            "17/17 [==============================] - 1s 60ms/step - loss: 9.9903e-04 - val_loss: 0.0010\n",
            "Epoch 70/100\n",
            "17/17 [==============================] - 1s 82ms/step - loss: 0.0012 - val_loss: 2.9397e-04\n",
            "Epoch 71/100\n",
            "17/17 [==============================] - 2s 99ms/step - loss: 7.3764e-04 - val_loss: 0.0018\n",
            "Epoch 72/100\n",
            "17/17 [==============================] - 2s 88ms/step - loss: 0.0020 - val_loss: 4.9174e-04\n",
            "Epoch 73/100\n",
            "17/17 [==============================] - 1s 62ms/step - loss: 0.0011 - val_loss: 4.7220e-04\n",
            "Epoch 74/100\n",
            "17/17 [==============================] - 1s 60ms/step - loss: 8.2855e-04 - val_loss: 4.0165e-04\n",
            "Epoch 75/100\n",
            "17/17 [==============================] - 1s 61ms/step - loss: 8.4081e-04 - val_loss: 3.4425e-04\n",
            "Epoch 76/100\n",
            "17/17 [==============================] - 1s 61ms/step - loss: 7.1466e-04 - val_loss: 2.9128e-04\n",
            "Epoch 77/100\n",
            "17/17 [==============================] - 1s 62ms/step - loss: 6.9726e-04 - val_loss: 4.0155e-04\n",
            "Epoch 78/100\n",
            "17/17 [==============================] - 1s 60ms/step - loss: 7.8186e-04 - val_loss: 3.8958e-04\n",
            "Epoch 79/100\n",
            "17/17 [==============================] - 1s 63ms/step - loss: 8.8018e-04 - val_loss: 4.8135e-04\n",
            "Epoch 80/100\n",
            "17/17 [==============================] - 1s 62ms/step - loss: 7.6249e-04 - val_loss: 6.1136e-04\n",
            "Epoch 81/100\n",
            "17/17 [==============================] - 1s 62ms/step - loss: 0.0014 - val_loss: 4.2163e-04\n",
            "Epoch 82/100\n",
            "17/17 [==============================] - 1s 88ms/step - loss: 6.7282e-04 - val_loss: 2.5002e-04\n",
            "Epoch 83/100\n",
            "17/17 [==============================] - 2s 98ms/step - loss: 6.4070e-04 - val_loss: 2.4814e-04\n",
            "Epoch 84/100\n",
            "17/17 [==============================] - 2s 94ms/step - loss: 5.6564e-04 - val_loss: 2.4750e-04\n",
            "Epoch 85/100\n",
            "17/17 [==============================] - 1s 60ms/step - loss: 5.4450e-04 - val_loss: 3.8862e-04\n",
            "Epoch 86/100\n",
            "17/17 [==============================] - 1s 60ms/step - loss: 5.4553e-04 - val_loss: 3.0314e-04\n",
            "Epoch 87/100\n",
            "17/17 [==============================] - 1s 61ms/step - loss: 5.2237e-04 - val_loss: 2.3471e-04\n",
            "Epoch 88/100\n",
            "17/17 [==============================] - 1s 59ms/step - loss: 5.1894e-04 - val_loss: 2.8034e-04\n",
            "Epoch 89/100\n",
            "17/17 [==============================] - 1s 61ms/step - loss: 5.7367e-04 - val_loss: 3.6419e-04\n",
            "Epoch 90/100\n",
            "17/17 [==============================] - 1s 61ms/step - loss: 7.3664e-04 - val_loss: 3.7736e-04\n",
            "Epoch 91/100\n",
            "17/17 [==============================] - 1s 60ms/step - loss: 5.1249e-04 - val_loss: 3.2688e-04\n",
            "Epoch 92/100\n",
            "17/17 [==============================] - 1s 62ms/step - loss: 5.0259e-04 - val_loss: 2.7921e-04\n",
            "Epoch 93/100\n",
            "17/17 [==============================] - 1s 62ms/step - loss: 4.9983e-04 - val_loss: 3.0327e-04\n",
            "Epoch 94/100\n",
            "17/17 [==============================] - 1s 79ms/step - loss: 7.3148e-04 - val_loss: 3.4959e-04\n",
            "Epoch 95/100\n",
            "17/17 [==============================] - 2s 98ms/step - loss: 4.9821e-04 - val_loss: 2.7220e-04\n",
            "Epoch 96/100\n",
            "17/17 [==============================] - 2s 101ms/step - loss: 4.4566e-04 - val_loss: 2.6528e-04\n",
            "Epoch 97/100\n",
            "17/17 [==============================] - 1s 61ms/step - loss: 4.7631e-04 - val_loss: 3.2728e-04\n",
            "Epoch 98/100\n",
            "17/17 [==============================] - 1s 60ms/step - loss: 5.8231e-04 - val_loss: 2.1670e-04\n",
            "Epoch 99/100\n",
            "17/17 [==============================] - 1s 61ms/step - loss: 4.5085e-04 - val_loss: 5.4093e-04\n",
            "Epoch 100/100\n",
            "17/17 [==============================] - 1s 62ms/step - loss: 6.2478e-04 - val_loss: 2.1204e-04\n"
          ]
        },
        {
          "output_type": "execute_result",
          "data": {
            "text/plain": [
              "<keras.src.callbacks.History at 0x7cd75c1c7c40>"
            ]
          },
          "metadata": {},
          "execution_count": 99
        }
      ],
      "source": [
        "# 9. Fit mô hình với dữ liệu train\n",
        "model.fit(X_train, y_train, validation_data=(X_test, y_test), epochs=100, batch_size=64, verbose=1)"
      ],
      "metadata": {
        "ExecuteTime": {
          "end_time": "2024-05-28T14:56:30.102897700Z",
          "start_time": "2024-05-28T14:55:12.041395900Z"
        },
        "colab": {
          "base_uri": "https://localhost:8080/"
        },
        "id": "cAmVJ_CTxAqt",
        "outputId": "dba33aad-5d89-4b04-c67b-06074bce933c"
      }
    },
    {
      "cell_type": "code",
      "execution_count": 100,
      "outputs": [
        {
          "output_type": "stream",
          "name": "stdout",
          "text": [
            "8/8 [==============================] - 1s 16ms/step\n"
          ]
        }
      ],
      "source": [
        "# 10. Dự báo dữ liệu test\n",
        "y_pred = model.predict(X_test)"
      ],
      "metadata": {
        "ExecuteTime": {
          "end_time": "2024-05-28T14:56:50.591406800Z",
          "start_time": "2024-05-28T14:56:48.662794700Z"
        },
        "colab": {
          "base_uri": "https://localhost:8080/"
        },
        "id": "OjMIKSLFxAqt",
        "outputId": "402c3b63-85b4-4566-8bcd-e2107b59b6eb"
      }
    },
    {
      "cell_type": "code",
      "execution_count": 101,
      "outputs": [],
      "source": [
        "# 11. Inverse transform dự báo và dữ liệu thực tế\n",
        "y_pred_new = scaler.inverse_transform(y_pred)\n",
        "y_test_new = scaler.inverse_transform(y_test.reshape(-1, 1))"
      ],
      "metadata": {
        "ExecuteTime": {
          "end_time": "2024-05-28T14:56:51.494533700Z",
          "start_time": "2024-05-28T14:56:51.483432Z"
        },
        "id": "9NaaGt04xAqt"
      }
    },
    {
      "cell_type": "code",
      "execution_count": 102,
      "outputs": [
        {
          "output_type": "stream",
          "name": "stdout",
          "text": [
            "RMSE trên tập test là: 345.98665034077976\n",
            "MAPE trên tập test là: 1.86811721867976 %\n",
            "MSLE trên tập test là: 0.000653952441933535\n"
          ]
        }
      ],
      "source": [
        "from sklearn.metrics import mean_squared_log_error\n",
        "\n",
        "# Tính toán RMSE, MAE và MAPE trên tập test\n",
        "test_score_rmse = np.sqrt(mean_squared_error(y_test_new, y_pred_new))\n",
        "test_score_mape = mean_absolute_percentage_error(y_test_new, y_pred_new) * 100\n",
        "test_score_msle = mean_squared_log_error(y_test_new, y_pred_new)\n",
        "\n",
        "print('RMSE trên tập test là:', test_score_rmse)\n",
        "print('MAPE trên tập test là:', test_score_mape, '%')\n",
        "print('MSLE trên tập test là:', test_score_msle)"
      ],
      "metadata": {
        "ExecuteTime": {
          "end_time": "2024-05-28T14:56:52.303265700Z",
          "start_time": "2024-05-28T14:56:52.256388100Z"
        },
        "colab": {
          "base_uri": "https://localhost:8080/"
        },
        "id": "lKK5kRjGxAqu",
        "outputId": "bc2e0531-5de1-40f1-ffd1-6603299764fe"
      }
    },
    {
      "cell_type": "code",
      "execution_count": 103,
      "outputs": [],
      "source": [
        "# 13. Dự báo 30 ngày tiếp theo\n",
        "x_input = test_data[len(test_data) - time_step:].reshape(1, -1)\n",
        "temp_input = list(x_input)\n",
        "temp_input = temp_input[0].tolist()\n",
        "\n",
        "lst_output = []\n",
        "i = 0\n",
        "while i < 30:\n",
        "    if len(temp_input) > time_step:\n",
        "        x_input = np.array(temp_input[1:])\n",
        "        x_input = x_input.reshape(1, -1)\n",
        "        x_input = x_input.reshape((1, time_step, 1))\n",
        "        yhat = model.predict(x_input, verbose=0)\n",
        "        temp_input.extend(yhat[0].tolist())\n",
        "        temp_input = temp_input[1:]\n",
        "        lst_output.extend(yhat.tolist())\n",
        "        i += 1\n",
        "    else:\n",
        "        x_input = x_input.reshape((1, time_step, 1))\n",
        "        yhat = model.predict(x_input, verbose=0)\n",
        "        temp_input.extend(yhat[0].tolist())\n",
        "        lst_output.extend(yhat.tolist())\n",
        "        i += 1"
      ],
      "metadata": {
        "ExecuteTime": {
          "end_time": "2024-05-28T14:57:12.986620Z",
          "start_time": "2024-05-28T14:57:10.872785900Z"
        },
        "id": "R3N5PEFixAqu"
      }
    },
    {
      "cell_type": "code",
      "execution_count": 104,
      "outputs": [
        {
          "output_type": "display_data",
          "data": {
            "text/plain": [
              "<Figure size 1200x600 with 1 Axes>"
            ],
            "image/png": "[encoded data removed]"
          },
          "metadata": {}
        }
      ],
      "source": [
        "# 14. Vẽ hình\n",
        "plt.figure(figsize=(12, 6))\n",
        "plt.plot(scaler.inverse_transform(df1), label='Train')\n",
        "test_data_index = pd.RangeIndex(start=train_size, stop=train_size + test_size, step=1)\n",
        "plt.plot(test_data_index, scaler.inverse_transform(test_data), label='Actual Test')\n",
        "test_pred_index = pd.RangeIndex(start=train_size + time_step, stop=train_size + test_size - 1, step=1)\n",
        "plt.plot(test_pred_index, scaler.inverse_transform(y_pred), label='Predicted Test')\n",
        "predict_data_index = pd.RangeIndex(start=len(df1), stop=len(df1) + 30, step=1)\n",
        "plt.plot(predict_data_index, scaler.inverse_transform(lst_output), label='Next 30 days')\n",
        "plt.xlabel('Time')\n",
        "plt.ylabel('Price')\n",
        "plt.legend()\n",
        "plt.show()"
      ],
      "metadata": {
        "ExecuteTime": {
          "end_time": "2024-05-28T14:57:26.410783500Z",
          "start_time": "2024-05-28T14:57:26.214163600Z"
        },
        "colab": {
          "base_uri": "https://localhost:8080/",
          "height": 542
        },
        "id": "CPvg9d48xAqu",
        "outputId": "ddfd14b9-d041-43b4-d5cb-e2917f6b0de5"
      }
    },
    {
      "cell_type": "markdown",
      "source": [
        "# (Split 9/1)"
      ],
      "metadata": {
        "collapsed": false,
        "id": "WAl1VhslxAqu"
      }
    },
    {
      "cell_type": "code",
      "execution_count": 105,
      "outputs": [],
      "source": [
        "# 1. Import thư viện cần thiết\n",
        "import numpy as np\n",
        "import pandas as pd\n",
        "import matplotlib.pyplot as plt\n",
        "from sklearn.preprocessing import MinMaxScaler\n",
        "from keras.models import Sequential\n",
        "from keras.layers import Dense, LSTM\n",
        "from sklearn.metrics import mean_squared_error, mean_absolute_percentage_error\n",
        "\n",
        "# 2. Đọc file csv và gắn index với giá Close\n",
        "data = pd.read_csv('SGT.csv', index_col='time', parse_dates=True)\n",
        "data=data.drop(columns=['open', 'high', 'low', 'volume'])\n",
        "data = data.reset_index(drop=True)\n",
        "df1 = data.reset_index()['close']"
      ],
      "metadata": {
        "ExecuteTime": {
          "end_time": "2024-05-28T15:04:52.836836400Z",
          "start_time": "2024-05-28T15:04:52.774027800Z"
        },
        "id": "LjOAHbjWxAqu"
      }
    },
    {
      "cell_type": "code",
      "execution_count": 106,
      "outputs": [],
      "source": [
        "# 3. Scaler data\n",
        "scaler = MinMaxScaler(feature_range=(0, 1))\n",
        "df1 = scaler.fit_transform(np.array(df1).reshape(-1, 1))"
      ],
      "metadata": {
        "ExecuteTime": {
          "end_time": "2024-05-28T15:05:06.808057600Z",
          "start_time": "2024-05-28T15:05:06.792414300Z"
        },
        "id": "egikUnXOxAqu"
      }
    },
    {
      "cell_type": "code",
      "execution_count": 107,
      "outputs": [],
      "source": [
        "# 4. Chia train test\n",
        "train_size = int(0.9 * len(df1))\n",
        "test_size = len(df1) - train_size\n",
        "\n",
        "train_data = df1[:train_size]\n",
        "test_data = df1[train_size:]"
      ],
      "metadata": {
        "ExecuteTime": {
          "end_time": "2024-05-28T15:06:59.555402800Z",
          "start_time": "2024-05-28T15:06:59.518911500Z"
        },
        "id": "j6a0zplQxAqu"
      }
    },
    {
      "cell_type": "code",
      "execution_count": 108,
      "outputs": [],
      "source": [
        "# 5. Hàm Create Dataset\n",
        "def create_dataset(dataset, time_step=1):\n",
        "    dataX, dataY = [], []\n",
        "    for i in range(len(dataset) - time_step - 1):\n",
        "        a = dataset[i:(i + time_step), 0]\n",
        "        dataX.append(a)\n",
        "        dataY.append(dataset[i + time_step, 0])\n",
        "    return np.array(dataX), np.array(dataY)"
      ],
      "metadata": {
        "ExecuteTime": {
          "end_time": "2024-05-28T15:07:02.138963100Z",
          "start_time": "2024-05-28T15:07:02.095951400Z"
        },
        "id": "ZHTISki4xAqu"
      }
    },
    {
      "cell_type": "code",
      "execution_count": 109,
      "outputs": [],
      "source": [
        "# 6. Reshape into X=t,t+1,t+2..t+99 and Y=t+100\n",
        "time_step = 30\n",
        "X_train, y_train = create_dataset(train_data, time_step)\n",
        "X_test, y_test = create_dataset(test_data, time_step)"
      ],
      "metadata": {
        "ExecuteTime": {
          "end_time": "2024-05-28T15:07:21.939300200Z",
          "start_time": "2024-05-28T15:07:21.893050600Z"
        },
        "id": "5sxvqSMZxAqu"
      }
    },
    {
      "cell_type": "code",
      "execution_count": 110,
      "outputs": [],
      "source": [
        "# 7. Reshape input to be [samples, time steps, features] which is required for LSTM\n",
        "X_train = X_train.reshape(X_train.shape[0], X_train.shape[1], 1)\n",
        "X_test = X_test.reshape(X_test.shape[0], X_test.shape[1], 1)"
      ],
      "metadata": {
        "ExecuteTime": {
          "end_time": "2024-05-28T15:07:44.804807900Z",
          "start_time": "2024-05-28T15:07:44.757931600Z"
        },
        "id": "jhYDamKKxAqu"
      }
    },
    {
      "cell_type": "code",
      "execution_count": 111,
      "outputs": [],
      "source": [
        "# 8. Define LSTM Model\n",
        "model = Sequential()\n",
        "model.add(LSTM(50, return_sequences=True, input_shape=(time_step, 1)))\n",
        "model.add(LSTM(50, return_sequences=True))\n",
        "model.add(LSTM(50))\n",
        "model.add(Dense(1))\n",
        "model.compile(loss='mean_squared_error', optimizer='adam')"
      ],
      "metadata": {
        "ExecuteTime": {
          "end_time": "2024-05-28T15:07:59.443261100Z",
          "start_time": "2024-05-28T15:07:58.118183700Z"
        },
        "id": "QsLQvXc1xAqu"
      }
    },
    {
      "cell_type": "code",
      "execution_count": 112,
      "outputs": [
        {
          "output_type": "stream",
          "name": "stdout",
          "text": [
            "Epoch 1/100\n",
            "19/19 [==============================] - 10s 175ms/step - loss: 0.0653 - val_loss: 0.0083\n",
            "Epoch 2/100\n",
            "19/19 [==============================] - 1s 57ms/step - loss: 0.0078 - val_loss: 0.0014\n",
            "Epoch 3/100\n",
            "19/19 [==============================] - 1s 59ms/step - loss: 0.0035 - val_loss: 6.6581e-04\n",
            "Epoch 4/100\n",
            "19/19 [==============================] - 1s 60ms/step - loss: 0.0029 - val_loss: 6.3857e-04\n",
            "Epoch 5/100\n",
            "19/19 [==============================] - 1s 57ms/step - loss: 0.0027 - val_loss: 8.0734e-04\n",
            "Epoch 6/100\n",
            "19/19 [==============================] - 1s 58ms/step - loss: 0.0026 - val_loss: 7.7523e-04\n",
            "Epoch 7/100\n",
            "19/19 [==============================] - 1s 58ms/step - loss: 0.0025 - val_loss: 6.6664e-04\n",
            "Epoch 8/100\n",
            "19/19 [==============================] - 1s 57ms/step - loss: 0.0025 - val_loss: 7.2754e-04\n",
            "Epoch 9/100\n",
            "19/19 [==============================] - 1s 62ms/step - loss: 0.0022 - val_loss: 6.9519e-04\n",
            "Epoch 10/100\n",
            "19/19 [==============================] - 2s 85ms/step - loss: 0.0026 - val_loss: 8.6006e-04\n",
            "Epoch 11/100\n",
            "19/19 [==============================] - 2s 96ms/step - loss: 0.0021 - val_loss: 6.1200e-04\n",
            "Epoch 12/100\n",
            "19/19 [==============================] - 1s 70ms/step - loss: 0.0019 - val_loss: 8.2138e-04\n",
            "Epoch 13/100\n",
            "19/19 [==============================] - 1s 57ms/step - loss: 0.0019 - val_loss: 9.4892e-04\n",
            "Epoch 14/100\n",
            "19/19 [==============================] - 1s 57ms/step - loss: 0.0020 - val_loss: 7.3881e-04\n",
            "Epoch 15/100\n",
            "19/19 [==============================] - 1s 57ms/step - loss: 0.0019 - val_loss: 6.6482e-04\n",
            "Epoch 16/100\n",
            "19/19 [==============================] - 1s 57ms/step - loss: 0.0017 - val_loss: 6.3122e-04\n",
            "Epoch 17/100\n",
            "19/19 [==============================] - 1s 58ms/step - loss: 0.0017 - val_loss: 6.9476e-04\n",
            "Epoch 18/100\n",
            "19/19 [==============================] - 1s 58ms/step - loss: 0.0017 - val_loss: 6.9300e-04\n",
            "Epoch 19/100\n",
            "19/19 [==============================] - 1s 58ms/step - loss: 0.0015 - val_loss: 7.1368e-04\n",
            "Epoch 20/100\n",
            "19/19 [==============================] - 1s 58ms/step - loss: 0.0017 - val_loss: 6.7023e-04\n",
            "Epoch 21/100\n",
            "19/19 [==============================] - 1s 79ms/step - loss: 0.0015 - val_loss: 5.8036e-04\n",
            "Epoch 22/100\n",
            "19/19 [==============================] - 2s 93ms/step - loss: 0.0013 - val_loss: 5.8090e-04\n",
            "Epoch 23/100\n",
            "19/19 [==============================] - 2s 91ms/step - loss: 0.0013 - val_loss: 5.9182e-04\n",
            "Epoch 24/100\n",
            "19/19 [==============================] - 1s 58ms/step - loss: 0.0014 - val_loss: 6.1318e-04\n",
            "Epoch 25/100\n",
            "19/19 [==============================] - 1s 58ms/step - loss: 0.0014 - val_loss: 5.8521e-04\n",
            "Epoch 26/100\n",
            "19/19 [==============================] - 1s 60ms/step - loss: 0.0014 - val_loss: 5.7551e-04\n",
            "Epoch 27/100\n",
            "19/19 [==============================] - 1s 58ms/step - loss: 0.0013 - val_loss: 6.6785e-04\n",
            "Epoch 28/100\n",
            "19/19 [==============================] - 1s 59ms/step - loss: 0.0013 - val_loss: 8.3132e-04\n",
            "Epoch 29/100\n",
            "19/19 [==============================] - 1s 58ms/step - loss: 0.0012 - val_loss: 7.0701e-04\n",
            "Epoch 30/100\n",
            "19/19 [==============================] - 1s 58ms/step - loss: 0.0014 - val_loss: 5.4132e-04\n",
            "Epoch 31/100\n",
            "19/19 [==============================] - 1s 58ms/step - loss: 0.0012 - val_loss: 5.2191e-04\n",
            "Epoch 32/100\n",
            "19/19 [==============================] - 1s 58ms/step - loss: 0.0012 - val_loss: 6.3495e-04\n",
            "Epoch 33/100\n",
            "19/19 [==============================] - 2s 89ms/step - loss: 0.0012 - val_loss: 6.8220e-04\n",
            "Epoch 34/100\n",
            "19/19 [==============================] - 2s 97ms/step - loss: 0.0012 - val_loss: 5.0561e-04\n",
            "Epoch 35/100\n",
            "19/19 [==============================] - 1s 60ms/step - loss: 0.0012 - val_loss: 8.4619e-04\n",
            "Epoch 36/100\n",
            "19/19 [==============================] - 1s 58ms/step - loss: 0.0013 - val_loss: 4.8639e-04\n",
            "Epoch 37/100\n",
            "19/19 [==============================] - 1s 59ms/step - loss: 0.0011 - val_loss: 4.7772e-04\n",
            "Epoch 38/100\n",
            "19/19 [==============================] - 1s 58ms/step - loss: 0.0011 - val_loss: 5.2182e-04\n",
            "Epoch 39/100\n",
            "19/19 [==============================] - 1s 58ms/step - loss: 0.0011 - val_loss: 5.9953e-04\n",
            "Epoch 40/100\n",
            "19/19 [==============================] - 1s 58ms/step - loss: 0.0012 - val_loss: 7.7308e-04\n",
            "Epoch 41/100\n",
            "19/19 [==============================] - 1s 59ms/step - loss: 0.0011 - val_loss: 4.5626e-04\n",
            "Epoch 42/100\n",
            "19/19 [==============================] - 1s 58ms/step - loss: 9.9272e-04 - val_loss: 4.8511e-04\n",
            "Epoch 43/100\n",
            "19/19 [==============================] - 1s 59ms/step - loss: 9.7607e-04 - val_loss: 4.5016e-04\n",
            "Epoch 44/100\n",
            "19/19 [==============================] - 2s 93ms/step - loss: 9.9973e-04 - val_loss: 4.2663e-04\n",
            "Epoch 45/100\n",
            "19/19 [==============================] - 2s 96ms/step - loss: 9.7429e-04 - val_loss: 6.8147e-04\n",
            "Epoch 46/100\n",
            "19/19 [==============================] - 1s 66ms/step - loss: 0.0011 - val_loss: 4.2289e-04\n",
            "Epoch 47/100\n",
            "19/19 [==============================] - 1s 58ms/step - loss: 0.0012 - val_loss: 6.1139e-04\n",
            "Epoch 48/100\n",
            "19/19 [==============================] - 1s 59ms/step - loss: 0.0011 - val_loss: 4.7727e-04\n",
            "Epoch 49/100\n",
            "19/19 [==============================] - 1s 60ms/step - loss: 9.9086e-04 - val_loss: 3.9673e-04\n",
            "Epoch 50/100\n",
            "19/19 [==============================] - 1s 59ms/step - loss: 8.9589e-04 - val_loss: 0.0015\n",
            "Epoch 51/100\n",
            "19/19 [==============================] - 1s 60ms/step - loss: 0.0013 - val_loss: 8.6630e-04\n",
            "Epoch 52/100\n",
            "19/19 [==============================] - 1s 58ms/step - loss: 0.0010 - val_loss: 3.7852e-04\n",
            "Epoch 53/100\n",
            "19/19 [==============================] - 1s 59ms/step - loss: 9.8253e-04 - val_loss: 4.9580e-04\n",
            "Epoch 54/100\n",
            "19/19 [==============================] - 1s 59ms/step - loss: 9.2807e-04 - val_loss: 4.3436e-04\n",
            "Epoch 55/100\n",
            "19/19 [==============================] - 2s 87ms/step - loss: 9.3254e-04 - val_loss: 6.9406e-04\n",
            "Epoch 56/100\n",
            "19/19 [==============================] - 2s 95ms/step - loss: 8.4884e-04 - val_loss: 3.5231e-04\n",
            "Epoch 57/100\n",
            "19/19 [==============================] - 1s 68ms/step - loss: 8.0657e-04 - val_loss: 4.4718e-04\n",
            "Epoch 58/100\n",
            "19/19 [==============================] - 1s 59ms/step - loss: 8.1490e-04 - val_loss: 3.4008e-04\n",
            "Epoch 59/100\n",
            "19/19 [==============================] - 1s 57ms/step - loss: 7.8874e-04 - val_loss: 3.3293e-04\n",
            "Epoch 60/100\n",
            "19/19 [==============================] - 2s 130ms/step - loss: 7.7969e-04 - val_loss: 4.1141e-04\n",
            "Epoch 61/100\n",
            "19/19 [==============================] - 3s 134ms/step - loss: 8.7119e-04 - val_loss: 3.9314e-04\n",
            "Epoch 62/100\n",
            "19/19 [==============================] - 2s 122ms/step - loss: 7.4953e-04 - val_loss: 0.0010\n",
            "Epoch 63/100\n",
            "19/19 [==============================] - 4s 192ms/step - loss: 9.9948e-04 - val_loss: 2.9128e-04\n",
            "Epoch 64/100\n",
            "19/19 [==============================] - 1s 69ms/step - loss: 8.4383e-04 - val_loss: 4.9133e-04\n",
            "Epoch 65/100\n",
            "19/19 [==============================] - 1s 59ms/step - loss: 0.0012 - val_loss: 7.1977e-04\n",
            "Epoch 66/100\n",
            "19/19 [==============================] - 1s 58ms/step - loss: 7.8488e-04 - val_loss: 2.6927e-04\n",
            "Epoch 67/100\n",
            "19/19 [==============================] - 1s 58ms/step - loss: 6.9285e-04 - val_loss: 2.9384e-04\n",
            "Epoch 68/100\n",
            "19/19 [==============================] - 1s 58ms/step - loss: 6.8297e-04 - val_loss: 6.1326e-04\n",
            "Epoch 69/100\n",
            "19/19 [==============================] - 1s 57ms/step - loss: 9.3461e-04 - val_loss: 4.8950e-04\n",
            "Epoch 70/100\n",
            "19/19 [==============================] - 1s 59ms/step - loss: 8.9693e-04 - val_loss: 4.2873e-04\n",
            "Epoch 71/100\n",
            "19/19 [==============================] - 1s 58ms/step - loss: 6.5938e-04 - val_loss: 2.6246e-04\n",
            "Epoch 72/100\n",
            "19/19 [==============================] - 1s 59ms/step - loss: 7.0833e-04 - val_loss: 5.1250e-04\n",
            "Epoch 73/100\n",
            "19/19 [==============================] - 2s 86ms/step - loss: 6.3670e-04 - val_loss: 3.2019e-04\n",
            "Epoch 74/100\n",
            "19/19 [==============================] - 2s 99ms/step - loss: 6.2463e-04 - val_loss: 2.8229e-04\n",
            "Epoch 75/100\n",
            "19/19 [==============================] - 1s 66ms/step - loss: 5.8140e-04 - val_loss: 2.3200e-04\n",
            "Epoch 76/100\n",
            "19/19 [==============================] - 1s 58ms/step - loss: 5.8049e-04 - val_loss: 2.2499e-04\n",
            "Epoch 77/100\n",
            "19/19 [==============================] - 1s 59ms/step - loss: 5.3968e-04 - val_loss: 2.5032e-04\n",
            "Epoch 78/100\n",
            "19/19 [==============================] - 1s 59ms/step - loss: 5.4791e-04 - val_loss: 3.7879e-04\n",
            "Epoch 79/100\n",
            "19/19 [==============================] - 1s 59ms/step - loss: 6.8304e-04 - val_loss: 2.9896e-04\n",
            "Epoch 80/100\n",
            "19/19 [==============================] - 1s 59ms/step - loss: 6.4247e-04 - val_loss: 2.1684e-04\n",
            "Epoch 81/100\n",
            "19/19 [==============================] - 1s 60ms/step - loss: 5.8407e-04 - val_loss: 2.1409e-04\n",
            "Epoch 82/100\n",
            "19/19 [==============================] - 1s 58ms/step - loss: 5.1864e-04 - val_loss: 2.5338e-04\n",
            "Epoch 83/100\n",
            "19/19 [==============================] - 1s 58ms/step - loss: 5.4490e-04 - val_loss: 2.3126e-04\n",
            "Epoch 84/100\n",
            "19/19 [==============================] - 2s 84ms/step - loss: 5.0482e-04 - val_loss: 2.9469e-04\n",
            "Epoch 85/100\n",
            "19/19 [==============================] - 2s 90ms/step - loss: 4.6818e-04 - val_loss: 2.3688e-04\n",
            "Epoch 86/100\n",
            "19/19 [==============================] - 1s 77ms/step - loss: 5.2031e-04 - val_loss: 2.2452e-04\n",
            "Epoch 87/100\n",
            "19/19 [==============================] - 1s 59ms/step - loss: 5.2661e-04 - val_loss: 4.7366e-04\n",
            "Epoch 88/100\n",
            "19/19 [==============================] - 1s 59ms/step - loss: 5.0556e-04 - val_loss: 2.4622e-04\n",
            "Epoch 89/100\n",
            "19/19 [==============================] - 1s 59ms/step - loss: 4.9110e-04 - val_loss: 1.9671e-04\n",
            "Epoch 90/100\n",
            "19/19 [==============================] - 1s 59ms/step - loss: 4.8485e-04 - val_loss: 2.0063e-04\n",
            "Epoch 91/100\n",
            "19/19 [==============================] - 1s 60ms/step - loss: 5.0149e-04 - val_loss: 1.8271e-04\n",
            "Epoch 92/100\n",
            "19/19 [==============================] - 1s 59ms/step - loss: 4.4986e-04 - val_loss: 4.6632e-04\n",
            "Epoch 93/100\n",
            "19/19 [==============================] - 1s 58ms/step - loss: 5.4084e-04 - val_loss: 2.9149e-04\n",
            "Epoch 94/100\n",
            "19/19 [==============================] - 1s 61ms/step - loss: 5.2422e-04 - val_loss: 3.0550e-04\n",
            "Epoch 95/100\n",
            "19/19 [==============================] - 1s 79ms/step - loss: 5.1853e-04 - val_loss: 4.7044e-04\n",
            "Epoch 96/100\n",
            "19/19 [==============================] - 2s 91ms/step - loss: 5.5480e-04 - val_loss: 1.8713e-04\n",
            "Epoch 97/100\n",
            "19/19 [==============================] - 2s 80ms/step - loss: 3.9339e-04 - val_loss: 1.8425e-04\n",
            "Epoch 98/100\n",
            "19/19 [==============================] - 1s 59ms/step - loss: 3.9850e-04 - val_loss: 1.7838e-04\n",
            "Epoch 99/100\n",
            "19/19 [==============================] - 1s 58ms/step - loss: 4.0487e-04 - val_loss: 2.4425e-04\n",
            "Epoch 100/100\n",
            "19/19 [==============================] - 1s 58ms/step - loss: 4.0467e-04 - val_loss: 1.9956e-04\n"
          ]
        },
        {
          "output_type": "execute_result",
          "data": {
            "text/plain": [
              "<keras.src.callbacks.History at 0x7cd755e3fc10>"
            ]
          },
          "metadata": {},
          "execution_count": 112
        }
      ],
      "source": [
        "# 9. Fit mô hình với dữ liệu train\n",
        "model.fit(X_train, y_train, validation_data=(X_test, y_test), epochs=100, batch_size=64, verbose=1)"
      ],
      "metadata": {
        "ExecuteTime": {
          "end_time": "2024-05-28T15:09:35.990663500Z",
          "start_time": "2024-05-28T15:08:11.766231200Z"
        },
        "colab": {
          "base_uri": "https://localhost:8080/"
        },
        "id": "Zy17Wl5mxAqv",
        "outputId": "17de8692-4530-47a0-da86-db4669a265d2"
      }
    },
    {
      "cell_type": "code",
      "execution_count": 113,
      "outputs": [
        {
          "output_type": "stream",
          "name": "stdout",
          "text": [
            "4/4 [==============================] - 1s 11ms/step\n"
          ]
        }
      ],
      "source": [
        "# 10. Dự báo dữ liệu test\n",
        "y_pred = model.predict(X_test)"
      ],
      "metadata": {
        "ExecuteTime": {
          "end_time": "2024-05-28T15:09:54.006918900Z",
          "start_time": "2024-05-28T15:09:52.343132300Z"
        },
        "colab": {
          "base_uri": "https://localhost:8080/"
        },
        "id": "42DgMieAxAqv",
        "outputId": "8b99f6b7-b05d-4787-ece4-8b37d206b082"
      }
    },
    {
      "cell_type": "code",
      "execution_count": 114,
      "outputs": [],
      "source": [
        "# 11. Inverse transform dự báo và dữ liệu thực tế\n",
        "y_pred_new = scaler.inverse_transform(y_pred)\n",
        "y_test_new = scaler.inverse_transform(y_test.reshape(-1, 1))"
      ],
      "metadata": {
        "ExecuteTime": {
          "end_time": "2024-05-28T15:10:26.279554200Z",
          "start_time": "2024-05-28T15:10:26.230038600Z"
        },
        "id": "CS8ox15DxAqv"
      }
    },
    {
      "cell_type": "code",
      "execution_count": 115,
      "outputs": [
        {
          "output_type": "stream",
          "name": "stdout",
          "text": [
            "RMSE trên tập test là: 335.6458468737788\n",
            "MAPE trên tập test là: 2.093754310340668 %\n",
            "MSLE trên tập test là: 0.00068226904039196\n"
          ]
        }
      ],
      "source": [
        "from sklearn.metrics import mean_squared_log_error\n",
        "\n",
        "# Tính toán RMSE, MAE và MAPE trên tập test\n",
        "test_score_rmse = np.sqrt(mean_squared_error(y_test_new, y_pred_new))\n",
        "test_score_mape = mean_absolute_percentage_error(y_test_new, y_pred_new) * 100\n",
        "test_score_msle = mean_squared_log_error(y_test_new, y_pred_new)\n",
        "\n",
        "print('RMSE trên tập test là:', test_score_rmse)\n",
        "print('MAPE trên tập test là:', test_score_mape, '%')\n",
        "print('MSLE trên tập test là:', test_score_msle)"
      ],
      "metadata": {
        "ExecuteTime": {
          "end_time": "2024-05-28T15:10:28.303802600Z",
          "start_time": "2024-05-28T15:10:28.303802600Z"
        },
        "colab": {
          "base_uri": "https://localhost:8080/"
        },
        "id": "-XShw5XcxAqv",
        "outputId": "58419433-b9d0-47dd-c494-df586870f6e7"
      }
    },
    {
      "cell_type": "code",
      "execution_count": 116,
      "outputs": [],
      "source": [
        "# 13. Dự báo 30 ngày tiếp theo\n",
        "x_input = test_data[len(test_data) - time_step:].reshape(1, -1)\n",
        "temp_input = list(x_input)\n",
        "temp_input = temp_input[0].tolist()\n",
        "\n",
        "lst_output = []\n",
        "i = 0\n",
        "while i < 30:\n",
        "    if len(temp_input) > time_step:\n",
        "        x_input = np.array(temp_input[1:])\n",
        "        x_input = x_input.reshape(1, -1)\n",
        "        x_input = x_input.reshape((1, time_step, 1))\n",
        "        yhat = model.predict(x_input, verbose=0)\n",
        "        temp_input.extend(yhat[0].tolist())\n",
        "        temp_input = temp_input[1:]\n",
        "        lst_output.extend(yhat.tolist())\n",
        "        i += 1\n",
        "    else:\n",
        "        x_input = x_input.reshape((1, time_step, 1))\n",
        "        yhat = model.predict(x_input, verbose=0)\n",
        "        temp_input.extend(yhat[0].tolist())\n",
        "        lst_output.extend(yhat.tolist())\n",
        "        i += 1"
      ],
      "metadata": {
        "ExecuteTime": {
          "end_time": "2024-05-28T15:10:54.836231800Z",
          "start_time": "2024-05-28T15:10:52.419310400Z"
        },
        "id": "ytsUfAnSxAqv"
      }
    },
    {
      "cell_type": "code",
      "execution_count": 117,
      "outputs": [
        {
          "output_type": "display_data",
          "data": {
            "text/plain": [
              "<Figure size 1200x600 with 1 Axes>"
            ],
            "image/png": "[encoded data removed]"
          },
          "metadata": {}
        }
      ],
      "source": [
        "# 14. Vẽ hình\n",
        "plt.figure(figsize=(12, 6))\n",
        "plt.plot(scaler.inverse_transform(df1), label='Train')\n",
        "test_data_index = pd.RangeIndex(start=train_size, stop=train_size + test_size, step=1)\n",
        "plt.plot(test_data_index, scaler.inverse_transform(test_data), label='Actual Test')\n",
        "test_pred_index = pd.RangeIndex(start=train_size + time_step, stop=train_size + test_size - 1, step=1)\n",
        "plt.plot(test_pred_index, scaler.inverse_transform(y_pred), label='Predicted Test')\n",
        "predict_data_index = pd.RangeIndex(start=len(df1), stop=len(df1) + 30, step=1)\n",
        "plt.plot(predict_data_index, scaler.inverse_transform(lst_output), label='Next 30 days')\n",
        "plt.xlabel('Time')\n",
        "plt.ylabel('Price')\n",
        "plt.legend()\n",
        "plt.show()"
      ],
      "metadata": {
        "ExecuteTime": {
          "end_time": "2024-05-28T15:10:56.101037500Z",
          "start_time": "2024-05-28T15:10:55.899675800Z"
        },
        "colab": {
          "base_uri": "https://localhost:8080/",
          "height": 542
        },
        "id": "qC3sDuAIxAqv",
        "outputId": "36d863c0-25b6-4131-8745-d3981124d90b"
      }
    },
    {
      "cell_type": "code",
      "execution_count": 117,
      "outputs": [],
      "source": [],
      "metadata": {
        "id": "YCpJWspVxAqw"
      }
    }
  ],
  "metadata": {
    "kernelspec": {
      "display_name": "Python 3",
      "language": "python",
      "name": "python3"
    },
    "language_info": {
      "codemirror_mode": {
        "name": "ipython",
        "version": 2
      },
      "file_extension": ".py",
      "mimetype": "text/x-python",
      "name": "python",
      "nbconvert_exporter": "python",
      "pygments_lexer": "ipython2",
      "version": "2.7.6"
    },
    "colab": {
      "provenance": []
    }
  },
  "nbformat": 4,
  "nbformat_minor": 0
}