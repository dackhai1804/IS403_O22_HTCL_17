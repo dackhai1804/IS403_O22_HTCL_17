{
  "cells": [
    {
      "cell_type": "code",
      "execution_count": 40,
      "outputs": [],
      "source": [
        "# 1. Import thư viện cần thiết\n",
        "import numpy as np\n",
        "import pandas as pd\n",
        "import matplotlib.pyplot as plt\n",
        "from sklearn.preprocessing import MinMaxScaler\n",
        "from keras.models import Sequential\n",
        "from keras.layers import Dense, LSTM\n",
        "from sklearn.metrics import mean_squared_error, mean_absolute_percentage_error\n",
        "\n",
        "# 2. Đọc file csv và gắn index với giá Close\n",
        "data = pd.read_csv('FPT.csv', index_col='time', parse_dates=True)\n",
        "data=data.drop(columns=['open', 'high', 'low', 'volume'])\n",
        "data = data.reset_index(drop=True)\n",
        "df1 = data.reset_index()['close']"
      ],
      "metadata": {
        "ExecuteTime": {
          "end_time": "2024-05-28T14:48:14.649414Z",
          "start_time": "2024-05-28T14:48:09.966619300Z"
        },
        "id": "xVwQ8TMbxAqp"
      }
    },
    {
      "cell_type": "code",
      "execution_count": 41,
      "outputs": [],
      "source": [
        "# 3. Scaler data\n",
        "scaler = MinMaxScaler(feature_range=(0, 1))\n",
        "df1 = scaler.fit_transform(np.array(df1).reshape(-1, 1))"
      ],
      "metadata": {
        "ExecuteTime": {
          "end_time": "2024-05-28T14:48:25.602823500Z",
          "start_time": "2024-05-28T14:48:25.580373500Z"
        },
        "id": "TEVQzJHrxAqq"
      }
    },
    {
      "cell_type": "code",
      "execution_count": 42,
      "outputs": [],
      "source": [
        "# 4. Chia train test (70% train, 30% test)\n",
        "train_size = int(0.7 * len(df1))\n",
        "test_size = len(df1) - train_size\n",
        "\n",
        "train_data = df1[:train_size]\n",
        "test_data = df1[train_size:]"
      ],
      "metadata": {
        "ExecuteTime": {
          "end_time": "2024-05-28T14:48:34.310582300Z",
          "start_time": "2024-05-28T14:48:34.293911Z"
        },
        "id": "AnP5ibVsxAqq"
      }
    },
    {
      "cell_type": "code",
      "execution_count": 43,
      "outputs": [],
      "source": [
        "# 5. Hàm Create Dataset\n",
        "def create_dataset(dataset, time_step=1):\n",
        "    dataX, dataY = [], []\n",
        "    for i in range(len(dataset) - time_step - 1):\n",
        "        a = dataset[i:(i + time_step), 0]\n",
        "        dataX.append(a)\n",
        "        dataY.append(dataset[i + time_step, 0])\n",
        "    return np.array(dataX), np.array(dataY)"
      ],
      "metadata": {
        "ExecuteTime": {
          "end_time": "2024-05-28T14:48:42.073073400Z",
          "start_time": "2024-05-28T14:48:42.053551900Z"
        },
        "id": "FXDgCdILxAqq"
      }
    },
    {
      "cell_type": "code",
      "execution_count": 44,
      "outputs": [],
      "source": [
        "# 6. Reshape into X=t,t+1,t+2..t+99 and Y=t+100\n",
        "time_step = 30\n",
        "X_train, y_train = create_dataset(train_data, time_step)\n",
        "X_test, y_test = create_dataset(test_data, time_step)"
      ],
      "metadata": {
        "ExecuteTime": {
          "end_time": "2024-05-28T14:48:49.565208600Z",
          "start_time": "2024-05-28T14:48:49.561089Z"
        },
        "id": "yrK7_8w6xAqq"
      }
    },
    {
      "cell_type": "code",
      "execution_count": 45,
      "outputs": [],
      "source": [
        "# 7. Reshape input to be [samples, time steps, features] which is required for LSTM\n",
        "X_train = X_train.reshape(X_train.shape[0], X_train.shape[1], 1)\n",
        "X_test = X_test.reshape(X_test.shape[0], X_test.shape[1], 1)"
      ],
      "metadata": {
        "ExecuteTime": {
          "end_time": "2024-05-28T14:48:58.248665100Z",
          "start_time": "2024-05-28T14:48:58.236569300Z"
        },
        "id": "20wf8GH4xAqr"
      }
    },
    {
      "cell_type": "code",
      "execution_count": 46,
      "outputs": [],
      "source": [
        "# 8. Define LSTM Model\n",
        "model = Sequential()\n",
        "model.add(LSTM(50, return_sequences=True, input_shape=(time_step, 1)))\n",
        "model.add(LSTM(50, return_sequences=True))\n",
        "model.add(LSTM(50))\n",
        "model.add(Dense(1))\n",
        "model.compile(loss='mean_squared_error', optimizer='adam')"
      ],
      "metadata": {
        "ExecuteTime": {
          "end_time": "2024-05-28T14:49:07.516332800Z",
          "start_time": "2024-05-28T14:49:06.237622100Z"
        },
        "id": "8kw4Dq1cxAqr"
      }
    },
    {
      "cell_type": "code",
      "execution_count": 47,
      "outputs": [
        {
          "output_type": "stream",
          "name": "stdout",
          "text": [
            "Epoch 1/100\n",
            "14/14 [==============================] - 9s 209ms/step - loss: 0.0161 - val_loss: 0.0424\n",
            "Epoch 2/100\n",
            "14/14 [==============================] - 1s 67ms/step - loss: 0.0023 - val_loss: 0.0061\n",
            "Epoch 3/100\n",
            "14/14 [==============================] - 1s 66ms/step - loss: 8.5022e-04 - val_loss: 0.0035\n",
            "Epoch 4/100\n",
            "14/14 [==============================] - 1s 66ms/step - loss: 5.4045e-04 - val_loss: 0.0047\n",
            "Epoch 5/100\n",
            "14/14 [==============================] - 1s 66ms/step - loss: 5.3263e-04 - val_loss: 0.0043\n",
            "Epoch 6/100\n",
            "14/14 [==============================] - 1s 66ms/step - loss: 4.7508e-04 - val_loss: 0.0042\n",
            "Epoch 7/100\n",
            "14/14 [==============================] - 1s 67ms/step - loss: 4.6306e-04 - val_loss: 0.0050\n",
            "Epoch 8/100\n",
            "14/14 [==============================] - 1s 66ms/step - loss: 4.4286e-04 - val_loss: 0.0051\n",
            "Epoch 9/100\n",
            "14/14 [==============================] - 1s 66ms/step - loss: 4.3826e-04 - val_loss: 0.0060\n",
            "Epoch 10/100\n",
            "14/14 [==============================] - 1s 66ms/step - loss: 4.6108e-04 - val_loss: 0.0049\n",
            "Epoch 11/100\n",
            "14/14 [==============================] - 1s 79ms/step - loss: 4.5115e-04 - val_loss: 0.0035\n",
            "Epoch 12/100\n",
            "14/14 [==============================] - 2s 116ms/step - loss: 4.5021e-04 - val_loss: 0.0056\n",
            "Epoch 13/100\n",
            "14/14 [==============================] - 2s 119ms/step - loss: 3.9531e-04 - val_loss: 0.0062\n",
            "Epoch 14/100\n",
            "14/14 [==============================] - 1s 66ms/step - loss: 3.9879e-04 - val_loss: 0.0085\n",
            "Epoch 15/100\n",
            "14/14 [==============================] - 1s 66ms/step - loss: 4.4992e-04 - val_loss: 0.0060\n",
            "Epoch 16/100\n",
            "14/14 [==============================] - 1s 66ms/step - loss: 4.3075e-04 - val_loss: 0.0056\n",
            "Epoch 17/100\n",
            "14/14 [==============================] - 1s 67ms/step - loss: 3.7769e-04 - val_loss: 0.0071\n",
            "Epoch 18/100\n",
            "14/14 [==============================] - 1s 67ms/step - loss: 3.7281e-04 - val_loss: 0.0064\n",
            "Epoch 19/100\n",
            "14/14 [==============================] - 1s 67ms/step - loss: 3.7425e-04 - val_loss: 0.0074\n",
            "Epoch 20/100\n",
            "14/14 [==============================] - 1s 66ms/step - loss: 3.6726e-04 - val_loss: 0.0072\n",
            "Epoch 21/100\n",
            "14/14 [==============================] - 1s 67ms/step - loss: 3.4783e-04 - val_loss: 0.0071\n",
            "Epoch 22/100\n",
            "14/14 [==============================] - 1s 67ms/step - loss: 3.5285e-04 - val_loss: 0.0077\n",
            "Epoch 23/100\n",
            "14/14 [==============================] - 1s 68ms/step - loss: 3.5053e-04 - val_loss: 0.0087\n",
            "Epoch 24/100\n",
            "14/14 [==============================] - 1s 88ms/step - loss: 3.3349e-04 - val_loss: 0.0058\n",
            "Epoch 25/100\n",
            "14/14 [==============================] - 2s 116ms/step - loss: 3.4467e-04 - val_loss: 0.0085\n",
            "Epoch 26/100\n",
            "14/14 [==============================] - 2s 142ms/step - loss: 3.1633e-04 - val_loss: 0.0083\n",
            "Epoch 27/100\n",
            "14/14 [==============================] - 1s 67ms/step - loss: 3.4102e-04 - val_loss: 0.0066\n",
            "Epoch 28/100\n",
            "14/14 [==============================] - 1s 68ms/step - loss: 3.8160e-04 - val_loss: 0.0056\n",
            "Epoch 29/100\n",
            "14/14 [==============================] - 1s 64ms/step - loss: 3.4525e-04 - val_loss: 0.0067\n",
            "Epoch 30/100\n",
            "14/14 [==============================] - 1s 64ms/step - loss: 3.0095e-04 - val_loss: 0.0072\n",
            "Epoch 31/100\n",
            "14/14 [==============================] - 1s 66ms/step - loss: 2.8974e-04 - val_loss: 0.0050\n",
            "Epoch 32/100\n",
            "14/14 [==============================] - 1s 66ms/step - loss: 2.7689e-04 - val_loss: 0.0087\n",
            "Epoch 33/100\n",
            "14/14 [==============================] - 1s 66ms/step - loss: 2.6263e-04 - val_loss: 0.0094\n",
            "Epoch 34/100\n",
            "14/14 [==============================] - 1s 68ms/step - loss: 2.7030e-04 - val_loss: 0.0093\n",
            "Epoch 35/100\n",
            "14/14 [==============================] - 1s 69ms/step - loss: 2.6463e-04 - val_loss: 0.0079\n",
            "Epoch 36/100\n",
            "14/14 [==============================] - 1s 68ms/step - loss: 2.3452e-04 - val_loss: 0.0075\n",
            "Epoch 37/100\n",
            "14/14 [==============================] - 1s 86ms/step - loss: 2.2964e-04 - val_loss: 0.0059\n",
            "Epoch 38/100\n",
            "14/14 [==============================] - 2s 114ms/step - loss: 2.5208e-04 - val_loss: 0.0042\n",
            "Epoch 39/100\n",
            "14/14 [==============================] - 2s 114ms/step - loss: 2.5352e-04 - val_loss: 0.0050\n",
            "Epoch 40/100\n",
            "14/14 [==============================] - 1s 86ms/step - loss: 2.2074e-04 - val_loss: 0.0055\n",
            "Epoch 41/100\n",
            "14/14 [==============================] - 1s 79ms/step - loss: 2.9532e-04 - val_loss: 0.0066\n",
            "Epoch 42/100\n",
            "14/14 [==============================] - 1s 80ms/step - loss: 2.3241e-04 - val_loss: 0.0044\n",
            "Epoch 43/100\n",
            "14/14 [==============================] - 1s 81ms/step - loss: 1.9982e-04 - val_loss: 0.0050\n",
            "Epoch 44/100\n",
            "14/14 [==============================] - 1s 81ms/step - loss: 1.8987e-04 - val_loss: 0.0045\n",
            "Epoch 45/100\n",
            "14/14 [==============================] - 1s 97ms/step - loss: 1.8405e-04 - val_loss: 0.0040\n",
            "Epoch 46/100\n",
            "14/14 [==============================] - 1s 104ms/step - loss: 1.7258e-04 - val_loss: 0.0039\n",
            "Epoch 47/100\n",
            "14/14 [==============================] - 1s 91ms/step - loss: 1.8038e-04 - val_loss: 0.0055\n",
            "Epoch 48/100\n",
            "14/14 [==============================] - 1s 82ms/step - loss: 1.7844e-04 - val_loss: 0.0041\n",
            "Epoch 49/100\n",
            "14/14 [==============================] - 1s 108ms/step - loss: 1.9170e-04 - val_loss: 0.0032\n",
            "Epoch 50/100\n",
            "14/14 [==============================] - 2s 117ms/step - loss: 1.7015e-04 - val_loss: 0.0037\n",
            "Epoch 51/100\n",
            "14/14 [==============================] - 1s 83ms/step - loss: 1.7289e-04 - val_loss: 0.0030\n",
            "Epoch 52/100\n",
            "14/14 [==============================] - 1s 71ms/step - loss: 1.8402e-04 - val_loss: 0.0031\n",
            "Epoch 53/100\n",
            "14/14 [==============================] - 1s 67ms/step - loss: 1.7674e-04 - val_loss: 0.0032\n",
            "Epoch 54/100\n",
            "14/14 [==============================] - 1s 69ms/step - loss: 1.5458e-04 - val_loss: 0.0045\n",
            "Epoch 55/100\n",
            "14/14 [==============================] - 1s 67ms/step - loss: 1.6929e-04 - val_loss: 0.0052\n",
            "Epoch 56/100\n",
            "14/14 [==============================] - 1s 67ms/step - loss: 1.8087e-04 - val_loss: 0.0042\n",
            "Epoch 57/100\n",
            "14/14 [==============================] - 1s 71ms/step - loss: 1.6241e-04 - val_loss: 0.0044\n",
            "Epoch 58/100\n",
            "14/14 [==============================] - 1s 68ms/step - loss: 1.6244e-04 - val_loss: 0.0037\n",
            "Epoch 59/100\n",
            "14/14 [==============================] - 1s 68ms/step - loss: 1.5616e-04 - val_loss: 0.0033\n",
            "Epoch 60/100\n",
            "14/14 [==============================] - 1s 68ms/step - loss: 1.5401e-04 - val_loss: 0.0033\n",
            "Epoch 61/100\n",
            "14/14 [==============================] - 1s 85ms/step - loss: 1.5256e-04 - val_loss: 0.0036\n",
            "Epoch 62/100\n",
            "14/14 [==============================] - 1s 102ms/step - loss: 1.5144e-04 - val_loss: 0.0021\n",
            "Epoch 63/100\n",
            "14/14 [==============================] - 1s 101ms/step - loss: 1.5319e-04 - val_loss: 0.0025\n",
            "Epoch 64/100\n",
            "14/14 [==============================] - 1s 92ms/step - loss: 1.4937e-04 - val_loss: 0.0039\n",
            "Epoch 65/100\n",
            "14/14 [==============================] - 1s 68ms/step - loss: 1.4613e-04 - val_loss: 0.0029\n",
            "Epoch 66/100\n",
            "14/14 [==============================] - 1s 68ms/step - loss: 1.4680e-04 - val_loss: 0.0030\n",
            "Epoch 67/100\n",
            "14/14 [==============================] - 1s 70ms/step - loss: 1.5643e-04 - val_loss: 0.0022\n",
            "Epoch 68/100\n",
            "14/14 [==============================] - 1s 72ms/step - loss: 1.5606e-04 - val_loss: 0.0021\n",
            "Epoch 69/100\n",
            "14/14 [==============================] - 1s 69ms/step - loss: 1.4304e-04 - val_loss: 0.0022\n",
            "Epoch 70/100\n",
            "14/14 [==============================] - 1s 70ms/step - loss: 1.4379e-04 - val_loss: 0.0029\n",
            "Epoch 71/100\n",
            "14/14 [==============================] - 1s 69ms/step - loss: 1.5221e-04 - val_loss: 0.0025\n",
            "Epoch 72/100\n",
            "14/14 [==============================] - 1s 70ms/step - loss: 1.5182e-04 - val_loss: 0.0024\n",
            "Epoch 73/100\n",
            "14/14 [==============================] - 1s 70ms/step - loss: 1.3860e-04 - val_loss: 0.0029\n",
            "Epoch 74/100\n",
            "14/14 [==============================] - 1s 74ms/step - loss: 1.4681e-04 - val_loss: 0.0026\n",
            "Epoch 75/100\n",
            "14/14 [==============================] - 1s 105ms/step - loss: 1.4007e-04 - val_loss: 0.0018\n",
            "Epoch 76/100\n",
            "14/14 [==============================] - 2s 120ms/step - loss: 1.3229e-04 - val_loss: 0.0015\n",
            "Epoch 77/100\n",
            "14/14 [==============================] - 1s 82ms/step - loss: 1.6817e-04 - val_loss: 0.0015\n",
            "Epoch 78/100\n",
            "14/14 [==============================] - 1s 67ms/step - loss: 1.3376e-04 - val_loss: 0.0014\n",
            "Epoch 79/100\n",
            "14/14 [==============================] - 1s 68ms/step - loss: 1.3858e-04 - val_loss: 0.0025\n",
            "Epoch 80/100\n",
            "14/14 [==============================] - 1s 69ms/step - loss: 1.4416e-04 - val_loss: 0.0032\n",
            "Epoch 81/100\n",
            "14/14 [==============================] - 1s 67ms/step - loss: 1.4306e-04 - val_loss: 0.0020\n",
            "Epoch 82/100\n",
            "14/14 [==============================] - 1s 69ms/step - loss: 1.2911e-04 - val_loss: 0.0026\n",
            "Epoch 83/100\n",
            "14/14 [==============================] - 1s 70ms/step - loss: 1.2986e-04 - val_loss: 0.0022\n",
            "Epoch 84/100\n",
            "14/14 [==============================] - 2s 143ms/step - loss: 1.3517e-04 - val_loss: 0.0030\n",
            "Epoch 85/100\n",
            "14/14 [==============================] - 2s 145ms/step - loss: 1.3690e-04 - val_loss: 0.0014\n",
            "Epoch 86/100\n",
            "14/14 [==============================] - 3s 186ms/step - loss: 1.4304e-04 - val_loss: 0.0020\n",
            "Epoch 87/100\n",
            "14/14 [==============================] - 3s 181ms/step - loss: 1.6030e-04 - val_loss: 0.0026\n",
            "Epoch 88/100\n",
            "14/14 [==============================] - 2s 130ms/step - loss: 1.4618e-04 - val_loss: 0.0023\n",
            "Epoch 89/100\n",
            "14/14 [==============================] - 2s 140ms/step - loss: 1.3144e-04 - val_loss: 0.0013\n",
            "Epoch 90/100\n",
            "14/14 [==============================] - 2s 129ms/step - loss: 1.3174e-04 - val_loss: 0.0012\n",
            "Epoch 91/100\n",
            "14/14 [==============================] - 1s 68ms/step - loss: 1.2224e-04 - val_loss: 0.0017\n",
            "Epoch 92/100\n",
            "14/14 [==============================] - 1s 70ms/step - loss: 1.3230e-04 - val_loss: 0.0012\n",
            "Epoch 93/100\n",
            "14/14 [==============================] - 1s 69ms/step - loss: 1.3101e-04 - val_loss: 0.0017\n",
            "Epoch 94/100\n",
            "14/14 [==============================] - 1s 70ms/step - loss: 1.4080e-04 - val_loss: 0.0028\n",
            "Epoch 95/100\n",
            "14/14 [==============================] - 2s 115ms/step - loss: 1.5707e-04 - val_loss: 0.0019\n",
            "Epoch 96/100\n",
            "14/14 [==============================] - 2s 115ms/step - loss: 1.3758e-04 - val_loss: 0.0019\n",
            "Epoch 97/100\n",
            "14/14 [==============================] - 1s 82ms/step - loss: 1.3838e-04 - val_loss: 9.9631e-04\n",
            "Epoch 98/100\n",
            "14/14 [==============================] - 1s 69ms/step - loss: 1.5304e-04 - val_loss: 0.0012\n",
            "Epoch 99/100\n",
            "14/14 [==============================] - 1s 68ms/step - loss: 1.4241e-04 - val_loss: 0.0029\n",
            "Epoch 100/100\n",
            "14/14 [==============================] - 1s 68ms/step - loss: 1.3719e-04 - val_loss: 0.0017\n"
          ]
        },
        {
          "output_type": "execute_result",
          "data": {
            "text/plain": [
              "<keras.src.callbacks.History at 0x7cd761e06590>"
            ]
          },
          "metadata": {},
          "execution_count": 47
        }
      ],
      "source": [
        "# 9. Fit mô hình với dữ liệu train\n",
        "model.fit(X_train, y_train, validation_data=(X_test, y_test), epochs=100, batch_size=64, verbose=1)"
      ],
      "metadata": {
        "ExecuteTime": {
          "end_time": "2024-05-28T14:50:49.502679Z",
          "start_time": "2024-05-28T14:49:19.478599400Z"
        },
        "colab": {
          "base_uri": "https://localhost:8080/"
        },
        "id": "sVyLa95axAqr",
        "outputId": "3c1d471f-4980-4a18-eb56-af1ac37b4727"
      }
    },
    {
      "cell_type": "code",
      "execution_count": 48,
      "outputs": [
        {
          "output_type": "stream",
          "name": "stdout",
          "text": [
            "12/12 [==============================] - 1s 13ms/step\n"
          ]
        }
      ],
      "source": [
        "# 10. Dự báo dữ liệu test\n",
        "y_pred = model.predict(X_test)"
      ],
      "metadata": {
        "ExecuteTime": {
          "end_time": "2024-05-28T14:52:04.353638600Z",
          "start_time": "2024-05-28T14:52:02.273380100Z"
        },
        "colab": {
          "base_uri": "https://localhost:8080/"
        },
        "id": "PZoDofWpxAqr",
        "outputId": "b97056cc-a3d3-4e24-c3dd-ff0b14afc2ba"
      }
    },
    {
      "cell_type": "code",
      "execution_count": 49,
      "outputs": [],
      "source": [
        "# 11. Inverse transform dự báo và dữ liệu thực tế\n",
        "y_pred_new = scaler.inverse_transform(y_pred)\n",
        "y_test_new = scaler.inverse_transform(y_test.reshape(-1, 1))"
      ],
      "metadata": {
        "ExecuteTime": {
          "end_time": "2024-05-28T14:52:05.972886800Z",
          "start_time": "2024-05-28T14:52:05.957841300Z"
        },
        "id": "SSoqrumJxAqr"
      }
    },
    {
      "cell_type": "code",
      "execution_count": 50,
      "outputs": [
        {
          "output_type": "stream",
          "name": "stdout",
          "text": [
            "RMSE trên tập test là: 4701.316348741647\n",
            "MAPE trên tập test là: 3.3454487168036207 %\n",
            "MSLE trên tập test là: 0.002242053802817154\n"
          ]
        }
      ],
      "source": [
        "from sklearn.metrics import mean_squared_log_error\n",
        "\n",
        "# Tính toán RMSE, MAE và MAPE trên tập test\n",
        "test_score_rmse = np.sqrt(mean_squared_error(y_test_new, y_pred_new))\n",
        "test_score_mape = mean_absolute_percentage_error(y_test_new, y_pred_new) * 100\n",
        "test_score_msle = mean_squared_log_error(y_test_new, y_pred_new)\n",
        "\n",
        "print('RMSE trên tập test là:', test_score_rmse)\n",
        "print('MAPE trên tập test là:', test_score_mape, '%')\n",
        "print('MSLE trên tập test là:', test_score_msle)"
      ],
      "metadata": {
        "ExecuteTime": {
          "end_time": "2024-05-28T14:52:07.205163800Z",
          "start_time": "2024-05-28T14:52:07.187169300Z"
        },
        "colab": {
          "base_uri": "https://localhost:8080/"
        },
        "id": "IBjYrOUFxAqs",
        "outputId": "aa2137f5-5e93-46ae-ca44-7c98ef6da7e7"
      }
    },
    {
      "cell_type": "code",
      "execution_count": 51,
      "outputs": [],
      "source": [
        "# 13. Dự báo 30 ngày tiếp theo\n",
        "x_input = test_data[len(test_data) - time_step:].reshape(1, -1)\n",
        "temp_input = list(x_input)\n",
        "temp_input = temp_input[0].tolist()\n",
        "\n",
        "lst_output = []\n",
        "i = 0\n",
        "while i < 30:\n",
        "    if len(temp_input) > time_step:\n",
        "        x_input = np.array(temp_input[1:])\n",
        "        x_input = x_input.reshape(1, -1)\n",
        "        x_input = x_input.reshape((1, time_step, 1))\n",
        "        yhat = model.predict(x_input, verbose=0)\n",
        "        temp_input.extend(yhat[0].tolist())\n",
        "        temp_input = temp_input[1:]\n",
        "        lst_output.extend(yhat.tolist())\n",
        "        i += 1\n",
        "    else:\n",
        "        x_input = x_input.reshape((1, time_step, 1))\n",
        "        yhat = model.predict(x_input, verbose=0)\n",
        "        temp_input.extend(yhat[0].tolist())\n",
        "        lst_output.extend(yhat.tolist())\n",
        "        i += 1"
      ],
      "metadata": {
        "ExecuteTime": {
          "end_time": "2024-05-28T14:52:22.246638900Z",
          "start_time": "2024-05-28T14:52:19.799016600Z"
        },
        "id": "L_397iR3xAqs"
      }
    },
    {
      "cell_type": "code",
      "execution_count": 52,
      "outputs": [
        {
          "output_type": "display_data",
          "data": {
            "text/plain": [
              "<Figure size 1200x600 with 1 Axes>"
            ],
            "image/png": "[encoded data removed]"
          },
          "metadata": {}
        }
      ],
      "source": [
        "# 14. Vẽ hình\n",
        "plt.figure(figsize=(12, 6))\n",
        "plt.plot(scaler.inverse_transform(df1), label='Train')\n",
        "test_data_index = pd.RangeIndex(start=train_size, stop=train_size + test_size, step=1)\n",
        "plt.plot(test_data_index, scaler.inverse_transform(test_data), label='Actual Test')\n",
        "test_pred_index = pd.RangeIndex(start=train_size + time_step, stop=train_size + test_size - 1, step=1)\n",
        "plt.plot(test_pred_index, scaler.inverse_transform(y_pred), label='Predicted Test')\n",
        "predict_data_index = pd.RangeIndex(start=len(df1), stop=len(df1) + 30, step=1)\n",
        "plt.plot(predict_data_index, scaler.inverse_transform(lst_output), label='Next 30 days')\n",
        "plt.xlabel('Time')\n",
        "plt.ylabel('Price')\n",
        "plt.legend()\n",
        "plt.show()"
      ],
      "metadata": {
        "ExecuteTime": {
          "end_time": "2024-05-28T14:52:31.043771Z",
          "start_time": "2024-05-28T14:52:30.805673800Z"
        },
        "colab": {
          "base_uri": "https://localhost:8080/",
          "height": 542
        },
        "id": "T62sHotmxAqs",
        "outputId": "da8b3caf-5dc2-41ef-dbe3-e7783035836e"
      }
    },
    {
      "cell_type": "markdown",
      "source": [
        "# (Split 8/2)"
      ],
      "metadata": {
        "collapsed": false,
        "id": "mXO0Qe1xxAqs"
      }
    },
    {
      "cell_type": "code",
      "execution_count": 53,
      "outputs": [],
      "source": [
        "# 1. Import thư viện cần thiết\n",
        "import numpy as np\n",
        "import pandas as pd\n",
        "import matplotlib.pyplot as plt\n",
        "from sklearn.preprocessing import MinMaxScaler\n",
        "from keras.models import Sequential\n",
        "from keras.layers import Dense, LSTM\n",
        "from sklearn.metrics import mean_squared_error, mean_absolute_percentage_error\n",
        "\n",
        "# 2. Đọc file csv và gắn index với giá Close\n",
        "data = pd.read_csv('FPT.csv', index_col='time', parse_dates=True)\n",
        "data=data.drop(columns=['open', 'high', 'low', 'volume'])\n",
        "data = data.reset_index(drop=True)\n",
        "df1 = data.reset_index()['close']"
      ],
      "metadata": {
        "ExecuteTime": {
          "end_time": "2024-05-28T14:53:23.221255800Z",
          "start_time": "2024-05-28T14:53:23.189975500Z"
        },
        "id": "wmo9VDkqxAqs"
      }
    },
    {
      "cell_type": "code",
      "execution_count": 54,
      "outputs": [],
      "source": [
        "# 3. Scaler data\n",
        "scaler = MinMaxScaler(feature_range=(0, 1))\n",
        "df1 = scaler.fit_transform(np.array(df1).reshape(-1, 1))"
      ],
      "metadata": {
        "ExecuteTime": {
          "end_time": "2024-05-28T14:53:45.526201Z",
          "start_time": "2024-05-28T14:53:45.494608100Z"
        },
        "id": "S18uBoflxAqt"
      }
    },
    {
      "cell_type": "code",
      "execution_count": 55,
      "outputs": [],
      "source": [
        "# 4. Chia train test\n",
        "train_size = int(0.8 * len(df1))\n",
        "test_size = len(df1) - train_size\n",
        "\n",
        "train_data = df1[:train_size]\n",
        "test_data = df1[train_size:]"
      ],
      "metadata": {
        "ExecuteTime": {
          "end_time": "2024-05-28T14:54:04.096894Z",
          "start_time": "2024-05-28T14:54:04.078891800Z"
        },
        "id": "ErjJCKYmxAqt"
      }
    },
    {
      "cell_type": "code",
      "execution_count": 56,
      "outputs": [],
      "source": [
        "# 5. Hàm Create Dataset\n",
        "def create_dataset(dataset, time_step=1):\n",
        "    dataX, dataY = [], []\n",
        "    for i in range(len(dataset) - time_step - 1):\n",
        "        a = dataset[i:(i + time_step), 0]\n",
        "        dataX.append(a)\n",
        "        dataY.append(dataset[i + time_step, 0])\n",
        "    return np.array(dataX), np.array(dataY)"
      ],
      "metadata": {
        "ExecuteTime": {
          "end_time": "2024-05-28T14:54:19.858878Z",
          "start_time": "2024-05-28T14:54:19.853777800Z"
        },
        "id": "kQ6K6jLCxAqt"
      }
    },
    {
      "cell_type": "code",
      "execution_count": 57,
      "outputs": [],
      "source": [
        "# 6. Reshape into X=t,t+1,t+2..t+99 and Y=t+100\n",
        "time_step = 30\n",
        "X_train, y_train = create_dataset(train_data, time_step)\n",
        "X_test, y_test = create_dataset(test_data, time_step)"
      ],
      "metadata": {
        "ExecuteTime": {
          "end_time": "2024-05-28T14:54:35.348902700Z",
          "start_time": "2024-05-28T14:54:35.325482200Z"
        },
        "id": "Ux85mXsCxAqt"
      }
    },
    {
      "cell_type": "code",
      "execution_count": 58,
      "outputs": [],
      "source": [
        "# 7. Reshape input to be [samples, time steps, features] which is required for LSTM\n",
        "X_train = X_train.reshape(X_train.shape[0], X_train.shape[1], 1)\n",
        "X_test = X_test.reshape(X_test.shape[0], X_test.shape[1], 1)"
      ],
      "metadata": {
        "ExecuteTime": {
          "end_time": "2024-05-28T14:54:45.315717400Z",
          "start_time": "2024-05-28T14:54:45.254296100Z"
        },
        "id": "aJpj7YDkxAqt"
      }
    },
    {
      "cell_type": "code",
      "execution_count": 59,
      "outputs": [],
      "source": [
        "# 8. Define LSTM Model\n",
        "model = Sequential()\n",
        "model.add(LSTM(50, return_sequences=True, input_shape=(time_step, 1)))\n",
        "model.add(LSTM(50, return_sequences=True))\n",
        "model.add(LSTM(50))\n",
        "model.add(Dense(1))\n",
        "model.compile(loss='mean_squared_error', optimizer='adam')"
      ],
      "metadata": {
        "ExecuteTime": {
          "end_time": "2024-05-28T14:55:00.120838100Z",
          "start_time": "2024-05-28T14:54:58.918711500Z"
        },
        "id": "8R2fQyTMxAqt"
      }
    },
    {
      "cell_type": "code",
      "execution_count": 60,
      "outputs": [
        {
          "output_type": "stream",
          "name": "stdout",
          "text": [
            "Epoch 1/100\n",
            "17/17 [==============================] - 9s 140ms/step - loss: 0.0179 - val_loss: 0.0482\n",
            "Epoch 2/100\n",
            "17/17 [==============================] - 1s 60ms/step - loss: 0.0018 - val_loss: 0.0034\n",
            "Epoch 3/100\n",
            "17/17 [==============================] - 1s 60ms/step - loss: 8.9643e-04 - val_loss: 0.0028\n",
            "Epoch 4/100\n",
            "17/17 [==============================] - 1s 61ms/step - loss: 4.6583e-04 - val_loss: 0.0039\n",
            "Epoch 5/100\n",
            "17/17 [==============================] - 1s 61ms/step - loss: 4.1528e-04 - val_loss: 0.0061\n",
            "Epoch 6/100\n",
            "17/17 [==============================] - 1s 62ms/step - loss: 4.1634e-04 - val_loss: 0.0035\n",
            "Epoch 7/100\n",
            "17/17 [==============================] - 1s 78ms/step - loss: 4.6044e-04 - val_loss: 0.0059\n",
            "Epoch 8/100\n",
            "17/17 [==============================] - 2s 100ms/step - loss: 3.8077e-04 - val_loss: 0.0057\n",
            "Epoch 9/100\n",
            "17/17 [==============================] - 2s 97ms/step - loss: 3.6687e-04 - val_loss: 0.0047\n",
            "Epoch 10/100\n",
            "17/17 [==============================] - 1s 61ms/step - loss: 4.1721e-04 - val_loss: 0.0072\n",
            "Epoch 11/100\n",
            "17/17 [==============================] - 1s 61ms/step - loss: 3.9505e-04 - val_loss: 0.0059\n",
            "Epoch 12/100\n",
            "17/17 [==============================] - 1s 64ms/step - loss: 3.6625e-04 - val_loss: 0.0080\n",
            "Epoch 13/100\n",
            "17/17 [==============================] - 1s 61ms/step - loss: 3.4920e-04 - val_loss: 0.0106\n",
            "Epoch 14/100\n",
            "17/17 [==============================] - 1s 60ms/step - loss: 3.8608e-04 - val_loss: 0.0077\n",
            "Epoch 15/100\n",
            "17/17 [==============================] - 1s 59ms/step - loss: 3.4039e-04 - val_loss: 0.0087\n",
            "Epoch 16/100\n",
            "17/17 [==============================] - 1s 61ms/step - loss: 3.4872e-04 - val_loss: 0.0074\n",
            "Epoch 17/100\n",
            "17/17 [==============================] - 1s 60ms/step - loss: 3.3704e-04 - val_loss: 0.0084\n",
            "Epoch 18/100\n",
            "17/17 [==============================] - 1s 61ms/step - loss: 3.2881e-04 - val_loss: 0.0067\n",
            "Epoch 19/100\n",
            "17/17 [==============================] - 1s 77ms/step - loss: 3.3396e-04 - val_loss: 0.0073\n",
            "Epoch 20/100\n",
            "17/17 [==============================] - 2s 95ms/step - loss: 3.6027e-04 - val_loss: 0.0113\n",
            "Epoch 21/100\n",
            "17/17 [==============================] - 2s 95ms/step - loss: 3.8362e-04 - val_loss: 0.0099\n",
            "Epoch 22/100\n",
            "17/17 [==============================] - 1s 62ms/step - loss: 3.2119e-04 - val_loss: 0.0084\n",
            "Epoch 23/100\n",
            "17/17 [==============================] - 1s 61ms/step - loss: 3.1430e-04 - val_loss: 0.0084\n",
            "Epoch 24/100\n",
            "17/17 [==============================] - 1s 60ms/step - loss: 3.1979e-04 - val_loss: 0.0088\n",
            "Epoch 25/100\n",
            "17/17 [==============================] - 1s 62ms/step - loss: 3.1805e-04 - val_loss: 0.0133\n",
            "Epoch 26/100\n",
            "17/17 [==============================] - 1s 61ms/step - loss: 4.5948e-04 - val_loss: 0.0084\n",
            "Epoch 27/100\n",
            "17/17 [==============================] - 1s 61ms/step - loss: 2.9399e-04 - val_loss: 0.0054\n",
            "Epoch 28/100\n",
            "17/17 [==============================] - 1s 59ms/step - loss: 3.8408e-04 - val_loss: 0.0110\n",
            "Epoch 29/100\n",
            "17/17 [==============================] - 1s 60ms/step - loss: 2.8631e-04 - val_loss: 0.0075\n",
            "Epoch 30/100\n",
            "17/17 [==============================] - 1s 61ms/step - loss: 2.7654e-04 - val_loss: 0.0093\n",
            "Epoch 31/100\n",
            "17/17 [==============================] - 1s 77ms/step - loss: 2.7478e-04 - val_loss: 0.0052\n",
            "Epoch 32/100\n",
            "17/17 [==============================] - 2s 98ms/step - loss: 2.9468e-04 - val_loss: 0.0079\n",
            "Epoch 33/100\n",
            "17/17 [==============================] - 2s 96ms/step - loss: 2.5871e-04 - val_loss: 0.0075\n",
            "Epoch 34/100\n",
            "17/17 [==============================] - 1s 61ms/step - loss: 2.7647e-04 - val_loss: 0.0065\n",
            "Epoch 35/100\n",
            "17/17 [==============================] - 1s 63ms/step - loss: 2.5313e-04 - val_loss: 0.0076\n",
            "Epoch 36/100\n",
            "17/17 [==============================] - 1s 61ms/step - loss: 2.4798e-04 - val_loss: 0.0086\n",
            "Epoch 37/100\n",
            "17/17 [==============================] - 1s 61ms/step - loss: 2.5476e-04 - val_loss: 0.0073\n",
            "Epoch 38/100\n",
            "17/17 [==============================] - 1s 61ms/step - loss: 2.5656e-04 - val_loss: 0.0073\n",
            "Epoch 39/100\n",
            "17/17 [==============================] - 1s 61ms/step - loss: 2.4425e-04 - val_loss: 0.0077\n",
            "Epoch 40/100\n",
            "17/17 [==============================] - 1s 63ms/step - loss: 2.5160e-04 - val_loss: 0.0077\n",
            "Epoch 41/100\n",
            "17/17 [==============================] - 1s 62ms/step - loss: 2.4798e-04 - val_loss: 0.0051\n",
            "Epoch 42/100\n",
            "17/17 [==============================] - 1s 62ms/step - loss: 2.2476e-04 - val_loss: 0.0076\n",
            "Epoch 43/100\n",
            "17/17 [==============================] - 1s 81ms/step - loss: 2.1909e-04 - val_loss: 0.0077\n",
            "Epoch 44/100\n",
            "17/17 [==============================] - 2s 96ms/step - loss: 2.4656e-04 - val_loss: 0.0067\n",
            "Epoch 45/100\n",
            "17/17 [==============================] - 2s 99ms/step - loss: 2.3502e-04 - val_loss: 0.0032\n",
            "Epoch 46/100\n",
            "17/17 [==============================] - 1s 63ms/step - loss: 2.3196e-04 - val_loss: 0.0053\n",
            "Epoch 47/100\n",
            "17/17 [==============================] - 1s 61ms/step - loss: 1.8636e-04 - val_loss: 0.0061\n",
            "Epoch 48/100\n",
            "17/17 [==============================] - 1s 60ms/step - loss: 1.8527e-04 - val_loss: 0.0047\n",
            "Epoch 49/100\n",
            "17/17 [==============================] - 1s 61ms/step - loss: 1.8556e-04 - val_loss: 0.0028\n",
            "Epoch 50/100\n",
            "17/17 [==============================] - 1s 65ms/step - loss: 2.0504e-04 - val_loss: 0.0064\n",
            "Epoch 51/100\n",
            "17/17 [==============================] - 1s 60ms/step - loss: 1.8048e-04 - val_loss: 0.0056\n",
            "Epoch 52/100\n",
            "17/17 [==============================] - 1s 61ms/step - loss: 1.8557e-04 - val_loss: 0.0039\n",
            "Epoch 53/100\n",
            "17/17 [==============================] - 1s 62ms/step - loss: 1.7343e-04 - val_loss: 0.0036\n",
            "Epoch 54/100\n",
            "17/17 [==============================] - 1s 61ms/step - loss: 1.8275e-04 - val_loss: 0.0049\n",
            "Epoch 55/100\n",
            "17/17 [==============================] - 2s 109ms/step - loss: 1.6904e-04 - val_loss: 0.0028\n",
            "Epoch 56/100\n",
            "17/17 [==============================] - 2s 95ms/step - loss: 1.7053e-04 - val_loss: 0.0043\n",
            "Epoch 57/100\n",
            "17/17 [==============================] - 2s 103ms/step - loss: 1.7978e-04 - val_loss: 0.0039\n",
            "Epoch 58/100\n",
            "17/17 [==============================] - 1s 60ms/step - loss: 1.7423e-04 - val_loss: 0.0038\n",
            "Epoch 59/100\n",
            "17/17 [==============================] - 1s 61ms/step - loss: 1.5750e-04 - val_loss: 0.0041\n",
            "Epoch 60/100\n",
            "17/17 [==============================] - 1s 64ms/step - loss: 1.5794e-04 - val_loss: 0.0055\n",
            "Epoch 61/100\n",
            "17/17 [==============================] - 1s 64ms/step - loss: 1.5843e-04 - val_loss: 0.0023\n",
            "Epoch 62/100\n",
            "17/17 [==============================] - 1s 67ms/step - loss: 2.2310e-04 - val_loss: 0.0029\n",
            "Epoch 63/100\n",
            "17/17 [==============================] - 1s 74ms/step - loss: 1.5330e-04 - val_loss: 0.0043\n",
            "Epoch 64/100\n",
            "17/17 [==============================] - 1s 62ms/step - loss: 1.5378e-04 - val_loss: 0.0025\n",
            "Epoch 65/100\n",
            "17/17 [==============================] - 1s 62ms/step - loss: 1.8233e-04 - val_loss: 0.0026\n",
            "Epoch 66/100\n",
            "17/17 [==============================] - 1s 62ms/step - loss: 1.7125e-04 - val_loss: 0.0015\n",
            "Epoch 67/100\n",
            "17/17 [==============================] - 2s 95ms/step - loss: 3.0040e-04 - val_loss: 0.0026\n",
            "Epoch 68/100\n",
            "17/17 [==============================] - 2s 99ms/step - loss: 1.7819e-04 - val_loss: 0.0048\n",
            "Epoch 69/100\n",
            "17/17 [==============================] - 1s 75ms/step - loss: 1.4591e-04 - val_loss: 0.0043\n",
            "Epoch 70/100\n",
            "17/17 [==============================] - 1s 62ms/step - loss: 1.4396e-04 - val_loss: 0.0050\n",
            "Epoch 71/100\n",
            "17/17 [==============================] - 1s 62ms/step - loss: 1.5853e-04 - val_loss: 0.0038\n",
            "Epoch 72/100\n",
            "17/17 [==============================] - 1s 60ms/step - loss: 1.5744e-04 - val_loss: 0.0047\n",
            "Epoch 73/100\n",
            "17/17 [==============================] - 1s 61ms/step - loss: 1.4058e-04 - val_loss: 0.0027\n",
            "Epoch 74/100\n",
            "17/17 [==============================] - 1s 59ms/step - loss: 1.4002e-04 - val_loss: 0.0020\n",
            "Epoch 75/100\n",
            "17/17 [==============================] - 1s 65ms/step - loss: 1.5942e-04 - val_loss: 0.0037\n",
            "Epoch 76/100\n",
            "17/17 [==============================] - 1s 61ms/step - loss: 1.4145e-04 - val_loss: 0.0021\n",
            "Epoch 77/100\n",
            "17/17 [==============================] - 1s 61ms/step - loss: 2.0139e-04 - val_loss: 0.0025\n",
            "Epoch 78/100\n",
            "17/17 [==============================] - 1s 65ms/step - loss: 1.8135e-04 - val_loss: 0.0046\n",
            "Epoch 79/100\n",
            "17/17 [==============================] - 2s 93ms/step - loss: 1.3635e-04 - val_loss: 0.0029\n",
            "Epoch 80/100\n",
            "17/17 [==============================] - 2s 99ms/step - loss: 1.6549e-04 - val_loss: 0.0028\n",
            "Epoch 81/100\n",
            "17/17 [==============================] - 1s 69ms/step - loss: 1.3587e-04 - val_loss: 0.0028\n",
            "Epoch 82/100\n",
            "17/17 [==============================] - 1s 63ms/step - loss: 1.2979e-04 - val_loss: 0.0040\n",
            "Epoch 83/100\n",
            "17/17 [==============================] - 1s 64ms/step - loss: 1.5855e-04 - val_loss: 0.0057\n",
            "Epoch 84/100\n",
            "17/17 [==============================] - 1s 64ms/step - loss: 1.6895e-04 - val_loss: 0.0030\n",
            "Epoch 85/100\n",
            "17/17 [==============================] - 1s 64ms/step - loss: 1.3895e-04 - val_loss: 0.0026\n",
            "Epoch 86/100\n",
            "17/17 [==============================] - 1s 63ms/step - loss: 1.4274e-04 - val_loss: 0.0039\n",
            "Epoch 87/100\n",
            "17/17 [==============================] - 1s 62ms/step - loss: 1.3308e-04 - val_loss: 0.0033\n",
            "Epoch 88/100\n",
            "17/17 [==============================] - 1s 62ms/step - loss: 1.2979e-04 - val_loss: 0.0016\n",
            "Epoch 89/100\n",
            "17/17 [==============================] - 1s 61ms/step - loss: 1.6628e-04 - val_loss: 0.0026\n",
            "Epoch 90/100\n",
            "17/17 [==============================] - 1s 76ms/step - loss: 1.2565e-04 - val_loss: 0.0020\n",
            "Epoch 91/100\n",
            "17/17 [==============================] - 2s 97ms/step - loss: 1.2388e-04 - val_loss: 0.0021\n",
            "Epoch 92/100\n",
            "17/17 [==============================] - 2s 95ms/step - loss: 1.2679e-04 - val_loss: 0.0015\n",
            "Epoch 93/100\n",
            "17/17 [==============================] - 1s 61ms/step - loss: 1.3433e-04 - val_loss: 0.0014\n",
            "Epoch 94/100\n",
            "17/17 [==============================] - 1s 62ms/step - loss: 1.3313e-04 - val_loss: 0.0011\n",
            "Epoch 95/100\n",
            "17/17 [==============================] - 1s 65ms/step - loss: 1.5631e-04 - val_loss: 0.0033\n",
            "Epoch 96/100\n",
            "17/17 [==============================] - 1s 66ms/step - loss: 1.5171e-04 - val_loss: 0.0040\n",
            "Epoch 97/100\n",
            "17/17 [==============================] - 1s 62ms/step - loss: 1.2536e-04 - val_loss: 0.0025\n",
            "Epoch 98/100\n",
            "17/17 [==============================] - 1s 63ms/step - loss: 1.3058e-04 - val_loss: 0.0050\n",
            "Epoch 99/100\n",
            "17/17 [==============================] - 1s 62ms/step - loss: 1.7124e-04 - val_loss: 0.0024\n",
            "Epoch 100/100\n",
            "17/17 [==============================] - 1s 66ms/step - loss: 1.4693e-04 - val_loss: 0.0027\n"
          ]
        },
        {
          "output_type": "execute_result",
          "data": {
            "text/plain": [
              "<keras.src.callbacks.History at 0x7cd766630d30>"
            ]
          },
          "metadata": {},
          "execution_count": 60
        }
      ],
      "source": [
        "# 9. Fit mô hình với dữ liệu train\n",
        "model.fit(X_train, y_train, validation_data=(X_test, y_test), epochs=100, batch_size=64, verbose=1)"
      ],
      "metadata": {
        "ExecuteTime": {
          "end_time": "2024-05-28T14:56:30.102897700Z",
          "start_time": "2024-05-28T14:55:12.041395900Z"
        },
        "colab": {
          "base_uri": "https://localhost:8080/"
        },
        "id": "cAmVJ_CTxAqt",
        "outputId": "94357637-a509-43f7-d912-7812ce136f60"
      }
    },
    {
      "cell_type": "code",
      "execution_count": 61,
      "outputs": [
        {
          "output_type": "stream",
          "name": "stdout",
          "text": [
            "8/8 [==============================] - 1s 14ms/step\n"
          ]
        }
      ],
      "source": [
        "# 10. Dự báo dữ liệu test\n",
        "y_pred = model.predict(X_test)"
      ],
      "metadata": {
        "ExecuteTime": {
          "end_time": "2024-05-28T14:56:50.591406800Z",
          "start_time": "2024-05-28T14:56:48.662794700Z"
        },
        "colab": {
          "base_uri": "https://localhost:8080/"
        },
        "id": "OjMIKSLFxAqt",
        "outputId": "c9c62608-578b-417c-beed-0f35089ba2f8"
      }
    },
    {
      "cell_type": "code",
      "execution_count": 62,
      "outputs": [],
      "source": [
        "# 11. Inverse transform dự báo và dữ liệu thực tế\n",
        "y_pred_new = scaler.inverse_transform(y_pred)\n",
        "y_test_new = scaler.inverse_transform(y_test.reshape(-1, 1))"
      ],
      "metadata": {
        "ExecuteTime": {
          "end_time": "2024-05-28T14:56:51.494533700Z",
          "start_time": "2024-05-28T14:56:51.483432Z"
        },
        "id": "9NaaGt04xAqt"
      }
    },
    {
      "cell_type": "code",
      "execution_count": 63,
      "outputs": [
        {
          "output_type": "stream",
          "name": "stdout",
          "text": [
            "RMSE trên tập test là: 5907.2796369114085\n",
            "MAPE trên tập test là: 4.716332671856804 %\n",
            "MSLE trên tập test là: 0.0035083832417397423\n"
          ]
        }
      ],
      "source": [
        "from sklearn.metrics import mean_squared_log_error\n",
        "\n",
        "# Tính toán RMSE, MAE và MAPE trên tập test\n",
        "test_score_rmse = np.sqrt(mean_squared_error(y_test_new, y_pred_new))\n",
        "test_score_mape = mean_absolute_percentage_error(y_test_new, y_pred_new) * 100\n",
        "test_score_msle = mean_squared_log_error(y_test_new, y_pred_new)\n",
        "\n",
        "print('RMSE trên tập test là:', test_score_rmse)\n",
        "print('MAPE trên tập test là:', test_score_mape, '%')\n",
        "print('MSLE trên tập test là:', test_score_msle)"
      ],
      "metadata": {
        "ExecuteTime": {
          "end_time": "2024-05-28T14:56:52.303265700Z",
          "start_time": "2024-05-28T14:56:52.256388100Z"
        },
        "colab": {
          "base_uri": "https://localhost:8080/"
        },
        "id": "lKK5kRjGxAqu",
        "outputId": "1aec78bc-5921-45ff-a24e-308f88d78148"
      }
    },
    {
      "cell_type": "code",
      "execution_count": 64,
      "outputs": [],
      "source": [
        "# 13. Dự báo 30 ngày tiếp theo\n",
        "x_input = test_data[len(test_data) - time_step:].reshape(1, -1)\n",
        "temp_input = list(x_input)\n",
        "temp_input = temp_input[0].tolist()\n",
        "\n",
        "lst_output = []\n",
        "i = 0\n",
        "while i < 30:\n",
        "    if len(temp_input) > time_step:\n",
        "        x_input = np.array(temp_input[1:])\n",
        "        x_input = x_input.reshape(1, -1)\n",
        "        x_input = x_input.reshape((1, time_step, 1))\n",
        "        yhat = model.predict(x_input, verbose=0)\n",
        "        temp_input.extend(yhat[0].tolist())\n",
        "        temp_input = temp_input[1:]\n",
        "        lst_output.extend(yhat.tolist())\n",
        "        i += 1\n",
        "    else:\n",
        "        x_input = x_input.reshape((1, time_step, 1))\n",
        "        yhat = model.predict(x_input, verbose=0)\n",
        "        temp_input.extend(yhat[0].tolist())\n",
        "        lst_output.extend(yhat.tolist())\n",
        "        i += 1"
      ],
      "metadata": {
        "ExecuteTime": {
          "end_time": "2024-05-28T14:57:12.986620Z",
          "start_time": "2024-05-28T14:57:10.872785900Z"
        },
        "id": "R3N5PEFixAqu"
      }
    },
    {
      "cell_type": "code",
      "execution_count": 65,
      "outputs": [
        {
          "output_type": "display_data",
          "data": {
            "text/plain": [
              "<Figure size 1200x600 with 1 Axes>"
            ],
            "image/png": "[encoded data removed]"
          },
          "metadata": {}
        }
      ],
      "source": [
        "# 14. Vẽ hình\n",
        "plt.figure(figsize=(12, 6))\n",
        "plt.plot(scaler.inverse_transform(df1), label='Train')\n",
        "test_data_index = pd.RangeIndex(start=train_size, stop=train_size + test_size, step=1)\n",
        "plt.plot(test_data_index, scaler.inverse_transform(test_data), label='Actual Test')\n",
        "test_pred_index = pd.RangeIndex(start=train_size + time_step, stop=train_size + test_size - 1, step=1)\n",
        "plt.plot(test_pred_index, scaler.inverse_transform(y_pred), label='Predicted Test')\n",
        "predict_data_index = pd.RangeIndex(start=len(df1), stop=len(df1) + 30, step=1)\n",
        "plt.plot(predict_data_index, scaler.inverse_transform(lst_output), label='Next 30 days')\n",
        "plt.xlabel('Time')\n",
        "plt.ylabel('Price')\n",
        "plt.legend()\n",
        "plt.show()"
      ],
      "metadata": {
        "ExecuteTime": {
          "end_time": "2024-05-28T14:57:26.410783500Z",
          "start_time": "2024-05-28T14:57:26.214163600Z"
        },
        "colab": {
          "base_uri": "https://localhost:8080/",
          "height": 542
        },
        "id": "CPvg9d48xAqu",
        "outputId": "c5c70e9a-5b17-404d-d538-59c574b241da"
      }
    },
    {
      "cell_type": "markdown",
      "source": [
        "# (Split 9/1)"
      ],
      "metadata": {
        "collapsed": false,
        "id": "WAl1VhslxAqu"
      }
    },
    {
      "cell_type": "code",
      "execution_count": 66,
      "outputs": [],
      "source": [
        "# 1. Import thư viện cần thiết\n",
        "import numpy as np\n",
        "import pandas as pd\n",
        "import matplotlib.pyplot as plt\n",
        "from sklearn.preprocessing import MinMaxScaler\n",
        "from keras.models import Sequential\n",
        "from keras.layers import Dense, LSTM\n",
        "from sklearn.metrics import mean_squared_error, mean_absolute_percentage_error\n",
        "\n",
        "# 2. Đọc file csv và gắn index với giá Close\n",
        "data = pd.read_csv('FPT.csv', index_col='time', parse_dates=True)\n",
        "data=data.drop(columns=['open', 'high', 'low', 'volume'])\n",
        "data = data.reset_index(drop=True)\n",
        "df1 = data.reset_index()['close']"
      ],
      "metadata": {
        "ExecuteTime": {
          "end_time": "2024-05-28T15:04:52.836836400Z",
          "start_time": "2024-05-28T15:04:52.774027800Z"
        },
        "id": "LjOAHbjWxAqu"
      }
    },
    {
      "cell_type": "code",
      "execution_count": 67,
      "outputs": [],
      "source": [
        "# 3. Scaler data\n",
        "scaler = MinMaxScaler(feature_range=(0, 1))\n",
        "df1 = scaler.fit_transform(np.array(df1).reshape(-1, 1))"
      ],
      "metadata": {
        "ExecuteTime": {
          "end_time": "2024-05-28T15:05:06.808057600Z",
          "start_time": "2024-05-28T15:05:06.792414300Z"
        },
        "id": "egikUnXOxAqu"
      }
    },
    {
      "cell_type": "code",
      "execution_count": 68,
      "outputs": [],
      "source": [
        "# 4. Chia train test\n",
        "train_size = int(0.9 * len(df1))\n",
        "test_size = len(df1) - train_size\n",
        "\n",
        "train_data = df1[:train_size]\n",
        "test_data = df1[train_size:]"
      ],
      "metadata": {
        "ExecuteTime": {
          "end_time": "2024-05-28T15:06:59.555402800Z",
          "start_time": "2024-05-28T15:06:59.518911500Z"
        },
        "id": "j6a0zplQxAqu"
      }
    },
    {
      "cell_type": "code",
      "execution_count": 69,
      "outputs": [],
      "source": [
        "# 5. Hàm Create Dataset\n",
        "def create_dataset(dataset, time_step=1):\n",
        "    dataX, dataY = [], []\n",
        "    for i in range(len(dataset) - time_step - 1):\n",
        "        a = dataset[i:(i + time_step), 0]\n",
        "        dataX.append(a)\n",
        "        dataY.append(dataset[i + time_step, 0])\n",
        "    return np.array(dataX), np.array(dataY)"
      ],
      "metadata": {
        "ExecuteTime": {
          "end_time": "2024-05-28T15:07:02.138963100Z",
          "start_time": "2024-05-28T15:07:02.095951400Z"
        },
        "id": "ZHTISki4xAqu"
      }
    },
    {
      "cell_type": "code",
      "execution_count": 70,
      "outputs": [],
      "source": [
        "# 6. Reshape into X=t,t+1,t+2..t+99 and Y=t+100\n",
        "time_step = 30\n",
        "X_train, y_train = create_dataset(train_data, time_step)\n",
        "X_test, y_test = create_dataset(test_data, time_step)"
      ],
      "metadata": {
        "ExecuteTime": {
          "end_time": "2024-05-28T15:07:21.939300200Z",
          "start_time": "2024-05-28T15:07:21.893050600Z"
        },
        "id": "5sxvqSMZxAqu"
      }
    },
    {
      "cell_type": "code",
      "execution_count": 71,
      "outputs": [],
      "source": [
        "# 7. Reshape input to be [samples, time steps, features] which is required for LSTM\n",
        "X_train = X_train.reshape(X_train.shape[0], X_train.shape[1], 1)\n",
        "X_test = X_test.reshape(X_test.shape[0], X_test.shape[1], 1)"
      ],
      "metadata": {
        "ExecuteTime": {
          "end_time": "2024-05-28T15:07:44.804807900Z",
          "start_time": "2024-05-28T15:07:44.757931600Z"
        },
        "id": "jhYDamKKxAqu"
      }
    },
    {
      "cell_type": "code",
      "execution_count": 72,
      "outputs": [],
      "source": [
        "# 8. Define LSTM Model\n",
        "model = Sequential()\n",
        "model.add(LSTM(50, return_sequences=True, input_shape=(time_step, 1)))\n",
        "model.add(LSTM(50, return_sequences=True))\n",
        "model.add(LSTM(50))\n",
        "model.add(Dense(1))\n",
        "model.compile(loss='mean_squared_error', optimizer='adam')"
      ],
      "metadata": {
        "ExecuteTime": {
          "end_time": "2024-05-28T15:07:59.443261100Z",
          "start_time": "2024-05-28T15:07:58.118183700Z"
        },
        "id": "QsLQvXc1xAqu"
      }
    },
    {
      "cell_type": "code",
      "execution_count": 73,
      "outputs": [
        {
          "output_type": "stream",
          "name": "stdout",
          "text": [
            "Epoch 1/100\n",
            "19/19 [==============================] - 8s 126ms/step - loss: 0.0146 - val_loss: 0.0163\n",
            "Epoch 2/100\n",
            "19/19 [==============================] - 1s 58ms/step - loss: 0.0014 - val_loss: 0.0018\n",
            "Epoch 3/100\n",
            "19/19 [==============================] - 1s 58ms/step - loss: 6.8718e-04 - val_loss: 0.0086\n",
            "Epoch 4/100\n",
            "19/19 [==============================] - 2s 92ms/step - loss: 4.9512e-04 - val_loss: 0.0055\n",
            "Epoch 5/100\n",
            "19/19 [==============================] - 2s 95ms/step - loss: 4.7661e-04 - val_loss: 0.0053\n",
            "Epoch 6/100\n",
            "19/19 [==============================] - 1s 71ms/step - loss: 4.8331e-04 - val_loss: 0.0069\n",
            "Epoch 7/100\n",
            "19/19 [==============================] - 1s 58ms/step - loss: 4.8500e-04 - val_loss: 0.0062\n",
            "Epoch 8/100\n",
            "19/19 [==============================] - 1s 57ms/step - loss: 4.6526e-04 - val_loss: 0.0065\n",
            "Epoch 9/100\n",
            "19/19 [==============================] - 1s 59ms/step - loss: 4.5428e-04 - val_loss: 0.0045\n",
            "Epoch 10/100\n",
            "19/19 [==============================] - 1s 58ms/step - loss: 4.6443e-04 - val_loss: 0.0050\n",
            "Epoch 11/100\n",
            "19/19 [==============================] - 1s 58ms/step - loss: 4.4942e-04 - val_loss: 0.0059\n",
            "Epoch 12/100\n",
            "19/19 [==============================] - 1s 58ms/step - loss: 4.3418e-04 - val_loss: 0.0060\n",
            "Epoch 13/100\n",
            "19/19 [==============================] - 1s 59ms/step - loss: 4.3630e-04 - val_loss: 0.0037\n",
            "Epoch 14/100\n",
            "19/19 [==============================] - 1s 58ms/step - loss: 4.6242e-04 - val_loss: 0.0059\n",
            "Epoch 15/100\n",
            "19/19 [==============================] - 2s 83ms/step - loss: 4.4776e-04 - val_loss: 0.0055\n",
            "Epoch 16/100\n",
            "19/19 [==============================] - 2s 94ms/step - loss: 4.2410e-04 - val_loss: 0.0059\n",
            "Epoch 17/100\n",
            "19/19 [==============================] - 1s 76ms/step - loss: 4.6469e-04 - val_loss: 0.0024\n",
            "Epoch 18/100\n",
            "19/19 [==============================] - 1s 58ms/step - loss: 4.9269e-04 - val_loss: 0.0046\n",
            "Epoch 19/100\n",
            "19/19 [==============================] - 1s 58ms/step - loss: 3.9365e-04 - val_loss: 0.0038\n",
            "Epoch 20/100\n",
            "19/19 [==============================] - 1s 58ms/step - loss: 3.7949e-04 - val_loss: 0.0040\n",
            "Epoch 21/100\n",
            "19/19 [==============================] - 1s 76ms/step - loss: 3.6664e-04 - val_loss: 0.0039\n",
            "Epoch 22/100\n",
            "19/19 [==============================] - 1s 59ms/step - loss: 3.5941e-04 - val_loss: 0.0047\n",
            "Epoch 23/100\n",
            "19/19 [==============================] - 1s 58ms/step - loss: 3.6110e-04 - val_loss: 0.0037\n",
            "Epoch 24/100\n",
            "19/19 [==============================] - 1s 58ms/step - loss: 3.8239e-04 - val_loss: 0.0031\n",
            "Epoch 25/100\n",
            "19/19 [==============================] - 1s 58ms/step - loss: 3.8695e-04 - val_loss: 0.0063\n",
            "Epoch 26/100\n",
            "19/19 [==============================] - 2s 85ms/step - loss: 4.4958e-04 - val_loss: 0.0040\n",
            "Epoch 27/100\n",
            "19/19 [==============================] - 2s 91ms/step - loss: 3.1868e-04 - val_loss: 0.0065\n",
            "Epoch 28/100\n",
            "19/19 [==============================] - 1s 77ms/step - loss: 3.4618e-04 - val_loss: 0.0027\n",
            "Epoch 29/100\n",
            "19/19 [==============================] - 1s 58ms/step - loss: 3.1042e-04 - val_loss: 0.0025\n",
            "Epoch 30/100\n",
            "19/19 [==============================] - 1s 60ms/step - loss: 3.2990e-04 - val_loss: 0.0034\n",
            "Epoch 31/100\n",
            "19/19 [==============================] - 1s 59ms/step - loss: 3.3825e-04 - val_loss: 0.0014\n",
            "Epoch 32/100\n",
            "19/19 [==============================] - 1s 59ms/step - loss: 3.2335e-04 - val_loss: 0.0047\n",
            "Epoch 33/100\n",
            "19/19 [==============================] - 1s 58ms/step - loss: 2.9282e-04 - val_loss: 0.0034\n",
            "Epoch 34/100\n",
            "19/19 [==============================] - 1s 59ms/step - loss: 2.9580e-04 - val_loss: 0.0028\n",
            "Epoch 35/100\n",
            "19/19 [==============================] - 1s 58ms/step - loss: 2.6467e-04 - val_loss: 0.0027\n",
            "Epoch 36/100\n",
            "19/19 [==============================] - 1s 59ms/step - loss: 2.5919e-04 - val_loss: 0.0028\n",
            "Epoch 37/100\n",
            "19/19 [==============================] - 1s 78ms/step - loss: 2.4202e-04 - val_loss: 0.0016\n",
            "Epoch 38/100\n",
            "19/19 [==============================] - 2s 95ms/step - loss: 2.4620e-04 - val_loss: 0.0012\n",
            "Epoch 39/100\n",
            "19/19 [==============================] - 2s 85ms/step - loss: 2.4804e-04 - val_loss: 0.0030\n",
            "Epoch 40/100\n",
            "19/19 [==============================] - 1s 61ms/step - loss: 2.2339e-04 - val_loss: 0.0031\n",
            "Epoch 41/100\n",
            "19/19 [==============================] - 2s 119ms/step - loss: 2.2215e-04 - val_loss: 0.0022\n",
            "Epoch 42/100\n",
            "19/19 [==============================] - 2s 128ms/step - loss: 2.0969e-04 - val_loss: 0.0013\n",
            "Epoch 43/100\n",
            "19/19 [==============================] - 1s 58ms/step - loss: 2.5005e-04 - val_loss: 0.0023\n",
            "Epoch 44/100\n",
            "19/19 [==============================] - 1s 58ms/step - loss: 1.9381e-04 - val_loss: 0.0033\n",
            "Epoch 45/100\n",
            "19/19 [==============================] - 1s 61ms/step - loss: 2.3840e-04 - val_loss: 0.0011\n",
            "Epoch 46/100\n",
            "19/19 [==============================] - 1s 75ms/step - loss: 2.3860e-04 - val_loss: 0.0023\n",
            "Epoch 47/100\n",
            "19/19 [==============================] - 2s 94ms/step - loss: 1.8607e-04 - val_loss: 0.0043\n",
            "Epoch 48/100\n",
            "19/19 [==============================] - 2s 90ms/step - loss: 2.6777e-04 - val_loss: 0.0054\n",
            "Epoch 49/100\n",
            "19/19 [==============================] - 1s 62ms/step - loss: 2.4387e-04 - val_loss: 7.3141e-04\n",
            "Epoch 50/100\n",
            "19/19 [==============================] - 1s 58ms/step - loss: 2.0663e-04 - val_loss: 0.0034\n",
            "Epoch 51/100\n",
            "19/19 [==============================] - 1s 59ms/step - loss: 1.8999e-04 - val_loss: 0.0014\n",
            "Epoch 52/100\n",
            "19/19 [==============================] - 1s 60ms/step - loss: 1.7966e-04 - val_loss: 0.0054\n",
            "Epoch 53/100\n",
            "19/19 [==============================] - 1s 60ms/step - loss: 2.1056e-04 - val_loss: 0.0017\n",
            "Epoch 54/100\n",
            "19/19 [==============================] - 1s 59ms/step - loss: 1.6597e-04 - val_loss: 0.0011\n",
            "Epoch 55/100\n",
            "19/19 [==============================] - 1s 59ms/step - loss: 1.5838e-04 - val_loss: 0.0029\n",
            "Epoch 56/100\n",
            "19/19 [==============================] - 1s 59ms/step - loss: 1.6816e-04 - val_loss: 0.0018\n",
            "Epoch 57/100\n",
            "19/19 [==============================] - 1s 71ms/step - loss: 1.5607e-04 - val_loss: 0.0018\n",
            "Epoch 58/100\n",
            "19/19 [==============================] - 2s 94ms/step - loss: 1.5045e-04 - val_loss: 8.7263e-04\n",
            "Epoch 59/100\n",
            "19/19 [==============================] - 2s 94ms/step - loss: 1.5887e-04 - val_loss: 0.0015\n",
            "Epoch 60/100\n",
            "19/19 [==============================] - 1s 62ms/step - loss: 1.6065e-04 - val_loss: 6.3768e-04\n",
            "Epoch 61/100\n",
            "19/19 [==============================] - 1s 61ms/step - loss: 2.6088e-04 - val_loss: 0.0017\n",
            "Epoch 62/100\n",
            "19/19 [==============================] - 1s 59ms/step - loss: 1.5314e-04 - val_loss: 0.0015\n",
            "Epoch 63/100\n",
            "19/19 [==============================] - 1s 59ms/step - loss: 1.5229e-04 - val_loss: 0.0011\n",
            "Epoch 64/100\n",
            "19/19 [==============================] - 1s 59ms/step - loss: 1.8379e-04 - val_loss: 6.1530e-04\n",
            "Epoch 65/100\n",
            "19/19 [==============================] - 1s 59ms/step - loss: 1.6037e-04 - val_loss: 0.0010\n",
            "Epoch 66/100\n",
            "19/19 [==============================] - 1s 59ms/step - loss: 1.4801e-04 - val_loss: 7.0266e-04\n",
            "Epoch 67/100\n",
            "19/19 [==============================] - 1s 58ms/step - loss: 1.6632e-04 - val_loss: 5.8194e-04\n",
            "Epoch 68/100\n",
            "19/19 [==============================] - 1s 60ms/step - loss: 1.4873e-04 - val_loss: 0.0011\n",
            "Epoch 69/100\n",
            "19/19 [==============================] - 2s 92ms/step - loss: 1.3579e-04 - val_loss: 0.0016\n",
            "Epoch 70/100\n",
            "19/19 [==============================] - 2s 93ms/step - loss: 1.4087e-04 - val_loss: 0.0024\n",
            "Epoch 71/100\n",
            "19/19 [==============================] - 1s 68ms/step - loss: 1.7331e-04 - val_loss: 5.3243e-04\n",
            "Epoch 72/100\n",
            "19/19 [==============================] - 1s 58ms/step - loss: 1.4172e-04 - val_loss: 0.0010\n",
            "Epoch 73/100\n",
            "19/19 [==============================] - 1s 57ms/step - loss: 1.3639e-04 - val_loss: 7.8168e-04\n",
            "Epoch 74/100\n",
            "19/19 [==============================] - 1s 59ms/step - loss: 1.3352e-04 - val_loss: 7.4212e-04\n",
            "Epoch 75/100\n",
            "19/19 [==============================] - 1s 58ms/step - loss: 1.3302e-04 - val_loss: 5.0304e-04\n",
            "Epoch 76/100\n",
            "19/19 [==============================] - 1s 59ms/step - loss: 1.4182e-04 - val_loss: 0.0013\n",
            "Epoch 77/100\n",
            "19/19 [==============================] - 1s 60ms/step - loss: 1.5148e-04 - val_loss: 0.0011\n",
            "Epoch 78/100\n",
            "19/19 [==============================] - 1s 59ms/step - loss: 1.4672e-04 - val_loss: 0.0012\n",
            "Epoch 79/100\n",
            "19/19 [==============================] - 1s 61ms/step - loss: 1.2850e-04 - val_loss: 9.2295e-04\n",
            "Epoch 80/100\n",
            "19/19 [==============================] - 2s 90ms/step - loss: 1.2437e-04 - val_loss: 4.8929e-04\n",
            "Epoch 81/100\n",
            "19/19 [==============================] - 2s 98ms/step - loss: 1.2938e-04 - val_loss: 7.0571e-04\n",
            "Epoch 82/100\n",
            "19/19 [==============================] - 1s 66ms/step - loss: 1.2343e-04 - val_loss: 0.0019\n",
            "Epoch 83/100\n",
            "19/19 [==============================] - 1s 61ms/step - loss: 1.6365e-04 - val_loss: 5.1208e-04\n",
            "Epoch 84/100\n",
            "19/19 [==============================] - 1s 58ms/step - loss: 1.3658e-04 - val_loss: 4.4600e-04\n",
            "Epoch 85/100\n",
            "19/19 [==============================] - 1s 59ms/step - loss: 1.4625e-04 - val_loss: 5.4291e-04\n",
            "Epoch 86/100\n",
            "19/19 [==============================] - 1s 58ms/step - loss: 1.2695e-04 - val_loss: 6.4864e-04\n",
            "Epoch 87/100\n",
            "19/19 [==============================] - 1s 62ms/step - loss: 1.2469e-04 - val_loss: 7.2439e-04\n",
            "Epoch 88/100\n",
            "19/19 [==============================] - 1s 61ms/step - loss: 1.2941e-04 - val_loss: 5.0355e-04\n",
            "Epoch 89/100\n",
            "19/19 [==============================] - 1s 58ms/step - loss: 1.3252e-04 - val_loss: 4.3906e-04\n",
            "Epoch 90/100\n",
            "19/19 [==============================] - 1s 59ms/step - loss: 1.2139e-04 - val_loss: 5.1832e-04\n",
            "Epoch 91/100\n",
            "19/19 [==============================] - 2s 94ms/step - loss: 1.1586e-04 - val_loss: 0.0010\n",
            "Epoch 92/100\n",
            "19/19 [==============================] - 2s 97ms/step - loss: 1.3910e-04 - val_loss: 0.0011\n",
            "Epoch 93/100\n",
            "19/19 [==============================] - 1s 62ms/step - loss: 1.2940e-04 - val_loss: 4.1992e-04\n",
            "Epoch 94/100\n",
            "19/19 [==============================] - 1s 59ms/step - loss: 1.2327e-04 - val_loss: 4.2252e-04\n",
            "Epoch 95/100\n",
            "19/19 [==============================] - 1s 59ms/step - loss: 1.2513e-04 - val_loss: 8.8033e-04\n",
            "Epoch 96/100\n",
            "19/19 [==============================] - 1s 59ms/step - loss: 1.7952e-04 - val_loss: 0.0022\n",
            "Epoch 97/100\n",
            "19/19 [==============================] - 1s 59ms/step - loss: 1.5447e-04 - val_loss: 0.0014\n",
            "Epoch 98/100\n",
            "19/19 [==============================] - 1s 59ms/step - loss: 1.3066e-04 - val_loss: 5.5428e-04\n",
            "Epoch 99/100\n",
            "19/19 [==============================] - 1s 59ms/step - loss: 1.4031e-04 - val_loss: 0.0016\n",
            "Epoch 100/100\n",
            "19/19 [==============================] - 1s 60ms/step - loss: 1.4055e-04 - val_loss: 4.0586e-04\n"
          ]
        },
        {
          "output_type": "execute_result",
          "data": {
            "text/plain": [
              "<keras.src.callbacks.History at 0x7cd7624b2d40>"
            ]
          },
          "metadata": {},
          "execution_count": 73
        }
      ],
      "source": [
        "# 9. Fit mô hình với dữ liệu train\n",
        "model.fit(X_train, y_train, validation_data=(X_test, y_test), epochs=100, batch_size=64, verbose=1)"
      ],
      "metadata": {
        "ExecuteTime": {
          "end_time": "2024-05-28T15:09:35.990663500Z",
          "start_time": "2024-05-28T15:08:11.766231200Z"
        },
        "colab": {
          "base_uri": "https://localhost:8080/"
        },
        "id": "Zy17Wl5mxAqv",
        "outputId": "1d057432-777c-45f0-9b9a-237ff8fe2f41"
      }
    },
    {
      "cell_type": "code",
      "execution_count": 74,
      "outputs": [
        {
          "output_type": "stream",
          "name": "stdout",
          "text": [
            "4/4 [==============================] - 1s 12ms/step\n"
          ]
        }
      ],
      "source": [
        "# 10. Dự báo dữ liệu test\n",
        "y_pred = model.predict(X_test)"
      ],
      "metadata": {
        "ExecuteTime": {
          "end_time": "2024-05-28T15:09:54.006918900Z",
          "start_time": "2024-05-28T15:09:52.343132300Z"
        },
        "colab": {
          "base_uri": "https://localhost:8080/"
        },
        "id": "42DgMieAxAqv",
        "outputId": "5c1c7c15-daa3-42ae-cbcf-c45c89d3b5e7"
      }
    },
    {
      "cell_type": "code",
      "execution_count": 75,
      "outputs": [],
      "source": [
        "# 11. Inverse transform dự báo và dữ liệu thực tế\n",
        "y_pred_new = scaler.inverse_transform(y_pred)\n",
        "y_test_new = scaler.inverse_transform(y_test.reshape(-1, 1))"
      ],
      "metadata": {
        "ExecuteTime": {
          "end_time": "2024-05-28T15:10:26.279554200Z",
          "start_time": "2024-05-28T15:10:26.230038600Z"
        },
        "id": "CS8ox15DxAqv"
      }
    },
    {
      "cell_type": "code",
      "execution_count": 76,
      "outputs": [
        {
          "output_type": "stream",
          "name": "stdout",
          "text": [
            "RMSE trên tập test là: 2271.8328807647563\n",
            "MAPE trên tập test là: 1.621142339144766 %\n",
            "MSLE trên tập test là: 0.0004934542870326668\n"
          ]
        }
      ],
      "source": [
        "from sklearn.metrics import mean_squared_log_error\n",
        "\n",
        "# Tính toán RMSE, MAE và MAPE trên tập test\n",
        "test_score_rmse = np.sqrt(mean_squared_error(y_test_new, y_pred_new))\n",
        "test_score_mape = mean_absolute_percentage_error(y_test_new, y_pred_new) * 100\n",
        "test_score_msle = mean_squared_log_error(y_test_new, y_pred_new)\n",
        "\n",
        "print('RMSE trên tập test là:', test_score_rmse)\n",
        "print('MAPE trên tập test là:', test_score_mape, '%')\n",
        "print('MSLE trên tập test là:', test_score_msle)"
      ],
      "metadata": {
        "ExecuteTime": {
          "end_time": "2024-05-28T15:10:28.303802600Z",
          "start_time": "2024-05-28T15:10:28.303802600Z"
        },
        "colab": {
          "base_uri": "https://localhost:8080/"
        },
        "id": "-XShw5XcxAqv",
        "outputId": "c7dc4b42-519a-4aa2-dd38-2478797f09d2"
      }
    },
    {
      "cell_type": "code",
      "execution_count": 77,
      "outputs": [],
      "source": [
        "# 13. Dự báo 30 ngày tiếp theo\n",
        "x_input = test_data[len(test_data) - time_step:].reshape(1, -1)\n",
        "temp_input = list(x_input)\n",
        "temp_input = temp_input[0].tolist()\n",
        "\n",
        "lst_output = []\n",
        "i = 0\n",
        "while i < 30:\n",
        "    if len(temp_input) > time_step:\n",
        "        x_input = np.array(temp_input[1:])\n",
        "        x_input = x_input.reshape(1, -1)\n",
        "        x_input = x_input.reshape((1, time_step, 1))\n",
        "        yhat = model.predict(x_input, verbose=0)\n",
        "        temp_input.extend(yhat[0].tolist())\n",
        "        temp_input = temp_input[1:]\n",
        "        lst_output.extend(yhat.tolist())\n",
        "        i += 1\n",
        "    else:\n",
        "        x_input = x_input.reshape((1, time_step, 1))\n",
        "        yhat = model.predict(x_input, verbose=0)\n",
        "        temp_input.extend(yhat[0].tolist())\n",
        "        lst_output.extend(yhat.tolist())\n",
        "        i += 1"
      ],
      "metadata": {
        "ExecuteTime": {
          "end_time": "2024-05-28T15:10:54.836231800Z",
          "start_time": "2024-05-28T15:10:52.419310400Z"
        },
        "id": "ytsUfAnSxAqv"
      }
    },
    {
      "cell_type": "code",
      "execution_count": 78,
      "outputs": [
        {
          "output_type": "display_data",
          "data": {
            "text/plain": [
              "<Figure size 1200x600 with 1 Axes>"
            ],
            "image/png": "[encoded data removed]"
          },
          "metadata": {}
        }
      ],
      "source": [
        "# 14. Vẽ hình\n",
        "plt.figure(figsize=(12, 6))\n",
        "plt.plot(scaler.inverse_transform(df1), label='Train')\n",
        "test_data_index = pd.RangeIndex(start=train_size, stop=train_size + test_size, step=1)\n",
        "plt.plot(test_data_index, scaler.inverse_transform(test_data), label='Actual Test')\n",
        "test_pred_index = pd.RangeIndex(start=train_size + time_step, stop=train_size + test_size - 1, step=1)\n",
        "plt.plot(test_pred_index, scaler.inverse_transform(y_pred), label='Predicted Test')\n",
        "predict_data_index = pd.RangeIndex(start=len(df1), stop=len(df1) + 30, step=1)\n",
        "plt.plot(predict_data_index, scaler.inverse_transform(lst_output), label='Next 30 days')\n",
        "plt.xlabel('Time')\n",
        "plt.ylabel('Price')\n",
        "plt.legend()\n",
        "plt.show()"
      ],
      "metadata": {
        "ExecuteTime": {
          "end_time": "2024-05-28T15:10:56.101037500Z",
          "start_time": "2024-05-28T15:10:55.899675800Z"
        },
        "colab": {
          "base_uri": "https://localhost:8080/",
          "height": 542
        },
        "id": "qC3sDuAIxAqv",
        "outputId": "38ef0adc-8570-4a14-acb6-fb59bada82e7"
      }
    },
    {
      "cell_type": "code",
      "execution_count": 78,
      "outputs": [],
      "source": [],
      "metadata": {
        "id": "YCpJWspVxAqw"
      }
    }
  ],
  "metadata": {
    "kernelspec": {
      "display_name": "Python 3",
      "language": "python",
      "name": "python3"
    },
    "language_info": {
      "codemirror_mode": {
        "name": "ipython",
        "version": 2
      },
      "file_extension": ".py",
      "mimetype": "text/x-python",
      "name": "python",
      "nbconvert_exporter": "python",
      "pygments_lexer": "ipython2",
      "version": "2.7.6"
    },
    "colab": {
      "provenance": []
    }
  },
  "nbformat": 4,
  "nbformat_minor": 0
}