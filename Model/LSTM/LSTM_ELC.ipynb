{
  "cells": [
    {
      "cell_type": "code",
      "execution_count": 1,
      "outputs": [],
      "source": [
        "# 1. Import thư viện cần thiết\n",
        "import numpy as np\n",
        "import pandas as pd\n",
        "import matplotlib.pyplot as plt\n",
        "from sklearn.preprocessing import MinMaxScaler\n",
        "from keras.models import Sequential\n",
        "from keras.layers import Dense, LSTM\n",
        "from sklearn.metrics import mean_squared_error, mean_absolute_percentage_error\n",
        "\n",
        "# 2. Đọc file csv và gắn index với giá Close\n",
        "data = pd.read_csv('ELC.csv', index_col='time', parse_dates=True)\n",
        "data=data.drop(columns=['open', 'high', 'low', 'volume'])\n",
        "data = data.reset_index(drop=True)\n",
        "df1 = data.reset_index()['close']"
      ],
      "metadata": {
        "ExecuteTime": {
          "end_time": "2024-05-28T14:48:14.649414Z",
          "start_time": "2024-05-28T14:48:09.966619300Z"
        },
        "id": "xVwQ8TMbxAqp"
      }
    },
    {
      "cell_type": "code",
      "execution_count": 2,
      "outputs": [],
      "source": [
        "# 3. Scaler data\n",
        "scaler = MinMaxScaler(feature_range=(0, 1))\n",
        "df1 = scaler.fit_transform(np.array(df1).reshape(-1, 1))"
      ],
      "metadata": {
        "ExecuteTime": {
          "end_time": "2024-05-28T14:48:25.602823500Z",
          "start_time": "2024-05-28T14:48:25.580373500Z"
        },
        "id": "TEVQzJHrxAqq"
      }
    },
    {
      "cell_type": "code",
      "execution_count": 3,
      "outputs": [],
      "source": [
        "# 4. Chia train test (70% train, 30% test)\n",
        "train_size = int(0.7 * len(df1))\n",
        "test_size = len(df1) - train_size\n",
        "\n",
        "train_data = df1[:train_size]\n",
        "test_data = df1[train_size:]"
      ],
      "metadata": {
        "ExecuteTime": {
          "end_time": "2024-05-28T14:48:34.310582300Z",
          "start_time": "2024-05-28T14:48:34.293911Z"
        },
        "id": "AnP5ibVsxAqq"
      }
    },
    {
      "cell_type": "code",
      "execution_count": 4,
      "outputs": [],
      "source": [
        "# 5. Hàm Create Dataset\n",
        "def create_dataset(dataset, time_step=1):\n",
        "    dataX, dataY = [], []\n",
        "    for i in range(len(dataset) - time_step - 1):\n",
        "        a = dataset[i:(i + time_step), 0]\n",
        "        dataX.append(a)\n",
        "        dataY.append(dataset[i + time_step, 0])\n",
        "    return np.array(dataX), np.array(dataY)"
      ],
      "metadata": {
        "ExecuteTime": {
          "end_time": "2024-05-28T14:48:42.073073400Z",
          "start_time": "2024-05-28T14:48:42.053551900Z"
        },
        "id": "FXDgCdILxAqq"
      }
    },
    {
      "cell_type": "code",
      "execution_count": 5,
      "outputs": [],
      "source": [
        "# 6. Reshape into X=t,t+1,t+2..t+99 and Y=t+100\n",
        "time_step = 30\n",
        "X_train, y_train = create_dataset(train_data, time_step)\n",
        "X_test, y_test = create_dataset(test_data, time_step)"
      ],
      "metadata": {
        "ExecuteTime": {
          "end_time": "2024-05-28T14:48:49.565208600Z",
          "start_time": "2024-05-28T14:48:49.561089Z"
        },
        "id": "yrK7_8w6xAqq"
      }
    },
    {
      "cell_type": "code",
      "execution_count": 6,
      "outputs": [],
      "source": [
        "# 7. Reshape input to be [samples, time steps, features] which is required for LSTM\n",
        "X_train = X_train.reshape(X_train.shape[0], X_train.shape[1], 1)\n",
        "X_test = X_test.reshape(X_test.shape[0], X_test.shape[1], 1)"
      ],
      "metadata": {
        "ExecuteTime": {
          "end_time": "2024-05-28T14:48:58.248665100Z",
          "start_time": "2024-05-28T14:48:58.236569300Z"
        },
        "id": "20wf8GH4xAqr"
      }
    },
    {
      "cell_type": "code",
      "execution_count": 7,
      "outputs": [],
      "source": [
        "# 8. Define LSTM Model\n",
        "model = Sequential()\n",
        "model.add(LSTM(50, return_sequences=True, input_shape=(time_step, 1)))\n",
        "model.add(LSTM(50, return_sequences=True))\n",
        "model.add(LSTM(50))\n",
        "model.add(Dense(1))\n",
        "model.compile(loss='mean_squared_error', optimizer='adam')"
      ],
      "metadata": {
        "ExecuteTime": {
          "end_time": "2024-05-28T14:49:07.516332800Z",
          "start_time": "2024-05-28T14:49:06.237622100Z"
        },
        "id": "8kw4Dq1cxAqr"
      }
    },
    {
      "cell_type": "code",
      "execution_count": 8,
      "outputs": [
        {
          "output_type": "stream",
          "name": "stdout",
          "text": [
            "Epoch 1/100\n",
            "14/14 [==============================] - 8s 160ms/step - loss: 0.0244 - val_loss: 0.0393\n",
            "Epoch 2/100\n",
            "14/14 [==============================] - 1s 64ms/step - loss: 0.0043 - val_loss: 0.0031\n",
            "Epoch 3/100\n",
            "14/14 [==============================] - 1s 64ms/step - loss: 0.0019 - val_loss: 0.0028\n",
            "Epoch 4/100\n",
            "14/14 [==============================] - 1s 78ms/step - loss: 0.0014 - val_loss: 0.0036\n",
            "Epoch 5/100\n",
            "14/14 [==============================] - 1s 103ms/step - loss: 0.0013 - val_loss: 0.0051\n",
            "Epoch 6/100\n",
            "14/14 [==============================] - 1s 104ms/step - loss: 0.0013 - val_loss: 0.0085\n",
            "Epoch 7/100\n",
            "14/14 [==============================] - 1s 78ms/step - loss: 0.0015 - val_loss: 0.0071\n",
            "Epoch 8/100\n",
            "14/14 [==============================] - 1s 67ms/step - loss: 0.0011 - val_loss: 0.0040\n",
            "Epoch 9/100\n",
            "14/14 [==============================] - 1s 65ms/step - loss: 0.0011 - val_loss: 0.0039\n",
            "Epoch 10/100\n",
            "14/14 [==============================] - 1s 66ms/step - loss: 9.7703e-04 - val_loss: 0.0041\n",
            "Epoch 11/100\n",
            "14/14 [==============================] - 1s 65ms/step - loss: 9.0388e-04 - val_loss: 0.0050\n",
            "Epoch 12/100\n",
            "14/14 [==============================] - 1s 63ms/step - loss: 9.0805e-04 - val_loss: 0.0033\n",
            "Epoch 13/100\n",
            "14/14 [==============================] - 1s 65ms/step - loss: 8.3119e-04 - val_loss: 0.0022\n",
            "Epoch 14/100\n",
            "14/14 [==============================] - 1s 65ms/step - loss: 7.8137e-04 - val_loss: 0.0020\n",
            "Epoch 15/100\n",
            "14/14 [==============================] - 1s 65ms/step - loss: 8.6565e-04 - val_loss: 0.0048\n",
            "Epoch 16/100\n",
            "14/14 [==============================] - 1s 66ms/step - loss: 7.3255e-04 - val_loss: 0.0025\n",
            "Epoch 17/100\n",
            "14/14 [==============================] - 1s 67ms/step - loss: 6.7044e-04 - val_loss: 0.0028\n",
            "Epoch 18/100\n",
            "14/14 [==============================] - 1s 99ms/step - loss: 7.0979e-04 - val_loss: 0.0032\n",
            "Epoch 19/100\n",
            "14/14 [==============================] - 1s 102ms/step - loss: 6.1247e-04 - val_loss: 0.0019\n",
            "Epoch 20/100\n",
            "14/14 [==============================] - 1s 107ms/step - loss: 6.0389e-04 - val_loss: 0.0030\n",
            "Epoch 21/100\n",
            "14/14 [==============================] - 1s 66ms/step - loss: 5.9819e-04 - val_loss: 0.0022\n",
            "Epoch 22/100\n",
            "14/14 [==============================] - 1s 67ms/step - loss: 5.8052e-04 - val_loss: 0.0023\n",
            "Epoch 23/100\n",
            "14/14 [==============================] - 1s 67ms/step - loss: 5.5558e-04 - val_loss: 0.0015\n",
            "Epoch 24/100\n",
            "14/14 [==============================] - 1s 63ms/step - loss: 5.6013e-04 - val_loss: 0.0018\n",
            "Epoch 25/100\n",
            "14/14 [==============================] - 1s 66ms/step - loss: 5.2763e-04 - val_loss: 0.0015\n",
            "Epoch 26/100\n",
            "14/14 [==============================] - 1s 65ms/step - loss: 5.1954e-04 - val_loss: 0.0033\n",
            "Epoch 27/100\n",
            "14/14 [==============================] - 1s 66ms/step - loss: 5.2247e-04 - val_loss: 0.0016\n",
            "Epoch 28/100\n",
            "14/14 [==============================] - 1s 65ms/step - loss: 5.6662e-04 - val_loss: 0.0015\n",
            "Epoch 29/100\n",
            "14/14 [==============================] - 1s 64ms/step - loss: 5.1451e-04 - val_loss: 0.0021\n",
            "Epoch 30/100\n",
            "14/14 [==============================] - 1s 65ms/step - loss: 6.2830e-04 - val_loss: 0.0012\n",
            "Epoch 31/100\n",
            "14/14 [==============================] - 1s 69ms/step - loss: 5.5095e-04 - val_loss: 0.0025\n",
            "Epoch 32/100\n",
            "14/14 [==============================] - 1s 101ms/step - loss: 5.0005e-04 - val_loss: 0.0024\n",
            "Epoch 33/100\n",
            "14/14 [==============================] - 2s 113ms/step - loss: 4.8181e-04 - val_loss: 0.0013\n",
            "Epoch 34/100\n",
            "14/14 [==============================] - 1s 82ms/step - loss: 5.0840e-04 - val_loss: 0.0014\n",
            "Epoch 35/100\n",
            "14/14 [==============================] - 1s 64ms/step - loss: 5.5438e-04 - val_loss: 0.0029\n",
            "Epoch 36/100\n",
            "14/14 [==============================] - 1s 66ms/step - loss: 4.7083e-04 - val_loss: 0.0025\n",
            "Epoch 37/100\n",
            "14/14 [==============================] - 1s 66ms/step - loss: 5.0422e-04 - val_loss: 0.0013\n",
            "Epoch 38/100\n",
            "14/14 [==============================] - 1s 66ms/step - loss: 4.6598e-04 - val_loss: 0.0029\n",
            "Epoch 39/100\n",
            "14/14 [==============================] - 1s 68ms/step - loss: 4.6409e-04 - val_loss: 0.0011\n",
            "Epoch 40/100\n",
            "14/14 [==============================] - 1s 66ms/step - loss: 4.7143e-04 - val_loss: 0.0029\n",
            "Epoch 41/100\n",
            "14/14 [==============================] - 1s 68ms/step - loss: 4.8879e-04 - val_loss: 0.0012\n",
            "Epoch 42/100\n",
            "14/14 [==============================] - 1s 65ms/step - loss: 4.5086e-04 - val_loss: 0.0022\n",
            "Epoch 43/100\n",
            "14/14 [==============================] - 1s 65ms/step - loss: 4.5987e-04 - val_loss: 0.0011\n",
            "Epoch 44/100\n",
            "14/14 [==============================] - 1s 64ms/step - loss: 4.5787e-04 - val_loss: 0.0018\n",
            "Epoch 45/100\n",
            "14/14 [==============================] - 1s 89ms/step - loss: 4.4007e-04 - val_loss: 0.0016\n",
            "Epoch 46/100\n",
            "14/14 [==============================] - 1s 99ms/step - loss: 4.5293e-04 - val_loss: 0.0027\n",
            "Epoch 47/100\n",
            "14/14 [==============================] - 2s 115ms/step - loss: 4.2695e-04 - val_loss: 0.0013\n",
            "Epoch 48/100\n",
            "14/14 [==============================] - 1s 65ms/step - loss: 4.1776e-04 - val_loss: 0.0017\n",
            "Epoch 49/100\n",
            "14/14 [==============================] - 1s 69ms/step - loss: 4.2827e-04 - val_loss: 0.0017\n",
            "Epoch 50/100\n",
            "14/14 [==============================] - 1s 76ms/step - loss: 4.1699e-04 - val_loss: 0.0021\n",
            "Epoch 51/100\n",
            "14/14 [==============================] - 1s 65ms/step - loss: 4.0548e-04 - val_loss: 0.0014\n",
            "Epoch 52/100\n",
            "14/14 [==============================] - 1s 65ms/step - loss: 4.0876e-04 - val_loss: 0.0016\n",
            "Epoch 53/100\n",
            "14/14 [==============================] - 1s 64ms/step - loss: 4.2563e-04 - val_loss: 0.0025\n",
            "Epoch 54/100\n",
            "14/14 [==============================] - 1s 63ms/step - loss: 4.2548e-04 - val_loss: 0.0011\n",
            "Epoch 55/100\n",
            "14/14 [==============================] - 1s 66ms/step - loss: 4.0199e-04 - val_loss: 0.0024\n",
            "Epoch 56/100\n",
            "14/14 [==============================] - 1s 68ms/step - loss: 4.0284e-04 - val_loss: 0.0012\n",
            "Epoch 57/100\n",
            "14/14 [==============================] - 1s 67ms/step - loss: 4.6594e-04 - val_loss: 8.6155e-04\n",
            "Epoch 58/100\n",
            "14/14 [==============================] - 1s 87ms/step - loss: 3.9445e-04 - val_loss: 0.0019\n",
            "Epoch 59/100\n",
            "14/14 [==============================] - 1s 108ms/step - loss: 4.0388e-04 - val_loss: 8.9012e-04\n",
            "Epoch 60/100\n",
            "14/14 [==============================] - 1s 106ms/step - loss: 4.4966e-04 - val_loss: 0.0012\n",
            "Epoch 61/100\n",
            "14/14 [==============================] - 1s 75ms/step - loss: 3.6116e-04 - val_loss: 0.0012\n",
            "Epoch 62/100\n",
            "14/14 [==============================] - 1s 105ms/step - loss: 3.9598e-04 - val_loss: 9.3502e-04\n",
            "Epoch 63/100\n",
            "14/14 [==============================] - 1s 67ms/step - loss: 4.1870e-04 - val_loss: 8.4650e-04\n",
            "Epoch 64/100\n",
            "14/14 [==============================] - 1s 68ms/step - loss: 4.6697e-04 - val_loss: 0.0011\n",
            "Epoch 65/100\n",
            "14/14 [==============================] - 1s 68ms/step - loss: 3.6410e-04 - val_loss: 0.0016\n",
            "Epoch 66/100\n",
            "14/14 [==============================] - 1s 64ms/step - loss: 3.5659e-04 - val_loss: 0.0011\n",
            "Epoch 67/100\n",
            "14/14 [==============================] - 1s 64ms/step - loss: 3.4802e-04 - val_loss: 0.0018\n",
            "Epoch 68/100\n",
            "14/14 [==============================] - 1s 65ms/step - loss: 3.4597e-04 - val_loss: 0.0011\n",
            "Epoch 69/100\n",
            "14/14 [==============================] - 1s 65ms/step - loss: 3.2875e-04 - val_loss: 0.0017\n",
            "Epoch 70/100\n",
            "14/14 [==============================] - 1s 66ms/step - loss: 3.3331e-04 - val_loss: 0.0010\n",
            "Epoch 71/100\n",
            "14/14 [==============================] - 1s 81ms/step - loss: 3.2708e-04 - val_loss: 0.0010\n",
            "Epoch 72/100\n",
            "14/14 [==============================] - 2s 112ms/step - loss: 3.1604e-04 - val_loss: 0.0024\n",
            "Epoch 73/100\n",
            "14/14 [==============================] - 2s 118ms/step - loss: 3.2511e-04 - val_loss: 0.0014\n",
            "Epoch 74/100\n",
            "14/14 [==============================] - 1s 66ms/step - loss: 3.1073e-04 - val_loss: 0.0016\n",
            "Epoch 75/100\n",
            "14/14 [==============================] - 1s 66ms/step - loss: 3.3752e-04 - val_loss: 0.0014\n",
            "Epoch 76/100\n",
            "14/14 [==============================] - 1s 67ms/step - loss: 3.2848e-04 - val_loss: 0.0013\n",
            "Epoch 77/100\n",
            "14/14 [==============================] - 1s 67ms/step - loss: 3.2635e-04 - val_loss: 0.0011\n",
            "Epoch 78/100\n",
            "14/14 [==============================] - 1s 68ms/step - loss: 3.5799e-04 - val_loss: 0.0026\n",
            "Epoch 79/100\n",
            "14/14 [==============================] - 1s 66ms/step - loss: 2.9732e-04 - val_loss: 9.9985e-04\n",
            "Epoch 80/100\n",
            "14/14 [==============================] - 1s 66ms/step - loss: 2.8657e-04 - val_loss: 6.9071e-04\n",
            "Epoch 81/100\n",
            "14/14 [==============================] - 1s 66ms/step - loss: 3.2468e-04 - val_loss: 0.0024\n",
            "Epoch 82/100\n",
            "14/14 [==============================] - 1s 67ms/step - loss: 3.2669e-04 - val_loss: 0.0013\n",
            "Epoch 83/100\n",
            "14/14 [==============================] - 1s 67ms/step - loss: 2.6931e-04 - val_loss: 8.7460e-04\n",
            "Epoch 84/100\n",
            "14/14 [==============================] - 1s 82ms/step - loss: 2.6203e-04 - val_loss: 0.0015\n",
            "Epoch 85/100\n",
            "14/14 [==============================] - 1s 99ms/step - loss: 2.6124e-04 - val_loss: 0.0012\n",
            "Epoch 86/100\n",
            "14/14 [==============================] - 2s 116ms/step - loss: 2.6743e-04 - val_loss: 7.5717e-04\n",
            "Epoch 87/100\n",
            "14/14 [==============================] - 1s 79ms/step - loss: 2.7565e-04 - val_loss: 6.3923e-04\n",
            "Epoch 88/100\n",
            "14/14 [==============================] - 1s 66ms/step - loss: 2.9036e-04 - val_loss: 6.0557e-04\n",
            "Epoch 89/100\n",
            "14/14 [==============================] - 1s 68ms/step - loss: 2.6607e-04 - val_loss: 7.7929e-04\n",
            "Epoch 90/100\n",
            "14/14 [==============================] - 1s 66ms/step - loss: 2.3948e-04 - val_loss: 6.7404e-04\n",
            "Epoch 91/100\n",
            "14/14 [==============================] - 1s 66ms/step - loss: 2.3736e-04 - val_loss: 9.5365e-04\n",
            "Epoch 92/100\n",
            "14/14 [==============================] - 1s 66ms/step - loss: 2.1926e-04 - val_loss: 9.4842e-04\n",
            "Epoch 93/100\n",
            "14/14 [==============================] - 1s 67ms/step - loss: 2.1703e-04 - val_loss: 0.0011\n",
            "Epoch 94/100\n",
            "14/14 [==============================] - 1s 67ms/step - loss: 2.5592e-04 - val_loss: 0.0017\n",
            "Epoch 95/100\n",
            "14/14 [==============================] - 1s 67ms/step - loss: 3.0229e-04 - val_loss: 0.0018\n",
            "Epoch 96/100\n",
            "14/14 [==============================] - 1s 66ms/step - loss: 2.6206e-04 - val_loss: 8.4142e-04\n",
            "Epoch 97/100\n",
            "14/14 [==============================] - 1s 67ms/step - loss: 2.1879e-04 - val_loss: 0.0013\n",
            "Epoch 98/100\n",
            "14/14 [==============================] - 1s 96ms/step - loss: 2.1233e-04 - val_loss: 0.0014\n",
            "Epoch 99/100\n",
            "14/14 [==============================] - 2s 114ms/step - loss: 2.0815e-04 - val_loss: 0.0017\n",
            "Epoch 100/100\n",
            "14/14 [==============================] - 1s 97ms/step - loss: 2.3368e-04 - val_loss: 0.0015\n"
          ]
        },
        {
          "output_type": "execute_result",
          "data": {
            "text/plain": [
              "<keras.src.callbacks.History at 0x7cd767de4d90>"
            ]
          },
          "metadata": {},
          "execution_count": 8
        }
      ],
      "source": [
        "# 9. Fit mô hình với dữ liệu train\n",
        "model.fit(X_train, y_train, validation_data=(X_test, y_test), epochs=100, batch_size=64, verbose=1)"
      ],
      "metadata": {
        "ExecuteTime": {
          "end_time": "2024-05-28T14:50:49.502679Z",
          "start_time": "2024-05-28T14:49:19.478599400Z"
        },
        "colab": {
          "base_uri": "https://localhost:8080/"
        },
        "id": "sVyLa95axAqr",
        "outputId": "a947f2d0-e856-4d20-faa1-5c51b8e09ed5"
      }
    },
    {
      "cell_type": "code",
      "execution_count": 9,
      "outputs": [
        {
          "output_type": "stream",
          "name": "stdout",
          "text": [
            "12/12 [==============================] - 2s 15ms/step\n"
          ]
        }
      ],
      "source": [
        "# 10. Dự báo dữ liệu test\n",
        "y_pred = model.predict(X_test)"
      ],
      "metadata": {
        "ExecuteTime": {
          "end_time": "2024-05-28T14:52:04.353638600Z",
          "start_time": "2024-05-28T14:52:02.273380100Z"
        },
        "colab": {
          "base_uri": "https://localhost:8080/"
        },
        "id": "PZoDofWpxAqr",
        "outputId": "b97a169a-a52f-4615-97a6-91c01892bd1a"
      }
    },
    {
      "cell_type": "code",
      "execution_count": 10,
      "outputs": [],
      "source": [
        "# 11. Inverse transform dự báo và dữ liệu thực tế\n",
        "y_pred_new = scaler.inverse_transform(y_pred)\n",
        "y_test_new = scaler.inverse_transform(y_test.reshape(-1, 1))"
      ],
      "metadata": {
        "ExecuteTime": {
          "end_time": "2024-05-28T14:52:05.972886800Z",
          "start_time": "2024-05-28T14:52:05.957841300Z"
        },
        "id": "SSoqrumJxAqr"
      }
    },
    {
      "cell_type": "code",
      "execution_count": 11,
      "outputs": [
        {
          "output_type": "stream",
          "name": "stdout",
          "text": [
            "RMSE trên tập test là: 1026.4112327877415\n",
            "MAPE trên tập test là: 4.062066890157718 %\n",
            "MSLE trên tập test là: 0.0027250468997260546\n"
          ]
        }
      ],
      "source": [
        "from sklearn.metrics import mean_squared_log_error\n",
        "\n",
        "# Tính toán RMSE, MAE và MAPE trên tập test\n",
        "test_score_rmse = np.sqrt(mean_squared_error(y_test_new, y_pred_new))\n",
        "test_score_mape = mean_absolute_percentage_error(y_test_new, y_pred_new) * 100\n",
        "test_score_msle = mean_squared_log_error(y_test_new, y_pred_new)\n",
        "\n",
        "print('RMSE trên tập test là:', test_score_rmse)\n",
        "print('MAPE trên tập test là:', test_score_mape, '%')\n",
        "print('MSLE trên tập test là:', test_score_msle)"
      ],
      "metadata": {
        "ExecuteTime": {
          "end_time": "2024-05-28T14:52:07.205163800Z",
          "start_time": "2024-05-28T14:52:07.187169300Z"
        },
        "colab": {
          "base_uri": "https://localhost:8080/"
        },
        "id": "IBjYrOUFxAqs",
        "outputId": "d9183601-a75d-43f1-98c1-7801f4a5fde3"
      }
    },
    {
      "cell_type": "code",
      "execution_count": 12,
      "outputs": [],
      "source": [
        "# 13. Dự báo 30 ngày tiếp theo\n",
        "x_input = test_data[len(test_data) - time_step:].reshape(1, -1)\n",
        "temp_input = list(x_input)\n",
        "temp_input = temp_input[0].tolist()\n",
        "\n",
        "lst_output = []\n",
        "i = 0\n",
        "while i < 30:\n",
        "    if len(temp_input) > time_step:\n",
        "        x_input = np.array(temp_input[1:])\n",
        "        x_input = x_input.reshape(1, -1)\n",
        "        x_input = x_input.reshape((1, time_step, 1))\n",
        "        yhat = model.predict(x_input, verbose=0)\n",
        "        temp_input.extend(yhat[0].tolist())\n",
        "        temp_input = temp_input[1:]\n",
        "        lst_output.extend(yhat.tolist())\n",
        "        i += 1\n",
        "    else:\n",
        "        x_input = x_input.reshape((1, time_step, 1))\n",
        "        yhat = model.predict(x_input, verbose=0)\n",
        "        temp_input.extend(yhat[0].tolist())\n",
        "        lst_output.extend(yhat.tolist())\n",
        "        i += 1"
      ],
      "metadata": {
        "ExecuteTime": {
          "end_time": "2024-05-28T14:52:22.246638900Z",
          "start_time": "2024-05-28T14:52:19.799016600Z"
        },
        "id": "L_397iR3xAqs"
      }
    },
    {
      "cell_type": "code",
      "execution_count": 13,
      "outputs": [
        {
          "output_type": "display_data",
          "data": {
            "text/plain": [
              "<Figure size 1200x600 with 1 Axes>"
            ],
            "image/png": "[encoded data removed]"
          },
          "metadata": {}
        }
      ],
      "source": [
        "# 14. Vẽ hình\n",
        "plt.figure(figsize=(12, 6))\n",
        "plt.plot(scaler.inverse_transform(df1), label='Train')\n",
        "test_data_index = pd.RangeIndex(start=train_size, stop=train_size + test_size, step=1)\n",
        "plt.plot(test_data_index, scaler.inverse_transform(test_data), label='Actual Test')\n",
        "test_pred_index = pd.RangeIndex(start=train_size + time_step, stop=train_size + test_size - 1, step=1)\n",
        "plt.plot(test_pred_index, scaler.inverse_transform(y_pred), label='Predicted Test')\n",
        "predict_data_index = pd.RangeIndex(start=len(df1), stop=len(df1) + 30, step=1)\n",
        "plt.plot(predict_data_index, scaler.inverse_transform(lst_output), label='Next 30 days')\n",
        "plt.xlabel('Time')\n",
        "plt.ylabel('Price')\n",
        "plt.legend()\n",
        "plt.show()"
      ],
      "metadata": {
        "ExecuteTime": {
          "end_time": "2024-05-28T14:52:31.043771Z",
          "start_time": "2024-05-28T14:52:30.805673800Z"
        },
        "colab": {
          "base_uri": "https://localhost:8080/",
          "height": 542
        },
        "id": "T62sHotmxAqs",
        "outputId": "6f2fa18b-d332-409a-9151-dfd1d1019f55"
      }
    },
    {
      "cell_type": "markdown",
      "source": [
        "# (Split 8/2)"
      ],
      "metadata": {
        "collapsed": false,
        "id": "mXO0Qe1xxAqs"
      }
    },
    {
      "cell_type": "code",
      "execution_count": 14,
      "outputs": [],
      "source": [
        "# 1. Import thư viện cần thiết\n",
        "import numpy as np\n",
        "import pandas as pd\n",
        "import matplotlib.pyplot as plt\n",
        "from sklearn.preprocessing import MinMaxScaler\n",
        "from keras.models import Sequential\n",
        "from keras.layers import Dense, LSTM\n",
        "from sklearn.metrics import mean_squared_error, mean_absolute_percentage_error\n",
        "\n",
        "# 2. Đọc file csv và gắn index với giá Close\n",
        "data = pd.read_csv('ELC.csv', index_col='time', parse_dates=True)\n",
        "data=data.drop(columns=['open', 'high', 'low', 'volume'])\n",
        "data = data.reset_index(drop=True)\n",
        "df1 = data.reset_index()['close']"
      ],
      "metadata": {
        "ExecuteTime": {
          "end_time": "2024-05-28T14:53:23.221255800Z",
          "start_time": "2024-05-28T14:53:23.189975500Z"
        },
        "id": "wmo9VDkqxAqs"
      }
    },
    {
      "cell_type": "code",
      "execution_count": 15,
      "outputs": [],
      "source": [
        "# 3. Scaler data\n",
        "scaler = MinMaxScaler(feature_range=(0, 1))\n",
        "df1 = scaler.fit_transform(np.array(df1).reshape(-1, 1))"
      ],
      "metadata": {
        "ExecuteTime": {
          "end_time": "2024-05-28T14:53:45.526201Z",
          "start_time": "2024-05-28T14:53:45.494608100Z"
        },
        "id": "S18uBoflxAqt"
      }
    },
    {
      "cell_type": "code",
      "execution_count": 16,
      "outputs": [],
      "source": [
        "# 4. Chia train test\n",
        "train_size = int(0.8 * len(df1))\n",
        "test_size = len(df1) - train_size\n",
        "\n",
        "train_data = df1[:train_size]\n",
        "test_data = df1[train_size:]"
      ],
      "metadata": {
        "ExecuteTime": {
          "end_time": "2024-05-28T14:54:04.096894Z",
          "start_time": "2024-05-28T14:54:04.078891800Z"
        },
        "id": "ErjJCKYmxAqt"
      }
    },
    {
      "cell_type": "code",
      "execution_count": 17,
      "outputs": [],
      "source": [
        "# 5. Hàm Create Dataset\n",
        "def create_dataset(dataset, time_step=1):\n",
        "    dataX, dataY = [], []\n",
        "    for i in range(len(dataset) - time_step - 1):\n",
        "        a = dataset[i:(i + time_step), 0]\n",
        "        dataX.append(a)\n",
        "        dataY.append(dataset[i + time_step, 0])\n",
        "    return np.array(dataX), np.array(dataY)"
      ],
      "metadata": {
        "ExecuteTime": {
          "end_time": "2024-05-28T14:54:19.858878Z",
          "start_time": "2024-05-28T14:54:19.853777800Z"
        },
        "id": "kQ6K6jLCxAqt"
      }
    },
    {
      "cell_type": "code",
      "execution_count": 18,
      "outputs": [],
      "source": [
        "# 6. Reshape into X=t,t+1,t+2..t+99 and Y=t+100\n",
        "time_step = 30\n",
        "X_train, y_train = create_dataset(train_data, time_step)\n",
        "X_test, y_test = create_dataset(test_data, time_step)"
      ],
      "metadata": {
        "ExecuteTime": {
          "end_time": "2024-05-28T14:54:35.348902700Z",
          "start_time": "2024-05-28T14:54:35.325482200Z"
        },
        "id": "Ux85mXsCxAqt"
      }
    },
    {
      "cell_type": "code",
      "execution_count": 19,
      "outputs": [],
      "source": [
        "# 7. Reshape input to be [samples, time steps, features] which is required for LSTM\n",
        "X_train = X_train.reshape(X_train.shape[0], X_train.shape[1], 1)\n",
        "X_test = X_test.reshape(X_test.shape[0], X_test.shape[1], 1)"
      ],
      "metadata": {
        "ExecuteTime": {
          "end_time": "2024-05-28T14:54:45.315717400Z",
          "start_time": "2024-05-28T14:54:45.254296100Z"
        },
        "id": "aJpj7YDkxAqt"
      }
    },
    {
      "cell_type": "code",
      "execution_count": 20,
      "outputs": [],
      "source": [
        "# 8. Define LSTM Model\n",
        "model = Sequential()\n",
        "model.add(LSTM(50, return_sequences=True, input_shape=(time_step, 1)))\n",
        "model.add(LSTM(50, return_sequences=True))\n",
        "model.add(LSTM(50))\n",
        "model.add(Dense(1))\n",
        "model.compile(loss='mean_squared_error', optimizer='adam')"
      ],
      "metadata": {
        "ExecuteTime": {
          "end_time": "2024-05-28T14:55:00.120838100Z",
          "start_time": "2024-05-28T14:54:58.918711500Z"
        },
        "id": "8R2fQyTMxAqt"
      }
    },
    {
      "cell_type": "code",
      "execution_count": 21,
      "outputs": [
        {
          "output_type": "stream",
          "name": "stdout",
          "text": [
            "Epoch 1/100\n",
            "17/17 [==============================] - 9s 207ms/step - loss: 0.0152 - val_loss: 0.0270\n",
            "Epoch 2/100\n",
            "17/17 [==============================] - 1s 71ms/step - loss: 0.0021 - val_loss: 0.0040\n",
            "Epoch 3/100\n",
            "17/17 [==============================] - 1s 59ms/step - loss: 0.0016 - val_loss: 0.0076\n",
            "Epoch 4/100\n",
            "17/17 [==============================] - 1s 62ms/step - loss: 0.0012 - val_loss: 0.0057\n",
            "Epoch 5/100\n",
            "17/17 [==============================] - 1s 59ms/step - loss: 0.0011 - val_loss: 0.0048\n",
            "Epoch 6/100\n",
            "17/17 [==============================] - 1s 60ms/step - loss: 0.0011 - val_loss: 0.0039\n",
            "Epoch 7/100\n",
            "17/17 [==============================] - 1s 60ms/step - loss: 9.9221e-04 - val_loss: 0.0045\n",
            "Epoch 8/100\n",
            "17/17 [==============================] - 1s 60ms/step - loss: 9.2386e-04 - val_loss: 0.0051\n",
            "Epoch 9/100\n",
            "17/17 [==============================] - 1s 58ms/step - loss: 8.6126e-04 - val_loss: 0.0097\n",
            "Epoch 10/100\n",
            "17/17 [==============================] - 1s 59ms/step - loss: 9.5253e-04 - val_loss: 0.0097\n",
            "Epoch 11/100\n",
            "17/17 [==============================] - 1s 59ms/step - loss: 8.2318e-04 - val_loss: 0.0042\n",
            "Epoch 12/100\n",
            "17/17 [==============================] - 1s 87ms/step - loss: 7.3484e-04 - val_loss: 0.0063\n",
            "Epoch 13/100\n",
            "17/17 [==============================] - 2s 92ms/step - loss: 7.0654e-04 - val_loss: 0.0034\n",
            "Epoch 14/100\n",
            "17/17 [==============================] - 2s 94ms/step - loss: 6.9113e-04 - val_loss: 0.0142\n",
            "Epoch 15/100\n",
            "17/17 [==============================] - 1s 63ms/step - loss: 0.0013 - val_loss: 0.0023\n",
            "Epoch 16/100\n",
            "17/17 [==============================] - 1s 60ms/step - loss: 8.5475e-04 - val_loss: 0.0054\n",
            "Epoch 17/100\n",
            "17/17 [==============================] - 1s 60ms/step - loss: 6.2912e-04 - val_loss: 0.0044\n",
            "Epoch 18/100\n",
            "17/17 [==============================] - 1s 60ms/step - loss: 0.0017 - val_loss: 0.0043\n",
            "Epoch 19/100\n",
            "17/17 [==============================] - 1s 60ms/step - loss: 6.3320e-04 - val_loss: 0.0042\n",
            "Epoch 20/100\n",
            "17/17 [==============================] - 1s 61ms/step - loss: 5.7843e-04 - val_loss: 0.0031\n",
            "Epoch 21/100\n",
            "17/17 [==============================] - 1s 62ms/step - loss: 5.4390e-04 - val_loss: 0.0052\n",
            "Epoch 22/100\n",
            "17/17 [==============================] - 1s 60ms/step - loss: 5.5478e-04 - val_loss: 0.0020\n",
            "Epoch 23/100\n",
            "17/17 [==============================] - 1s 60ms/step - loss: 0.0010 - val_loss: 0.0016\n",
            "Epoch 24/100\n",
            "17/17 [==============================] - 1s 74ms/step - loss: 5.8653e-04 - val_loss: 0.0090\n",
            "Epoch 25/100\n",
            "17/17 [==============================] - 2s 91ms/step - loss: 0.0016 - val_loss: 0.0081\n",
            "Epoch 26/100\n",
            "17/17 [==============================] - 2s 99ms/step - loss: 7.3081e-04 - val_loss: 0.0025\n",
            "Epoch 27/100\n",
            "17/17 [==============================] - 1s 65ms/step - loss: 5.4765e-04 - val_loss: 0.0017\n",
            "Epoch 28/100\n",
            "17/17 [==============================] - 1s 59ms/step - loss: 4.8979e-04 - val_loss: 0.0025\n",
            "Epoch 29/100\n",
            "17/17 [==============================] - 1s 61ms/step - loss: 5.2699e-04 - val_loss: 0.0019\n",
            "Epoch 30/100\n",
            "17/17 [==============================] - 1s 61ms/step - loss: 7.2698e-04 - val_loss: 0.0018\n",
            "Epoch 31/100\n",
            "17/17 [==============================] - 1s 59ms/step - loss: 4.9706e-04 - val_loss: 0.0047\n",
            "Epoch 32/100\n",
            "17/17 [==============================] - 1s 60ms/step - loss: 4.9655e-04 - val_loss: 0.0023\n",
            "Epoch 33/100\n",
            "17/17 [==============================] - 1s 59ms/step - loss: 4.6492e-04 - val_loss: 0.0028\n",
            "Epoch 34/100\n",
            "17/17 [==============================] - 1s 59ms/step - loss: 4.5951e-04 - val_loss: 0.0029\n",
            "Epoch 35/100\n",
            "17/17 [==============================] - 1s 61ms/step - loss: 4.5328e-04 - val_loss: 0.0025\n",
            "Epoch 36/100\n",
            "17/17 [==============================] - 1s 61ms/step - loss: 4.4807e-04 - val_loss: 0.0018\n",
            "Epoch 37/100\n",
            "17/17 [==============================] - 2s 97ms/step - loss: 4.5222e-04 - val_loss: 0.0033\n",
            "Epoch 38/100\n",
            "17/17 [==============================] - 2s 95ms/step - loss: 4.4053e-04 - val_loss: 0.0016\n",
            "Epoch 39/100\n",
            "17/17 [==============================] - 1s 73ms/step - loss: 4.5916e-04 - val_loss: 0.0030\n",
            "Epoch 40/100\n",
            "17/17 [==============================] - 1s 60ms/step - loss: 4.8455e-04 - val_loss: 0.0017\n",
            "Epoch 41/100\n",
            "17/17 [==============================] - 1s 60ms/step - loss: 5.2701e-04 - val_loss: 0.0017\n",
            "Epoch 42/100\n",
            "17/17 [==============================] - 1s 64ms/step - loss: 4.7627e-04 - val_loss: 0.0038\n",
            "Epoch 43/100\n",
            "17/17 [==============================] - 1s 60ms/step - loss: 4.5070e-04 - val_loss: 0.0016\n",
            "Epoch 44/100\n",
            "17/17 [==============================] - 1s 60ms/step - loss: 6.2391e-04 - val_loss: 0.0025\n",
            "Epoch 45/100\n",
            "17/17 [==============================] - 1s 61ms/step - loss: 4.7093e-04 - val_loss: 0.0039\n",
            "Epoch 46/100\n",
            "17/17 [==============================] - 1s 60ms/step - loss: 4.8182e-04 - val_loss: 0.0014\n",
            "Epoch 47/100\n",
            "17/17 [==============================] - 1s 61ms/step - loss: 6.0283e-04 - val_loss: 0.0029\n",
            "Epoch 48/100\n",
            "17/17 [==============================] - 1s 62ms/step - loss: 5.2945e-04 - val_loss: 0.0027\n",
            "Epoch 49/100\n",
            "17/17 [==============================] - 2s 90ms/step - loss: 4.3656e-04 - val_loss: 0.0034\n",
            "Epoch 50/100\n",
            "17/17 [==============================] - 2s 99ms/step - loss: 4.5407e-04 - val_loss: 0.0029\n",
            "Epoch 51/100\n",
            "17/17 [==============================] - 1s 73ms/step - loss: 4.1436e-04 - val_loss: 0.0014\n",
            "Epoch 52/100\n",
            "17/17 [==============================] - 1s 61ms/step - loss: 4.2344e-04 - val_loss: 0.0019\n",
            "Epoch 53/100\n",
            "17/17 [==============================] - 1s 61ms/step - loss: 4.4024e-04 - val_loss: 0.0025\n",
            "Epoch 54/100\n",
            "17/17 [==============================] - 1s 63ms/step - loss: 4.0789e-04 - val_loss: 0.0017\n",
            "Epoch 55/100\n",
            "17/17 [==============================] - 1s 65ms/step - loss: 3.9951e-04 - val_loss: 0.0020\n",
            "Epoch 56/100\n",
            "17/17 [==============================] - 1s 63ms/step - loss: 4.0843e-04 - val_loss: 0.0031\n",
            "Epoch 57/100\n",
            "17/17 [==============================] - 1s 62ms/step - loss: 3.9293e-04 - val_loss: 0.0040\n",
            "Epoch 58/100\n",
            "17/17 [==============================] - 1s 61ms/step - loss: 6.9771e-04 - val_loss: 0.0013\n",
            "Epoch 59/100\n",
            "17/17 [==============================] - 1s 62ms/step - loss: 5.5037e-04 - val_loss: 0.0018\n",
            "Epoch 60/100\n",
            "17/17 [==============================] - 1s 67ms/step - loss: 0.0010 - val_loss: 0.0062\n",
            "Epoch 61/100\n",
            "17/17 [==============================] - 2s 92ms/step - loss: 0.0011 - val_loss: 0.0017\n",
            "Epoch 62/100\n",
            "17/17 [==============================] - 2s 96ms/step - loss: 0.0013 - val_loss: 0.0022\n",
            "Epoch 63/100\n",
            "17/17 [==============================] - 1s 72ms/step - loss: 4.8224e-04 - val_loss: 0.0033\n",
            "Epoch 64/100\n",
            "17/17 [==============================] - 1s 61ms/step - loss: 4.0194e-04 - val_loss: 0.0012\n",
            "Epoch 65/100\n",
            "17/17 [==============================] - 1s 62ms/step - loss: 3.6549e-04 - val_loss: 0.0016\n",
            "Epoch 66/100\n",
            "17/17 [==============================] - 1s 61ms/step - loss: 3.8344e-04 - val_loss: 0.0011\n",
            "Epoch 67/100\n",
            "17/17 [==============================] - 1s 62ms/step - loss: 4.3511e-04 - val_loss: 0.0012\n",
            "Epoch 68/100\n",
            "17/17 [==============================] - 1s 63ms/step - loss: 3.5598e-04 - val_loss: 0.0019\n",
            "Epoch 69/100\n",
            "17/17 [==============================] - 1s 61ms/step - loss: 3.6249e-04 - val_loss: 0.0016\n",
            "Epoch 70/100\n",
            "17/17 [==============================] - 1s 61ms/step - loss: 3.5003e-04 - val_loss: 0.0012\n",
            "Epoch 71/100\n",
            "17/17 [==============================] - 1s 61ms/step - loss: 3.7221e-04 - val_loss: 0.0017\n",
            "Epoch 72/100\n",
            "17/17 [==============================] - 1s 67ms/step - loss: 3.4035e-04 - val_loss: 0.0019\n",
            "Epoch 73/100\n",
            "17/17 [==============================] - 2s 96ms/step - loss: 3.5355e-04 - val_loss: 0.0020\n",
            "Epoch 74/100\n",
            "17/17 [==============================] - 2s 99ms/step - loss: 7.2345e-04 - val_loss: 0.0011\n",
            "Epoch 75/100\n",
            "17/17 [==============================] - 1s 65ms/step - loss: 4.1073e-04 - val_loss: 0.0022\n",
            "Epoch 76/100\n",
            "17/17 [==============================] - 1s 61ms/step - loss: 3.5108e-04 - val_loss: 9.5945e-04\n",
            "Epoch 77/100\n",
            "17/17 [==============================] - 1s 60ms/step - loss: 3.6270e-04 - val_loss: 0.0018\n",
            "Epoch 78/100\n",
            "17/17 [==============================] - 1s 62ms/step - loss: 3.7046e-04 - val_loss: 0.0017\n",
            "Epoch 79/100\n",
            "17/17 [==============================] - 1s 62ms/step - loss: 3.3553e-04 - val_loss: 0.0044\n",
            "Epoch 80/100\n",
            "17/17 [==============================] - 1s 64ms/step - loss: 7.1739e-04 - val_loss: 0.0016\n",
            "Epoch 81/100\n",
            "17/17 [==============================] - 1s 63ms/step - loss: 3.8241e-04 - val_loss: 0.0010\n",
            "Epoch 82/100\n",
            "17/17 [==============================] - 1s 63ms/step - loss: 4.2695e-04 - val_loss: 9.3694e-04\n",
            "Epoch 83/100\n",
            "17/17 [==============================] - 1s 61ms/step - loss: 3.2412e-04 - val_loss: 0.0016\n",
            "Epoch 84/100\n",
            "17/17 [==============================] - 1s 74ms/step - loss: 3.0204e-04 - val_loss: 0.0012\n",
            "Epoch 85/100\n",
            "17/17 [==============================] - 2s 95ms/step - loss: 3.0146e-04 - val_loss: 0.0023\n",
            "Epoch 86/100\n",
            "17/17 [==============================] - 2s 99ms/step - loss: 3.5225e-04 - val_loss: 0.0020\n",
            "Epoch 87/100\n",
            "17/17 [==============================] - 1s 61ms/step - loss: 3.1549e-04 - val_loss: 8.0640e-04\n",
            "Epoch 88/100\n",
            "17/17 [==============================] - 1s 63ms/step - loss: 3.2794e-04 - val_loss: 0.0010\n",
            "Epoch 89/100\n",
            "17/17 [==============================] - 1s 60ms/step - loss: 2.9161e-04 - val_loss: 0.0020\n",
            "Epoch 90/100\n",
            "17/17 [==============================] - 1s 63ms/step - loss: 2.9520e-04 - val_loss: 9.7812e-04\n",
            "Epoch 91/100\n",
            "17/17 [==============================] - 1s 61ms/step - loss: 2.9990e-04 - val_loss: 0.0011\n",
            "Epoch 92/100\n",
            "17/17 [==============================] - 1s 61ms/step - loss: 2.8001e-04 - val_loss: 0.0032\n",
            "Epoch 93/100\n",
            "17/17 [==============================] - 1s 61ms/step - loss: 3.1348e-04 - val_loss: 0.0014\n",
            "Epoch 94/100\n",
            "17/17 [==============================] - 1s 64ms/step - loss: 2.7153e-04 - val_loss: 0.0014\n",
            "Epoch 95/100\n",
            "17/17 [==============================] - 1s 62ms/step - loss: 2.6665e-04 - val_loss: 8.9109e-04\n",
            "Epoch 96/100\n",
            "17/17 [==============================] - 1s 70ms/step - loss: 2.9169e-04 - val_loss: 9.9572e-04\n",
            "Epoch 97/100\n",
            "17/17 [==============================] - 2s 93ms/step - loss: 2.5331e-04 - val_loss: 0.0011\n",
            "Epoch 98/100\n",
            "17/17 [==============================] - 2s 95ms/step - loss: 2.5303e-04 - val_loss: 6.8609e-04\n",
            "Epoch 99/100\n",
            "17/17 [==============================] - 1s 69ms/step - loss: 3.1169e-04 - val_loss: 0.0014\n",
            "Epoch 100/100\n",
            "17/17 [==============================] - 1s 60ms/step - loss: 6.5374e-04 - val_loss: 9.6841e-04\n"
          ]
        },
        {
          "output_type": "execute_result",
          "data": {
            "text/plain": [
              "<keras.src.callbacks.History at 0x7cd77445e0b0>"
            ]
          },
          "metadata": {},
          "execution_count": 21
        }
      ],
      "source": [
        "# 9. Fit mô hình với dữ liệu train\n",
        "model.fit(X_train, y_train, validation_data=(X_test, y_test), epochs=100, batch_size=64, verbose=1)"
      ],
      "metadata": {
        "ExecuteTime": {
          "end_time": "2024-05-28T14:56:30.102897700Z",
          "start_time": "2024-05-28T14:55:12.041395900Z"
        },
        "colab": {
          "base_uri": "https://localhost:8080/"
        },
        "id": "cAmVJ_CTxAqt",
        "outputId": "8680d9c0-c998-4bbd-dee9-56e3a6da0b5c"
      }
    },
    {
      "cell_type": "code",
      "execution_count": 22,
      "outputs": [
        {
          "output_type": "stream",
          "name": "stdout",
          "text": [
            "8/8 [==============================] - 1s 12ms/step\n"
          ]
        }
      ],
      "source": [
        "# 10. Dự báo dữ liệu test\n",
        "y_pred = model.predict(X_test)"
      ],
      "metadata": {
        "ExecuteTime": {
          "end_time": "2024-05-28T14:56:50.591406800Z",
          "start_time": "2024-05-28T14:56:48.662794700Z"
        },
        "colab": {
          "base_uri": "https://localhost:8080/"
        },
        "id": "OjMIKSLFxAqt",
        "outputId": "24e40c45-633c-4269-9be5-7f32070a930a"
      }
    },
    {
      "cell_type": "code",
      "execution_count": 23,
      "outputs": [],
      "source": [
        "# 11. Inverse transform dự báo và dữ liệu thực tế\n",
        "y_pred_new = scaler.inverse_transform(y_pred)\n",
        "y_test_new = scaler.inverse_transform(y_test.reshape(-1, 1))"
      ],
      "metadata": {
        "ExecuteTime": {
          "end_time": "2024-05-28T14:56:51.494533700Z",
          "start_time": "2024-05-28T14:56:51.483432Z"
        },
        "id": "9NaaGt04xAqt"
      }
    },
    {
      "cell_type": "code",
      "execution_count": 24,
      "outputs": [
        {
          "output_type": "stream",
          "name": "stdout",
          "text": [
            "RMSE trên tập test là: 828.2748388163859\n",
            "MAPE trên tập test là: 3.1716292392347785 %\n",
            "MSLE trên tập test là: 0.001686561100001694\n"
          ]
        }
      ],
      "source": [
        "from sklearn.metrics import mean_squared_log_error\n",
        "\n",
        "# Tính toán RMSE, MAE và MAPE trên tập test\n",
        "test_score_rmse = np.sqrt(mean_squared_error(y_test_new, y_pred_new))\n",
        "test_score_mape = mean_absolute_percentage_error(y_test_new, y_pred_new) * 100\n",
        "test_score_msle = mean_squared_log_error(y_test_new, y_pred_new)\n",
        "\n",
        "print('RMSE trên tập test là:', test_score_rmse)\n",
        "print('MAPE trên tập test là:', test_score_mape, '%')\n",
        "print('MSLE trên tập test là:', test_score_msle)"
      ],
      "metadata": {
        "ExecuteTime": {
          "end_time": "2024-05-28T14:56:52.303265700Z",
          "start_time": "2024-05-28T14:56:52.256388100Z"
        },
        "colab": {
          "base_uri": "https://localhost:8080/"
        },
        "id": "lKK5kRjGxAqu",
        "outputId": "7becca2a-59f1-480d-c6cb-890e0fa6c8aa"
      }
    },
    {
      "cell_type": "code",
      "execution_count": 25,
      "outputs": [],
      "source": [
        "# 13. Dự báo 30 ngày tiếp theo\n",
        "x_input = test_data[len(test_data) - time_step:].reshape(1, -1)\n",
        "temp_input = list(x_input)\n",
        "temp_input = temp_input[0].tolist()\n",
        "\n",
        "lst_output = []\n",
        "i = 0\n",
        "while i < 30:\n",
        "    if len(temp_input) > time_step:\n",
        "        x_input = np.array(temp_input[1:])\n",
        "        x_input = x_input.reshape(1, -1)\n",
        "        x_input = x_input.reshape((1, time_step, 1))\n",
        "        yhat = model.predict(x_input, verbose=0)\n",
        "        temp_input.extend(yhat[0].tolist())\n",
        "        temp_input = temp_input[1:]\n",
        "        lst_output.extend(yhat.tolist())\n",
        "        i += 1\n",
        "    else:\n",
        "        x_input = x_input.reshape((1, time_step, 1))\n",
        "        yhat = model.predict(x_input, verbose=0)\n",
        "        temp_input.extend(yhat[0].tolist())\n",
        "        lst_output.extend(yhat.tolist())\n",
        "        i += 1"
      ],
      "metadata": {
        "ExecuteTime": {
          "end_time": "2024-05-28T14:57:12.986620Z",
          "start_time": "2024-05-28T14:57:10.872785900Z"
        },
        "id": "R3N5PEFixAqu"
      }
    },
    {
      "cell_type": "code",
      "execution_count": 26,
      "outputs": [
        {
          "output_type": "display_data",
          "data": {
            "text/plain": [
              "<Figure size 1200x600 with 1 Axes>"
            ],
            "image/png": "[encoded data removed]"
          },
          "metadata": {}
        }
      ],
      "source": [
        "# 14. Vẽ hình\n",
        "plt.figure(figsize=(12, 6))\n",
        "plt.plot(scaler.inverse_transform(df1), label='Train')\n",
        "test_data_index = pd.RangeIndex(start=train_size, stop=train_size + test_size, step=1)\n",
        "plt.plot(test_data_index, scaler.inverse_transform(test_data), label='Actual Test')\n",
        "test_pred_index = pd.RangeIndex(start=train_size + time_step, stop=train_size + test_size - 1, step=1)\n",
        "plt.plot(test_pred_index, scaler.inverse_transform(y_pred), label='Predicted Test')\n",
        "predict_data_index = pd.RangeIndex(start=len(df1), stop=len(df1) + 30, step=1)\n",
        "plt.plot(predict_data_index, scaler.inverse_transform(lst_output), label='Next 30 days')\n",
        "plt.xlabel('Time')\n",
        "plt.ylabel('Price')\n",
        "plt.legend()\n",
        "plt.show()"
      ],
      "metadata": {
        "ExecuteTime": {
          "end_time": "2024-05-28T14:57:26.410783500Z",
          "start_time": "2024-05-28T14:57:26.214163600Z"
        },
        "colab": {
          "base_uri": "https://localhost:8080/",
          "height": 542
        },
        "id": "CPvg9d48xAqu",
        "outputId": "3eb9ce9c-6646-43ef-a49c-8b566d70ca03"
      }
    },
    {
      "cell_type": "markdown",
      "source": [
        "# (Split 9/1)"
      ],
      "metadata": {
        "collapsed": false,
        "id": "WAl1VhslxAqu"
      }
    },
    {
      "cell_type": "code",
      "execution_count": 27,
      "outputs": [],
      "source": [
        "# 1. Import thư viện cần thiết\n",
        "import numpy as np\n",
        "import pandas as pd\n",
        "import matplotlib.pyplot as plt\n",
        "from sklearn.preprocessing import MinMaxScaler\n",
        "from keras.models import Sequential\n",
        "from keras.layers import Dense, LSTM\n",
        "from sklearn.metrics import mean_squared_error, mean_absolute_percentage_error\n",
        "\n",
        "# 2. Đọc file csv và gắn index với giá Close\n",
        "data = pd.read_csv('ELC.csv', index_col='time', parse_dates=True)\n",
        "data=data.drop(columns=['open', 'high', 'low', 'volume'])\n",
        "data = data.reset_index(drop=True)\n",
        "df1 = data.reset_index()['close']"
      ],
      "metadata": {
        "ExecuteTime": {
          "end_time": "2024-05-28T15:04:52.836836400Z",
          "start_time": "2024-05-28T15:04:52.774027800Z"
        },
        "id": "LjOAHbjWxAqu"
      }
    },
    {
      "cell_type": "code",
      "execution_count": 28,
      "outputs": [],
      "source": [
        "# 3. Scaler data\n",
        "scaler = MinMaxScaler(feature_range=(0, 1))\n",
        "df1 = scaler.fit_transform(np.array(df1).reshape(-1, 1))"
      ],
      "metadata": {
        "ExecuteTime": {
          "end_time": "2024-05-28T15:05:06.808057600Z",
          "start_time": "2024-05-28T15:05:06.792414300Z"
        },
        "id": "egikUnXOxAqu"
      }
    },
    {
      "cell_type": "code",
      "execution_count": 29,
      "outputs": [],
      "source": [
        "# 4. Chia train test\n",
        "train_size = int(0.9 * len(df1))\n",
        "test_size = len(df1) - train_size\n",
        "\n",
        "train_data = df1[:train_size]\n",
        "test_data = df1[train_size:]"
      ],
      "metadata": {
        "ExecuteTime": {
          "end_time": "2024-05-28T15:06:59.555402800Z",
          "start_time": "2024-05-28T15:06:59.518911500Z"
        },
        "id": "j6a0zplQxAqu"
      }
    },
    {
      "cell_type": "code",
      "execution_count": 30,
      "outputs": [],
      "source": [
        "# 5. Hàm Create Dataset\n",
        "def create_dataset(dataset, time_step=1):\n",
        "    dataX, dataY = [], []\n",
        "    for i in range(len(dataset) - time_step - 1):\n",
        "        a = dataset[i:(i + time_step), 0]\n",
        "        dataX.append(a)\n",
        "        dataY.append(dataset[i + time_step, 0])\n",
        "    return np.array(dataX), np.array(dataY)"
      ],
      "metadata": {
        "ExecuteTime": {
          "end_time": "2024-05-28T15:07:02.138963100Z",
          "start_time": "2024-05-28T15:07:02.095951400Z"
        },
        "id": "ZHTISki4xAqu"
      }
    },
    {
      "cell_type": "code",
      "execution_count": 31,
      "outputs": [],
      "source": [
        "# 6. Reshape into X=t,t+1,t+2..t+99 and Y=t+100\n",
        "time_step = 30\n",
        "X_train, y_train = create_dataset(train_data, time_step)\n",
        "X_test, y_test = create_dataset(test_data, time_step)"
      ],
      "metadata": {
        "ExecuteTime": {
          "end_time": "2024-05-28T15:07:21.939300200Z",
          "start_time": "2024-05-28T15:07:21.893050600Z"
        },
        "id": "5sxvqSMZxAqu"
      }
    },
    {
      "cell_type": "code",
      "execution_count": 32,
      "outputs": [],
      "source": [
        "# 7. Reshape input to be [samples, time steps, features] which is required for LSTM\n",
        "X_train = X_train.reshape(X_train.shape[0], X_train.shape[1], 1)\n",
        "X_test = X_test.reshape(X_test.shape[0], X_test.shape[1], 1)"
      ],
      "metadata": {
        "ExecuteTime": {
          "end_time": "2024-05-28T15:07:44.804807900Z",
          "start_time": "2024-05-28T15:07:44.757931600Z"
        },
        "id": "jhYDamKKxAqu"
      }
    },
    {
      "cell_type": "code",
      "execution_count": 33,
      "outputs": [],
      "source": [
        "# 8. Define LSTM Model\n",
        "model = Sequential()\n",
        "model.add(LSTM(50, return_sequences=True, input_shape=(time_step, 1)))\n",
        "model.add(LSTM(50, return_sequences=True))\n",
        "model.add(LSTM(50))\n",
        "model.add(Dense(1))\n",
        "model.compile(loss='mean_squared_error', optimizer='adam')"
      ],
      "metadata": {
        "ExecuteTime": {
          "end_time": "2024-05-28T15:07:59.443261100Z",
          "start_time": "2024-05-28T15:07:58.118183700Z"
        },
        "id": "QsLQvXc1xAqu"
      }
    },
    {
      "cell_type": "code",
      "execution_count": 34,
      "outputs": [
        {
          "output_type": "stream",
          "name": "stdout",
          "text": [
            "Epoch 1/100\n",
            "19/19 [==============================] - 9s 136ms/step - loss: 0.0137 - val_loss: 0.0062\n",
            "Epoch 2/100\n",
            "19/19 [==============================] - 1s 59ms/step - loss: 0.0021 - val_loss: 0.0044\n",
            "Epoch 3/100\n",
            "19/19 [==============================] - 1s 57ms/step - loss: 0.0016 - val_loss: 0.0080\n",
            "Epoch 4/100\n",
            "19/19 [==============================] - 1s 57ms/step - loss: 0.0014 - val_loss: 0.0068\n",
            "Epoch 5/100\n",
            "19/19 [==============================] - 1s 59ms/step - loss: 0.0013 - val_loss: 0.0116\n",
            "Epoch 6/100\n",
            "19/19 [==============================] - 1s 58ms/step - loss: 0.0012 - val_loss: 0.0077\n",
            "Epoch 7/100\n",
            "19/19 [==============================] - 1s 57ms/step - loss: 0.0011 - val_loss: 0.0145\n",
            "Epoch 8/100\n",
            "19/19 [==============================] - 1s 57ms/step - loss: 9.7566e-04 - val_loss: 0.0215\n",
            "Epoch 9/100\n",
            "19/19 [==============================] - 2s 83ms/step - loss: 0.0011 - val_loss: 0.0075\n",
            "Epoch 10/100\n",
            "19/19 [==============================] - 2s 93ms/step - loss: 9.2440e-04 - val_loss: 0.0073\n",
            "Epoch 11/100\n",
            "19/19 [==============================] - 1s 73ms/step - loss: 8.7840e-04 - val_loss: 0.0113\n",
            "Epoch 12/100\n",
            "19/19 [==============================] - 1s 58ms/step - loss: 8.7986e-04 - val_loss: 0.0301\n",
            "Epoch 13/100\n",
            "19/19 [==============================] - 1s 61ms/step - loss: 0.0014 - val_loss: 0.0141\n",
            "Epoch 14/100\n",
            "19/19 [==============================] - 1s 58ms/step - loss: 8.1959e-04 - val_loss: 0.0068\n",
            "Epoch 15/100\n",
            "19/19 [==============================] - 1s 57ms/step - loss: 7.4666e-04 - val_loss: 0.0075\n",
            "Epoch 16/100\n",
            "19/19 [==============================] - 1s 57ms/step - loss: 7.1995e-04 - val_loss: 0.0086\n",
            "Epoch 17/100\n",
            "19/19 [==============================] - 1s 58ms/step - loss: 7.6310e-04 - val_loss: 0.0057\n",
            "Epoch 18/100\n",
            "19/19 [==============================] - 1s 57ms/step - loss: 6.8567e-04 - val_loss: 0.0147\n",
            "Epoch 19/100\n",
            "19/19 [==============================] - 1s 56ms/step - loss: 0.0012 - val_loss: 0.0048\n",
            "Epoch 20/100\n",
            "19/19 [==============================] - 1s 74ms/step - loss: 8.6773e-04 - val_loss: 0.0031\n",
            "Epoch 21/100\n",
            "19/19 [==============================] - 2s 91ms/step - loss: 6.3539e-04 - val_loss: 0.0089\n",
            "Epoch 22/100\n",
            "19/19 [==============================] - 2s 91ms/step - loss: 5.8082e-04 - val_loss: 0.0048\n",
            "Epoch 23/100\n",
            "19/19 [==============================] - 1s 59ms/step - loss: 5.7601e-04 - val_loss: 0.0044\n",
            "Epoch 24/100\n",
            "19/19 [==============================] - 1s 57ms/step - loss: 5.7494e-04 - val_loss: 0.0063\n",
            "Epoch 25/100\n",
            "19/19 [==============================] - 1s 58ms/step - loss: 6.1418e-04 - val_loss: 0.0067\n",
            "Epoch 26/100\n",
            "19/19 [==============================] - 1s 57ms/step - loss: 5.8217e-04 - val_loss: 0.0101\n",
            "Epoch 27/100\n",
            "19/19 [==============================] - 1s 57ms/step - loss: 5.9997e-04 - val_loss: 0.0061\n",
            "Epoch 28/100\n",
            "19/19 [==============================] - 1s 58ms/step - loss: 5.7101e-04 - val_loss: 0.0073\n",
            "Epoch 29/100\n",
            "19/19 [==============================] - 1s 57ms/step - loss: 6.2055e-04 - val_loss: 0.0041\n",
            "Epoch 30/100\n",
            "19/19 [==============================] - 1s 57ms/step - loss: 5.0889e-04 - val_loss: 0.0123\n",
            "Epoch 31/100\n",
            "19/19 [==============================] - 1s 61ms/step - loss: 8.1636e-04 - val_loss: 0.0030\n",
            "Epoch 32/100\n",
            "19/19 [==============================] - 2s 86ms/step - loss: 6.3601e-04 - val_loss: 0.0017\n",
            "Epoch 33/100\n",
            "19/19 [==============================] - 2s 95ms/step - loss: 5.1803e-04 - val_loss: 0.0032\n",
            "Epoch 34/100\n",
            "19/19 [==============================] - 1s 63ms/step - loss: 4.8347e-04 - val_loss: 0.0040\n",
            "Epoch 35/100\n",
            "19/19 [==============================] - 1s 57ms/step - loss: 4.9177e-04 - val_loss: 0.0040\n",
            "Epoch 36/100\n",
            "19/19 [==============================] - 1s 57ms/step - loss: 4.8478e-04 - val_loss: 0.0037\n",
            "Epoch 37/100\n",
            "19/19 [==============================] - 1s 57ms/step - loss: 4.8985e-04 - val_loss: 0.0027\n",
            "Epoch 38/100\n",
            "19/19 [==============================] - 1s 59ms/step - loss: 7.0764e-04 - val_loss: 0.0033\n",
            "Epoch 39/100\n",
            "19/19 [==============================] - 1s 59ms/step - loss: 6.6122e-04 - val_loss: 0.0067\n",
            "Epoch 40/100\n",
            "19/19 [==============================] - 1s 59ms/step - loss: 5.0044e-04 - val_loss: 0.0065\n",
            "Epoch 41/100\n",
            "19/19 [==============================] - 1s 58ms/step - loss: 4.8497e-04 - val_loss: 0.0044\n",
            "Epoch 42/100\n",
            "19/19 [==============================] - 1s 59ms/step - loss: 4.3464e-04 - val_loss: 0.0047\n",
            "Epoch 43/100\n",
            "19/19 [==============================] - 2s 90ms/step - loss: 4.3445e-04 - val_loss: 0.0056\n",
            "Epoch 44/100\n",
            "19/19 [==============================] - 2s 93ms/step - loss: 4.5132e-04 - val_loss: 0.0028\n",
            "Epoch 45/100\n",
            "19/19 [==============================] - 1s 66ms/step - loss: 4.2853e-04 - val_loss: 0.0025\n",
            "Epoch 46/100\n",
            "19/19 [==============================] - 1s 58ms/step - loss: 4.3121e-04 - val_loss: 0.0019\n",
            "Epoch 47/100\n",
            "19/19 [==============================] - 1s 59ms/step - loss: 4.9095e-04 - val_loss: 0.0042\n",
            "Epoch 48/100\n",
            "19/19 [==============================] - 1s 59ms/step - loss: 4.6635e-04 - val_loss: 0.0035\n",
            "Epoch 49/100\n",
            "19/19 [==============================] - 1s 59ms/step - loss: 3.9502e-04 - val_loss: 0.0036\n",
            "Epoch 50/100\n",
            "19/19 [==============================] - 1s 60ms/step - loss: 4.0897e-04 - val_loss: 0.0026\n",
            "Epoch 51/100\n",
            "19/19 [==============================] - 1s 61ms/step - loss: 4.1609e-04 - val_loss: 0.0021\n",
            "Epoch 52/100\n",
            "19/19 [==============================] - 1s 58ms/step - loss: 4.1400e-04 - val_loss: 0.0026\n",
            "Epoch 53/100\n",
            "19/19 [==============================] - 1s 59ms/step - loss: 3.6764e-04 - val_loss: 0.0043\n",
            "Epoch 54/100\n",
            "19/19 [==============================] - 2s 86ms/step - loss: 3.6816e-04 - val_loss: 0.0052\n",
            "Epoch 55/100\n",
            "19/19 [==============================] - 2s 97ms/step - loss: 3.6987e-04 - val_loss: 0.0049\n",
            "Epoch 56/100\n",
            "19/19 [==============================] - 1s 70ms/step - loss: 3.8987e-04 - val_loss: 0.0042\n",
            "Epoch 57/100\n",
            "19/19 [==============================] - 1s 59ms/step - loss: 3.6868e-04 - val_loss: 0.0010\n",
            "Epoch 58/100\n",
            "19/19 [==============================] - 1s 58ms/step - loss: 3.7084e-04 - val_loss: 0.0059\n",
            "Epoch 59/100\n",
            "19/19 [==============================] - 1s 58ms/step - loss: 4.3984e-04 - val_loss: 0.0085\n",
            "Epoch 60/100\n",
            "19/19 [==============================] - 1s 60ms/step - loss: 4.5768e-04 - val_loss: 0.0045\n",
            "Epoch 61/100\n",
            "19/19 [==============================] - 1s 59ms/step - loss: 3.6792e-04 - val_loss: 0.0051\n",
            "Epoch 62/100\n",
            "19/19 [==============================] - 1s 60ms/step - loss: 3.3143e-04 - val_loss: 0.0022\n",
            "Epoch 63/100\n",
            "19/19 [==============================] - 1s 60ms/step - loss: 3.5167e-04 - val_loss: 0.0010\n",
            "Epoch 64/100\n",
            "19/19 [==============================] - 1s 60ms/step - loss: 3.3884e-04 - val_loss: 0.0047\n",
            "Epoch 65/100\n",
            "19/19 [==============================] - 2s 89ms/step - loss: 3.3769e-04 - val_loss: 0.0030\n",
            "Epoch 66/100\n",
            "19/19 [==============================] - 2s 93ms/step - loss: 2.9513e-04 - val_loss: 0.0018\n",
            "Epoch 67/100\n",
            "19/19 [==============================] - 1s 73ms/step - loss: 3.1371e-04 - val_loss: 0.0012\n",
            "Epoch 68/100\n",
            "19/19 [==============================] - 1s 58ms/step - loss: 3.1615e-04 - val_loss: 0.0020\n",
            "Epoch 69/100\n",
            "19/19 [==============================] - 1s 59ms/step - loss: 2.8447e-04 - val_loss: 9.7980e-04\n",
            "Epoch 70/100\n",
            "19/19 [==============================] - 1s 58ms/step - loss: 3.7988e-04 - val_loss: 0.0045\n",
            "Epoch 71/100\n",
            "19/19 [==============================] - 1s 59ms/step - loss: 3.0680e-04 - val_loss: 0.0042\n",
            "Epoch 72/100\n",
            "19/19 [==============================] - 1s 61ms/step - loss: 2.6669e-04 - val_loss: 0.0056\n",
            "Epoch 73/100\n",
            "19/19 [==============================] - 1s 58ms/step - loss: 2.7357e-04 - val_loss: 0.0029\n",
            "Epoch 74/100\n",
            "19/19 [==============================] - 1s 58ms/step - loss: 2.4627e-04 - val_loss: 0.0027\n",
            "Epoch 75/100\n",
            "19/19 [==============================] - 1s 61ms/step - loss: 2.3509e-04 - val_loss: 0.0031\n",
            "Epoch 76/100\n",
            "19/19 [==============================] - 1s 80ms/step - loss: 2.4699e-04 - val_loss: 0.0038\n",
            "Epoch 77/100\n",
            "19/19 [==============================] - 2s 89ms/step - loss: 2.7341e-04 - val_loss: 8.8474e-04\n",
            "Epoch 78/100\n",
            "19/19 [==============================] - 2s 85ms/step - loss: 2.3753e-04 - val_loss: 0.0034\n",
            "Epoch 79/100\n",
            "19/19 [==============================] - 2s 86ms/step - loss: 2.2081e-04 - val_loss: 0.0045\n",
            "Epoch 80/100\n",
            "19/19 [==============================] - 1s 58ms/step - loss: 2.5376e-04 - val_loss: 0.0018\n",
            "Epoch 81/100\n",
            "19/19 [==============================] - 1s 69ms/step - loss: 2.7963e-04 - val_loss: 7.0232e-04\n",
            "Epoch 82/100\n",
            "19/19 [==============================] - 1s 61ms/step - loss: 2.9168e-04 - val_loss: 0.0010\n",
            "Epoch 83/100\n",
            "19/19 [==============================] - 1s 58ms/step - loss: 2.2042e-04 - val_loss: 0.0023\n",
            "Epoch 84/100\n",
            "19/19 [==============================] - 1s 59ms/step - loss: 2.0075e-04 - val_loss: 0.0026\n",
            "Epoch 85/100\n",
            "19/19 [==============================] - 1s 60ms/step - loss: 1.9583e-04 - val_loss: 0.0034\n",
            "Epoch 86/100\n",
            "19/19 [==============================] - 1s 62ms/step - loss: 2.0230e-04 - val_loss: 0.0026\n",
            "Epoch 87/100\n",
            "19/19 [==============================] - 2s 92ms/step - loss: 1.9912e-04 - val_loss: 0.0037\n",
            "Epoch 88/100\n",
            "19/19 [==============================] - 2s 94ms/step - loss: 1.9230e-04 - val_loss: 0.0028\n",
            "Epoch 89/100\n",
            "19/19 [==============================] - 1s 66ms/step - loss: 2.0305e-04 - val_loss: 0.0031\n",
            "Epoch 90/100\n",
            "19/19 [==============================] - 1s 58ms/step - loss: 1.7925e-04 - val_loss: 0.0045\n",
            "Epoch 91/100\n",
            "19/19 [==============================] - 1s 60ms/step - loss: 2.0202e-04 - val_loss: 6.7649e-04\n",
            "Epoch 92/100\n",
            "19/19 [==============================] - 1s 59ms/step - loss: 2.3633e-04 - val_loss: 0.0044\n",
            "Epoch 93/100\n",
            "19/19 [==============================] - 1s 59ms/step - loss: 2.1589e-04 - val_loss: 0.0013\n",
            "Epoch 94/100\n",
            "19/19 [==============================] - 1s 59ms/step - loss: 1.9069e-04 - val_loss: 7.6311e-04\n",
            "Epoch 95/100\n",
            "19/19 [==============================] - 1s 60ms/step - loss: 2.0148e-04 - val_loss: 0.0036\n",
            "Epoch 96/100\n",
            "19/19 [==============================] - 1s 60ms/step - loss: 1.7227e-04 - val_loss: 0.0015\n",
            "Epoch 97/100\n",
            "19/19 [==============================] - 1s 62ms/step - loss: 1.6023e-04 - val_loss: 0.0049\n",
            "Epoch 98/100\n",
            "19/19 [==============================] - 2s 91ms/step - loss: 1.8691e-04 - val_loss: 0.0014\n",
            "Epoch 99/100\n",
            "19/19 [==============================] - 2s 92ms/step - loss: 1.6153e-04 - val_loss: 0.0052\n",
            "Epoch 100/100\n",
            "19/19 [==============================] - 2s 80ms/step - loss: 2.4864e-04 - val_loss: 0.0050\n"
          ]
        },
        {
          "output_type": "execute_result",
          "data": {
            "text/plain": [
              "<keras.src.callbacks.History at 0x7cd767928ac0>"
            ]
          },
          "metadata": {},
          "execution_count": 34
        }
      ],
      "source": [
        "# 9. Fit mô hình với dữ liệu train\n",
        "model.fit(X_train, y_train, validation_data=(X_test, y_test), epochs=100, batch_size=64, verbose=1)"
      ],
      "metadata": {
        "ExecuteTime": {
          "end_time": "2024-05-28T15:09:35.990663500Z",
          "start_time": "2024-05-28T15:08:11.766231200Z"
        },
        "colab": {
          "base_uri": "https://localhost:8080/"
        },
        "id": "Zy17Wl5mxAqv",
        "outputId": "8211ed60-80cf-4bca-ff65-3ea570b2a1f3"
      }
    },
    {
      "cell_type": "code",
      "execution_count": 35,
      "outputs": [
        {
          "output_type": "stream",
          "name": "stdout",
          "text": [
            "4/4 [==============================] - 1s 14ms/step\n"
          ]
        }
      ],
      "source": [
        "# 10. Dự báo dữ liệu test\n",
        "y_pred = model.predict(X_test)"
      ],
      "metadata": {
        "ExecuteTime": {
          "end_time": "2024-05-28T15:09:54.006918900Z",
          "start_time": "2024-05-28T15:09:52.343132300Z"
        },
        "colab": {
          "base_uri": "https://localhost:8080/"
        },
        "id": "42DgMieAxAqv",
        "outputId": "209257aa-a387-4127-cc43-2a81e4496e2f"
      }
    },
    {
      "cell_type": "code",
      "execution_count": 36,
      "outputs": [],
      "source": [
        "# 11. Inverse transform dự báo và dữ liệu thực tế\n",
        "y_pred_new = scaler.inverse_transform(y_pred)\n",
        "y_test_new = scaler.inverse_transform(y_test.reshape(-1, 1))"
      ],
      "metadata": {
        "ExecuteTime": {
          "end_time": "2024-05-28T15:10:26.279554200Z",
          "start_time": "2024-05-28T15:10:26.230038600Z"
        },
        "id": "CS8ox15DxAqv"
      }
    },
    {
      "cell_type": "code",
      "execution_count": 37,
      "outputs": [
        {
          "output_type": "stream",
          "name": "stdout",
          "text": [
            "RMSE trên tập test là: 1887.5739731516087\n",
            "MAPE trên tập test là: 7.124849687854351 %\n",
            "MSLE trên tập test là: 0.006462067104582393\n"
          ]
        }
      ],
      "source": [
        "from sklearn.metrics import mean_squared_log_error\n",
        "\n",
        "# Tính toán RMSE, MAE và MAPE trên tập test\n",
        "test_score_rmse = np.sqrt(mean_squared_error(y_test_new, y_pred_new))\n",
        "test_score_mape = mean_absolute_percentage_error(y_test_new, y_pred_new) * 100\n",
        "test_score_msle = mean_squared_log_error(y_test_new, y_pred_new)\n",
        "\n",
        "print('RMSE trên tập test là:', test_score_rmse)\n",
        "print('MAPE trên tập test là:', test_score_mape, '%')\n",
        "print('MSLE trên tập test là:', test_score_msle)"
      ],
      "metadata": {
        "ExecuteTime": {
          "end_time": "2024-05-28T15:10:28.303802600Z",
          "start_time": "2024-05-28T15:10:28.303802600Z"
        },
        "colab": {
          "base_uri": "https://localhost:8080/"
        },
        "id": "-XShw5XcxAqv",
        "outputId": "dbef12ab-38bd-45bc-a26d-97d79b946b12"
      }
    },
    {
      "cell_type": "code",
      "execution_count": 38,
      "outputs": [],
      "source": [
        "# 13. Dự báo 30 ngày tiếp theo\n",
        "x_input = test_data[len(test_data) - time_step:].reshape(1, -1)\n",
        "temp_input = list(x_input)\n",
        "temp_input = temp_input[0].tolist()\n",
        "\n",
        "lst_output = []\n",
        "i = 0\n",
        "while i < 30:\n",
        "    if len(temp_input) > time_step:\n",
        "        x_input = np.array(temp_input[1:])\n",
        "        x_input = x_input.reshape(1, -1)\n",
        "        x_input = x_input.reshape((1, time_step, 1))\n",
        "        yhat = model.predict(x_input, verbose=0)\n",
        "        temp_input.extend(yhat[0].tolist())\n",
        "        temp_input = temp_input[1:]\n",
        "        lst_output.extend(yhat.tolist())\n",
        "        i += 1\n",
        "    else:\n",
        "        x_input = x_input.reshape((1, time_step, 1))\n",
        "        yhat = model.predict(x_input, verbose=0)\n",
        "        temp_input.extend(yhat[0].tolist())\n",
        "        lst_output.extend(yhat.tolist())\n",
        "        i += 1"
      ],
      "metadata": {
        "ExecuteTime": {
          "end_time": "2024-05-28T15:10:54.836231800Z",
          "start_time": "2024-05-28T15:10:52.419310400Z"
        },
        "id": "ytsUfAnSxAqv"
      }
    },
    {
      "cell_type": "code",
      "execution_count": 39,
      "outputs": [
        {
          "output_type": "display_data",
          "data": {
            "text/plain": [
              "<Figure size 1200x600 with 1 Axes>"
            ],
            "image/png": "[encoded data removed]"
          },
          "metadata": {}
        }
      ],
      "source": [
        "# 14. Vẽ hình\n",
        "plt.figure(figsize=(12, 6))\n",
        "plt.plot(scaler.inverse_transform(df1), label='Train')\n",
        "test_data_index = pd.RangeIndex(start=train_size, stop=train_size + test_size, step=1)\n",
        "plt.plot(test_data_index, scaler.inverse_transform(test_data), label='Actual Test')\n",
        "test_pred_index = pd.RangeIndex(start=train_size + time_step, stop=train_size + test_size - 1, step=1)\n",
        "plt.plot(test_pred_index, scaler.inverse_transform(y_pred), label='Predicted Test')\n",
        "predict_data_index = pd.RangeIndex(start=len(df1), stop=len(df1) + 30, step=1)\n",
        "plt.plot(predict_data_index, scaler.inverse_transform(lst_output), label='Next 30 days')\n",
        "plt.xlabel('Time')\n",
        "plt.ylabel('Price')\n",
        "plt.legend()\n",
        "plt.show()"
      ],
      "metadata": {
        "ExecuteTime": {
          "end_time": "2024-05-28T15:10:56.101037500Z",
          "start_time": "2024-05-28T15:10:55.899675800Z"
        },
        "colab": {
          "base_uri": "https://localhost:8080/",
          "height": 542
        },
        "id": "qC3sDuAIxAqv",
        "outputId": "d77dad3f-c854-468d-b000-d0816509feb3"
      }
    },
    {
      "cell_type": "code",
      "execution_count": 39,
      "outputs": [],
      "source": [],
      "metadata": {
        "id": "YCpJWspVxAqw"
      }
    }
  ],
  "metadata": {
    "kernelspec": {
      "display_name": "Python 3",
      "language": "python",
      "name": "python3"
    },
    "language_info": {
      "codemirror_mode": {
        "name": "ipython",
        "version": 2
      },
      "file_extension": ".py",
      "mimetype": "text/x-python",
      "name": "python",
      "nbconvert_exporter": "python",
      "pygments_lexer": "ipython2",
      "version": "2.7.6"
    },
    "colab": {
      "provenance": []
    }
  },
  "nbformat": 4,
  "nbformat_minor": 0
}