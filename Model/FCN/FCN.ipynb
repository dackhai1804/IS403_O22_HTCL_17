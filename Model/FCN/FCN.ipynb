{
 "cells": [
  {
   "cell_type": "code",
   "execution_count": 223,
   "outputs": [
    {
     "data": {
      "text/plain": "   close\n0  19270\n1  19440\n2  19390\n3  19270\n4  19330",
      "text/html": "<div>\n<style scoped>\n    .dataframe tbody tr th:only-of-type {\n        vertical-align: middle;\n    }\n\n    .dataframe tbody tr th {\n        vertical-align: top;\n    }\n\n    .dataframe thead th {\n        text-align: right;\n    }\n</style>\n<table border=\"1\" class=\"dataframe\">\n  <thead>\n    <tr style=\"text-align: right;\">\n      <th></th>\n      <th>close</th>\n    </tr>\n  </thead>\n  <tbody>\n    <tr>\n      <th>0</th>\n      <td>19270</td>\n    </tr>\n    <tr>\n      <th>1</th>\n      <td>19440</td>\n    </tr>\n    <tr>\n      <th>2</th>\n      <td>19390</td>\n    </tr>\n    <tr>\n      <th>3</th>\n      <td>19270</td>\n    </tr>\n    <tr>\n      <th>4</th>\n      <td>19330</td>\n    </tr>\n  </tbody>\n</table>\n</div>"
     },
     "execution_count": 223,
     "metadata": {},
     "output_type": "execute_result"
    }
   ],
   "source": [
    "import numpy as np\n",
    "import pandas as pd\n",
    "from tensorflow.keras.models import Sequential\n",
    "from tensorflow.keras.layers import Conv1D, GlobalAveragePooling1D\n",
    "from sklearn.preprocessing import MinMaxScaler\n",
    "from sklearn.metrics import mean_squared_error, mean_absolute_error, mean_absolute_percentage_error\n",
    "import matplotlib.pyplot as plt\n",
    "data = pd.read_csv('D:\\\\Workspace\\\\23-24_HK2\\\\IS403-PTDLKD\\\\Thuc-hanh\\\\Lab 4\\\\fpt_data_sheet.csv', index_col='time', parse_dates=True)\n",
    "data=data.drop(columns=['open', 'high', 'low', 'volume','ticker'])\n",
    "data = data.reset_index(drop=True)\n",
    "data.head()"
   ],
   "metadata": {
    "collapsed": false,
    "ExecuteTime": {
     "end_time": "2024-05-28T10:36:55.164083300Z",
     "start_time": "2024-05-28T10:36:54.982217500Z"
    }
   }
  },
  {
   "cell_type": "code",
   "execution_count": 224,
   "outputs": [],
   "source": [
    "price = data['close'].values\n",
    "price = price.reshape(-1, 1)\n",
    "scaler = MinMaxScaler(feature_range=(0, 1))\n",
    "price_scaled = scaler.fit_transform(price)\n",
    "\n",
    "# Chia dữ liệu thành train test\n",
    "train_size = int(len(price_scaled) * 0.7)\n",
    "test_size = len(price_scaled) - train_size\n",
    "\n",
    "train_data = price_scaled[:train_size]\n",
    "test_data = price_scaled[train_size:]\n",
    "\n",
    "def create_dataset(dataset, look_back=1):\n",
    "    X, Y = [], []\n",
    "    for i in range(len(dataset) - look_back):\n",
    "        X.append(dataset[i:i + look_back, 0])\n",
    "        Y.append(dataset[i + look_back, 0])\n",
    "    return np.array(X), np.array(Y)\n",
    "\n",
    "look_back = 30\n",
    "X_train, Y_train = create_dataset(train_data, look_back)\n",
    "X_test, Y_test = create_dataset(test_data, look_back)\n",
    "\n",
    "X_train = X_train.reshape(X_train.shape[0], X_train.shape[1], 1)\n",
    "X_test = X_test.reshape(X_test.shape[0], X_test.shape[1], 1)"
   ],
   "metadata": {
    "collapsed": false,
    "ExecuteTime": {
     "end_time": "2024-05-28T10:36:55.164083300Z",
     "start_time": "2024-05-28T10:36:54.997863100Z"
    }
   }
  },
  {
   "cell_type": "code",
   "execution_count": 225,
   "outputs": [
    {
     "name": "stdout",
     "output_type": "stream",
     "text": [
      "Epoch 1/100\n",
      "12/12 [==============================] - 2s 48ms/step - loss: 0.0299 - val_loss: 0.0029\n",
      "Epoch 2/100\n",
      "12/12 [==============================] - 0s 32ms/step - loss: 0.0035 - val_loss: 0.0131\n",
      "Epoch 3/100\n",
      "12/12 [==============================] - 0s 29ms/step - loss: 0.0013 - val_loss: 0.0060\n",
      "Epoch 4/100\n",
      "12/12 [==============================] - 0s 30ms/step - loss: 7.4284e-04 - val_loss: 0.0033\n",
      "Epoch 5/100\n",
      "12/12 [==============================] - 0s 26ms/step - loss: 7.1191e-04 - val_loss: 0.0045\n",
      "Epoch 6/100\n",
      "12/12 [==============================] - 0s 24ms/step - loss: 6.9927e-04 - val_loss: 0.0039\n",
      "Epoch 7/100\n",
      "12/12 [==============================] - 0s 22ms/step - loss: 6.7740e-04 - val_loss: 0.0037\n",
      "Epoch 8/100\n",
      "12/12 [==============================] - 0s 29ms/step - loss: 6.7287e-04 - val_loss: 0.0030\n",
      "Epoch 9/100\n",
      "12/12 [==============================] - 0s 27ms/step - loss: 6.7818e-04 - val_loss: 0.0034\n",
      "Epoch 10/100\n",
      "12/12 [==============================] - 0s 23ms/step - loss: 6.6765e-04 - val_loss: 0.0031\n",
      "Epoch 11/100\n",
      "12/12 [==============================] - 0s 27ms/step - loss: 6.7003e-04 - val_loss: 0.0033\n",
      "Epoch 12/100\n",
      "12/12 [==============================] - 0s 23ms/step - loss: 6.2597e-04 - val_loss: 0.0032\n",
      "Epoch 13/100\n",
      "12/12 [==============================] - 1s 67ms/step - loss: 6.2962e-04 - val_loss: 0.0033\n",
      "Epoch 14/100\n",
      "12/12 [==============================] - 0s 25ms/step - loss: 6.4561e-04 - val_loss: 0.0028\n",
      "Epoch 15/100\n",
      "12/12 [==============================] - 0s 23ms/step - loss: 6.3645e-04 - val_loss: 0.0030\n",
      "Epoch 16/100\n",
      "12/12 [==============================] - 0s 31ms/step - loss: 6.2193e-04 - val_loss: 0.0031\n",
      "Epoch 17/100\n",
      "12/12 [==============================] - 0s 31ms/step - loss: 6.0775e-04 - val_loss: 0.0034\n",
      "Epoch 18/100\n",
      "12/12 [==============================] - 0s 33ms/step - loss: 6.1354e-04 - val_loss: 0.0028\n",
      "Epoch 19/100\n",
      "12/12 [==============================] - 0s 36ms/step - loss: 5.9677e-04 - val_loss: 0.0028\n",
      "Epoch 20/100\n",
      "12/12 [==============================] - 0s 28ms/step - loss: 5.9478e-04 - val_loss: 0.0030\n",
      "Epoch 21/100\n",
      "12/12 [==============================] - 0s 28ms/step - loss: 5.6915e-04 - val_loss: 0.0032\n",
      "Epoch 22/100\n",
      "12/12 [==============================] - 0s 33ms/step - loss: 5.6281e-04 - val_loss: 0.0027\n",
      "Epoch 23/100\n",
      "12/12 [==============================] - 0s 27ms/step - loss: 5.7499e-04 - val_loss: 0.0038\n",
      "Epoch 24/100\n",
      "12/12 [==============================] - 0s 40ms/step - loss: 6.8199e-04 - val_loss: 0.0032\n",
      "Epoch 25/100\n",
      "12/12 [==============================] - 0s 25ms/step - loss: 6.0348e-04 - val_loss: 0.0027\n",
      "Epoch 26/100\n",
      "12/12 [==============================] - 0s 29ms/step - loss: 6.4789e-04 - val_loss: 0.0027\n",
      "Epoch 27/100\n",
      "12/12 [==============================] - 0s 18ms/step - loss: 6.9526e-04 - val_loss: 0.0043\n",
      "Epoch 28/100\n",
      "12/12 [==============================] - 0s 24ms/step - loss: 6.1395e-04 - val_loss: 0.0028\n",
      "Epoch 29/100\n",
      "12/12 [==============================] - 0s 34ms/step - loss: 5.7114e-04 - val_loss: 0.0027\n",
      "Epoch 30/100\n",
      "12/12 [==============================] - 0s 28ms/step - loss: 6.3227e-04 - val_loss: 0.0033\n",
      "Epoch 31/100\n",
      "12/12 [==============================] - 0s 21ms/step - loss: 5.6162e-04 - val_loss: 0.0027\n",
      "Epoch 32/100\n",
      "12/12 [==============================] - 0s 26ms/step - loss: 5.4910e-04 - val_loss: 0.0027\n",
      "Epoch 33/100\n",
      "12/12 [==============================] - 0s 25ms/step - loss: 5.6559e-04 - val_loss: 0.0031\n",
      "Epoch 34/100\n",
      "12/12 [==============================] - 0s 30ms/step - loss: 5.5836e-04 - val_loss: 0.0027\n",
      "Epoch 35/100\n",
      "12/12 [==============================] - 0s 24ms/step - loss: 5.6749e-04 - val_loss: 0.0040\n",
      "Epoch 36/100\n",
      "12/12 [==============================] - 0s 23ms/step - loss: 5.6745e-04 - val_loss: 0.0028\n",
      "Epoch 37/100\n",
      "12/12 [==============================] - 0s 21ms/step - loss: 5.4907e-04 - val_loss: 0.0029\n",
      "Epoch 38/100\n",
      "12/12 [==============================] - 0s 31ms/step - loss: 5.6856e-04 - val_loss: 0.0026\n",
      "Epoch 39/100\n",
      "12/12 [==============================] - 0s 20ms/step - loss: 5.6149e-04 - val_loss: 0.0030\n",
      "Epoch 40/100\n",
      "12/12 [==============================] - 0s 17ms/step - loss: 5.5705e-04 - val_loss: 0.0026\n",
      "Epoch 41/100\n",
      "12/12 [==============================] - 0s 24ms/step - loss: 5.8539e-04 - val_loss: 0.0041\n",
      "Epoch 42/100\n",
      "12/12 [==============================] - 0s 22ms/step - loss: 5.6891e-04 - val_loss: 0.0029\n",
      "Epoch 43/100\n",
      "12/12 [==============================] - 0s 35ms/step - loss: 5.4886e-04 - val_loss: 0.0029\n",
      "Epoch 44/100\n",
      "12/12 [==============================] - 0s 24ms/step - loss: 5.2900e-04 - val_loss: 0.0027\n",
      "Epoch 45/100\n",
      "12/12 [==============================] - 0s 28ms/step - loss: 5.7449e-04 - val_loss: 0.0032\n",
      "Epoch 46/100\n",
      "12/12 [==============================] - 0s 39ms/step - loss: 6.0253e-04 - val_loss: 0.0028\n",
      "Epoch 47/100\n",
      "12/12 [==============================] - 0s 18ms/step - loss: 5.6253e-04 - val_loss: 0.0033\n",
      "Epoch 48/100\n",
      "12/12 [==============================] - 0s 28ms/step - loss: 5.5378e-04 - val_loss: 0.0027\n",
      "Epoch 49/100\n",
      "12/12 [==============================] - 0s 32ms/step - loss: 5.9428e-04 - val_loss: 0.0028\n",
      "Epoch 50/100\n",
      "12/12 [==============================] - 0s 31ms/step - loss: 5.4338e-04 - val_loss: 0.0030\n",
      "Epoch 51/100\n",
      "12/12 [==============================] - 0s 26ms/step - loss: 5.2645e-04 - val_loss: 0.0030\n",
      "Epoch 52/100\n",
      "12/12 [==============================] - 0s 30ms/step - loss: 5.5177e-04 - val_loss: 0.0026\n",
      "Epoch 53/100\n",
      "12/12 [==============================] - 0s 24ms/step - loss: 5.9269e-04 - val_loss: 0.0028\n",
      "Epoch 54/100\n",
      "12/12 [==============================] - 0s 25ms/step - loss: 5.7899e-04 - val_loss: 0.0026\n",
      "Epoch 55/100\n",
      "12/12 [==============================] - 0s 28ms/step - loss: 5.7213e-04 - val_loss: 0.0030\n",
      "Epoch 56/100\n",
      "12/12 [==============================] - 0s 31ms/step - loss: 5.3849e-04 - val_loss: 0.0026\n",
      "Epoch 57/100\n",
      "12/12 [==============================] - 0s 24ms/step - loss: 5.5189e-04 - val_loss: 0.0034\n",
      "Epoch 58/100\n",
      "12/12 [==============================] - 0s 39ms/step - loss: 5.8918e-04 - val_loss: 0.0026\n",
      "Epoch 59/100\n",
      "12/12 [==============================] - 0s 39ms/step - loss: 5.3360e-04 - val_loss: 0.0028\n",
      "Epoch 60/100\n",
      "12/12 [==============================] - 0s 21ms/step - loss: 6.3547e-04 - val_loss: 0.0027\n",
      "Epoch 61/100\n",
      "12/12 [==============================] - 0s 17ms/step - loss: 7.1760e-04 - val_loss: 0.0030\n",
      "Epoch 62/100\n",
      "12/12 [==============================] - 0s 41ms/step - loss: 5.1947e-04 - val_loss: 0.0030\n",
      "Epoch 63/100\n",
      "12/12 [==============================] - 0s 30ms/step - loss: 5.1587e-04 - val_loss: 0.0026\n",
      "Epoch 64/100\n",
      "12/12 [==============================] - 0s 17ms/step - loss: 5.0055e-04 - val_loss: 0.0030\n",
      "Epoch 65/100\n",
      "12/12 [==============================] - 0s 21ms/step - loss: 4.9364e-04 - val_loss: 0.0026\n",
      "Epoch 66/100\n",
      "12/12 [==============================] - 0s 28ms/step - loss: 5.2497e-04 - val_loss: 0.0025\n",
      "Epoch 67/100\n",
      "12/12 [==============================] - 0s 17ms/step - loss: 5.5838e-04 - val_loss: 0.0026\n",
      "Epoch 68/100\n",
      "12/12 [==============================] - 0s 32ms/step - loss: 5.7407e-04 - val_loss: 0.0031\n",
      "Epoch 69/100\n",
      "12/12 [==============================] - 0s 20ms/step - loss: 5.1377e-04 - val_loss: 0.0031\n",
      "Epoch 70/100\n",
      "12/12 [==============================] - 0s 30ms/step - loss: 4.9746e-04 - val_loss: 0.0027\n",
      "Epoch 71/100\n",
      "12/12 [==============================] - 0s 20ms/step - loss: 5.2121e-04 - val_loss: 0.0027\n",
      "Epoch 72/100\n",
      "12/12 [==============================] - 0s 27ms/step - loss: 5.2819e-04 - val_loss: 0.0025\n",
      "Epoch 73/100\n",
      "12/12 [==============================] - 0s 38ms/step - loss: 5.4014e-04 - val_loss: 0.0036\n",
      "Epoch 74/100\n",
      "12/12 [==============================] - 0s 31ms/step - loss: 4.8379e-04 - val_loss: 0.0030\n",
      "Epoch 75/100\n",
      "12/12 [==============================] - 0s 25ms/step - loss: 4.9740e-04 - val_loss: 0.0037\n",
      "Epoch 76/100\n",
      "12/12 [==============================] - 0s 26ms/step - loss: 5.0897e-04 - val_loss: 0.0027\n",
      "Epoch 77/100\n",
      "12/12 [==============================] - 0s 34ms/step - loss: 4.8621e-04 - val_loss: 0.0028\n",
      "Epoch 78/100\n",
      "12/12 [==============================] - 0s 21ms/step - loss: 4.9985e-04 - val_loss: 0.0025\n",
      "Epoch 79/100\n",
      "12/12 [==============================] - 0s 36ms/step - loss: 5.0853e-04 - val_loss: 0.0025\n",
      "Epoch 80/100\n",
      "12/12 [==============================] - 0s 25ms/step - loss: 4.9288e-04 - val_loss: 0.0025\n",
      "Epoch 81/100\n",
      "12/12 [==============================] - 0s 35ms/step - loss: 4.8640e-04 - val_loss: 0.0030\n",
      "Epoch 82/100\n",
      "12/12 [==============================] - 0s 32ms/step - loss: 5.0673e-04 - val_loss: 0.0025\n",
      "Epoch 83/100\n",
      "12/12 [==============================] - 0s 38ms/step - loss: 6.1277e-04 - val_loss: 0.0040\n",
      "Epoch 84/100\n",
      "12/12 [==============================] - 0s 24ms/step - loss: 5.0488e-04 - val_loss: 0.0029\n",
      "Epoch 85/100\n",
      "12/12 [==============================] - 0s 28ms/step - loss: 5.1580e-04 - val_loss: 0.0039\n",
      "Epoch 86/100\n",
      "12/12 [==============================] - 0s 18ms/step - loss: 5.9328e-04 - val_loss: 0.0025\n",
      "Epoch 87/100\n",
      "12/12 [==============================] - 0s 32ms/step - loss: 5.0078e-04 - val_loss: 0.0025\n",
      "Epoch 88/100\n",
      "12/12 [==============================] - 0s 20ms/step - loss: 5.7417e-04 - val_loss: 0.0025\n",
      "Epoch 89/100\n",
      "12/12 [==============================] - 0s 23ms/step - loss: 5.2404e-04 - val_loss: 0.0035\n",
      "Epoch 90/100\n",
      "12/12 [==============================] - 0s 24ms/step - loss: 5.1360e-04 - val_loss: 0.0031\n",
      "Epoch 91/100\n",
      "12/12 [==============================] - 0s 21ms/step - loss: 5.5345e-04 - val_loss: 0.0025\n",
      "Epoch 92/100\n",
      "12/12 [==============================] - 0s 36ms/step - loss: 4.6627e-04 - val_loss: 0.0029\n",
      "Epoch 93/100\n",
      "12/12 [==============================] - 0s 31ms/step - loss: 4.7880e-04 - val_loss: 0.0025\n",
      "Epoch 94/100\n",
      "12/12 [==============================] - 0s 32ms/step - loss: 4.5264e-04 - val_loss: 0.0038\n",
      "Epoch 95/100\n",
      "12/12 [==============================] - 0s 21ms/step - loss: 5.2825e-04 - val_loss: 0.0024\n",
      "Epoch 96/100\n",
      "12/12 [==============================] - 0s 32ms/step - loss: 5.0242e-04 - val_loss: 0.0024\n",
      "Epoch 97/100\n",
      "12/12 [==============================] - 0s 31ms/step - loss: 5.9354e-04 - val_loss: 0.0027\n",
      "Epoch 98/100\n",
      "12/12 [==============================] - 0s 25ms/step - loss: 5.4089e-04 - val_loss: 0.0030\n",
      "Epoch 99/100\n",
      "12/12 [==============================] - 0s 26ms/step - loss: 4.6845e-04 - val_loss: 0.0026\n",
      "Epoch 100/100\n",
      "12/12 [==============================] - 1s 52ms/step - loss: 4.5385e-04 - val_loss: 0.0031\n"
     ]
    },
    {
     "data": {
      "text/plain": "<keras.callbacks.History at 0x24511c51d20>"
     },
     "execution_count": 225,
     "metadata": {},
     "output_type": "execute_result"
    }
   ],
   "source": [
    "# Xây dựng mô hình\n",
    "model = Sequential()\n",
    "\n",
    "# Add convolutional layers\n",
    "model.add(Conv1D(filters=256, kernel_size=3, activation='relu', input_shape=(look_back, 1)))\n",
    "model.add(Conv1D(filters=128, kernel_size=3, activation='relu'))\n",
    "model.add(Conv1D(filters=64, kernel_size=3, activation='relu'))\n",
    "model.add(Conv1D(filters=32, kernel_size=3, activation='relu'))\n",
    "model.add(Conv1D(filters=1, kernel_size=3, activation='relu'))\n",
    "\n",
    "# Add global average pooling layer\n",
    "model.add(GlobalAveragePooling1D())\n",
    "\n",
    "# Compile model\n",
    "model.compile(loss='mean_squared_error', optimizer='adam')\n",
    "\n",
    "# Huấn luyện mô hình\n",
    "model.fit(X_train, Y_train, epochs=100, batch_size=64, validation_split=0.1)"
   ],
   "metadata": {
    "collapsed": false,
    "ExecuteTime": {
     "end_time": "2024-05-28T10:37:30.031222Z",
     "start_time": "2024-05-28T10:36:55.013478500Z"
    }
   }
  },
  {
   "cell_type": "code",
   "execution_count": 226,
   "outputs": [
    {
     "name": "stdout",
     "output_type": "stream",
     "text": [
      "11/11 [==============================] - 0s 2ms/step\n"
     ]
    }
   ],
   "source": [
    "# Dự báo\n",
    "test_predict = model.predict(X_test)\n",
    "\n",
    "test_predict = scaler.inverse_transform(test_predict)\n",
    "Y_test = scaler.inverse_transform([Y_test])\n"
   ],
   "metadata": {
    "collapsed": false,
    "ExecuteTime": {
     "end_time": "2024-05-28T10:37:30.311828100Z",
     "start_time": "2024-05-28T10:37:30.031222Z"
    }
   }
  },
  {
   "cell_type": "code",
   "execution_count": 227,
   "outputs": [
    {
     "name": "stdout",
     "output_type": "stream",
     "text": [
      "1/1 [==============================] - 0s 22ms/step\n",
      "1/1 [==============================] - 0s 20ms/step\n",
      "1/1 [==============================] - 0s 21ms/step\n",
      "1/1 [==============================] - 0s 20ms/step\n",
      "1/1 [==============================] - 0s 28ms/step\n",
      "1/1 [==============================] - 0s 22ms/step\n",
      "1/1 [==============================] - 0s 22ms/step\n",
      "1/1 [==============================] - 0s 28ms/step\n",
      "1/1 [==============================] - 0s 30ms/step\n",
      "1/1 [==============================] - 0s 20ms/step\n",
      "1/1 [==============================] - 0s 29ms/step\n",
      "1/1 [==============================] - 0s 22ms/step\n",
      "1/1 [==============================] - 0s 20ms/step\n",
      "1/1 [==============================] - 0s 30ms/step\n",
      "1/1 [==============================] - 0s 20ms/step\n",
      "1/1 [==============================] - 0s 30ms/step\n",
      "1/1 [==============================] - 0s 20ms/step\n",
      "1/1 [==============================] - 0s 22ms/step\n",
      "1/1 [==============================] - 0s 20ms/step\n",
      "1/1 [==============================] - 0s 28ms/step\n",
      "1/1 [==============================] - 0s 20ms/step\n",
      "1/1 [==============================] - 0s 30ms/step\n",
      "1/1 [==============================] - 0s 30ms/step\n",
      "1/1 [==============================] - 0s 20ms/step\n",
      "1/1 [==============================] - 0s 30ms/step\n",
      "1/1 [==============================] - 0s 20ms/step\n",
      "1/1 [==============================] - 0s 22ms/step\n",
      "1/1 [==============================] - 0s 28ms/step\n",
      "1/1 [==============================] - 0s 22ms/step\n",
      "1/1 [==============================] - 0s 29ms/step\n",
      "[[103153.664]\n",
      " [103812.74 ]\n",
      " [104431.93 ]\n",
      " [104953.86 ]\n",
      " [105369.33 ]\n",
      " [105708.99 ]\n",
      " [105985.555]\n",
      " [106183.766]\n",
      " [106309.195]\n",
      " [106390.945]\n",
      " [106459.17 ]\n",
      " [106531.39 ]\n",
      " [106608.97 ]\n",
      " [106686.164]\n",
      " [106762.19 ]\n",
      " [106840.85 ]\n",
      " [106920.29 ]\n",
      " [106986.45 ]\n",
      " [107010.74 ]\n",
      " [106976.53 ]\n",
      " [106895.18 ]\n",
      " [106800.17 ]\n",
      " [106736.55 ]\n",
      " [106755.46 ]\n",
      " [106861.03 ]\n",
      " [106998.38 ]\n",
      " [107113.37 ]\n",
      " [107196.75 ]\n",
      " [107259.65 ]\n",
      " [107312.62 ]]\n"
     ]
    }
   ],
   "source": [
    "# Dự báo giá trị 30 ngày trong tương lai\n",
    "last_30_days = price_scaled[-30:]\n",
    "next_30_days = []\n",
    "for i in range(30):\n",
    "    x = last_30_days[-look_back:].reshape(1, look_back, 1)\n",
    "    y_hat = model.predict(x)\n",
    "    next_30_days.append(y_hat)\n",
    "    last_30_days = np.append(last_30_days, y_hat, axis=0)\n",
    "\n",
    "next_30_days = np.array(next_30_days).reshape(-1, 1)\n",
    "next_30_days = scaler.inverse_transform(next_30_days)\n",
    "\n",
    "print(next_30_days)"
   ],
   "metadata": {
    "collapsed": false,
    "ExecuteTime": {
     "end_time": "2024-05-28T10:37:33.418922200Z",
     "start_time": "2024-05-28T10:37:30.281528700Z"
    }
   }
  },
  {
   "cell_type": "code",
   "execution_count": 228,
   "outputs": [
    {
     "name": "stdout",
     "output_type": "stream",
     "text": [
      "RMSE trên tập test là: 3581.303539359022\n",
      "MAPE trên tập test là: 3.3417390297907223 %\n",
      "MSLE trên tập test là: 0.0019226307860459963\n"
     ]
    }
   ],
   "source": [
    "from sklearn.metrics import mean_squared_log_error\n",
    "\n",
    "# Tính toán RMSE, MLSE và MAPE trên tập test\n",
    "test_score_rmse = np.sqrt(mean_squared_error(Y_test[0], test_predict[:, 0]))\n",
    "test_score_mape = mean_absolute_percentage_error(Y_test[0], test_predict[:, 0]) * 100\n",
    "test_score_msle = mean_squared_log_error(Y_test[0], test_predict[:, 0])\n",
    "\n",
    "print('RMSE trên tập test là:', test_score_rmse)\n",
    "print('MAPE trên tập test là:', test_score_mape, '%')\n",
    "print('MSLE trên tập test là:', test_score_msle)"
   ],
   "metadata": {
    "collapsed": false,
    "ExecuteTime": {
     "end_time": "2024-05-28T10:37:33.477552600Z",
     "start_time": "2024-05-28T10:37:33.418922200Z"
    }
   }
  },
  {
   "cell_type": "code",
   "execution_count": 229,
   "outputs": [],
   "source": [
    "test_predict_df = pd.DataFrame(test_predict)\n",
    "test_predict_index = range(len(train_data)+look_back, len(train_data)+look_back+len(test_predict))\n",
    "test_predict_df.index = test_predict_index\n",
    "\n",
    "next_30_days_df = pd.DataFrame(next_30_days)\n",
    "next_30_index = range(len(data), len(data)+len(next_30_days))\n",
    "next_30_days_df.index = next_30_index\n",
    "\n",
    "train_data_df = data[:train_size][['close']]\n",
    "test_data_df = data[train_size:][['close']]"
   ],
   "metadata": {
    "collapsed": false,
    "ExecuteTime": {
     "end_time": "2024-05-28T10:37:33.489639900Z",
     "start_time": "2024-05-28T10:37:33.447178800Z"
    }
   }
  },
  {
   "cell_type": "code",
   "execution_count": 230,
   "outputs": [
    {
     "data": {
      "text/plain": "<Figure size 640x480 with 1 Axes>",
      "image/png": "[encoded data removed]"
     },
     "metadata": {},
     "output_type": "display_data"
    }
   ],
   "source": [
    "# Vẽ đồ thị các giá trị từ train tới validate và dự đoán 30 ngày sau\n",
    "plt.plot(train_data_df, label='Train')\n",
    "plt.plot(test_data_df, label='Actual Test')\n",
    "plt.plot(test_predict_df, label='Predicted Test')\n",
    "plt.plot(next_30_days_df, label='Next 30 days')\n",
    "plt.legend()\n",
    "plt.show()"
   ],
   "metadata": {
    "collapsed": false,
    "ExecuteTime": {
     "end_time": "2024-05-28T10:37:33.639352200Z",
     "start_time": "2024-05-28T10:37:33.477552600Z"
    }
   }
  },
  {
   "cell_type": "markdown",
   "source": [
    "# (Split 8/2)"
   ],
   "metadata": {
    "collapsed": false
   }
  },
  {
   "cell_type": "code",
   "execution_count": 231,
   "outputs": [
    {
     "data": {
      "text/plain": "   close\n0  19270\n1  19440\n2  19390\n3  19270\n4  19330",
      "text/html": "<div>\n<style scoped>\n    .dataframe tbody tr th:only-of-type {\n        vertical-align: middle;\n    }\n\n    .dataframe tbody tr th {\n        vertical-align: top;\n    }\n\n    .dataframe thead th {\n        text-align: right;\n    }\n</style>\n<table border=\"1\" class=\"dataframe\">\n  <thead>\n    <tr style=\"text-align: right;\">\n      <th></th>\n      <th>close</th>\n    </tr>\n  </thead>\n  <tbody>\n    <tr>\n      <th>0</th>\n      <td>19270</td>\n    </tr>\n    <tr>\n      <th>1</th>\n      <td>19440</td>\n    </tr>\n    <tr>\n      <th>2</th>\n      <td>19390</td>\n    </tr>\n    <tr>\n      <th>3</th>\n      <td>19270</td>\n    </tr>\n    <tr>\n      <th>4</th>\n      <td>19330</td>\n    </tr>\n  </tbody>\n</table>\n</div>"
     },
     "execution_count": 231,
     "metadata": {},
     "output_type": "execute_result"
    }
   ],
   "source": [
    "import numpy as np\n",
    "import pandas as pd\n",
    "from tensorflow.keras.models import Sequential\n",
    "from tensorflow.keras.layers import Conv1D, GlobalAveragePooling1D\n",
    "from sklearn.preprocessing import MinMaxScaler\n",
    "from sklearn.metrics import mean_squared_error, mean_absolute_error, mean_absolute_percentage_error\n",
    "import matplotlib.pyplot as plt\n",
    "data = pd.read_csv('D:\\\\Workspace\\\\23-24_HK2\\\\IS403-PTDLKD\\\\Thuc-hanh\\\\Lab 4\\\\fpt_data_sheet.csv', index_col='time', parse_dates=True)\n",
    "data=data.drop(columns=['open', 'high', 'low', 'volume','ticker'])\n",
    "data = data.reset_index(drop=True)\n",
    "data.head()"
   ],
   "metadata": {
    "collapsed": false,
    "ExecuteTime": {
     "end_time": "2024-05-28T10:37:33.714772500Z",
     "start_time": "2024-05-28T10:37:33.639352200Z"
    }
   }
  },
  {
   "cell_type": "code",
   "execution_count": 232,
   "outputs": [],
   "source": [
    "price = data['close'].values\n",
    "price = price.reshape(-1, 1)\n",
    "scaler = MinMaxScaler(feature_range=(0, 1))\n",
    "price_scaled = scaler.fit_transform(price)\n",
    "\n",
    "# Chia dữ liệu thành train test\n",
    "train_size = int(len(price_scaled) * 0.8)\n",
    "test_size = len(price_scaled) - train_size\n",
    "\n",
    "train_data = price_scaled[:train_size]\n",
    "test_data = price_scaled[train_size:]\n",
    "\n",
    "def create_dataset(dataset, look_back=1):\n",
    "    X, Y = [], []\n",
    "    for i in range(len(dataset) - look_back):\n",
    "        X.append(dataset[i:i + look_back, 0])\n",
    "        Y.append(dataset[i + look_back, 0])\n",
    "    return np.array(X), np.array(Y)\n",
    "\n",
    "look_back = 30\n",
    "X_train, Y_train = create_dataset(train_data, look_back)\n",
    "X_test, Y_test = create_dataset(test_data, look_back)\n",
    "\n",
    "X_train = X_train.reshape(X_train.shape[0], X_train.shape[1], 1)\n",
    "X_test = X_test.reshape(X_test.shape[0], X_test.shape[1], 1)"
   ],
   "metadata": {
    "collapsed": false,
    "ExecuteTime": {
     "end_time": "2024-05-28T10:37:33.715777600Z",
     "start_time": "2024-05-28T10:37:33.678755500Z"
    }
   }
  },
  {
   "cell_type": "code",
   "execution_count": 233,
   "outputs": [
    {
     "name": "stdout",
     "output_type": "stream",
     "text": [
      "Epoch 1/100\n",
      "14/14 [==============================] - 1s 34ms/step - loss: 0.0362 - val_loss: 0.0115\n",
      "Epoch 2/100\n",
      "14/14 [==============================] - 0s 21ms/step - loss: 0.0041 - val_loss: 0.0016\n",
      "Epoch 3/100\n",
      "14/14 [==============================] - 0s 15ms/step - loss: 0.0016 - val_loss: 0.0020\n",
      "Epoch 4/100\n",
      "14/14 [==============================] - 0s 15ms/step - loss: 0.0012 - val_loss: 0.0015\n",
      "Epoch 5/100\n",
      "14/14 [==============================] - 0s 16ms/step - loss: 0.0011 - val_loss: 0.0013\n",
      "Epoch 6/100\n",
      "14/14 [==============================] - 0s 15ms/step - loss: 9.9270e-04 - val_loss: 0.0013\n",
      "Epoch 7/100\n",
      "14/14 [==============================] - 0s 14ms/step - loss: 0.0010 - val_loss: 0.0015\n",
      "Epoch 8/100\n",
      "14/14 [==============================] - 0s 17ms/step - loss: 0.0011 - val_loss: 0.0015\n",
      "Epoch 9/100\n",
      "14/14 [==============================] - 0s 15ms/step - loss: 9.3828e-04 - val_loss: 0.0022\n",
      "Epoch 10/100\n",
      "14/14 [==============================] - 0s 15ms/step - loss: 0.0011 - val_loss: 0.0020\n",
      "Epoch 11/100\n",
      "14/14 [==============================] - 0s 19ms/step - loss: 9.4820e-04 - val_loss: 0.0014\n",
      "Epoch 12/100\n",
      "14/14 [==============================] - 0s 18ms/step - loss: 9.4624e-04 - val_loss: 0.0017\n",
      "Epoch 13/100\n",
      "14/14 [==============================] - 0s 16ms/step - loss: 9.5402e-04 - val_loss: 0.0012\n",
      "Epoch 14/100\n",
      "14/14 [==============================] - 0s 19ms/step - loss: 9.2442e-04 - val_loss: 0.0013\n",
      "Epoch 15/100\n",
      "14/14 [==============================] - 0s 17ms/step - loss: 9.3869e-04 - val_loss: 0.0012\n",
      "Epoch 16/100\n",
      "14/14 [==============================] - 0s 15ms/step - loss: 8.7162e-04 - val_loss: 0.0014\n",
      "Epoch 17/100\n",
      "14/14 [==============================] - 0s 15ms/step - loss: 9.2099e-04 - val_loss: 0.0012\n",
      "Epoch 18/100\n",
      "14/14 [==============================] - 0s 16ms/step - loss: 8.8243e-04 - val_loss: 0.0012\n",
      "Epoch 19/100\n",
      "14/14 [==============================] - 0s 14ms/step - loss: 8.8949e-04 - val_loss: 0.0020\n",
      "Epoch 20/100\n",
      "14/14 [==============================] - 0s 16ms/step - loss: 8.8387e-04 - val_loss: 0.0013\n",
      "Epoch 21/100\n",
      "14/14 [==============================] - 0s 14ms/step - loss: 8.8190e-04 - val_loss: 0.0018\n",
      "Epoch 22/100\n",
      "14/14 [==============================] - 0s 20ms/step - loss: 9.2505e-04 - val_loss: 0.0012\n",
      "Epoch 23/100\n",
      "14/14 [==============================] - 0s 15ms/step - loss: 8.5115e-04 - val_loss: 0.0012\n",
      "Epoch 24/100\n",
      "14/14 [==============================] - 0s 15ms/step - loss: 8.4029e-04 - val_loss: 0.0012\n",
      "Epoch 25/100\n",
      "14/14 [==============================] - 0s 15ms/step - loss: 8.4101e-04 - val_loss: 0.0015\n",
      "Epoch 26/100\n",
      "14/14 [==============================] - 0s 15ms/step - loss: 8.2126e-04 - val_loss: 0.0012\n",
      "Epoch 27/100\n",
      "14/14 [==============================] - 0s 23ms/step - loss: 8.2216e-04 - val_loss: 0.0013\n",
      "Epoch 28/100\n",
      "14/14 [==============================] - 0s 15ms/step - loss: 8.3919e-04 - val_loss: 0.0013\n",
      "Epoch 29/100\n",
      "14/14 [==============================] - 0s 19ms/step - loss: 8.8453e-04 - val_loss: 0.0012\n",
      "Epoch 30/100\n",
      "14/14 [==============================] - 0s 18ms/step - loss: 8.8123e-04 - val_loss: 0.0012\n",
      "Epoch 31/100\n",
      "14/14 [==============================] - 0s 27ms/step - loss: 8.1916e-04 - val_loss: 0.0011\n",
      "Epoch 32/100\n",
      "14/14 [==============================] - 0s 17ms/step - loss: 9.0134e-04 - val_loss: 0.0012\n",
      "Epoch 33/100\n",
      "14/14 [==============================] - 0s 15ms/step - loss: 8.7486e-04 - val_loss: 0.0013\n",
      "Epoch 34/100\n",
      "14/14 [==============================] - 0s 14ms/step - loss: 8.5148e-04 - val_loss: 0.0012\n",
      "Epoch 35/100\n",
      "14/14 [==============================] - 0s 18ms/step - loss: 9.3101e-04 - val_loss: 0.0014\n",
      "Epoch 36/100\n",
      "14/14 [==============================] - 0s 18ms/step - loss: 8.6847e-04 - val_loss: 0.0018\n",
      "Epoch 37/100\n",
      "14/14 [==============================] - 0s 17ms/step - loss: 9.2659e-04 - val_loss: 0.0012\n",
      "Epoch 38/100\n",
      "14/14 [==============================] - 0s 16ms/step - loss: 8.1816e-04 - val_loss: 0.0012\n",
      "Epoch 39/100\n",
      "14/14 [==============================] - 0s 15ms/step - loss: 8.7066e-04 - val_loss: 0.0025\n",
      "Epoch 40/100\n",
      "14/14 [==============================] - 0s 15ms/step - loss: 8.8698e-04 - val_loss: 0.0012\n",
      "Epoch 41/100\n",
      "14/14 [==============================] - 0s 26ms/step - loss: 9.9595e-04 - val_loss: 0.0011\n",
      "Epoch 42/100\n",
      "14/14 [==============================] - 0s 19ms/step - loss: 8.9353e-04 - val_loss: 0.0013\n",
      "Epoch 43/100\n",
      "14/14 [==============================] - 0s 15ms/step - loss: 7.9417e-04 - val_loss: 0.0015\n",
      "Epoch 44/100\n",
      "14/14 [==============================] - 0s 17ms/step - loss: 7.8297e-04 - val_loss: 0.0011\n",
      "Epoch 45/100\n",
      "14/14 [==============================] - 0s 15ms/step - loss: 8.0530e-04 - val_loss: 0.0011\n",
      "Epoch 46/100\n",
      "14/14 [==============================] - 0s 15ms/step - loss: 7.9064e-04 - val_loss: 0.0015\n",
      "Epoch 47/100\n",
      "14/14 [==============================] - 0s 18ms/step - loss: 8.7790e-04 - val_loss: 0.0011\n",
      "Epoch 48/100\n",
      "14/14 [==============================] - 0s 16ms/step - loss: 8.7759e-04 - val_loss: 0.0012\n",
      "Epoch 49/100\n",
      "14/14 [==============================] - 0s 17ms/step - loss: 8.5863e-04 - val_loss: 0.0012\n",
      "Epoch 50/100\n",
      "14/14 [==============================] - 0s 17ms/step - loss: 8.4249e-04 - val_loss: 0.0012\n",
      "Epoch 51/100\n",
      "14/14 [==============================] - 0s 15ms/step - loss: 8.1429e-04 - val_loss: 0.0011\n",
      "Epoch 52/100\n",
      "14/14 [==============================] - 0s 20ms/step - loss: 8.1294e-04 - val_loss: 0.0011\n",
      "Epoch 53/100\n",
      "14/14 [==============================] - 0s 14ms/step - loss: 8.1562e-04 - val_loss: 0.0013\n",
      "Epoch 54/100\n",
      "14/14 [==============================] - 0s 17ms/step - loss: 7.6386e-04 - val_loss: 0.0017\n",
      "Epoch 55/100\n",
      "14/14 [==============================] - 0s 17ms/step - loss: 8.4331e-04 - val_loss: 0.0013\n",
      "Epoch 56/100\n",
      "14/14 [==============================] - 0s 15ms/step - loss: 7.6004e-04 - val_loss: 0.0012\n",
      "Epoch 57/100\n",
      "14/14 [==============================] - 0s 23ms/step - loss: 7.5417e-04 - val_loss: 0.0011\n",
      "Epoch 58/100\n",
      "14/14 [==============================] - 0s 19ms/step - loss: 7.6623e-04 - val_loss: 0.0012\n",
      "Epoch 59/100\n",
      "14/14 [==============================] - 0s 23ms/step - loss: 7.4366e-04 - val_loss: 0.0011\n",
      "Epoch 60/100\n",
      "14/14 [==============================] - 0s 17ms/step - loss: 8.3245e-04 - val_loss: 0.0012\n",
      "Epoch 61/100\n",
      "14/14 [==============================] - 0s 15ms/step - loss: 7.8675e-04 - val_loss: 0.0012\n",
      "Epoch 62/100\n",
      "14/14 [==============================] - 0s 17ms/step - loss: 7.4437e-04 - val_loss: 0.0010\n",
      "Epoch 63/100\n",
      "14/14 [==============================] - 0s 24ms/step - loss: 7.8057e-04 - val_loss: 0.0022\n",
      "Epoch 64/100\n",
      "14/14 [==============================] - 0s 20ms/step - loss: 8.4726e-04 - val_loss: 0.0010\n",
      "Epoch 65/100\n",
      "14/14 [==============================] - 0s 17ms/step - loss: 8.1974e-04 - val_loss: 0.0010\n",
      "Epoch 66/100\n",
      "14/14 [==============================] - 0s 19ms/step - loss: 7.7290e-04 - val_loss: 0.0010\n",
      "Epoch 67/100\n",
      "14/14 [==============================] - 0s 20ms/step - loss: 7.3069e-04 - val_loss: 0.0018\n",
      "Epoch 68/100\n",
      "14/14 [==============================] - 0s 17ms/step - loss: 7.5992e-04 - val_loss: 0.0010\n",
      "Epoch 69/100\n",
      "14/14 [==============================] - 0s 22ms/step - loss: 7.5355e-04 - val_loss: 0.0013\n",
      "Epoch 70/100\n",
      "14/14 [==============================] - 0s 17ms/step - loss: 7.4461e-04 - val_loss: 0.0011\n",
      "Epoch 71/100\n",
      "14/14 [==============================] - 0s 21ms/step - loss: 7.5730e-04 - val_loss: 0.0022\n",
      "Epoch 72/100\n",
      "14/14 [==============================] - 0s 16ms/step - loss: 8.5888e-04 - val_loss: 0.0010\n",
      "Epoch 73/100\n",
      "14/14 [==============================] - 0s 15ms/step - loss: 7.7312e-04 - val_loss: 0.0010\n",
      "Epoch 74/100\n",
      "14/14 [==============================] - 0s 23ms/step - loss: 7.3565e-04 - val_loss: 0.0010\n",
      "Epoch 75/100\n",
      "14/14 [==============================] - 0s 17ms/step - loss: 7.4664e-04 - val_loss: 0.0012\n",
      "Epoch 76/100\n",
      "14/14 [==============================] - 0s 15ms/step - loss: 7.6556e-04 - val_loss: 0.0010\n",
      "Epoch 77/100\n",
      "14/14 [==============================] - 0s 16ms/step - loss: 7.5352e-04 - val_loss: 9.8775e-04\n",
      "Epoch 78/100\n",
      "14/14 [==============================] - 0s 15ms/step - loss: 7.7076e-04 - val_loss: 9.8731e-04\n",
      "Epoch 79/100\n",
      "14/14 [==============================] - 0s 23ms/step - loss: 7.5139e-04 - val_loss: 0.0010\n",
      "Epoch 80/100\n",
      "14/14 [==============================] - 0s 16ms/step - loss: 7.0035e-04 - val_loss: 0.0010\n",
      "Epoch 81/100\n",
      "14/14 [==============================] - 2s 119ms/step - loss: 6.9924e-04 - val_loss: 0.0010\n",
      "Epoch 82/100\n",
      "14/14 [==============================] - 1s 59ms/step - loss: 7.5990e-04 - val_loss: 0.0011\n",
      "Epoch 83/100\n",
      "14/14 [==============================] - 1s 46ms/step - loss: 7.6258e-04 - val_loss: 0.0011\n",
      "Epoch 84/100\n",
      "14/14 [==============================] - 1s 39ms/step - loss: 7.7568e-04 - val_loss: 0.0012\n",
      "Epoch 85/100\n",
      "14/14 [==============================] - 0s 35ms/step - loss: 8.1344e-04 - val_loss: 0.0012\n",
      "Epoch 86/100\n",
      "14/14 [==============================] - 0s 33ms/step - loss: 7.2583e-04 - val_loss: 0.0014\n",
      "Epoch 87/100\n",
      "14/14 [==============================] - 0s 32ms/step - loss: 7.1624e-04 - val_loss: 9.6314e-04\n",
      "Epoch 88/100\n",
      "14/14 [==============================] - 0s 30ms/step - loss: 6.9707e-04 - val_loss: 0.0010\n",
      "Epoch 89/100\n",
      "14/14 [==============================] - 0s 27ms/step - loss: 7.2671e-04 - val_loss: 0.0015\n",
      "Epoch 90/100\n",
      "14/14 [==============================] - 0s 27ms/step - loss: 7.5760e-04 - val_loss: 0.0015\n",
      "Epoch 91/100\n",
      "14/14 [==============================] - 0s 30ms/step - loss: 7.7212e-04 - val_loss: 0.0011\n",
      "Epoch 92/100\n",
      "14/14 [==============================] - 1s 38ms/step - loss: 6.7801e-04 - val_loss: 9.9462e-04\n",
      "Epoch 93/100\n",
      "14/14 [==============================] - 0s 29ms/step - loss: 7.7733e-04 - val_loss: 9.7453e-04\n",
      "Epoch 94/100\n",
      "14/14 [==============================] - 0s 24ms/step - loss: 0.0011 - val_loss: 0.0026\n",
      "Epoch 95/100\n",
      "14/14 [==============================] - 0s 25ms/step - loss: 9.6657e-04 - val_loss: 0.0016\n",
      "Epoch 96/100\n",
      "14/14 [==============================] - 0s 23ms/step - loss: 8.5683e-04 - val_loss: 0.0012\n",
      "Epoch 97/100\n",
      "14/14 [==============================] - 0s 25ms/step - loss: 7.5642e-04 - val_loss: 9.4989e-04\n",
      "Epoch 98/100\n",
      "14/14 [==============================] - 0s 26ms/step - loss: 6.8696e-04 - val_loss: 0.0013\n",
      "Epoch 99/100\n",
      "14/14 [==============================] - 0s 22ms/step - loss: 6.9786e-04 - val_loss: 9.9423e-04\n",
      "Epoch 100/100\n",
      "14/14 [==============================] - 0s 23ms/step - loss: 6.9280e-04 - val_loss: 0.0011\n"
     ]
    },
    {
     "data": {
      "text/plain": "<keras.callbacks.History at 0x24512f15d20>"
     },
     "execution_count": 233,
     "metadata": {},
     "output_type": "execute_result"
    }
   ],
   "source": [
    "# Xây dựng mô hình\n",
    "model = Sequential()\n",
    "\n",
    "# Add convolutional layers\n",
    "model.add(Conv1D(filters=256, kernel_size=3, activation='relu', input_shape=(look_back, 1)))\n",
    "model.add(Conv1D(filters=128, kernel_size=3, activation='relu'))\n",
    "model.add(Conv1D(filters=64, kernel_size=3, activation='relu'))\n",
    "model.add(Conv1D(filters=32, kernel_size=3, activation='relu'))\n",
    "model.add(Conv1D(filters=1, kernel_size=3, activation='relu'))\n",
    "\n",
    "# Add global average pooling layer\n",
    "model.add(GlobalAveragePooling1D())\n",
    "\n",
    "# Compile model\n",
    "model.compile(loss='mean_squared_error', optimizer='adam')\n",
    "\n",
    "# Huấn luyện mô hình\n",
    "model.fit(X_train, Y_train, epochs=100, batch_size=64, validation_split=0.1)"
   ],
   "metadata": {
    "collapsed": false,
    "ExecuteTime": {
     "end_time": "2024-05-28T10:38:04.321775300Z",
     "start_time": "2024-05-28T10:37:33.694322Z"
    }
   }
  },
  {
   "cell_type": "code",
   "execution_count": 234,
   "outputs": [
    {
     "name": "stdout",
     "output_type": "stream",
     "text": [
      "7/7 [==============================] - 0s 4ms/step\n"
     ]
    }
   ],
   "source": [
    "# Dự báo\n",
    "test_predict = model.predict(X_test)\n",
    "\n",
    "test_predict = scaler.inverse_transform(test_predict)\n",
    "Y_test = scaler.inverse_transform([Y_test])"
   ],
   "metadata": {
    "collapsed": false,
    "ExecuteTime": {
     "end_time": "2024-05-28T10:38:04.606498400Z",
     "start_time": "2024-05-28T10:38:04.320190Z"
    }
   }
  },
  {
   "cell_type": "code",
   "execution_count": 235,
   "outputs": [
    {
     "name": "stdout",
     "output_type": "stream",
     "text": [
      "1/1 [==============================] - 0s 32ms/step\n",
      "1/1 [==============================] - 0s 49ms/step\n",
      "1/1 [==============================] - 0s 35ms/step\n",
      "1/1 [==============================] - 0s 39ms/step\n",
      "1/1 [==============================] - 0s 40ms/step\n",
      "1/1 [==============================] - 0s 39ms/step\n",
      "1/1 [==============================] - 0s 30ms/step\n",
      "1/1 [==============================] - 0s 40ms/step\n",
      "1/1 [==============================] - 0s 30ms/step\n",
      "1/1 [==============================] - 0s 30ms/step\n",
      "1/1 [==============================] - 0s 30ms/step\n",
      "1/1 [==============================] - 0s 31ms/step\n",
      "1/1 [==============================] - 0s 39ms/step\n",
      "1/1 [==============================] - 0s 40ms/step\n",
      "1/1 [==============================] - 0s 34ms/step\n",
      "1/1 [==============================] - 0s 30ms/step\n",
      "1/1 [==============================] - 0s 41ms/step\n",
      "1/1 [==============================] - 0s 40ms/step\n",
      "1/1 [==============================] - 0s 38ms/step\n",
      "1/1 [==============================] - 0s 41ms/step\n",
      "1/1 [==============================] - 0s 30ms/step\n",
      "1/1 [==============================] - 0s 41ms/step\n",
      "1/1 [==============================] - 0s 41ms/step\n",
      "1/1 [==============================] - 0s 41ms/step\n",
      "1/1 [==============================] - 0s 41ms/step\n",
      "1/1 [==============================] - 0s 38ms/step\n",
      "1/1 [==============================] - 0s 41ms/step\n",
      "1/1 [==============================] - 0s 38ms/step\n",
      "1/1 [==============================] - 0s 41ms/step\n",
      "1/1 [==============================] - 0s 35ms/step\n",
      "[[93306.18 ]\n",
      " [93784.414]\n",
      " [94228.125]\n",
      " [94549.54 ]\n",
      " [94706.234]\n",
      " [94720.7  ]\n",
      " [94628.04 ]\n",
      " [94448.82 ]\n",
      " [94182.82 ]\n",
      " [93856.29 ]\n",
      " [93496.484]\n",
      " [93121.25 ]\n",
      " [92730.79 ]\n",
      " [92323.05 ]\n",
      " [91898.19 ]\n",
      " [91456.01 ]\n",
      " [90998.195]\n",
      " [90519.04 ]\n",
      " [90002.305]\n",
      " [89433.28 ]\n",
      " [88810.086]\n",
      " [88146.516]\n",
      " [87499.05 ]\n",
      " [86948.305]\n",
      " [86532.52 ]\n",
      " [86220.98 ]\n",
      " [85952.02 ]\n",
      " [85672.09 ]\n",
      " [85376.49 ]\n",
      " [85064.9  ]]\n"
     ]
    }
   ],
   "source": [
    "# Dự báo giá trị 30 ngày trong tương lai\n",
    "last_30_days = price_scaled[-30:]\n",
    "next_30_days = []\n",
    "for i in range(30):\n",
    "    x = last_30_days[-look_back:].reshape(1, look_back, 1)\n",
    "    y_hat = model.predict(x)\n",
    "    next_30_days.append(y_hat)\n",
    "    last_30_days = np.append(last_30_days, y_hat, axis=0)\n",
    "\n",
    "next_30_days = np.array(next_30_days).reshape(-1, 1)\n",
    "next_30_days = scaler.inverse_transform(next_30_days)\n",
    "\n",
    "print(next_30_days)"
   ],
   "metadata": {
    "collapsed": false,
    "ExecuteTime": {
     "end_time": "2024-05-28T10:38:08.287526Z",
     "start_time": "2024-05-28T10:38:04.596330700Z"
    }
   }
  },
  {
   "cell_type": "code",
   "execution_count": 236,
   "outputs": [
    {
     "name": "stdout",
     "output_type": "stream",
     "text": [
      "RMSE trên tập test là: 7860.674089552036\n",
      "MAPE trên tập test là: 6.957422919106573 %\n",
      "MSLE trên tập test là: 0.007581282102865916\n"
     ]
    }
   ],
   "source": [
    "from sklearn.metrics import mean_squared_log_error\n",
    "\n",
    "# Tính toán RMSE, MLSE và MAPE trên tập test\n",
    "test_score_rmse = np.sqrt(mean_squared_error(Y_test[0], test_predict[:, 0]))\n",
    "test_score_mape = mean_absolute_percentage_error(Y_test[0], test_predict[:, 0]) * 100\n",
    "test_score_msle = mean_squared_log_error(Y_test[0], test_predict[:, 0])\n",
    "\n",
    "print('RMSE trên tập test là:', test_score_rmse)\n",
    "print('MAPE trên tập test là:', test_score_mape, '%')\n",
    "print('MSLE trên tập test là:', test_score_msle)"
   ],
   "metadata": {
    "collapsed": false,
    "ExecuteTime": {
     "end_time": "2024-05-28T10:38:08.299665800Z",
     "start_time": "2024-05-28T10:38:08.226711Z"
    }
   }
  },
  {
   "cell_type": "code",
   "execution_count": 237,
   "outputs": [],
   "source": [
    "test_predict_df = pd.DataFrame(test_predict)\n",
    "test_predict_index = range(len(train_data)+look_back, len(train_data)+look_back+len(test_predict))\n",
    "test_predict_df.index = test_predict_index\n",
    "\n",
    "next_30_days_df = pd.DataFrame(next_30_days)\n",
    "next_30_index = range(len(data), len(data)+len(next_30_days))\n",
    "next_30_days_df.index = next_30_index\n",
    "\n",
    "train_data_df = data[:train_size][['close']]\n",
    "test_data_df = data[train_size:][['close']]"
   ],
   "metadata": {
    "collapsed": false,
    "ExecuteTime": {
     "end_time": "2024-05-28T10:38:08.368947800Z",
     "start_time": "2024-05-28T10:38:08.247043100Z"
    }
   }
  },
  {
   "cell_type": "code",
   "execution_count": 238,
   "outputs": [
    {
     "data": {
      "text/plain": "<Figure size 640x480 with 1 Axes>",
      "image/png": "[encoded data removed]"
     },
     "metadata": {},
     "output_type": "display_data"
    }
   ],
   "source": [
    "# Vẽ đồ thị các giá trị từ train tới validate và dự đoán 30 ngày sau\n",
    "plt.plot(train_data_df, label='Train')\n",
    "plt.plot(test_data_df, label='Actual Test')\n",
    "plt.plot(test_predict_df, label='Predicted Test')\n",
    "plt.plot(next_30_days_df, label='Next 30 days')\n",
    "plt.legend()\n",
    "plt.show()"
   ],
   "metadata": {
    "collapsed": false,
    "ExecuteTime": {
     "end_time": "2024-05-28T10:38:08.513278100Z",
     "start_time": "2024-05-28T10:38:08.249107600Z"
    }
   }
  },
  {
   "cell_type": "markdown",
   "source": [
    "# (Split 9/1)"
   ],
   "metadata": {
    "collapsed": false
   }
  },
  {
   "cell_type": "code",
   "execution_count": 239,
   "outputs": [
    {
     "data": {
      "text/plain": "   close\n0  19270\n1  19440\n2  19390\n3  19270\n4  19330",
      "text/html": "<div>\n<style scoped>\n    .dataframe tbody tr th:only-of-type {\n        vertical-align: middle;\n    }\n\n    .dataframe tbody tr th {\n        vertical-align: top;\n    }\n\n    .dataframe thead th {\n        text-align: right;\n    }\n</style>\n<table border=\"1\" class=\"dataframe\">\n  <thead>\n    <tr style=\"text-align: right;\">\n      <th></th>\n      <th>close</th>\n    </tr>\n  </thead>\n  <tbody>\n    <tr>\n      <th>0</th>\n      <td>19270</td>\n    </tr>\n    <tr>\n      <th>1</th>\n      <td>19440</td>\n    </tr>\n    <tr>\n      <th>2</th>\n      <td>19390</td>\n    </tr>\n    <tr>\n      <th>3</th>\n      <td>19270</td>\n    </tr>\n    <tr>\n      <th>4</th>\n      <td>19330</td>\n    </tr>\n  </tbody>\n</table>\n</div>"
     },
     "execution_count": 239,
     "metadata": {},
     "output_type": "execute_result"
    }
   ],
   "source": [
    "import numpy as np\n",
    "import pandas as pd\n",
    "from tensorflow.keras.models import Sequential\n",
    "from tensorflow.keras.layers import Conv1D, GlobalAveragePooling1D\n",
    "from sklearn.preprocessing import MinMaxScaler\n",
    "from sklearn.metrics import mean_squared_error, mean_absolute_error, mean_absolute_percentage_error\n",
    "import matplotlib.pyplot as plt\n",
    "data = pd.read_csv('D:\\\\Workspace\\\\23-24_HK2\\\\IS403-PTDLKD\\\\Thuc-hanh\\\\Lab 4\\\\fpt_data_sheet.csv', index_col='time', parse_dates=True)\n",
    "data=data.drop(columns=['open', 'high', 'low', 'volume','ticker'])\n",
    "data = data.reset_index(drop=True)\n",
    "data.head()"
   ],
   "metadata": {
    "collapsed": false,
    "ExecuteTime": {
     "end_time": "2024-05-28T10:38:08.605685800Z",
     "start_time": "2024-05-28T10:38:08.513278100Z"
    }
   }
  },
  {
   "cell_type": "code",
   "execution_count": 240,
   "outputs": [],
   "source": [
    "price = data['close'].values\n",
    "price = price.reshape(-1, 1)\n",
    "scaler = MinMaxScaler(feature_range=(0, 1))\n",
    "price_scaled = scaler.fit_transform(price)\n",
    "\n",
    "# Chia dữ liệu thành train test\n",
    "train_size = int(len(price_scaled) * 0.9)\n",
    "test_size = len(price_scaled) - train_size\n",
    "\n",
    "train_data = price_scaled[:train_size]\n",
    "test_data = price_scaled[train_size:]\n",
    "\n",
    "def create_dataset(dataset, look_back=1):\n",
    "    X, Y = [], []\n",
    "    for i in range(len(dataset) - look_back):\n",
    "        X.append(dataset[i:i + look_back, 0])\n",
    "        Y.append(dataset[i + look_back, 0])\n",
    "    return np.array(X), np.array(Y)\n",
    "\n",
    "look_back = 30\n",
    "X_train, Y_train = create_dataset(train_data, look_back)\n",
    "X_test, Y_test = create_dataset(test_data, look_back)\n",
    "\n",
    "X_train = X_train.reshape(X_train.shape[0], X_train.shape[1], 1)\n",
    "X_test = X_test.reshape(X_test.shape[0], X_test.shape[1], 1)"
   ],
   "metadata": {
    "collapsed": false,
    "ExecuteTime": {
     "end_time": "2024-05-28T10:38:08.606696200Z",
     "start_time": "2024-05-28T10:38:08.541666600Z"
    }
   }
  },
  {
   "cell_type": "code",
   "execution_count": 241,
   "outputs": [
    {
     "name": "stdout",
     "output_type": "stream",
     "text": [
      "Epoch 1/100\n",
      "16/16 [==============================] - 2s 58ms/step - loss: 0.0382 - val_loss: 0.0313\n",
      "Epoch 2/100\n",
      "16/16 [==============================] - 1s 37ms/step - loss: 0.0028 - val_loss: 0.0030\n",
      "Epoch 3/100\n",
      "16/16 [==============================] - 1s 47ms/step - loss: 0.0011 - val_loss: 8.7260e-04\n",
      "Epoch 4/100\n",
      "16/16 [==============================] - 1s 45ms/step - loss: 9.7377e-04 - val_loss: 0.0012\n",
      "Epoch 5/100\n",
      "16/16 [==============================] - 1s 43ms/step - loss: 9.3025e-04 - val_loss: 9.4398e-04\n",
      "Epoch 6/100\n",
      "16/16 [==============================] - 1s 34ms/step - loss: 0.0011 - val_loss: 0.0021\n",
      "Epoch 7/100\n",
      "16/16 [==============================] - 1s 44ms/step - loss: 9.4410e-04 - val_loss: 0.0019\n",
      "Epoch 8/100\n",
      "16/16 [==============================] - 1s 32ms/step - loss: 9.2716e-04 - val_loss: 0.0017\n",
      "Epoch 9/100\n",
      "16/16 [==============================] - 1s 43ms/step - loss: 8.6546e-04 - val_loss: 0.0013\n",
      "Epoch 10/100\n",
      "16/16 [==============================] - 1s 43ms/step - loss: 8.9859e-04 - val_loss: 0.0013\n",
      "Epoch 11/100\n",
      "16/16 [==============================] - 1s 39ms/step - loss: 8.8739e-04 - val_loss: 0.0021\n",
      "Epoch 12/100\n",
      "16/16 [==============================] - 1s 44ms/step - loss: 8.7185e-04 - val_loss: 0.0011\n",
      "Epoch 13/100\n",
      "16/16 [==============================] - 1s 37ms/step - loss: 8.8233e-04 - val_loss: 0.0020\n",
      "Epoch 14/100\n",
      "16/16 [==============================] - 1s 37ms/step - loss: 8.8092e-04 - val_loss: 0.0018\n",
      "Epoch 15/100\n",
      "16/16 [==============================] - 1s 37ms/step - loss: 8.7811e-04 - val_loss: 0.0023\n",
      "Epoch 16/100\n",
      "16/16 [==============================] - 1s 35ms/step - loss: 8.7003e-04 - val_loss: 0.0014\n",
      "Epoch 17/100\n",
      "16/16 [==============================] - 1s 45ms/step - loss: 8.4303e-04 - val_loss: 0.0024\n",
      "Epoch 18/100\n",
      "16/16 [==============================] - 1s 42ms/step - loss: 8.3415e-04 - val_loss: 0.0025\n",
      "Epoch 19/100\n",
      "16/16 [==============================] - 1s 35ms/step - loss: 8.5846e-04 - val_loss: 0.0028\n",
      "Epoch 20/100\n",
      "16/16 [==============================] - 0s 32ms/step - loss: 9.0006e-04 - val_loss: 0.0026\n",
      "Epoch 21/100\n",
      "16/16 [==============================] - 1s 37ms/step - loss: 8.8212e-04 - val_loss: 9.7692e-04\n",
      "Epoch 22/100\n",
      "16/16 [==============================] - 1s 38ms/step - loss: 9.1791e-04 - val_loss: 0.0024\n",
      "Epoch 23/100\n",
      "16/16 [==============================] - 1s 33ms/step - loss: 8.6539e-04 - val_loss: 0.0026\n",
      "Epoch 24/100\n",
      "16/16 [==============================] - 1s 39ms/step - loss: 8.4575e-04 - val_loss: 0.0015\n",
      "Epoch 25/100\n",
      "16/16 [==============================] - 1s 51ms/step - loss: 8.3756e-04 - val_loss: 0.0018\n",
      "Epoch 26/100\n",
      "16/16 [==============================] - 1s 47ms/step - loss: 8.2748e-04 - val_loss: 0.0025\n",
      "Epoch 27/100\n",
      "16/16 [==============================] - 1s 34ms/step - loss: 8.6571e-04 - val_loss: 0.0022\n",
      "Epoch 28/100\n",
      "16/16 [==============================] - 1s 36ms/step - loss: 8.1742e-04 - val_loss: 0.0015\n",
      "Epoch 29/100\n",
      "16/16 [==============================] - 1s 34ms/step - loss: 8.4588e-04 - val_loss: 0.0017\n",
      "Epoch 30/100\n",
      "16/16 [==============================] - 0s 27ms/step - loss: 8.6191e-04 - val_loss: 0.0012\n",
      "Epoch 31/100\n",
      "16/16 [==============================] - 1s 47ms/step - loss: 9.6998e-04 - val_loss: 0.0012\n",
      "Epoch 32/100\n",
      "16/16 [==============================] - 1s 37ms/step - loss: 9.1650e-04 - val_loss: 0.0025\n",
      "Epoch 33/100\n",
      "16/16 [==============================] - 1s 43ms/step - loss: 9.3324e-04 - val_loss: 0.0023\n",
      "Epoch 34/100\n",
      "16/16 [==============================] - 1s 34ms/step - loss: 8.6533e-04 - val_loss: 0.0028\n",
      "Epoch 35/100\n",
      "16/16 [==============================] - 1s 34ms/step - loss: 8.1957e-04 - val_loss: 0.0024\n",
      "Epoch 36/100\n",
      "16/16 [==============================] - 0s 29ms/step - loss: 8.4678e-04 - val_loss: 0.0021\n",
      "Epoch 37/100\n",
      "16/16 [==============================] - 0s 31ms/step - loss: 8.1244e-04 - val_loss: 0.0023\n",
      "Epoch 38/100\n",
      "16/16 [==============================] - 1s 33ms/step - loss: 8.2007e-04 - val_loss: 0.0025\n",
      "Epoch 39/100\n",
      "16/16 [==============================] - 1s 47ms/step - loss: 8.6468e-04 - val_loss: 0.0012\n",
      "Epoch 40/100\n",
      "16/16 [==============================] - 1s 37ms/step - loss: 9.1187e-04 - val_loss: 0.0017\n",
      "Epoch 41/100\n",
      "16/16 [==============================] - 1s 41ms/step - loss: 8.0291e-04 - val_loss: 0.0021\n",
      "Epoch 42/100\n",
      "16/16 [==============================] - 1s 42ms/step - loss: 7.6382e-04 - val_loss: 0.0018\n",
      "Epoch 43/100\n",
      "16/16 [==============================] - 0s 30ms/step - loss: 7.9918e-04 - val_loss: 0.0022\n",
      "Epoch 44/100\n",
      "16/16 [==============================] - 1s 39ms/step - loss: 8.0349e-04 - val_loss: 0.0027\n",
      "Epoch 45/100\n",
      "16/16 [==============================] - 1s 32ms/step - loss: 7.6306e-04 - val_loss: 0.0015\n",
      "Epoch 46/100\n",
      "16/16 [==============================] - 1s 38ms/step - loss: 8.3402e-04 - val_loss: 0.0017\n",
      "Epoch 47/100\n",
      "16/16 [==============================] - 1s 34ms/step - loss: 7.9769e-04 - val_loss: 0.0023\n",
      "Epoch 48/100\n",
      "16/16 [==============================] - 1s 35ms/step - loss: 7.8129e-04 - val_loss: 0.0023\n",
      "Epoch 49/100\n",
      "16/16 [==============================] - 1s 46ms/step - loss: 8.3561e-04 - val_loss: 0.0031\n",
      "Epoch 50/100\n",
      "16/16 [==============================] - 1s 39ms/step - loss: 8.3296e-04 - val_loss: 0.0015\n",
      "Epoch 51/100\n",
      "16/16 [==============================] - 0s 24ms/step - loss: 7.8483e-04 - val_loss: 0.0023\n",
      "Epoch 52/100\n",
      "16/16 [==============================] - 0s 21ms/step - loss: 8.1520e-04 - val_loss: 0.0035\n",
      "Epoch 53/100\n",
      "16/16 [==============================] - 1s 33ms/step - loss: 0.0010 - val_loss: 0.0034\n",
      "Epoch 54/100\n",
      "16/16 [==============================] - 1s 32ms/step - loss: 8.2891e-04 - val_loss: 0.0021\n",
      "Epoch 55/100\n",
      "16/16 [==============================] - 0s 28ms/step - loss: 8.0606e-04 - val_loss: 0.0024\n",
      "Epoch 56/100\n",
      "16/16 [==============================] - 1s 34ms/step - loss: 7.6589e-04 - val_loss: 0.0043\n",
      "Epoch 57/100\n",
      "16/16 [==============================] - 0s 26ms/step - loss: 8.0940e-04 - val_loss: 0.0024\n",
      "Epoch 58/100\n",
      "16/16 [==============================] - 1s 33ms/step - loss: 7.5193e-04 - val_loss: 0.0021\n",
      "Epoch 59/100\n",
      "16/16 [==============================] - 1s 53ms/step - loss: 7.4185e-04 - val_loss: 0.0032\n",
      "Epoch 60/100\n",
      "16/16 [==============================] - 1s 41ms/step - loss: 7.5528e-04 - val_loss: 0.0016\n",
      "Epoch 61/100\n",
      "16/16 [==============================] - 1s 34ms/step - loss: 7.4716e-04 - val_loss: 0.0030\n",
      "Epoch 62/100\n",
      "16/16 [==============================] - 1s 41ms/step - loss: 7.6351e-04 - val_loss: 0.0021\n",
      "Epoch 63/100\n",
      "16/16 [==============================] - 1s 34ms/step - loss: 7.6562e-04 - val_loss: 0.0020\n",
      "Epoch 64/100\n",
      "16/16 [==============================] - 1s 39ms/step - loss: 7.2996e-04 - val_loss: 0.0023\n",
      "Epoch 65/100\n",
      "16/16 [==============================] - 1s 34ms/step - loss: 7.1978e-04 - val_loss: 0.0026\n",
      "Epoch 66/100\n",
      "16/16 [==============================] - 1s 38ms/step - loss: 7.2861e-04 - val_loss: 0.0032\n",
      "Epoch 67/100\n",
      "16/16 [==============================] - 1s 32ms/step - loss: 7.3791e-04 - val_loss: 0.0025\n",
      "Epoch 68/100\n",
      "16/16 [==============================] - 1s 37ms/step - loss: 7.7668e-04 - val_loss: 0.0026\n",
      "Epoch 69/100\n",
      "16/16 [==============================] - 0s 29ms/step - loss: 7.2293e-04 - val_loss: 0.0016\n",
      "Epoch 70/100\n",
      "16/16 [==============================] - 1s 40ms/step - loss: 7.2970e-04 - val_loss: 0.0033\n",
      "Epoch 71/100\n",
      "16/16 [==============================] - 1s 32ms/step - loss: 9.1734e-04 - val_loss: 0.0042\n",
      "Epoch 72/100\n",
      "16/16 [==============================] - 1s 39ms/step - loss: 7.8572e-04 - val_loss: 0.0017\n",
      "Epoch 73/100\n",
      "16/16 [==============================] - 1s 33ms/step - loss: 7.0139e-04 - val_loss: 0.0015\n",
      "Epoch 74/100\n",
      "16/16 [==============================] - 0s 25ms/step - loss: 8.4070e-04 - val_loss: 0.0022\n",
      "Epoch 75/100\n",
      "16/16 [==============================] - 1s 33ms/step - loss: 8.5415e-04 - val_loss: 0.0065\n",
      "Epoch 76/100\n",
      "16/16 [==============================] - 1s 38ms/step - loss: 0.0012 - val_loss: 0.0016\n",
      "Epoch 77/100\n",
      "16/16 [==============================] - 1s 46ms/step - loss: 9.8888e-04 - val_loss: 0.0020\n",
      "Epoch 78/100\n",
      "16/16 [==============================] - 1s 41ms/step - loss: 7.0394e-04 - val_loss: 0.0019\n",
      "Epoch 79/100\n",
      "16/16 [==============================] - 1s 43ms/step - loss: 6.9621e-04 - val_loss: 0.0015\n",
      "Epoch 80/100\n",
      "16/16 [==============================] - 0s 27ms/step - loss: 6.9580e-04 - val_loss: 0.0016\n",
      "Epoch 81/100\n",
      "16/16 [==============================] - 1s 38ms/step - loss: 7.5615e-04 - val_loss: 0.0016\n",
      "Epoch 82/100\n",
      "16/16 [==============================] - 1s 41ms/step - loss: 7.4756e-04 - val_loss: 0.0023\n",
      "Epoch 83/100\n",
      "16/16 [==============================] - 1s 39ms/step - loss: 7.6557e-04 - val_loss: 0.0028\n",
      "Epoch 84/100\n",
      "16/16 [==============================] - 1s 37ms/step - loss: 6.7841e-04 - val_loss: 0.0034\n",
      "Epoch 85/100\n",
      "16/16 [==============================] - 1s 48ms/step - loss: 7.6695e-04 - val_loss: 0.0023\n",
      "Epoch 86/100\n",
      "16/16 [==============================] - 1s 36ms/step - loss: 8.0964e-04 - val_loss: 0.0013\n",
      "Epoch 87/100\n",
      "16/16 [==============================] - 1s 37ms/step - loss: 7.4890e-04 - val_loss: 0.0011\n",
      "Epoch 88/100\n",
      "16/16 [==============================] - 0s 29ms/step - loss: 7.2857e-04 - val_loss: 0.0010\n",
      "Epoch 89/100\n",
      "16/16 [==============================] - 1s 34ms/step - loss: 7.3114e-04 - val_loss: 0.0027\n",
      "Epoch 90/100\n",
      "16/16 [==============================] - 0s 28ms/step - loss: 6.4903e-04 - val_loss: 0.0026\n",
      "Epoch 91/100\n",
      "16/16 [==============================] - 1s 31ms/step - loss: 6.6062e-04 - val_loss: 0.0030\n",
      "Epoch 92/100\n",
      "16/16 [==============================] - 1s 40ms/step - loss: 6.4331e-04 - val_loss: 0.0016\n",
      "Epoch 93/100\n",
      "16/16 [==============================] - 1s 42ms/step - loss: 6.4125e-04 - val_loss: 0.0030\n",
      "Epoch 94/100\n",
      "16/16 [==============================] - 1s 46ms/step - loss: 6.4550e-04 - val_loss: 0.0018\n",
      "Epoch 95/100\n",
      "16/16 [==============================] - 1s 42ms/step - loss: 6.2321e-04 - val_loss: 0.0018\n",
      "Epoch 96/100\n",
      "16/16 [==============================] - 1s 38ms/step - loss: 5.9057e-04 - val_loss: 0.0029\n",
      "Epoch 97/100\n",
      "16/16 [==============================] - 1s 36ms/step - loss: 6.9113e-04 - val_loss: 9.8311e-04\n",
      "Epoch 98/100\n",
      "16/16 [==============================] - 1s 41ms/step - loss: 7.0827e-04 - val_loss: 0.0013\n",
      "Epoch 99/100\n",
      "16/16 [==============================] - 1s 39ms/step - loss: 7.2805e-04 - val_loss: 0.0026\n",
      "Epoch 100/100\n",
      "16/16 [==============================] - 1s 42ms/step - loss: 6.5975e-04 - val_loss: 0.0014\n"
     ]
    },
    {
     "data": {
      "text/plain": "<keras.callbacks.History at 0x2450778cee0>"
     },
     "execution_count": 241,
     "metadata": {},
     "output_type": "execute_result"
    }
   ],
   "source": [
    "# Xây dựng mô hình\n",
    "model = Sequential()\n",
    "\n",
    "# Add convolutional layers\n",
    "model.add(Conv1D(filters=256, kernel_size=3, activation='relu', input_shape=(look_back, 1)))\n",
    "model.add(Conv1D(filters=128, kernel_size=3, activation='relu'))\n",
    "model.add(Conv1D(filters=64, kernel_size=3, activation='relu'))\n",
    "model.add(Conv1D(filters=32, kernel_size=3, activation='relu'))\n",
    "model.add(Conv1D(filters=1, kernel_size=3, activation='relu'))\n",
    "\n",
    "# Add global average pooling layer\n",
    "model.add(GlobalAveragePooling1D())\n",
    "\n",
    "# Compile model\n",
    "model.compile(loss='mean_squared_error', optimizer='adam')\n",
    "\n",
    "# Huấn luyện mô hình\n",
    "model.fit(X_train, Y_train, epochs=100, batch_size=64, validation_split=0.1)"
   ],
   "metadata": {
    "collapsed": false,
    "ExecuteTime": {
     "end_time": "2024-05-28T10:39:10.143347200Z",
     "start_time": "2024-05-28T10:38:08.551683900Z"
    }
   }
  },
  {
   "cell_type": "code",
   "execution_count": 242,
   "outputs": [
    {
     "name": "stdout",
     "output_type": "stream",
     "text": [
      "3/3 [==============================] - 0s 5ms/step\n"
     ]
    }
   ],
   "source": [
    "# Dự báo\n",
    "test_predict = model.predict(X_test)\n",
    "\n",
    "test_predict = scaler.inverse_transform(test_predict)\n",
    "Y_test = scaler.inverse_transform([Y_test])"
   ],
   "metadata": {
    "collapsed": false,
    "ExecuteTime": {
     "end_time": "2024-05-28T10:39:10.445824900Z",
     "start_time": "2024-05-28T10:39:10.143347200Z"
    }
   }
  },
  {
   "cell_type": "code",
   "execution_count": 243,
   "outputs": [
    {
     "name": "stdout",
     "output_type": "stream",
     "text": [
      "1/1 [==============================] - 0s 164ms/step\n",
      "1/1 [==============================] - 0s 30ms/step\n",
      "1/1 [==============================] - 0s 30ms/step\n",
      "1/1 [==============================] - 0s 30ms/step\n",
      "1/1 [==============================] - 0s 22ms/step\n",
      "1/1 [==============================] - 0s 31ms/step\n",
      "1/1 [==============================] - 0s 30ms/step\n",
      "1/1 [==============================] - 0s 32ms/step\n",
      "1/1 [==============================] - 0s 30ms/step\n",
      "1/1 [==============================] - 0s 30ms/step\n",
      "1/1 [==============================] - 0s 30ms/step\n",
      "1/1 [==============================] - 0s 32ms/step\n",
      "1/1 [==============================] - 0s 31ms/step\n",
      "1/1 [==============================] - 0s 30ms/step\n",
      "1/1 [==============================] - 0s 30ms/step\n",
      "1/1 [==============================] - 0s 30ms/step\n",
      "1/1 [==============================] - 0s 30ms/step\n",
      "1/1 [==============================] - 0s 49ms/step\n",
      "1/1 [==============================] - 0s 41ms/step\n",
      "1/1 [==============================] - 0s 51ms/step\n",
      "1/1 [==============================] - 0s 41ms/step\n",
      "1/1 [==============================] - 0s 31ms/step\n",
      "1/1 [==============================] - 0s 39ms/step\n",
      "1/1 [==============================] - 0s 30ms/step\n",
      "1/1 [==============================] - 0s 30ms/step\n",
      "1/1 [==============================] - 0s 26ms/step\n",
      "1/1 [==============================] - 0s 30ms/step\n",
      "1/1 [==============================] - 0s 22ms/step\n",
      "1/1 [==============================] - 0s 22ms/step\n",
      "1/1 [==============================] - 0s 30ms/step\n",
      "[[ 98710.836]\n",
      " [ 99390.62 ]\n",
      " [ 99971.96 ]\n",
      " [100363.78 ]\n",
      " [100535.97 ]\n",
      " [100530.57 ]\n",
      " [100441.61 ]\n",
      " [100306.88 ]\n",
      " [100106.51 ]\n",
      " [ 99854.96 ]\n",
      " [ 99580.016]\n",
      " [ 99306.37 ]\n",
      " [ 99038.36 ]\n",
      " [ 98765.8  ]\n",
      " [ 98478.22 ]\n",
      " [ 98178.33 ]\n",
      " [ 97863.164]\n",
      " [ 97510.83 ]\n",
      " [ 97098.84 ]\n",
      " [ 96607.266]\n",
      " [ 96029.72 ]\n",
      " [ 95427.93 ]\n",
      " [ 94896.93 ]\n",
      " [ 94511.71 ]\n",
      " [ 94289.01 ]\n",
      " [ 94164.7  ]\n",
      " [ 94009.85 ]\n",
      " [ 93760.93 ]\n",
      " [ 93447.98 ]\n",
      " [ 93112.28 ]]\n"
     ]
    }
   ],
   "source": [
    "# Dự báo giá trị 30 ngày trong tương lai\n",
    "last_30_days = price_scaled[-30:]\n",
    "next_30_days = []\n",
    "for i in range(30):\n",
    "    x = last_30_days[-look_back:].reshape(1, look_back, 1)\n",
    "    y_hat = model.predict(x)\n",
    "    next_30_days.append(y_hat)\n",
    "    last_30_days = np.append(last_30_days, y_hat, axis=0)\n",
    "\n",
    "next_30_days = np.array(next_30_days).reshape(-1, 1)\n",
    "next_30_days = scaler.inverse_transform(next_30_days)\n",
    "\n",
    "print(next_30_days)"
   ],
   "metadata": {
    "collapsed": false,
    "ExecuteTime": {
     "end_time": "2024-05-28T10:39:13.670959100Z",
     "start_time": "2024-05-28T10:39:10.415421400Z"
    }
   }
  },
  {
   "cell_type": "code",
   "execution_count": 244,
   "outputs": [
    {
     "name": "stdout",
     "output_type": "stream",
     "text": [
      "RMSE trên tập test là: 6416.575809759942\n",
      "MAPE trên tập test là: 5.799747176966843 %\n",
      "MSLE trên tập test là: 0.0045034063820088115\n"
     ]
    }
   ],
   "source": [
    "from sklearn.metrics import mean_squared_log_error\n",
    "\n",
    "# Tính toán RMSE, MLSE và MAPE trên tập test\n",
    "test_score_rmse = np.sqrt(mean_squared_error(Y_test[0], test_predict[:, 0]))\n",
    "test_score_mape = mean_absolute_percentage_error(Y_test[0], test_predict[:, 0]) * 100\n",
    "test_score_msle = mean_squared_log_error(Y_test[0], test_predict[:, 0])\n",
    "\n",
    "print('RMSE trên tập test là:', test_score_rmse)\n",
    "print('MAPE trên tập test là:', test_score_mape, '%')\n",
    "print('MSLE trên tập test là:', test_score_msle)"
   ],
   "metadata": {
    "collapsed": false,
    "ExecuteTime": {
     "end_time": "2024-05-28T10:39:13.729760400Z",
     "start_time": "2024-05-28T10:39:13.670959100Z"
    }
   }
  },
  {
   "cell_type": "code",
   "execution_count": 245,
   "outputs": [],
   "source": [
    "test_predict_df = pd.DataFrame(test_predict)\n",
    "test_predict_index = range(len(train_data)+look_back, len(train_data)+look_back+len(test_predict))\n",
    "test_predict_df.index = test_predict_index\n",
    "\n",
    "next_30_days_df = pd.DataFrame(next_30_days)\n",
    "next_30_index = range(len(data), len(data)+len(next_30_days))\n",
    "next_30_days_df.index = next_30_index\n",
    "\n",
    "train_data_df = data[:train_size][['close']]\n",
    "test_data_df = data[train_size:][['close']]"
   ],
   "metadata": {
    "collapsed": false,
    "ExecuteTime": {
     "end_time": "2024-05-28T10:39:13.749967700Z",
     "start_time": "2024-05-28T10:39:13.699279200Z"
    }
   }
  },
  {
   "cell_type": "code",
   "execution_count": 246,
   "outputs": [
    {
     "data": {
      "text/plain": "<Figure size 640x480 with 1 Axes>",
      "image/png": "[encoded data removed]"
     },
     "metadata": {},
     "output_type": "display_data"
    }
   ],
   "source": [
    "# Vẽ đồ thị các giá trị từ train tới validate và dự đoán 30 ngày sau\n",
    "plt.plot(train_data_df, label='Train')\n",
    "plt.plot(test_data_df, label='Actual Test')\n",
    "plt.plot(test_predict_df, label='Predicted Test')\n",
    "plt.plot(next_30_days_df, label='Next 30 days')\n",
    "plt.legend()\n",
    "plt.show()"
   ],
   "metadata": {
    "collapsed": false,
    "ExecuteTime": {
     "end_time": "2024-05-28T10:39:13.954820700Z",
     "start_time": "2024-05-28T10:39:13.729760400Z"
    }
   }
  },
  {
   "cell_type": "code",
   "execution_count": 246,
   "outputs": [],
   "source": [],
   "metadata": {
    "collapsed": false,
    "ExecuteTime": {
     "end_time": "2024-05-28T10:39:14.016313400Z",
     "start_time": "2024-05-28T10:39:13.954820700Z"
    }
   }
  }
 ],
 "metadata": {
  "kernelspec": {
   "display_name": "Python 3",
   "language": "python",
   "name": "python3"
  },
  "language_info": {
   "codemirror_mode": {
    "name": "ipython",
    "version": 2
   },
   "file_extension": ".py",
   "mimetype": "text/x-python",
   "name": "python",
   "nbconvert_exporter": "python",
   "pygments_lexer": "ipython2",
   "version": "2.7.6"
  }
 },
 "nbformat": 4,
 "nbformat_minor": 0
}
